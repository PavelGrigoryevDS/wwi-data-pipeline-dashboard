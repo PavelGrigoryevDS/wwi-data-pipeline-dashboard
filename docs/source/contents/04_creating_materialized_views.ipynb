{
 "cells": [
  {
   "cell_type": "markdown",
   "id": "754fae46",
   "metadata": {},
   "source": [
    "# Creating Materialized Views"
   ]
  },
  {
   "cell_type": "markdown",
   "id": "b0ac420e",
   "metadata": {},
   "source": [
    "To optimize data loading into the dashboard, let's create materialized views."
   ]
  },
  {
   "cell_type": "markdown",
   "id": "ce4ead4a",
   "metadata": {},
   "source": [
    "## Orders Materialized View"
   ]
  },
  {
   "cell_type": "markdown",
   "id": "76b127e7",
   "metadata": {},
   "source": [
    "Create a materialized view for all metrics at the order level."
   ]
  },
  {
   "cell_type": "code",
   "execution_count": null,
   "id": "029dfb0c",
   "metadata": {
    "vscode": {
     "languageId": "sql"
    }
   },
   "outputs": [
    {
     "data": {
      "text/html": [
       "<div>\n",
       "<style scoped>\n",
       "    .dataframe tbody tr th:only-of-type {\n",
       "        vertical-align: middle;\n",
       "    }\n",
       "\n",
       "    .dataframe tbody tr th {\n",
       "        vertical-align: top;\n",
       "    }\n",
       "\n",
       "    .dataframe thead th {\n",
       "        text-align: right;\n",
       "    }\n",
       "</style>\n",
       "<table border=\"1\" class=\"dataframe\">\n",
       "  <thead>\n",
       "    <tr style=\"text-align: right;\">\n",
       "      <th></th>\n",
       "    </tr>\n",
       "  </thead>\n",
       "  <tbody>\n",
       "  </tbody>\n",
       "</table>\n",
       "</div>"
      ],
      "text/plain": [
       "Empty DataFrame\n",
       "Columns: []\n",
       "Index: []"
      ]
     },
     "metadata": {},
     "output_type": "display_data"
    }
   ],
   "source": [
    "%%sql\n",
    "CREATE MATERIALIZED VIEW analytics.mv_orders AS\n",
    "WITH invoices_agg AS (\n",
    "    SELECT\n",
    "        fi.order_id\n",
    "        , COUNT(fi.invoice_id) AS invoices_count\n",
    "        , SUM(fi.invoice_amount) AS amount\n",
    "        , SUM(fi.paid_amount) AS paid_amount\n",
    "        , SUM(fi.invoice_profit) AS profit\n",
    "        , STRING_AGG(DISTINCT ddm.delivery_method_name, ' | ' ORDER BY ddm.delivery_method_name) AS delivery_methods\n",
    "        , MIN(fi.invoice_date) AS first_invoice_date\n",
    "        , MAX(fi.invoice_date) AS last_invoice_date\n",
    "        , MIN(fi.confirmed_delivery_time) AS first_delivery_time\n",
    "        , MAX(fi.confirmed_delivery_time) AS last_delivery_time\n",
    "        , BOOL_OR(fi.is_delivered) AS is_any_delivered\n",
    "        , BOOL_AND(fi.is_delivered) AS is_all_delivered\n",
    "\t\t, SUM(CASE WHEN fi.is_delivered THEN fi.invoice_amount ELSE 0 END) AS delivered_amount\n",
    "\t\t, SUM(CASE WHEN fi.is_delivered THEN fi.paid_amount ELSE 0 END) AS paid_delivered_amount\n",
    "    FROM\n",
    "        analytics.fact_invoices fi\n",
    "        LEFT JOIN analytics.dim_delivery_methods ddm ON fi.delivery_method_id = ddm.delivery_method_id\n",
    "    GROUP BY\n",
    "        fi.order_id\n",
    "),\n",
    "order_lines_agg AS (\n",
    "    SELECT \n",
    "        fol.order_id\n",
    "        , COUNT(fol.order_line_id) AS order_lines_count\n",
    "        , SUM(fol.quantity) AS total_quantity\n",
    "        , COUNT(DISTINCT fol.stock_item_id) AS unique_products_count\n",
    "        , STRING_AGG(DISTINCT dp.stock_item_name, ' | ' ORDER BY dp.stock_item_name) AS products_list\n",
    "    FROM\n",
    "        analytics.fact_order_lines fol\n",
    "        LEFT JOIN analytics.dim_products dp \n",
    "        \tON fol.stock_item_id = dp.stock_item_id\n",
    "        \tAND dp.current_record = TRUE\n",
    "    GROUP BY\n",
    "        fol.order_id\n",
    "),\n",
    "last_delivery_attempts_per_invoice AS (\n",
    "    SELECT DISTINCT ON (fi.invoice_id)\n",
    "        fi.invoice_id,\n",
    "        fi.order_id,\n",
    "        fi.invoice_date,\n",
    "        (event->>'Latitude')::numeric AS delivery_latitude,\n",
    "        (event->>'Longitude')::numeric AS delivery_longitude\n",
    "    FROM\n",
    "        analytics.fact_invoices fi\n",
    "        CROSS JOIN LATERAL jsonb_array_elements(fi.returned_delivery_data::jsonb->'Events') AS event\n",
    "    WHERE \n",
    "        event->>'Event' = 'DeliveryAttempt'\n",
    "        AND event->>'Latitude' IS NOT NULL\n",
    "        AND event->>'Longitude' IS NOT NULL\n",
    "    ORDER BY \n",
    "        fi.invoice_id, \n",
    "        (event->>'EventTime')::timestamp DESC\n",
    "),\n",
    "last_delivery_coordinates_per_order AS (\n",
    "    SELECT DISTINCT ON (ldai.order_id)\n",
    "        ldai.order_id,\n",
    "        ldai.delivery_latitude AS last_delivery_latitude,\n",
    "        ldai.delivery_longitude AS last_delivery_longitude\n",
    "    FROM\n",
    "        last_delivery_attempts_per_invoice ldai\n",
    "    ORDER BY\n",
    "        ldai.order_id,\n",
    "        ldai.invoice_date DESC\n",
    ")\n",
    "SELECT\n",
    "    fo.order_id\n",
    "    , fo.order_date\n",
    "    , fo.expected_delivery_date\n",
    "    , fo.picking_completed_when\n",
    "    , fo.customer_id\n",
    "    , dc.customer_name\n",
    "    , dc.customer_category_name\n",
    "    , dc.state_province_name AS customer_state\n",
    "    , dc.city_name AS customer_city\n",
    "    -- Invoice\n",
    "    , ia.invoices_count\n",
    "    , ia.amount AS total_amount\n",
    "    , ia.paid_amount\n",
    "    , ia.profit\n",
    "    , ia.delivery_methods\n",
    "    , ia.first_invoice_date\n",
    "    , ia.last_invoice_date\n",
    "    , ia.first_delivery_time\n",
    "    , ia.last_delivery_time\n",
    "    , ia.is_any_delivered\n",
    "    , ia.is_all_delivered\n",
    "    , ia.delivered_amount\n",
    "    , ia.paid_delivered_amount\n",
    "    , ldco.last_delivery_latitude\n",
    "    , ldco.last_delivery_longitude    \n",
    "    -- Order_line\n",
    "    , ola.order_lines_count\n",
    "    , ola.total_quantity\n",
    "    , ola.unique_products_count\n",
    "    , ola.products_list\n",
    "    -- Calculated metrics\n",
    "    , ROUND((ia.paid_amount / NULLIF(ia.amount, 0)), 2) AS paid_share\n",
    "    , (ia.last_delivery_time::DATE - fo.order_date::DATE) AS days_to_delivery\n",
    "    , (ia.last_delivery_time::DATE - fo.expected_delivery_date::DATE) AS delivery_delay_days\n",
    "    , (fo.picking_completed_when::DATE - fo.order_date::DATE) AS days_to_picking\n",
    "    , (ia.last_delivery_time::DATE - fo.picking_completed_when::DATE) AS days_to_deliver_after_picking\n",
    "    , CASE\n",
    "        WHEN ia.last_delivery_time IS NULL OR fo.expected_delivery_date IS NULL THEN NULL  \n",
    "        WHEN ia.last_delivery_time::DATE > fo.expected_delivery_date::DATE THEN TRUE \n",
    "        ELSE FALSE \n",
    "    END AS is_late_delivery\n",
    "FROM\n",
    "    analytics.fact_orders fo\n",
    "    LEFT JOIN analytics.dim_customers dc \n",
    "    \tON fo.customer_id = dc.customer_id\n",
    "    \tAND dc.current_record = TRUE\n",
    "    LEFT JOIN invoices_agg ia ON fo.order_id = ia.order_id\n",
    "    LEFT JOIN order_lines_agg ola ON fo.order_id = ola.order_id\n",
    "    LEFT JOIN last_delivery_coordinates_per_order ldco ON fo.order_id = ldco.order_id;"
   ]
  },
  {
   "cell_type": "markdown",
   "id": "1a793805",
   "metadata": {},
   "source": [
    "Create indexes to speed up dashboard performance."
   ]
  },
  {
   "cell_type": "code",
   "execution_count": null,
   "id": "50b85ecd",
   "metadata": {
    "vscode": {
     "languageId": "sql"
    }
   },
   "outputs": [
    {
     "data": {
      "text/html": [
       "<div>\n",
       "<style scoped>\n",
       "    .dataframe tbody tr th:only-of-type {\n",
       "        vertical-align: middle;\n",
       "    }\n",
       "\n",
       "    .dataframe tbody tr th {\n",
       "        vertical-align: top;\n",
       "    }\n",
       "\n",
       "    .dataframe thead th {\n",
       "        text-align: right;\n",
       "    }\n",
       "</style>\n",
       "<table border=\"1\" class=\"dataframe\">\n",
       "  <thead>\n",
       "    <tr style=\"text-align: right;\">\n",
       "      <th></th>\n",
       "    </tr>\n",
       "  </thead>\n",
       "  <tbody>\n",
       "  </tbody>\n",
       "</table>\n",
       "</div>"
      ],
      "text/plain": [
       "Empty DataFrame\n",
       "Columns: []\n",
       "Index: []"
      ]
     },
     "metadata": {},
     "output_type": "display_data"
    }
   ],
   "source": [
    "%%sql\n",
    "CREATE INDEX idx_mv_orders_order_id ON analytics.mv_orders(order_id);\n",
    "CREATE INDEX idx_mv_orders_customer_id ON analytics.mv_orders(customer_id);\n",
    "CREATE INDEX idx_mv_orders_order_date ON analytics.mv_orders(order_date);\n",
    "CREATE INDEX idx_mv_orders_customer_state ON analytics.mv_orders(customer_state);\n",
    "CREATE INDEX idx_mv_orders_is_late_delivery ON analytics.mv_orders(is_late_delivery);\n",
    "CREATE INDEX idx_mv_orders_is_all_delivered ON analytics.mv_orders(is_all_delivered);"
   ]
  },
  {
   "cell_type": "markdown",
   "id": "e8200ea0",
   "metadata": {},
   "source": [
    "## Products Materialized View"
   ]
  },
  {
   "cell_type": "markdown",
   "id": "7b617e2a",
   "metadata": {},
   "source": [
    "Create a materialized view for all metrics at the product level."
   ]
  },
  {
   "cell_type": "code",
   "execution_count": null,
   "id": "c1b89aa7",
   "metadata": {
    "vscode": {
     "languageId": "sql"
    }
   },
   "outputs": [
    {
     "data": {
      "text/html": [
       "<div>\n",
       "<style scoped>\n",
       "    .dataframe tbody tr th:only-of-type {\n",
       "        vertical-align: middle;\n",
       "    }\n",
       "\n",
       "    .dataframe tbody tr th {\n",
       "        vertical-align: top;\n",
       "    }\n",
       "\n",
       "    .dataframe thead th {\n",
       "        text-align: right;\n",
       "    }\n",
       "</style>\n",
       "<table border=\"1\" class=\"dataframe\">\n",
       "  <thead>\n",
       "    <tr style=\"text-align: right;\">\n",
       "      <th></th>\n",
       "    </tr>\n",
       "  </thead>\n",
       "  <tbody>\n",
       "  </tbody>\n",
       "</table>\n",
       "</div>"
      ],
      "text/plain": [
       "Empty DataFrame\n",
       "Columns: []\n",
       "Index: []"
      ]
     },
     "metadata": {},
     "output_type": "display_data"
    }
   ],
   "source": [
    "%%sql\n",
    "CREATE MATERIALIZED VIEW analytics.mv_products AS\n",
    "WITH invoices_agg AS (\n",
    "    SELECT\n",
    "        fi.order_id\n",
    "        , BOOL_OR(fi.is_delivered) AS is_any_delivered\n",
    "    FROM\n",
    "        analytics.fact_invoices fi\n",
    "    GROUP BY\n",
    "        fi.order_id\n",
    ")\n",
    "SELECT\n",
    "\tfo.order_id\n",
    "\t, ia.is_any_delivered\n",
    "\t, fol.order_line_id\n",
    "\t, fol.stock_item_id\n",
    "\t, dp.stock_item_name\n",
    "\t, dp.stock_group_names\n",
    "\t, dp.color_name\n",
    "\t, dp.unit_package_type_name\n",
    "\t, dp.outer_package_type_name\n",
    "\t, dp.brand\n",
    "\t, dp.size\n",
    "\t, fo.order_date\n",
    "\t, fol.quantity\n",
    "\t, fol.unit_price\n",
    "\t, fol.il_quantity\n",
    "\t, fol.il_extended_price\n",
    "\t, fol.il_line_profit\n",
    "\t, dp.brand IS NOT NULL AS has_brand\n",
    "\t, dp.size IS NOT NULL AS has_size\n",
    "FROM\n",
    "\tanalytics.fact_orders fo \n",
    "\tLEFT JOIN invoices_agg ia ON fo.order_id = ia.order_id\n",
    "\tLEFT JOIN analytics.fact_order_lines fol ON fo.order_id = fol.order_id\n",
    "\tLEFT JOIN analytics.dim_products dp ON fol.stock_item_id =dp.stock_item_id\n",
    "\t\tAND dp.current_record = TRUE;"
   ]
  },
  {
   "cell_type": "markdown",
   "id": "d4431968",
   "metadata": {},
   "source": [
    "Create indexes to speed up dashboard performance."
   ]
  },
  {
   "cell_type": "code",
   "execution_count": null,
   "id": "98fc1040",
   "metadata": {
    "vscode": {
     "languageId": "sql"
    }
   },
   "outputs": [
    {
     "data": {
      "text/html": [
       "<div>\n",
       "<style scoped>\n",
       "    .dataframe tbody tr th:only-of-type {\n",
       "        vertical-align: middle;\n",
       "    }\n",
       "\n",
       "    .dataframe tbody tr th {\n",
       "        vertical-align: top;\n",
       "    }\n",
       "\n",
       "    .dataframe thead th {\n",
       "        text-align: right;\n",
       "    }\n",
       "</style>\n",
       "<table border=\"1\" class=\"dataframe\">\n",
       "  <thead>\n",
       "    <tr style=\"text-align: right;\">\n",
       "      <th></th>\n",
       "    </tr>\n",
       "  </thead>\n",
       "  <tbody>\n",
       "  </tbody>\n",
       "</table>\n",
       "</div>"
      ],
      "text/plain": [
       "Empty DataFrame\n",
       "Columns: []\n",
       "Index: []"
      ]
     },
     "metadata": {},
     "output_type": "display_data"
    }
   ],
   "source": [
    "%%sql\n",
    "CREATE INDEX idx_mv_products_id ON analytics.mv_products(stock_item_id);\n",
    "CREATE INDEX idx_mv_products_name ON analytics.mv_products(stock_item_name);\n",
    "CREATE INDEX idx_mv_products_brand ON analytics.mv_products(brand);\n",
    "CREATE INDEX idx_mv_products_group ON analytics.mv_products(stock_group_names);"
   ]
  }
 ],
 "metadata": {
  "language_info": {
   "name": "python"
  }
 },
 "nbformat": 4,
 "nbformat_minor": 5
}
