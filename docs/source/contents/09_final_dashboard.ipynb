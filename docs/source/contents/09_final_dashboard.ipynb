{
 "cells": [
  {
   "cell_type": "markdown",
   "id": "952eb300",
   "metadata": {},
   "source": [
    "# Final Dashboard"
   ]
  },
  {
   "cell_type": "markdown",
   "id": "aee41f6b",
   "metadata": {},
   "source": [
    "Based on the dashboard mockup, a dashboard was created using the BI tool Yandex DataLens."
   ]
  },
  {
   "cell_type": "markdown",
   "id": "264f1980",
   "metadata": {},
   "source": [
    "The dashboard is available at the following link: [**WWI Business Performance Overview Dashboard**](https://datalens.yandex/42t45uco5jxup)"
   ]
  },
  {
   "cell_type": "markdown",
   "id": "e7fba7eb",
   "metadata": {},
   "source": [
    "Screenshots of the dashboard are provided below."
   ]
  },
  {
   "cell_type": "markdown",
   "id": "9ddb0926",
   "metadata": {},
   "source": [
    "### 🛍️ Sales\n",
    "\n",
    "Main page with key sales metrics, YoY growth, and geographical distribution.\n",
    "\n",
    "<img src=\"../assets/dashboard_tab_sales_1.png\" width=\"800\">\n",
    "\n",
    "<img src=\"../assets/dashboard_tab_sales_2.png\" width=\"800\">\n",
    "\n",
    "### 👥 Customers\n",
    "\n",
    "Customer metrics.\n",
    "\n",
    "<img src=\"../assets/dashboard_tab_customers_1.png\" width=\"800\">\n",
    "\n",
    "<img src=\"../assets/dashboard_tab_customers_2.png\" width=\"800\">\n",
    "\n",
    "### 📦 Products\n",
    "\n",
    "Analyzes product performance. \n",
    "\n",
    "<img src=\"../assets/dashboard_tab_products_1.png\" width=\"800\">\n",
    "\n",
    "<img src=\"../assets/dashboard_tab_products_2.png\" width=\"800\">\n",
    "\n",
    "### 🚚 Delivery & Logistics\n",
    "\n",
    "Delivery time analysis, delay statistics, and operational efficiency.\n",
    "\n",
    "<img src=\"../assets/dashboard_tab_delivery_1.png\" width=\"800\">\n",
    "\n",
    "<img src=\"../assets/dashboard_tab_delivery_2.png\" width=\"800\">\n"
   ]
  }
 ],
 "metadata": {
  "language_info": {
   "name": "python"
  }
 },
 "nbformat": 4,
 "nbformat_minor": 5
}
