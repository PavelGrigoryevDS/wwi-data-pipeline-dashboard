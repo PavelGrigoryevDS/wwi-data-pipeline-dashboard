{
 "cells": [
  {
   "cell_type": "markdown",
   "id": "34d6cd36",
   "metadata": {},
   "source": [
    "# Dashboard Mockup"
   ]
  },
  {
   "cell_type": "markdown",
   "id": "9d3ab9fd",
   "metadata": {},
   "source": [
    "Based on the compiled Dashboard Canvas, we will create a dashboard mockup."
   ]
  },
  {
   "cell_type": "markdown",
   "id": "ed13f200",
   "metadata": {},
   "source": [
    "**Tab Sales**"
   ]
  },
  {
   "cell_type": "markdown",
   "id": "fc517dda",
   "metadata": {},
   "source": [
    "<img src=\"../assets/dashboard_mockup_tab_sales.png\" alt=\"\">"
   ]
  },
  {
   "cell_type": "markdown",
   "id": "22c95a5b",
   "metadata": {},
   "source": [
    "**Tab Customers**"
   ]
  },
  {
   "cell_type": "markdown",
   "id": "a7db8369",
   "metadata": {},
   "source": [
    "<img src=\"../assets/dashboard_mockup_tab_customers.png\" alt=\"\">"
   ]
  },
  {
   "cell_type": "markdown",
   "id": "5ece86a3",
   "metadata": {},
   "source": [
    "**Tab Products**"
   ]
  },
  {
   "cell_type": "markdown",
   "id": "341926a8",
   "metadata": {},
   "source": [
    "<img src=\"../assets/dashboard_mockup_tab_products.png\" alt=\"\">"
   ]
  },
  {
   "cell_type": "markdown",
   "id": "a472d9db",
   "metadata": {},
   "source": [
    "**Tab Delivery&Logistics**"
   ]
  },
  {
   "cell_type": "markdown",
   "id": "27c7b160",
   "metadata": {},
   "source": [
    "<img src=\"../assets/dashboard_mockup_tab_delivery.png\" alt=\"\">"
   ]
  }
 ],
 "metadata": {
  "language_info": {
   "name": "python"
  }
 },
 "nbformat": 4,
 "nbformat_minor": 5
}
