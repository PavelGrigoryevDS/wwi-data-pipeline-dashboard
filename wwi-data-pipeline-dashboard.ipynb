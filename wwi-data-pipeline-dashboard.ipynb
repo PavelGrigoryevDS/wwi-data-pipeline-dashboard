{
 "cells": [
  {
   "cell_type": "markdown",
   "metadata": {},
   "source": [
    "## WWI Data Pipeline and Dashboard"
   ]
  },
  {
   "cell_type": "markdown",
   "metadata": {},
   "source": [
    "**Author:**  \n",
    "\n",
    "Pavel Grigoryev\n",
    "\n",
    "**Project Description:**   \n",
    "\n",
    "Wide World Importers (WWI) is a global distributor of consumer goods, dealing with suppliers and clients worldwide.\n",
    "\n",
    "WWI aims to enhance the visibility of key business performance indicators for rapid decision-making. Currently, data is siloed across the operational database, and management spends significant time manually compiling reports, leading to delayed and inefficient insights.\n",
    "\n",
    "**Project Goal:**  \n",
    "\n",
    "To build an automated, end-to-end analytics pipeline and an interactive dashboard. This system will provide leadership and the sales, procurement, and logistics departments with a single source of truth for key metrics related to sales performance and delivery efficiency.\n",
    "\n",
    "**Expected Outcome:**\n",
    "\n",
    "The final dashboard will drastically reduce data analysis time, enable the identification of trends and anomalies, and support strategic and operational decision-making based on accurate, consolidated information.\n",
    "\n",
    "**Data Sources:**  \n",
    "\n",
    "The official Microsoft Wide World Importers sample database (OLTP schema) [Microsoft](https://learn.microsoft.com/en-us/sql/samples/wide-world-importers-what-is?view=sql-server-ver17)\n",
    "\n",
    "**Project Resources:**  \n",
    "\n",
    "- [**WWI Business Performance Overview Dashboard**](https://datalens.yandex/42t45uco5jxup)\n",
    "\n",
    "**Main Conclusion:**\n",
    "\n",
    "- End-to-End Pipeline Delivered: Successfully built an analytics pipeline from the raw OLTP database to a optimized star schema data mart.\n",
    "- Process Automation Engineered: Designed and implemented an automated daily ETL process for incremental data updates.\n",
    "- Interactive Dashboard Developed: Created a centralized, interactive dashboard for key sales and logistics performance metrics.\n",
    "- Goal Achieved: The solution provides stakeholders with immediate, data-driven insights, eliminating the need for manual reporting and enabling faster, informed decision-making."
   ]
  },
  {
   "cell_type": "markdown",
   "metadata": {},
   "source": [
    "# Importing Libraries"
   ]
  },
  {
   "cell_type": "code",
   "execution_count": 1,
   "metadata": {},
   "outputs": [],
   "source": [
    "from dotenv import load_dotenv\n",
    "from sqlalchemy import create_engine\n",
    "from sqlalchemy import text\n",
    "import os\n",
    "load_dotenv();"
   ]
  },
  {
   "cell_type": "code",
   "execution_count": 2,
   "metadata": {},
   "outputs": [],
   "source": [
    "%load_ext sql\n",
    "%config SqlMagic.displaycon = False\n",
    "%config SqlMagic.feedback = False\n",
    "%config SqlMagic.autopandas = True"
   ]
  },
  {
   "cell_type": "markdown",
   "metadata": {},
   "source": [
    "# Database Connection"
   ]
  },
  {
   "cell_type": "markdown",
   "metadata": {},
   "source": [
    "Let's create a connection string to the main database."
   ]
  },
  {
   "cell_type": "code",
   "execution_count": 3,
   "metadata": {},
   "outputs": [],
   "source": [
    "src_db_config = {\n",
    "    'user': os.getenv('WWI_NEON_USER'),\n",
    "    'pwd': os.getenv('WWI_NEON_PASSWORD'),\n",
    "    'host': os.getenv('WWI_NEON_HOST'),\n",
    "    'port': 5432, \n",
    "    'db': os.getenv('WWI_NEON_DB'),\n",
    "    'sslmode': os.getenv('WWI_NEON_SSLMODE'),\n",
    "    'channel_binding': os.getenv('WWI_NEON_CHANNEL_BINDING')\n",
    "}\n",
    "\n",
    "connection_string_wwi = (\n",
    "    f\"postgresql://{src_db_config['user']}:{src_db_config['pwd']}\"\n",
    "    f\"@{src_db_config['host']}:{src_db_config['port']}/{src_db_config['db']}\"\n",
    "    f\"?sslmode={src_db_config['sslmode']}\"\n",
    "    f\"&channel_binding={src_db_config['channel_binding']}\"\n",
    ")"
   ]
  },
  {
   "cell_type": "markdown",
   "metadata": {},
   "source": [
    "Let's create a connection string to the analytical database. It is currently empty; we will load data into it later."
   ]
  },
  {
   "cell_type": "code",
   "execution_count": 4,
   "metadata": {},
   "outputs": [],
   "source": [
    "analytics_db_config = {\n",
    "    'user': os.getenv('WWI_ANALYTICS_NEON_USER'),\n",
    "    'pwd': os.getenv('WWI_ANALYTICS_NEON_PASSWORD'),\n",
    "    'host': os.getenv('WWI_ANALYTICS_NEON_HOST'),\n",
    "    'port': 5432, \n",
    "    'db': os.getenv('WWI_ANALYTICS_NEON_DB'),\n",
    "    'sslmode': os.getenv('WWI_ANALYTICS_NEON_SSLMODE'),\n",
    "    'channel_binding': os.getenv('WWI_ANALYTICS_NEON_CHANNEL_BINDING')\n",
    "}\n",
    "\n",
    "connection_string_wwi_analytics = (\n",
    "    f\"postgresql://{analytics_db_config['user']}:{analytics_db_config['pwd']}\"\n",
    "    f\"@{analytics_db_config['host']}:{analytics_db_config['port']}/{analytics_db_config['db']}\"\n",
    "    f\"?sslmode={analytics_db_config['sslmode']}\"\n",
    "    f\"&channel_binding={analytics_db_config['channel_binding']}\"\n",
    ")"
   ]
  },
  {
   "cell_type": "markdown",
   "metadata": {},
   "source": [
    "For the analytical database, we will need an engine; let's create it now."
   ]
  },
  {
   "cell_type": "code",
   "execution_count": 5,
   "metadata": {},
   "outputs": [],
   "source": [
    "wwi_analytics_engine = create_engine(\n",
    "    f\"postgresql://{analytics_db_config['user']}:{analytics_db_config['pwd']}\"\n",
    "    f\"@{analytics_db_config['host']}:{analytics_db_config['port']}/{analytics_db_config['db']}\"\n",
    "    , connect_args={\n",
    "        'sslmode': os.getenv('WWI_ANALYTICS_NEON_SSLMODE'),\n",
    "        'channel_binding': os.getenv('WWI_ANALYTICS_NEON_CHANNEL_BINDING')\n",
    "    }\n",
    ")"
   ]
  },
  {
   "cell_type": "markdown",
   "metadata": {},
   "source": [
    "Let's create a function to connect to the required database."
   ]
  },
  {
   "cell_type": "code",
   "execution_count": 6,
   "metadata": {},
   "outputs": [],
   "source": [
    "def con(db='src'):\n",
    "    \"\"\"\n",
    "    Connects to the specified database using SQL magic.\n",
    "    \n",
    "    Parameters:\n",
    "    -----------    \n",
    "    db (str): Database to connect to - 'src' for source or 'dst' for destination.\n",
    "                Defaults to 'src'.\n",
    "    \"\"\"\n",
    "    if db == 'src':\n",
    "        get_ipython().run_line_magic('sql', '$connection_string_wwi')\n",
    "        print(\"Connected to srс\")\n",
    "    elif db == 'dst':\n",
    "        get_ipython().run_line_magic('sql', '$connection_string_wwi_analytics')\n",
    "        print(\"Connected to dst\")\n",
    "    else:\n",
    "        raise ValueError(f\"Unknown database identifier: '{db}'. Use 'src' or 'dst'\")"
   ]
  },
  {
   "cell_type": "markdown",
   "metadata": {},
   "source": [
    "Let's create a function to close the connection."
   ]
  },
  {
   "cell_type": "code",
   "execution_count": 7,
   "metadata": {},
   "outputs": [],
   "source": [
    "def con_close(db='src'):\n",
    "    \"\"\"\n",
    "    Closes the database connection for the specified database.\n",
    "    \n",
    "    Parameters:\n",
    "    -----------\n",
    "    db (str): Database to close - 'src' for source or 'dst' for destination.\n",
    "                Defaults to 'src'.\n",
    "    \"\"\"\n",
    "    # Get expected hosts from environment\n",
    "    expected_hosts = {\n",
    "        'src': os.getenv('WWI_NEON_HOST'),\n",
    "        'dst': os.getenv('WWI_ANALYTICS_NEON_HOST')\n",
    "    }\n",
    "    \n",
    "    if db not in expected_hosts:\n",
    "        raise ValueError(f\"Unknown db '{db}'. Use 'src' or 'dst'\")\n",
    "    \n",
    "    # Get active connections\n",
    "    connections = get_ipython().run_line_magic('sql', '--connections')\n",
    "    \n",
    "    # Find matching connection\n",
    "    for url in connections.keys():\n",
    "        if expected_hosts[db] in url:\n",
    "            get_ipython().run_line_magic('sql', f'--close {url}')\n",
    "            print(f\"Connection closed for {db}\")\n",
    "            return\n",
    "    \n",
    "    print(f\"No active connection found for {db}\")"
   ]
  },
  {
   "cell_type": "markdown",
   "metadata": {},
   "source": [
    "Let's open connections to both databases for work."
   ]
  },
  {
   "cell_type": "code",
   "execution_count": 8,
   "metadata": {},
   "outputs": [
    {
     "name": "stdout",
     "output_type": "stream",
     "text": [
      "Connected to srс\n"
     ]
    }
   ],
   "source": [
    "con('src')"
   ]
  },
  {
   "cell_type": "code",
   "execution_count": 9,
   "metadata": {},
   "outputs": [
    {
     "name": "stdout",
     "output_type": "stream",
     "text": [
      "Connected to dst\n"
     ]
    }
   ],
   "source": [
    "con('dst')"
   ]
  },
  {
   "cell_type": "markdown",
   "metadata": {},
   "source": [
    "# Data Description and Exploration\n"
   ]
  },
  {
   "cell_type": "markdown",
   "metadata": {},
   "source": [
    "## Data Description\n"
   ]
  },
  {
   "cell_type": "markdown",
   "metadata": {},
   "source": [
    "Wide World Importers (WWI) is a wholesale importer and distributor operating in the San Francisco Bay Area.\n",
    "\n",
    "WWI's customers are primarily companies that resell goods to individuals. WWI sells to retail customers across the United States, including specialty stores, supermarkets, computer stores, and some individuals. WWI also sells to other wholesalers through a network of agents who promote products on behalf of WWI.\n",
    "\n",
    "WWI purchases goods from suppliers. They store the goods in their WWI warehouse and reorder from suppliers as needed to fulfill customer orders. They also purchase large volumes of packaging materials and sell them in smaller quantities for customer convenience."
   ]
  },
  {
   "cell_type": "markdown",
   "metadata": {},
   "source": [
    "The WWI database contains many different schemas. For our analysis, we will need the following schemas."
   ]
  },
  {
   "cell_type": "markdown",
   "metadata": {},
   "source": [
    "### Sales Schema"
   ]
  },
  {
   "cell_type": "markdown",
   "metadata": {},
   "source": [
    "\n",
    "Data on product sales to customers."
   ]
  },
  {
   "cell_type": "markdown",
   "metadata": {},
   "source": [
    "<img src=\"assets/er_sales.png\" alt=\"\">"
   ]
  },
  {
   "cell_type": "markdown",
   "metadata": {},
   "source": [
    "We will need the following tables and fields in this schema:"
   ]
  },
  {
   "cell_type": "markdown",
   "metadata": {},
   "source": [
    "**sales.orders**"
   ]
  },
  {
   "cell_type": "markdown",
   "metadata": {},
   "source": [
    "Field | Description\n",
    "-|-\n",
    "order_id | Order ID.\n",
    "customer_id | ID of the customer who placed the order.\n",
    "order_date | Date the order was created.\n",
    "expected_delivery_date | Expected delivery date of the order.\n",
    "picking_completed_when | Time when order picking was completed."
   ]
  },
  {
   "cell_type": "markdown",
   "metadata": {},
   "source": [
    "**sales.order_lines**"
   ]
  },
  {
   "cell_type": "markdown",
   "metadata": {},
   "source": [
    "Field | Description\n",
    "-|-\n",
    "order_line_id | Order line ID.\n",
    "order_id | Order ID to which this line belongs.\n",
    "stock_item_id | ID of the stock item (from the warehouse.stock_items table) specified in the order line.\n",
    "package_type_id | ID of the package type (from the warehouse.package_types table) used for the item.\n",
    "quantity | Quantity of the item to be supplied.\n",
    "unit_price | Price per unit of the item.\n",
    "tax_rate | Tax rate applied to the item.\n",
    "picked_quantity | Quantity of the item that was picked from the warehouse.\n",
    "picking_completed_when | Time when picking for this order line was completed."
   ]
  },
  {
   "cell_type": "markdown",
   "metadata": {},
   "source": [
    "**sales.customer_categories**"
   ]
  },
  {
   "cell_type": "markdown",
   "metadata": {},
   "source": [
    "Field | Description\n",
    "-|-\n",
    "customer_category_id | Customer category ID.\n",
    "customer_category_name | Full name of the category to which customers can be assigned."
   ]
  },
  {
   "cell_type": "markdown",
   "metadata": {},
   "source": [
    "**sales.customers**"
   ]
  },
  {
   "cell_type": "markdown",
   "metadata": {},
   "source": [
    "Field | Description\n",
    "-|-\n",
    "customer_id | Customer ID.\n",
    "customer_name | Full name of the customer (usually the trade name).\n",
    "customer_category_id | ID of the customer's category.\n",
    "delivery_method_id | ID of the standard delivery method for goods shipped to this customer.\n",
    "delivery_city_id | ID of the delivery city for this address."
   ]
  },
  {
   "cell_type": "markdown",
   "metadata": {},
   "source": [
    "**sales.invoices**"
   ]
  },
  {
   "cell_type": "markdown",
   "metadata": {},
   "source": [
    "Field | Description\n",
    "-|-\n",
    "invoice_id | Invoice ID.\n",
    "customer_id | ID of the customer to whom the invoice is issued.\n",
    "order_id | ID of the order associated with this invoice.\n",
    "delivery_method_id | ID of the delivery method for the goods listed in the invoice.\n",
    "invoice_date | Date when the invoice was issued.\n",
    "confirmed_delivery_time | Confirmed delivery time."
   ]
  },
  {
   "cell_type": "markdown",
   "metadata": {},
   "source": [
    "**sales.invoice_lines**"
   ]
  },
  {
   "cell_type": "markdown",
   "metadata": {},
   "source": [
    "Field | Description\n",
    "-|-\n",
    "invoice_line_id | Invoice line ID.\n",
    "invoice_id | ID of the invoice to which this line belongs.\n",
    "stock_item_id | ID of the stock item (from the warehouse.stock_items table) specified in the invoice line.\n",
    "package_type_id | ID of the package type (from the warehouse.package_types table) used for the item.\n",
    "quantity | Quantity of the item specified in the invoice line.\n",
    "unit_price | Price per unit of the item.\n",
    "tax_rate | Tax rate applied to the item.\n",
    "tax_amount | Tax amount calculated for the invoice line.\n",
    "line_profit | Profit earned from this invoice line, based on the current cost price.\n",
    "extended_price | Total cost of the invoice line ($\\text{quantity} * \\text{unit\\_price} + \\text{tax\\_amount}$)."
   ]
  },
  {
   "cell_type": "markdown",
   "metadata": {},
   "source": [
    "**sales.customer_transactions**"
   ]
  },
  {
   "cell_type": "markdown",
   "metadata": {},
   "source": [
    "Field | Description\n",
    "-|-\n",
    "customer_transaction_id | Transaction ID.\n",
    "customer_id | ID of the customer associated with this transaction.\n",
    "transaction_type_id | ID of the transaction type (e.g., invoice, payment, credit note).\n",
    "invoice_id | ID of the invoice associated with this transaction (if applicable).\n",
    "payment_method_id | ID of the payment method (e.g., cash, bank transfer).\n",
    "transaction_date | Transaction date.\n",
    "amount_excluding_tax | Transaction amount excluding tax.\n",
    "tax_amount | Tax amount calculated for the transaction.\n",
    "transaction_amount | Total transaction amount (including tax).\n",
    "outstanding_balance | Amount still unpaid for this transaction. Indicates the outstanding debt for the transaction.\n",
    "finalization_date | Date when the transaction was finalized (if finalized).\n"
   ]
  },
  {
   "cell_type": "markdown",
   "metadata": {},
   "source": [
    "### Application Schema"
   ]
  },
  {
   "cell_type": "markdown",
   "metadata": {},
   "source": [
    "Reference data and system settings."
   ]
  },
  {
   "cell_type": "markdown",
   "metadata": {},
   "source": [
    "<img src=\"assets/er_application.png\" alt=\"\">"
   ]
  },
  {
   "cell_type": "markdown",
   "metadata": {},
   "source": [
    "We will need the following tables and fields in this schema:"
   ]
  },
  {
   "cell_type": "markdown",
   "metadata": {},
   "source": [
    "**application.countries**"
   ]
  },
  {
   "cell_type": "markdown",
   "metadata": {},
   "source": [
    "Field | Description\n",
    "-|-\n",
    "country_id | Country ID\n",
    "country_name | Country name"
   ]
  },
  {
   "cell_type": "markdown",
   "metadata": {},
   "source": [
    "**application.state_provinces**"
   ]
  },
  {
   "cell_type": "markdown",
   "metadata": {},
   "source": [
    "Field | Description\n",
    "-|-\n",
    "state_province_id | State or province ID\n",
    "state_province_name | Official name of the state or province\n",
    "country_id | Country for this state or province"
   ]
  },
  {
   "cell_type": "markdown",
   "metadata": {},
   "source": [
    "**application.cities**"
   ]
  },
  {
   "cell_type": "markdown",
   "metadata": {},
   "source": [
    "Field | Description\n",
    "-|-\n",
    "city_id | City ID\n",
    "city_name | Official name of the city\n",
    "state_province_id | State or province for this city"
   ]
  },
  {
   "cell_type": "markdown",
   "metadata": {},
   "source": [
    "**application.delivery_methods**"
   ]
  },
  {
   "cell_type": "markdown",
   "metadata": {},
   "source": [
    "Field | Description\n",
    "-|-\n",
    "delivery_method_id | Delivery method ID\n",
    "delivery_method_name | Delivery method name"
   ]
  },
  {
   "cell_type": "markdown",
   "metadata": {},
   "source": [
    "**application.payment_methods**"
   ]
  },
  {
   "cell_type": "markdown",
   "metadata": {},
   "source": [
    "Field | Description\n",
    "-|-\n",
    "payment_method_id | Payment method ID\n",
    "payment_method_name | Payment method name"
   ]
  },
  {
   "cell_type": "markdown",
   "metadata": {},
   "source": [
    "**application.transaction_types**"
   ]
  },
  {
   "cell_type": "markdown",
   "metadata": {},
   "source": [
    "Field | Description\n",
    "-|-\n",
    "transaction_type_id | Transaction type ID in the database\n",
    "transaction_type_name | Full name of the transaction type"
   ]
  },
  {
   "cell_type": "markdown",
   "metadata": {},
   "source": [
    "### Warehouse Schema"
   ]
  },
  {
   "cell_type": "markdown",
   "metadata": {},
   "source": [
    "Data on inventory and warehouse operations."
   ]
  },
  {
   "cell_type": "markdown",
   "metadata": {},
   "source": [
    "<img src=\"assets/er_warehouse.png\" alt=\"\">"
   ]
  },
  {
   "cell_type": "markdown",
   "metadata": {},
   "source": [
    "We will need the following tables and fields in this schema:"
   ]
  },
  {
   "cell_type": "markdown",
   "metadata": {},
   "source": [
    "**warehouse.stock_items**"
   ]
  },
  {
   "cell_type": "markdown",
   "metadata": {},
   "source": [
    "Field | Description\n",
    "-|-\n",
    "stock_item_id | Stock item ID\n",
    "stock_item_name | Full name of the stock item\n",
    "color_id | Color ID of the item\n",
    "size | Item size"
   ]
  },
  {
   "cell_type": "markdown",
   "metadata": {},
   "source": [
    "**warehouse.stock_item_stock_groups**"
   ]
  },
  {
   "cell_type": "markdown",
   "metadata": {},
   "source": [
    "Field | Description\n",
    "-|-\n",
    "stock_item_stock_group_id | Record ID in the table (this is a junction table)\n",
    "stock_item_id | Stock item ID\n",
    "stock_group_id | Stock group ID"
   ]
  },
  {
   "cell_type": "markdown",
   "metadata": {},
   "source": [
    "**warehouse.stock_groups**"
   ]
  },
  {
   "cell_type": "markdown",
   "metadata": {},
   "source": [
    "Field | Description\n",
    "-|-\n",
    "stock_group_id | Stock group ID\n",
    "stock_group_name | Stock group name"
   ]
  },
  {
   "cell_type": "markdown",
   "metadata": {},
   "source": [
    "**warehouse.package_types**"
   ]
  },
  {
   "cell_type": "markdown",
   "metadata": {},
   "source": [
    "Field | Description\n",
    "-|-\n",
    "package_type_id | Package type ID\n",
    "package_type_name | Full name of the package type"
   ]
  },
  {
   "cell_type": "markdown",
   "metadata": {},
   "source": [
    "**warehouse.colors**"
   ]
  },
  {
   "cell_type": "markdown",
   "metadata": {},
   "source": [
    "Field | Description\n",
    "-|-\n",
    "color_id | Color ID\n",
    "color_name | Color name"
   ]
  },
  {
   "cell_type": "markdown",
   "metadata": {},
   "source": [
    "## Creating Functions"
   ]
  },
  {
   "cell_type": "markdown",
   "metadata": {},
   "source": [
    "Let's switch to the source schema."
   ]
  },
  {
   "cell_type": "code",
   "execution_count": 10,
   "metadata": {},
   "outputs": [
    {
     "name": "stdout",
     "output_type": "stream",
     "text": [
      "Connected to srс\n"
     ]
    }
   ],
   "source": [
    "con('src')"
   ]
  },
  {
   "cell_type": "markdown",
   "metadata": {},
   "source": [
    "Let's create a function that will output information about a column."
   ]
  },
  {
   "cell_type": "code",
   "execution_count": 11,
   "metadata": {
    "vscode": {
     "languageId": "sql"
    }
   },
   "outputs": [
    {
     "data": {
      "text/html": [
       "<div>\n",
       "<style scoped>\n",
       "    .dataframe tbody tr th:only-of-type {\n",
       "        vertical-align: middle;\n",
       "    }\n",
       "\n",
       "    .dataframe tbody tr th {\n",
       "        vertical-align: top;\n",
       "    }\n",
       "\n",
       "    .dataframe thead th {\n",
       "        text-align: right;\n",
       "    }\n",
       "</style>\n",
       "<table border=\"1\" class=\"dataframe\">\n",
       "  <thead>\n",
       "    <tr style=\"text-align: right;\">\n",
       "      <th></th>\n",
       "    </tr>\n",
       "  </thead>\n",
       "  <tbody>\n",
       "  </tbody>\n",
       "</table>\n",
       "</div>"
      ],
      "text/plain": [
       "Empty DataFrame\n",
       "Columns: []\n",
       "Index: []"
      ]
     },
     "execution_count": 11,
     "metadata": {},
     "output_type": "execute_result"
    }
   ],
   "source": [
    "%%sql\n",
    "CREATE OR REPLACE FUNCTION get_column_summary(\n",
    "    table_name TEXT,\n",
    "    column_name TEXT,\n",
    "    only_summary BOOLEAN DEFAULT FALSE\n",
    ")\n",
    "RETURNS TABLE(\n",
    "    \"Summary Type\" TEXT,\n",
    "    \"Summary Count\" TEXT,\n",
    "    \"-\" TEXT,\n",
    "    \"Stats Type\" TEXT,\n",
    "    \"Stats Value\" TEXT,\n",
    "    \"--\" TEXT,\n",
    "    \"Top Values\" TEXT\n",
    ") AS $$\n",
    "DECLARE\n",
    "    sql_query TEXT;\n",
    "    schema_name TEXT;\n",
    "    table_only_name TEXT;    \n",
    "    column_type TEXT;\n",
    "    is_numeric BOOLEAN;    \n",
    "BEGIN\n",
    "    IF strpos(table_name, '.') > 0 THEN\n",
    "        schema_name := split_part(table_name, '.', 1);\n",
    "        table_only_name := split_part(table_name, '.', 2);\n",
    "    ELSE\n",
    "        schema_name := 'public';\n",
    "        table_only_name := table_name;\n",
    "    END IF;\n",
    "    -- We get the type of column data\n",
    "    EXECUTE format('SELECT data_type FROM information_schema.columns \n",
    "                   WHERE table_schema = %L AND table_name = %L AND column_name = %L', \n",
    "                   schema_name, table_only_name, column_name)\n",
    "    INTO column_type;    \n",
    "    -- Check if the type is numerical\n",
    "    is_numeric := column_type IN ('smallint', 'integer', 'bigint', 'decimal', 'numeric', 'real', 'double precision');    \n",
    "\n",
    "    sql_query := \n",
    "        'WITH \n",
    "        column_summary AS (\n",
    "            SELECT \n",
    "                *\n",
    "                , row_number() OVER () AS dummy_id\n",
    "            FROM (        \n",
    "                SELECT \n",
    "                    ''Total Count'' AS summary_1, COUNT(*) AS summary_2\n",
    "                FROM ' || quote_ident(schema_name) || '.' || quote_ident(table_only_name) || '\n",
    "                UNION ALL\n",
    "                SELECT\n",
    "                    ''Unique Count'', COUNT(DISTINCT ' || quote_ident(column_name) || ')\n",
    "                FROM ' || quote_ident(schema_name) || '.' || quote_ident(table_only_name) || '\n",
    "                UNION ALL\n",
    "                SELECT\n",
    "                    ''Missing'', COUNT(*) FILTER (WHERE ' || quote_ident(column_name) || ' IS NULL)\n",
    "                FROM ' || quote_ident(schema_name) || '.' || quote_ident(table_only_name) || '\n",
    "                UNION ALL\n",
    "                SELECT\n",
    "                    ''Duplicated'', COUNT(' || quote_ident(column_name) || ') - COUNT(DISTINCT ' || quote_ident(column_name) || ')\n",
    "                FROM ' || quote_ident(schema_name) || '.' || quote_ident(table_only_name) || '\n",
    "                ';\n",
    "    IF is_numeric THEN\n",
    "        sql_query := sql_query || '                \n",
    "                UNION ALL\n",
    "                SELECT\n",
    "                    ''Zero'', COUNT(' || quote_ident(column_name) || ') FILTER (WHERE ' || quote_ident(column_name) || ' = 0)\n",
    "                FROM ' || quote_ident(schema_name) || '.' || quote_ident(table_only_name) || '\n",
    "                UNION ALL\n",
    "                SELECT\n",
    "                    ''Negative'', COUNT(' || quote_ident(column_name) || ') FILTER (WHERE ' || quote_ident(column_name) || ' < 0)\n",
    "                FROM ' || quote_ident(schema_name) || '.' || quote_ident(table_only_name) || '\n",
    "                ';\n",
    "    ELSE\n",
    "        sql_query := sql_query || '\n",
    "                UNION ALL\n",
    "                SELECT\n",
    "                    ''Zero'', NULL \n",
    "                UNION ALL\n",
    "                SELECT\n",
    "                    ''Negative'', NULL\n",
    "                ';\n",
    "    END IF;      \n",
    "    sql_query := sql_query || '              \n",
    "            )\n",
    "        )';\n",
    "\n",
    "IF NOT only_summary THEN\n",
    "    IF is_numeric THEN\n",
    "        sql_query := sql_query || '\n",
    "            , column_stats AS (\n",
    "                SELECT \n",
    "                    *\n",
    "                    , row_number() OVER () AS dummy_id\n",
    "                FROM (           \n",
    "                    SELECT \n",
    "                        ''Max'' AS stats_1, MAX(' || quote_ident(column_name) || ') AS stats_2\n",
    "                    FROM ' || quote_ident(schema_name) || '.' || quote_ident(table_only_name) || '    \n",
    "                    UNION ALL\n",
    "                    SELECT\n",
    "                        ''75%'', PERCENTILE_CONT(0.75) WITHIN GROUP (ORDER BY ' || quote_ident(column_name) || ')\n",
    "                    FROM ' || quote_ident(schema_name) || '.' || quote_ident(table_only_name) || '\n",
    "                    UNION ALL    \n",
    "                    SELECT\n",
    "                        ''Mean'', ROUND(AVG(' || quote_ident(column_name) || '), 2)\n",
    "                    FROM ' || quote_ident(schema_name) || '.' || quote_ident(table_only_name) || '\n",
    "                    UNION ALL\n",
    "                    SELECT\n",
    "                        ''Median'', PERCENTILE_CONT(0.50) WITHIN GROUP (ORDER BY ' || quote_ident(column_name) || ')\n",
    "                    FROM ' || quote_ident(schema_name) || '.' || quote_ident(table_only_name) || '\n",
    "                    UNION ALL\n",
    "                    SELECT\n",
    "                        ''25%'', PERCENTILE_CONT(0.25) WITHIN GROUP (ORDER BY ' || quote_ident(column_name) || ')\n",
    "                    FROM ' || quote_ident(schema_name) || '.' || quote_ident(table_only_name) || '\n",
    "                    UNION ALL\n",
    "                    SELECT\n",
    "                        ''Min'', MIN(' || quote_ident(column_name) || ')\n",
    "                    FROM ' || quote_ident(schema_name) || '.' || quote_ident(table_only_name) || '   \n",
    "                ) AS t\n",
    "            )';\n",
    "    ELSE\n",
    "        sql_query := sql_query || '\n",
    "            , column_stats AS (\n",
    "                SELECT \n",
    "                    *\n",
    "                    , row_number() OVER () AS dummy_id\n",
    "                FROM (           \n",
    "                    SELECT \n",
    "                        ''Max'' AS stats_1, MAX(' || quote_ident(column_name) || ') AS stats_2\n",
    "                    FROM ' || quote_ident(schema_name) || '.' || quote_ident(table_only_name) || '    \n",
    "                    UNION ALL\n",
    "                    SELECT\n",
    "                        ''75%'', NULL AS stats_2\n",
    "                    UNION ALL    \n",
    "                    SELECT\n",
    "                        ''Mean'', NULL AS stats_2\n",
    "                    UNION ALL\n",
    "                    SELECT\n",
    "                        ''Median'', NULL AS stats_2\n",
    "                    UNION ALL\n",
    "                    SELECT\n",
    "                        ''25%'', NULL AS stats_2\n",
    "                    UNION ALL\n",
    "                    SELECT\n",
    "                        ''Min'', MIN(' || quote_ident(column_name) || ')\n",
    "                    FROM ' || quote_ident(schema_name) || '.' || quote_ident(table_only_name) || '   \n",
    "                ) AS t\n",
    "            )';\n",
    "    END IF;\n",
    "    \n",
    "    sql_query := sql_query || '\n",
    "            , top_values AS (\n",
    "                SELECT \n",
    "                    *\n",
    "                    , row_number() OVER () AS dummy_id\n",
    "                FROM (   \n",
    "                    SELECT \n",
    "                        ' || quote_ident(column_name) || '::TEXT || '' ('' || COUNT(*)::TEXT || '')'' AS top_count\n",
    "                    FROM ' || quote_ident(schema_name) || '.' || quote_ident(table_only_name) || '\n",
    "                    WHERE ' || quote_ident(column_name) || ' IS NOT NULL\n",
    "                    GROUP BY ' || quote_ident(column_name) || '\n",
    "                    ORDER BY COUNT(*) DESC, ' || quote_ident(column_name) || '::TEXT\n",
    "                    LIMIT 6\n",
    "                ) AS t\n",
    "            )';\n",
    "END IF;\n",
    "    if only_summary then\n",
    "        sql_query := sql_query || '\n",
    "                SELECT\n",
    "                    summary_1::TEXT AS \"Type\",\n",
    "                    summary_2::TEXT AS \"Count\",\n",
    "                    '' '' AS \" \",\n",
    "                    '' '' AS \" \",\n",
    "                    '' '' AS \" \",\n",
    "                    '' '' AS \" \",\n",
    "                    '' '' AS \" \"\n",
    "                FROM\n",
    "                    column_summary;'; \n",
    "    else\n",
    "        sql_query := sql_query || '\n",
    "                SELECT\n",
    "                    summary_1::TEXT AS \"Type\",\n",
    "                    summary_2::TEXT AS \"Count\",\n",
    "                    '' '' AS \" \",\n",
    "                    stats_1::TEXT AS \"Type\",\n",
    "                    stats_2::TEXT AS \"Value\",\n",
    "                    '' '' AS \" \",\n",
    "                    top_count::TEXT AS \"Top Values\"\n",
    "                FROM\n",
    "                    column_summary\n",
    "                    LEFT JOIN column_stats USING(dummy_id)\n",
    "                    LEFT JOIN top_values USING(dummy_id);';\n",
    "    end if;\n",
    "    RETURN QUERY EXECUTE sql_query;\n",
    "END;\n",
    "$$ LANGUAGE plpgsql;"
   ]
  },
  {
   "cell_type": "markdown",
   "metadata": {
    "vscode": {
     "languageId": "sql"
    }
   },
   "source": [
    "Let's create a function that will show information about the relationship between tables."
   ]
  },
  {
   "cell_type": "code",
   "execution_count": 12,
   "metadata": {
    "vscode": {
     "languageId": "sql"
    }
   },
   "outputs": [
    {
     "data": {
      "text/html": [
       "<div>\n",
       "<style scoped>\n",
       "    .dataframe tbody tr th:only-of-type {\n",
       "        vertical-align: middle;\n",
       "    }\n",
       "\n",
       "    .dataframe tbody tr th {\n",
       "        vertical-align: top;\n",
       "    }\n",
       "\n",
       "    .dataframe thead th {\n",
       "        text-align: right;\n",
       "    }\n",
       "</style>\n",
       "<table border=\"1\" class=\"dataframe\">\n",
       "  <thead>\n",
       "    <tr style=\"text-align: right;\">\n",
       "      <th></th>\n",
       "    </tr>\n",
       "  </thead>\n",
       "  <tbody>\n",
       "  </tbody>\n",
       "</table>\n",
       "</div>"
      ],
      "text/plain": [
       "Empty DataFrame\n",
       "Columns: []\n",
       "Index: []"
      ]
     },
     "execution_count": 12,
     "metadata": {},
     "output_type": "execute_result"
    }
   ],
   "source": [
    "%%sql\n",
    "CREATE OR REPLACE FUNCTION analyze_relationship(\n",
    "    left_table_name TEXT,\n",
    "    right_table_name TEXT,\n",
    "    left_key_name TEXT,\n",
    "    right_key_name TEXT\n",
    ")\n",
    "RETURNS TABLE (\n",
    "    relationship_type TEXT,\n",
    "    left_only_keys BIGINT,\n",
    "    right_only_keys BIGINT,\n",
    "    left_size BIGINT,\n",
    "    right_size BIGINT,\n",
    "    common_keys BIGINT\n",
    ") AS $$\n",
    "DECLARE\n",
    "    left_count BIGINT;\n",
    "    right_count BIGINT;\n",
    "    left_distinct_count BIGINT;\n",
    "    right_distinct_count BIGINT;\n",
    "    common_count BIGINT;\n",
    "    left_only_count BIGINT;\n",
    "    right_only_count BIGINT;\n",
    "    max_right_per_left_val BIGINT;\n",
    "    max_left_per_right_val BIGINT;\n",
    "    rel_type TEXT;\n",
    "BEGIN\n",
    "    -- Basic counts\n",
    "    EXECUTE format('SELECT COUNT(DISTINCT %I), COUNT(*) FROM %s', \n",
    "                  left_key_name, left_table_name)\n",
    "    INTO left_distinct_count, left_count;\n",
    "    \n",
    "    EXECUTE format('SELECT COUNT(DISTINCT %I), COUNT(*) FROM %s', \n",
    "                  right_key_name, right_table_name)\n",
    "    INTO right_distinct_count, right_count;\n",
    "    \n",
    "    -- Common keys \n",
    "    EXECUTE format('\n",
    "        SELECT COUNT(DISTINCT l.%I) \n",
    "        FROM %s l\n",
    "        WHERE EXISTS (SELECT 1 FROM %s r WHERE r.%I = l.%I)',\n",
    "        left_key_name, left_table_name, right_table_name, right_key_name, left_key_name)\n",
    "    INTO common_count;\n",
    "    \n",
    "    -- Keys only in left/right\n",
    "    left_only_count := left_distinct_count - common_count;\n",
    "    right_only_count := right_distinct_count - common_count;\n",
    "    \n",
    "    -- Max right per left key\n",
    "    EXECUTE format('\n",
    "        SELECT COALESCE(MAX(cnt), 0) FROM (\n",
    "            SELECT COUNT(r.%I) as cnt\n",
    "            FROM %s r\n",
    "            WHERE r.%I IN (SELECT %I FROM %s)\n",
    "            GROUP BY r.%I\n",
    "        ) t',\n",
    "        right_key_name, right_table_name, right_key_name, left_key_name, left_table_name, right_key_name)\n",
    "    INTO max_right_per_left_val;\n",
    "    \n",
    "    -- Max left per right key \n",
    "    EXECUTE format('\n",
    "        SELECT COALESCE(MAX(cnt), 0) FROM (\n",
    "            SELECT COUNT(l.%I) as cnt\n",
    "            FROM %s l\n",
    "            WHERE l.%I IN (SELECT %I FROM %s)\n",
    "            GROUP BY l.%I\n",
    "        ) t',\n",
    "        left_key_name, left_table_name, left_key_name, right_key_name, right_table_name, left_key_name)\n",
    "    INTO max_left_per_right_val;\n",
    "    \n",
    "    -- Determine relationship type\n",
    "    IF max_right_per_left_val <= 1 AND max_left_per_right_val <= 1 THEN\n",
    "        rel_type := '1:1';\n",
    "    ELSIF max_left_per_right_val > 1 AND max_right_per_left_val <= 1 THEN\n",
    "        rel_type := 'N:1';\n",
    "    ELSIF max_left_per_right_val <= 1 AND max_right_per_left_val > 1 THEN\n",
    "        rel_type := '1:N';\n",
    "    ELSIF common_count > 0 THEN\n",
    "        rel_type := 'N:M';\n",
    "    ELSE\n",
    "        rel_type := 'no_relation';\n",
    "    END IF;\n",
    "    \n",
    "    RETURN QUERY SELECT \n",
    "        rel_type,\n",
    "        left_only_count,\n",
    "        right_only_count,\n",
    "        left_count,\n",
    "        right_count,\n",
    "        common_count;\n",
    "END;\n",
    "$$ LANGUAGE plpgsql;"
   ]
  },
  {
   "cell_type": "markdown",
   "metadata": {},
   "source": [
    "## Data Exploration\n"
   ]
  },
  {
   "cell_type": "markdown",
   "metadata": {},
   "source": [
    "Before developing the dashboard, let's explore the necessary tables and fields, as well as the relationships between them."
   ]
  },
  {
   "cell_type": "markdown",
   "metadata": {},
   "source": [
    "### Variable Exploration\n"
   ]
  },
  {
   "cell_type": "markdown",
   "metadata": {},
   "source": [
    "#### Sales Schema"
   ]
  },
  {
   "cell_type": "markdown",
   "metadata": {},
   "source": [
    "##### Table sales.orders"
   ]
  },
  {
   "cell_type": "markdown",
   "metadata": {},
   "source": [
    "Let's look at the rows."
   ]
  },
  {
   "cell_type": "code",
   "execution_count": 13,
   "metadata": {
    "vscode": {
     "languageId": "sql"
    }
   },
   "outputs": [
    {
     "data": {
      "text/html": [
       "<div>\n",
       "<style scoped>\n",
       "    .dataframe tbody tr th:only-of-type {\n",
       "        vertical-align: middle;\n",
       "    }\n",
       "\n",
       "    .dataframe tbody tr th {\n",
       "        vertical-align: top;\n",
       "    }\n",
       "\n",
       "    .dataframe thead th {\n",
       "        text-align: right;\n",
       "    }\n",
       "</style>\n",
       "<table border=\"1\" class=\"dataframe\">\n",
       "  <thead>\n",
       "    <tr style=\"text-align: right;\">\n",
       "      <th></th>\n",
       "      <th>order_id</th>\n",
       "      <th>customer_id</th>\n",
       "      <th>salesperson_person_id</th>\n",
       "      <th>picked_by_person_id</th>\n",
       "      <th>contact_person_id</th>\n",
       "      <th>backorder_order_id</th>\n",
       "      <th>order_date</th>\n",
       "      <th>expected_delivery_date</th>\n",
       "      <th>customer_purchase_order_number</th>\n",
       "      <th>is_undersupply_backordered</th>\n",
       "      <th>comments</th>\n",
       "      <th>delivery_instructions</th>\n",
       "      <th>internal_comments</th>\n",
       "      <th>picking_completed_when</th>\n",
       "      <th>last_edited_by</th>\n",
       "      <th>last_edited_when</th>\n",
       "    </tr>\n",
       "  </thead>\n",
       "  <tbody>\n",
       "    <tr>\n",
       "      <th>0</th>\n",
       "      <td>2</td>\n",
       "      <td>803</td>\n",
       "      <td>8</td>\n",
       "      <td>NaN</td>\n",
       "      <td>3003</td>\n",
       "      <td>46.0</td>\n",
       "      <td>2013-01-01</td>\n",
       "      <td>2013-01-02</td>\n",
       "      <td>15342</td>\n",
       "      <td>True</td>\n",
       "      <td>None</td>\n",
       "      <td>None</td>\n",
       "      <td>None</td>\n",
       "      <td>2013-01-01 12:00:00</td>\n",
       "      <td>7</td>\n",
       "      <td>2013-01-01 12:00:00</td>\n",
       "    </tr>\n",
       "    <tr>\n",
       "      <th>1</th>\n",
       "      <td>3</td>\n",
       "      <td>105</td>\n",
       "      <td>7</td>\n",
       "      <td>NaN</td>\n",
       "      <td>1209</td>\n",
       "      <td>47.0</td>\n",
       "      <td>2013-01-01</td>\n",
       "      <td>2013-01-02</td>\n",
       "      <td>12211</td>\n",
       "      <td>True</td>\n",
       "      <td>None</td>\n",
       "      <td>None</td>\n",
       "      <td>None</td>\n",
       "      <td>2013-01-01 12:00:00</td>\n",
       "      <td>7</td>\n",
       "      <td>2013-01-01 12:00:00</td>\n",
       "    </tr>\n",
       "    <tr>\n",
       "      <th>2</th>\n",
       "      <td>4</td>\n",
       "      <td>57</td>\n",
       "      <td>16</td>\n",
       "      <td>3.0</td>\n",
       "      <td>1113</td>\n",
       "      <td>NaN</td>\n",
       "      <td>2013-01-01</td>\n",
       "      <td>2013-01-02</td>\n",
       "      <td>17129</td>\n",
       "      <td>True</td>\n",
       "      <td>None</td>\n",
       "      <td>None</td>\n",
       "      <td>None</td>\n",
       "      <td>2013-01-01 11:00:00</td>\n",
       "      <td>3</td>\n",
       "      <td>2013-01-01 11:00:00</td>\n",
       "    </tr>\n",
       "    <tr>\n",
       "      <th>3</th>\n",
       "      <td>5</td>\n",
       "      <td>905</td>\n",
       "      <td>3</td>\n",
       "      <td>NaN</td>\n",
       "      <td>3105</td>\n",
       "      <td>48.0</td>\n",
       "      <td>2013-01-01</td>\n",
       "      <td>2013-01-02</td>\n",
       "      <td>10369</td>\n",
       "      <td>True</td>\n",
       "      <td>None</td>\n",
       "      <td>None</td>\n",
       "      <td>None</td>\n",
       "      <td>2013-01-01 12:00:00</td>\n",
       "      <td>7</td>\n",
       "      <td>2013-01-01 12:00:00</td>\n",
       "    </tr>\n",
       "    <tr>\n",
       "      <th>4</th>\n",
       "      <td>6</td>\n",
       "      <td>976</td>\n",
       "      <td>13</td>\n",
       "      <td>3.0</td>\n",
       "      <td>3176</td>\n",
       "      <td>NaN</td>\n",
       "      <td>2013-01-01</td>\n",
       "      <td>2013-01-02</td>\n",
       "      <td>13383</td>\n",
       "      <td>True</td>\n",
       "      <td>None</td>\n",
       "      <td>None</td>\n",
       "      <td>None</td>\n",
       "      <td>2013-01-01 11:00:00</td>\n",
       "      <td>3</td>\n",
       "      <td>2013-01-01 11:00:00</td>\n",
       "    </tr>\n",
       "  </tbody>\n",
       "</table>\n",
       "</div>"
      ],
      "text/plain": [
       "   order_id  customer_id  salesperson_person_id  picked_by_person_id  \\\n",
       "0         2          803                      8                  NaN   \n",
       "1         3          105                      7                  NaN   \n",
       "2         4           57                     16                  3.0   \n",
       "3         5          905                      3                  NaN   \n",
       "4         6          976                     13                  3.0   \n",
       "\n",
       "   contact_person_id  backorder_order_id  order_date expected_delivery_date  \\\n",
       "0               3003                46.0  2013-01-01             2013-01-02   \n",
       "1               1209                47.0  2013-01-01             2013-01-02   \n",
       "2               1113                 NaN  2013-01-01             2013-01-02   \n",
       "3               3105                48.0  2013-01-01             2013-01-02   \n",
       "4               3176                 NaN  2013-01-01             2013-01-02   \n",
       "\n",
       "  customer_purchase_order_number  is_undersupply_backordered comments  \\\n",
       "0                          15342                        True     None   \n",
       "1                          12211                        True     None   \n",
       "2                          17129                        True     None   \n",
       "3                          10369                        True     None   \n",
       "4                          13383                        True     None   \n",
       "\n",
       "  delivery_instructions internal_comments picking_completed_when  \\\n",
       "0                  None              None    2013-01-01 12:00:00   \n",
       "1                  None              None    2013-01-01 12:00:00   \n",
       "2                  None              None    2013-01-01 11:00:00   \n",
       "3                  None              None    2013-01-01 12:00:00   \n",
       "4                  None              None    2013-01-01 11:00:00   \n",
       "\n",
       "   last_edited_by    last_edited_when  \n",
       "0               7 2013-01-01 12:00:00  \n",
       "1               7 2013-01-01 12:00:00  \n",
       "2               3 2013-01-01 11:00:00  \n",
       "3               7 2013-01-01 12:00:00  \n",
       "4               3 2013-01-01 11:00:00  "
      ]
     },
     "execution_count": 13,
     "metadata": {},
     "output_type": "execute_result"
    }
   ],
   "source": [
    "%%sql\n",
    "SELECT\n",
    "    *\n",
    "FROM\n",
    "    sales.orders\n",
    "LIMIT 5"
   ]
  },
  {
   "cell_type": "markdown",
   "metadata": {},
   "source": [
    "Let's examine each column we will use for creating the dashboard individually."
   ]
  },
  {
   "cell_type": "markdown",
   "metadata": {},
   "source": [
    "**order_id**"
   ]
  },
  {
   "cell_type": "code",
   "execution_count": 14,
   "metadata": {
    "vscode": {
     "languageId": "sql"
    }
   },
   "outputs": [
    {
     "data": {
      "text/html": [
       "<div>\n",
       "<style scoped>\n",
       "    .dataframe tbody tr th:only-of-type {\n",
       "        vertical-align: middle;\n",
       "    }\n",
       "\n",
       "    .dataframe tbody tr th {\n",
       "        vertical-align: top;\n",
       "    }\n",
       "\n",
       "    .dataframe thead th {\n",
       "        text-align: right;\n",
       "    }\n",
       "</style>\n",
       "<table border=\"1\" class=\"dataframe\">\n",
       "  <thead>\n",
       "    <tr style=\"text-align: right;\">\n",
       "      <th></th>\n",
       "      <th>Summary Type</th>\n",
       "      <th>Summary Count</th>\n",
       "      <th>-</th>\n",
       "      <th>Stats Type</th>\n",
       "      <th>Stats Value</th>\n",
       "      <th>--</th>\n",
       "      <th>Top Values</th>\n",
       "    </tr>\n",
       "  </thead>\n",
       "  <tbody>\n",
       "    <tr>\n",
       "      <th>0</th>\n",
       "      <td>Missing</td>\n",
       "      <td>0</td>\n",
       "      <td></td>\n",
       "      <td></td>\n",
       "      <td></td>\n",
       "      <td></td>\n",
       "      <td></td>\n",
       "    </tr>\n",
       "    <tr>\n",
       "      <th>1</th>\n",
       "      <td>Unique Count</td>\n",
       "      <td>73595</td>\n",
       "      <td></td>\n",
       "      <td></td>\n",
       "      <td></td>\n",
       "      <td></td>\n",
       "      <td></td>\n",
       "    </tr>\n",
       "    <tr>\n",
       "      <th>2</th>\n",
       "      <td>Zero</td>\n",
       "      <td>0</td>\n",
       "      <td></td>\n",
       "      <td></td>\n",
       "      <td></td>\n",
       "      <td></td>\n",
       "      <td></td>\n",
       "    </tr>\n",
       "    <tr>\n",
       "      <th>3</th>\n",
       "      <td>Total Count</td>\n",
       "      <td>73595</td>\n",
       "      <td></td>\n",
       "      <td></td>\n",
       "      <td></td>\n",
       "      <td></td>\n",
       "      <td></td>\n",
       "    </tr>\n",
       "    <tr>\n",
       "      <th>4</th>\n",
       "      <td>Duplicated</td>\n",
       "      <td>0</td>\n",
       "      <td></td>\n",
       "      <td></td>\n",
       "      <td></td>\n",
       "      <td></td>\n",
       "      <td></td>\n",
       "    </tr>\n",
       "    <tr>\n",
       "      <th>5</th>\n",
       "      <td>Negative</td>\n",
       "      <td>0</td>\n",
       "      <td></td>\n",
       "      <td></td>\n",
       "      <td></td>\n",
       "      <td></td>\n",
       "      <td></td>\n",
       "    </tr>\n",
       "  </tbody>\n",
       "</table>\n",
       "</div>"
      ],
      "text/plain": [
       "   Summary Type Summary Count  - Stats Type Stats Value -- Top Values\n",
       "0       Missing             0                                        \n",
       "1  Unique Count         73595                                        \n",
       "2          Zero             0                                        \n",
       "3   Total Count         73595                                        \n",
       "4    Duplicated             0                                        \n",
       "5      Negative             0                                        "
      ]
     },
     "execution_count": 14,
     "metadata": {},
     "output_type": "execute_result"
    }
   ],
   "source": [
    "%%sql\n",
    "SELECT * FROM get_column_summary('sales.orders', 'order_id', True);"
   ]
  },
  {
   "cell_type": "markdown",
   "metadata": {},
   "source": [
    "**customer_id**"
   ]
  },
  {
   "cell_type": "code",
   "execution_count": 15,
   "metadata": {
    "vscode": {
     "languageId": "sql"
    }
   },
   "outputs": [
    {
     "data": {
      "text/html": [
       "<div>\n",
       "<style scoped>\n",
       "    .dataframe tbody tr th:only-of-type {\n",
       "        vertical-align: middle;\n",
       "    }\n",
       "\n",
       "    .dataframe tbody tr th {\n",
       "        vertical-align: top;\n",
       "    }\n",
       "\n",
       "    .dataframe thead th {\n",
       "        text-align: right;\n",
       "    }\n",
       "</style>\n",
       "<table border=\"1\" class=\"dataframe\">\n",
       "  <thead>\n",
       "    <tr style=\"text-align: right;\">\n",
       "      <th></th>\n",
       "      <th>Summary Type</th>\n",
       "      <th>Summary Count</th>\n",
       "      <th>-</th>\n",
       "      <th>Stats Type</th>\n",
       "      <th>Stats Value</th>\n",
       "      <th>--</th>\n",
       "      <th>Top Values</th>\n",
       "    </tr>\n",
       "  </thead>\n",
       "  <tbody>\n",
       "    <tr>\n",
       "      <th>0</th>\n",
       "      <td>Missing</td>\n",
       "      <td>0</td>\n",
       "      <td></td>\n",
       "      <td>Max</td>\n",
       "      <td>1061</td>\n",
       "      <td></td>\n",
       "      <td>90 (150)</td>\n",
       "    </tr>\n",
       "    <tr>\n",
       "      <th>1</th>\n",
       "      <td>Unique Count</td>\n",
       "      <td>663</td>\n",
       "      <td></td>\n",
       "      <td>75%</td>\n",
       "      <td>877</td>\n",
       "      <td></td>\n",
       "      <td>831 (147)</td>\n",
       "    </tr>\n",
       "    <tr>\n",
       "      <th>2</th>\n",
       "      <td>Zero</td>\n",
       "      <td>0</td>\n",
       "      <td></td>\n",
       "      <td>Mean</td>\n",
       "      <td>528.79</td>\n",
       "      <td></td>\n",
       "      <td>968 (146)</td>\n",
       "    </tr>\n",
       "    <tr>\n",
       "      <th>3</th>\n",
       "      <td>Duplicated</td>\n",
       "      <td>72932</td>\n",
       "      <td></td>\n",
       "      <td>Median</td>\n",
       "      <td>518</td>\n",
       "      <td></td>\n",
       "      <td>405 (145)</td>\n",
       "    </tr>\n",
       "    <tr>\n",
       "      <th>4</th>\n",
       "      <td>Negative</td>\n",
       "      <td>0</td>\n",
       "      <td></td>\n",
       "      <td>25%</td>\n",
       "      <td>160</td>\n",
       "      <td></td>\n",
       "      <td>804 (145)</td>\n",
       "    </tr>\n",
       "    <tr>\n",
       "      <th>5</th>\n",
       "      <td>Total Count</td>\n",
       "      <td>73595</td>\n",
       "      <td></td>\n",
       "      <td>Min</td>\n",
       "      <td>1</td>\n",
       "      <td></td>\n",
       "      <td>143 (144)</td>\n",
       "    </tr>\n",
       "  </tbody>\n",
       "</table>\n",
       "</div>"
      ],
      "text/plain": [
       "   Summary Type Summary Count  - Stats Type Stats Value -- Top Values\n",
       "0       Missing             0           Max        1061      90 (150)\n",
       "1  Unique Count           663           75%         877     831 (147)\n",
       "2          Zero             0          Mean      528.79     968 (146)\n",
       "3    Duplicated         72932        Median         518     405 (145)\n",
       "4      Negative             0           25%         160     804 (145)\n",
       "5   Total Count         73595           Min           1     143 (144)"
      ]
     },
     "execution_count": 15,
     "metadata": {},
     "output_type": "execute_result"
    }
   ],
   "source": [
    "%%sql\n",
    "SELECT * FROM get_column_summary('sales.orders', 'customer_id', False);"
   ]
  },
  {
   "cell_type": "markdown",
   "metadata": {},
   "source": [
    "**order_date**"
   ]
  },
  {
   "cell_type": "code",
   "execution_count": 16,
   "metadata": {
    "vscode": {
     "languageId": "sql"
    }
   },
   "outputs": [
    {
     "data": {
      "text/html": [
       "<div>\n",
       "<style scoped>\n",
       "    .dataframe tbody tr th:only-of-type {\n",
       "        vertical-align: middle;\n",
       "    }\n",
       "\n",
       "    .dataframe tbody tr th {\n",
       "        vertical-align: top;\n",
       "    }\n",
       "\n",
       "    .dataframe thead th {\n",
       "        text-align: right;\n",
       "    }\n",
       "</style>\n",
       "<table border=\"1\" class=\"dataframe\">\n",
       "  <thead>\n",
       "    <tr style=\"text-align: right;\">\n",
       "      <th></th>\n",
       "      <th>Summary Type</th>\n",
       "      <th>Summary Count</th>\n",
       "      <th>-</th>\n",
       "      <th>Stats Type</th>\n",
       "      <th>Stats Value</th>\n",
       "      <th>--</th>\n",
       "      <th>Top Values</th>\n",
       "    </tr>\n",
       "  </thead>\n",
       "  <tbody>\n",
       "    <tr>\n",
       "      <th>0</th>\n",
       "      <td>Negative</td>\n",
       "      <td>None</td>\n",
       "      <td></td>\n",
       "      <td>25%</td>\n",
       "      <td>None</td>\n",
       "      <td></td>\n",
       "      <td>2016-01-06 (133)</td>\n",
       "    </tr>\n",
       "    <tr>\n",
       "      <th>1</th>\n",
       "      <td>Duplicated</td>\n",
       "      <td>72526</td>\n",
       "      <td></td>\n",
       "      <td>Median</td>\n",
       "      <td>None</td>\n",
       "      <td></td>\n",
       "      <td>2015-10-19 (127)</td>\n",
       "    </tr>\n",
       "    <tr>\n",
       "      <th>2</th>\n",
       "      <td>Total Count</td>\n",
       "      <td>73595</td>\n",
       "      <td></td>\n",
       "      <td>Mean</td>\n",
       "      <td>None</td>\n",
       "      <td></td>\n",
       "      <td>2015-07-06 (126)</td>\n",
       "    </tr>\n",
       "    <tr>\n",
       "      <th>3</th>\n",
       "      <td>Zero</td>\n",
       "      <td>None</td>\n",
       "      <td></td>\n",
       "      <td>75%</td>\n",
       "      <td>None</td>\n",
       "      <td></td>\n",
       "      <td>2015-02-03 (125)</td>\n",
       "    </tr>\n",
       "    <tr>\n",
       "      <th>4</th>\n",
       "      <td>Unique Count</td>\n",
       "      <td>1069</td>\n",
       "      <td></td>\n",
       "      <td>Min</td>\n",
       "      <td>2013-01-01</td>\n",
       "      <td></td>\n",
       "      <td>2016-04-28 (123)</td>\n",
       "    </tr>\n",
       "    <tr>\n",
       "      <th>5</th>\n",
       "      <td>Missing</td>\n",
       "      <td>0</td>\n",
       "      <td></td>\n",
       "      <td>Max</td>\n",
       "      <td>2016-05-31</td>\n",
       "      <td></td>\n",
       "      <td>2015-02-23 (122)</td>\n",
       "    </tr>\n",
       "  </tbody>\n",
       "</table>\n",
       "</div>"
      ],
      "text/plain": [
       "   Summary Type Summary Count  - Stats Type Stats Value --        Top Values\n",
       "0      Negative          None           25%        None     2016-01-06 (133)\n",
       "1    Duplicated         72526        Median        None     2015-10-19 (127)\n",
       "2   Total Count         73595          Mean        None     2015-07-06 (126)\n",
       "3          Zero          None           75%        None     2015-02-03 (125)\n",
       "4  Unique Count          1069           Min  2013-01-01     2016-04-28 (123)\n",
       "5       Missing             0           Max  2016-05-31     2015-02-23 (122)"
      ]
     },
     "execution_count": 16,
     "metadata": {},
     "output_type": "execute_result"
    }
   ],
   "source": [
    "%%sql\n",
    "SELECT * FROM get_column_summary('sales.orders', 'order_date', False);"
   ]
  },
  {
   "cell_type": "markdown",
   "metadata": {},
   "source": [
    "**expected_delivery_date**"
   ]
  },
  {
   "cell_type": "code",
   "execution_count": 17,
   "metadata": {
    "vscode": {
     "languageId": "sql"
    }
   },
   "outputs": [
    {
     "data": {
      "text/html": [
       "<div>\n",
       "<style scoped>\n",
       "    .dataframe tbody tr th:only-of-type {\n",
       "        vertical-align: middle;\n",
       "    }\n",
       "\n",
       "    .dataframe tbody tr th {\n",
       "        vertical-align: top;\n",
       "    }\n",
       "\n",
       "    .dataframe thead th {\n",
       "        text-align: right;\n",
       "    }\n",
       "</style>\n",
       "<table border=\"1\" class=\"dataframe\">\n",
       "  <thead>\n",
       "    <tr style=\"text-align: right;\">\n",
       "      <th></th>\n",
       "      <th>Summary Type</th>\n",
       "      <th>Summary Count</th>\n",
       "      <th>-</th>\n",
       "      <th>Stats Type</th>\n",
       "      <th>Stats Value</th>\n",
       "      <th>--</th>\n",
       "      <th>Top Values</th>\n",
       "    </tr>\n",
       "  </thead>\n",
       "  <tbody>\n",
       "    <tr>\n",
       "      <th>0</th>\n",
       "      <td>Negative</td>\n",
       "      <td>None</td>\n",
       "      <td></td>\n",
       "      <td>25%</td>\n",
       "      <td>None</td>\n",
       "      <td></td>\n",
       "      <td>2015-03-02 (173)</td>\n",
       "    </tr>\n",
       "    <tr>\n",
       "      <th>1</th>\n",
       "      <td>Unique Count</td>\n",
       "      <td>891</td>\n",
       "      <td></td>\n",
       "      <td>Median</td>\n",
       "      <td>None</td>\n",
       "      <td></td>\n",
       "      <td>2015-04-06 (167)</td>\n",
       "    </tr>\n",
       "    <tr>\n",
       "      <th>2</th>\n",
       "      <td>Total Count</td>\n",
       "      <td>73595</td>\n",
       "      <td></td>\n",
       "      <td>Mean</td>\n",
       "      <td>None</td>\n",
       "      <td></td>\n",
       "      <td>2015-03-30 (164)</td>\n",
       "    </tr>\n",
       "    <tr>\n",
       "      <th>3</th>\n",
       "      <td>Zero</td>\n",
       "      <td>None</td>\n",
       "      <td></td>\n",
       "      <td>75%</td>\n",
       "      <td>None</td>\n",
       "      <td></td>\n",
       "      <td>2015-09-14 (164)</td>\n",
       "    </tr>\n",
       "    <tr>\n",
       "      <th>4</th>\n",
       "      <td>Duplicated</td>\n",
       "      <td>72704</td>\n",
       "      <td></td>\n",
       "      <td>Min</td>\n",
       "      <td>2013-01-02</td>\n",
       "      <td></td>\n",
       "      <td>2014-04-28 (163)</td>\n",
       "    </tr>\n",
       "    <tr>\n",
       "      <th>5</th>\n",
       "      <td>Missing</td>\n",
       "      <td>0</td>\n",
       "      <td></td>\n",
       "      <td>Max</td>\n",
       "      <td>2016-06-01</td>\n",
       "      <td></td>\n",
       "      <td>2016-04-11 (163)</td>\n",
       "    </tr>\n",
       "  </tbody>\n",
       "</table>\n",
       "</div>"
      ],
      "text/plain": [
       "   Summary Type Summary Count  - Stats Type Stats Value --        Top Values\n",
       "0      Negative          None           25%        None     2015-03-02 (173)\n",
       "1  Unique Count           891        Median        None     2015-04-06 (167)\n",
       "2   Total Count         73595          Mean        None     2015-03-30 (164)\n",
       "3          Zero          None           75%        None     2015-09-14 (164)\n",
       "4    Duplicated         72704           Min  2013-01-02     2014-04-28 (163)\n",
       "5       Missing             0           Max  2016-06-01     2016-04-11 (163)"
      ]
     },
     "execution_count": 17,
     "metadata": {},
     "output_type": "execute_result"
    }
   ],
   "source": [
    "%%sql\n",
    "SELECT * FROM get_column_summary('sales.orders', 'expected_delivery_date', False);"
   ]
  },
  {
   "cell_type": "markdown",
   "metadata": {},
   "source": [
    "**picking_completed_when**"
   ]
  },
  {
   "cell_type": "code",
   "execution_count": 18,
   "metadata": {
    "vscode": {
     "languageId": "sql"
    }
   },
   "outputs": [
    {
     "data": {
      "text/html": [
       "<div>\n",
       "<style scoped>\n",
       "    .dataframe tbody tr th:only-of-type {\n",
       "        vertical-align: middle;\n",
       "    }\n",
       "\n",
       "    .dataframe tbody tr th {\n",
       "        vertical-align: top;\n",
       "    }\n",
       "\n",
       "    .dataframe thead th {\n",
       "        text-align: right;\n",
       "    }\n",
       "</style>\n",
       "<table border=\"1\" class=\"dataframe\">\n",
       "  <thead>\n",
       "    <tr style=\"text-align: right;\">\n",
       "      <th></th>\n",
       "      <th>Summary Type</th>\n",
       "      <th>Summary Count</th>\n",
       "      <th>-</th>\n",
       "      <th>Stats Type</th>\n",
       "      <th>Stats Value</th>\n",
       "      <th>--</th>\n",
       "      <th>Top Values</th>\n",
       "    </tr>\n",
       "  </thead>\n",
       "  <tbody>\n",
       "    <tr>\n",
       "      <th>0</th>\n",
       "      <td>Negative</td>\n",
       "      <td>None</td>\n",
       "      <td></td>\n",
       "      <td>25%</td>\n",
       "      <td>None</td>\n",
       "      <td></td>\n",
       "      <td>2016-02-26 11:00:00 (107)</td>\n",
       "    </tr>\n",
       "    <tr>\n",
       "      <th>1</th>\n",
       "      <td>Duplicated</td>\n",
       "      <td>68386</td>\n",
       "      <td></td>\n",
       "      <td>Median</td>\n",
       "      <td>None</td>\n",
       "      <td></td>\n",
       "      <td>2016-04-18 11:00:00 (107)</td>\n",
       "    </tr>\n",
       "    <tr>\n",
       "      <th>2</th>\n",
       "      <td>Total Count</td>\n",
       "      <td>73595</td>\n",
       "      <td></td>\n",
       "      <td>Mean</td>\n",
       "      <td>None</td>\n",
       "      <td></td>\n",
       "      <td>2016-01-07 11:00:00 (106)</td>\n",
       "    </tr>\n",
       "    <tr>\n",
       "      <th>3</th>\n",
       "      <td>Zero</td>\n",
       "      <td>None</td>\n",
       "      <td></td>\n",
       "      <td>75%</td>\n",
       "      <td>None</td>\n",
       "      <td></td>\n",
       "      <td>2016-05-04 11:00:00 (106)</td>\n",
       "    </tr>\n",
       "    <tr>\n",
       "      <th>4</th>\n",
       "      <td>Unique Count</td>\n",
       "      <td>2124</td>\n",
       "      <td></td>\n",
       "      <td>Min</td>\n",
       "      <td>2013-01-01 11:00:00</td>\n",
       "      <td></td>\n",
       "      <td>2016-02-24 11:00:00 (104)</td>\n",
       "    </tr>\n",
       "    <tr>\n",
       "      <th>5</th>\n",
       "      <td>Missing</td>\n",
       "      <td>3085</td>\n",
       "      <td></td>\n",
       "      <td>Max</td>\n",
       "      <td>2016-05-31 12:00:00</td>\n",
       "      <td></td>\n",
       "      <td>2015-01-21 11:00:00 (103)</td>\n",
       "    </tr>\n",
       "  </tbody>\n",
       "</table>\n",
       "</div>"
      ],
      "text/plain": [
       "   Summary Type Summary Count  - Stats Type          Stats Value --  \\\n",
       "0      Negative          None           25%                 None      \n",
       "1    Duplicated         68386        Median                 None      \n",
       "2   Total Count         73595          Mean                 None      \n",
       "3          Zero          None           75%                 None      \n",
       "4  Unique Count          2124           Min  2013-01-01 11:00:00      \n",
       "5       Missing          3085           Max  2016-05-31 12:00:00      \n",
       "\n",
       "                  Top Values  \n",
       "0  2016-02-26 11:00:00 (107)  \n",
       "1  2016-04-18 11:00:00 (107)  \n",
       "2  2016-01-07 11:00:00 (106)  \n",
       "3  2016-05-04 11:00:00 (106)  \n",
       "4  2016-02-24 11:00:00 (104)  \n",
       "5  2015-01-21 11:00:00 (103)  "
      ]
     },
     "execution_count": 18,
     "metadata": {},
     "output_type": "execute_result"
    }
   ],
   "source": [
    "%%sql\n",
    "SELECT * FROM get_column_summary('sales.orders', 'picking_completed_when', False);"
   ]
  },
  {
   "cell_type": "markdown",
   "metadata": {
    "vscode": {
     "languageId": "sql"
    }
   },
   "source": [
    "Let's look at rows with missing values in picking_completed_when."
   ]
  },
  {
   "cell_type": "code",
   "execution_count": 19,
   "metadata": {
    "vscode": {
     "languageId": "sql"
    }
   },
   "outputs": [
    {
     "data": {
      "text/html": [
       "<div>\n",
       "<style scoped>\n",
       "    .dataframe tbody tr th:only-of-type {\n",
       "        vertical-align: middle;\n",
       "    }\n",
       "\n",
       "    .dataframe tbody tr th {\n",
       "        vertical-align: top;\n",
       "    }\n",
       "\n",
       "    .dataframe thead th {\n",
       "        text-align: right;\n",
       "    }\n",
       "</style>\n",
       "<table border=\"1\" class=\"dataframe\">\n",
       "  <thead>\n",
       "    <tr style=\"text-align: right;\">\n",
       "      <th></th>\n",
       "      <th>order_id</th>\n",
       "      <th>customer_id</th>\n",
       "      <th>salesperson_person_id</th>\n",
       "      <th>picked_by_person_id</th>\n",
       "      <th>contact_person_id</th>\n",
       "      <th>backorder_order_id</th>\n",
       "      <th>order_date</th>\n",
       "      <th>expected_delivery_date</th>\n",
       "      <th>customer_purchase_order_number</th>\n",
       "      <th>is_undersupply_backordered</th>\n",
       "      <th>comments</th>\n",
       "      <th>delivery_instructions</th>\n",
       "      <th>internal_comments</th>\n",
       "      <th>picking_completed_when</th>\n",
       "      <th>last_edited_by</th>\n",
       "      <th>last_edited_when</th>\n",
       "    </tr>\n",
       "  </thead>\n",
       "  <tbody>\n",
       "    <tr>\n",
       "      <th>0</th>\n",
       "      <td>694</td>\n",
       "      <td>430</td>\n",
       "      <td>13</td>\n",
       "      <td>None</td>\n",
       "      <td>2059</td>\n",
       "      <td>None</td>\n",
       "      <td>2013-01-12</td>\n",
       "      <td>2013-01-14</td>\n",
       "      <td>18641</td>\n",
       "      <td>True</td>\n",
       "      <td>None</td>\n",
       "      <td>None</td>\n",
       "      <td>None</td>\n",
       "      <td>None</td>\n",
       "      <td>5</td>\n",
       "      <td>2013-01-12 12:00:00</td>\n",
       "    </tr>\n",
       "    <tr>\n",
       "      <th>1</th>\n",
       "      <td>858</td>\n",
       "      <td>197</td>\n",
       "      <td>13</td>\n",
       "      <td>None</td>\n",
       "      <td>1393</td>\n",
       "      <td>None</td>\n",
       "      <td>2013-01-15</td>\n",
       "      <td>2013-01-16</td>\n",
       "      <td>17999</td>\n",
       "      <td>True</td>\n",
       "      <td>None</td>\n",
       "      <td>None</td>\n",
       "      <td>None</td>\n",
       "      <td>None</td>\n",
       "      <td>9</td>\n",
       "      <td>2013-01-15 12:00:00</td>\n",
       "    </tr>\n",
       "    <tr>\n",
       "      <th>2</th>\n",
       "      <td>863</td>\n",
       "      <td>538</td>\n",
       "      <td>2</td>\n",
       "      <td>None</td>\n",
       "      <td>2275</td>\n",
       "      <td>None</td>\n",
       "      <td>2013-01-15</td>\n",
       "      <td>2013-01-16</td>\n",
       "      <td>13574</td>\n",
       "      <td>True</td>\n",
       "      <td>None</td>\n",
       "      <td>None</td>\n",
       "      <td>None</td>\n",
       "      <td>None</td>\n",
       "      <td>9</td>\n",
       "      <td>2013-01-15 12:00:00</td>\n",
       "    </tr>\n",
       "    <tr>\n",
       "      <th>3</th>\n",
       "      <td>865</td>\n",
       "      <td>926</td>\n",
       "      <td>2</td>\n",
       "      <td>None</td>\n",
       "      <td>3126</td>\n",
       "      <td>None</td>\n",
       "      <td>2013-01-15</td>\n",
       "      <td>2013-01-16</td>\n",
       "      <td>18066</td>\n",
       "      <td>True</td>\n",
       "      <td>None</td>\n",
       "      <td>None</td>\n",
       "      <td>None</td>\n",
       "      <td>None</td>\n",
       "      <td>9</td>\n",
       "      <td>2013-01-15 12:00:00</td>\n",
       "    </tr>\n",
       "    <tr>\n",
       "      <th>4</th>\n",
       "      <td>1065</td>\n",
       "      <td>70</td>\n",
       "      <td>20</td>\n",
       "      <td>None</td>\n",
       "      <td>1139</td>\n",
       "      <td>None</td>\n",
       "      <td>2013-01-19</td>\n",
       "      <td>2013-01-21</td>\n",
       "      <td>12157</td>\n",
       "      <td>True</td>\n",
       "      <td>None</td>\n",
       "      <td>None</td>\n",
       "      <td>None</td>\n",
       "      <td>None</td>\n",
       "      <td>19</td>\n",
       "      <td>2013-01-19 12:00:00</td>\n",
       "    </tr>\n",
       "  </tbody>\n",
       "</table>\n",
       "</div>"
      ],
      "text/plain": [
       "   order_id  customer_id  salesperson_person_id picked_by_person_id  \\\n",
       "0       694          430                     13                None   \n",
       "1       858          197                     13                None   \n",
       "2       863          538                      2                None   \n",
       "3       865          926                      2                None   \n",
       "4      1065           70                     20                None   \n",
       "\n",
       "   contact_person_id backorder_order_id  order_date expected_delivery_date  \\\n",
       "0               2059               None  2013-01-12             2013-01-14   \n",
       "1               1393               None  2013-01-15             2013-01-16   \n",
       "2               2275               None  2013-01-15             2013-01-16   \n",
       "3               3126               None  2013-01-15             2013-01-16   \n",
       "4               1139               None  2013-01-19             2013-01-21   \n",
       "\n",
       "  customer_purchase_order_number  is_undersupply_backordered comments  \\\n",
       "0                          18641                        True     None   \n",
       "1                          17999                        True     None   \n",
       "2                          13574                        True     None   \n",
       "3                          18066                        True     None   \n",
       "4                          12157                        True     None   \n",
       "\n",
       "  delivery_instructions internal_comments picking_completed_when  \\\n",
       "0                  None              None                   None   \n",
       "1                  None              None                   None   \n",
       "2                  None              None                   None   \n",
       "3                  None              None                   None   \n",
       "4                  None              None                   None   \n",
       "\n",
       "   last_edited_by    last_edited_when  \n",
       "0               5 2013-01-12 12:00:00  \n",
       "1               9 2013-01-15 12:00:00  \n",
       "2               9 2013-01-15 12:00:00  \n",
       "3               9 2013-01-15 12:00:00  \n",
       "4              19 2013-01-19 12:00:00  "
      ]
     },
     "execution_count": 19,
     "metadata": {},
     "output_type": "execute_result"
    }
   ],
   "source": [
    "%%sql\n",
    "SELECT\n",
    "    *\n",
    "FROM\n",
    "    sales.orders\n",
    "WHERE\n",
    "    picking_completed_when is NULL\n",
    "LIMIT 5"
   ]
  },
  {
   "cell_type": "markdown",
   "metadata": {},
   "source": [
    "**Key Observations:**  \n",
    "\n",
    "- There are missing values in the picking_completed_when column. These same rows also have missing values in picked_by_person_id. Most likely, the order was not picked. Possibly the item was out of stock.\n",
    "- No critical anomalies were found.\n",
    "- The sales.orders table contains order data from 2013-01-01 to 2016-05-31."
   ]
  },
  {
   "cell_type": "markdown",
   "metadata": {},
   "source": [
    "##### Table sales.order_lines"
   ]
  },
  {
   "cell_type": "markdown",
   "metadata": {},
   "source": [
    "Let's look at the rows."
   ]
  },
  {
   "cell_type": "code",
   "execution_count": 20,
   "metadata": {
    "vscode": {
     "languageId": "sql"
    }
   },
   "outputs": [
    {
     "data": {
      "text/html": [
       "<div>\n",
       "<style scoped>\n",
       "    .dataframe tbody tr th:only-of-type {\n",
       "        vertical-align: middle;\n",
       "    }\n",
       "\n",
       "    .dataframe tbody tr th {\n",
       "        vertical-align: top;\n",
       "    }\n",
       "\n",
       "    .dataframe thead th {\n",
       "        text-align: right;\n",
       "    }\n",
       "</style>\n",
       "<table border=\"1\" class=\"dataframe\">\n",
       "  <thead>\n",
       "    <tr style=\"text-align: right;\">\n",
       "      <th></th>\n",
       "      <th>order_line_id</th>\n",
       "      <th>order_id</th>\n",
       "      <th>stock_item_id</th>\n",
       "      <th>description</th>\n",
       "      <th>package_type_id</th>\n",
       "      <th>quantity</th>\n",
       "      <th>unit_price</th>\n",
       "      <th>tax_rate</th>\n",
       "      <th>picked_quantity</th>\n",
       "      <th>picking_completed_when</th>\n",
       "      <th>last_edited_by</th>\n",
       "      <th>last_edited_when</th>\n",
       "    </tr>\n",
       "  </thead>\n",
       "  <tbody>\n",
       "    <tr>\n",
       "      <th>0</th>\n",
       "      <td>1</td>\n",
       "      <td>45</td>\n",
       "      <td>164</td>\n",
       "      <td>32 mm Double sided bubble wrap 50m</td>\n",
       "      <td>7</td>\n",
       "      <td>50</td>\n",
       "      <td>112.00</td>\n",
       "      <td>15.000</td>\n",
       "      <td>50</td>\n",
       "      <td>2013-01-02 11:00:00</td>\n",
       "      <td>4</td>\n",
       "      <td>2013-01-02 11:00:00</td>\n",
       "    </tr>\n",
       "    <tr>\n",
       "      <th>1</th>\n",
       "      <td>2</td>\n",
       "      <td>1</td>\n",
       "      <td>67</td>\n",
       "      <td>Ride on toy sedan car (Black) 1/12 scale</td>\n",
       "      <td>7</td>\n",
       "      <td>10</td>\n",
       "      <td>230.00</td>\n",
       "      <td>15.000</td>\n",
       "      <td>10</td>\n",
       "      <td>2013-01-01 11:00:00</td>\n",
       "      <td>3</td>\n",
       "      <td>2013-01-01 11:00:00</td>\n",
       "    </tr>\n",
       "    <tr>\n",
       "      <th>2</th>\n",
       "      <td>3</td>\n",
       "      <td>2</td>\n",
       "      <td>50</td>\n",
       "      <td>Developer joke mug - old C developers never di...</td>\n",
       "      <td>7</td>\n",
       "      <td>9</td>\n",
       "      <td>13.00</td>\n",
       "      <td>15.000</td>\n",
       "      <td>9</td>\n",
       "      <td>2013-01-01 11:00:00</td>\n",
       "      <td>3</td>\n",
       "      <td>2013-01-01 11:00:00</td>\n",
       "    </tr>\n",
       "    <tr>\n",
       "      <th>3</th>\n",
       "      <td>4</td>\n",
       "      <td>46</td>\n",
       "      <td>89</td>\n",
       "      <td>\"The Gu\" red shirt XML tag t-shirt (Black) 3XS</td>\n",
       "      <td>7</td>\n",
       "      <td>72</td>\n",
       "      <td>18.00</td>\n",
       "      <td>15.000</td>\n",
       "      <td>72</td>\n",
       "      <td>2013-01-02 11:00:00</td>\n",
       "      <td>4</td>\n",
       "      <td>2013-01-02 11:00:00</td>\n",
       "    </tr>\n",
       "    <tr>\n",
       "      <th>4</th>\n",
       "      <td>5</td>\n",
       "      <td>46</td>\n",
       "      <td>171</td>\n",
       "      <td>32 mm Anti static bubble wrap (Blue) 10m</td>\n",
       "      <td>7</td>\n",
       "      <td>90</td>\n",
       "      <td>32.00</td>\n",
       "      <td>15.000</td>\n",
       "      <td>90</td>\n",
       "      <td>2013-01-02 11:00:00</td>\n",
       "      <td>4</td>\n",
       "      <td>2013-01-02 11:00:00</td>\n",
       "    </tr>\n",
       "  </tbody>\n",
       "</table>\n",
       "</div>"
      ],
      "text/plain": [
       "   order_line_id  order_id  stock_item_id  \\\n",
       "0              1        45            164   \n",
       "1              2         1             67   \n",
       "2              3         2             50   \n",
       "3              4        46             89   \n",
       "4              5        46            171   \n",
       "\n",
       "                                         description  package_type_id  \\\n",
       "0                 32 mm Double sided bubble wrap 50m                7   \n",
       "1           Ride on toy sedan car (Black) 1/12 scale                7   \n",
       "2  Developer joke mug - old C developers never di...                7   \n",
       "3     \"The Gu\" red shirt XML tag t-shirt (Black) 3XS                7   \n",
       "4           32 mm Anti static bubble wrap (Blue) 10m                7   \n",
       "\n",
       "   quantity unit_price tax_rate  picked_quantity picking_completed_when  \\\n",
       "0        50     112.00   15.000               50    2013-01-02 11:00:00   \n",
       "1        10     230.00   15.000               10    2013-01-01 11:00:00   \n",
       "2         9      13.00   15.000                9    2013-01-01 11:00:00   \n",
       "3        72      18.00   15.000               72    2013-01-02 11:00:00   \n",
       "4        90      32.00   15.000               90    2013-01-02 11:00:00   \n",
       "\n",
       "   last_edited_by    last_edited_when  \n",
       "0               4 2013-01-02 11:00:00  \n",
       "1               3 2013-01-01 11:00:00  \n",
       "2               3 2013-01-01 11:00:00  \n",
       "3               4 2013-01-02 11:00:00  \n",
       "4               4 2013-01-02 11:00:00  "
      ]
     },
     "execution_count": 20,
     "metadata": {},
     "output_type": "execute_result"
    }
   ],
   "source": [
    "%%sql\n",
    "SELECT\n",
    "    *\n",
    "FROM\n",
    "    sales.order_lines\n",
    "LIMIT 5"
   ]
  },
  {
   "cell_type": "markdown",
   "metadata": {},
   "source": [
    "Let's examine each column we will use for creating the dashboard individually."
   ]
  },
  {
   "cell_type": "markdown",
   "metadata": {},
   "source": [
    "**order_line_id**"
   ]
  },
  {
   "cell_type": "code",
   "execution_count": 21,
   "metadata": {
    "vscode": {
     "languageId": "sql"
    }
   },
   "outputs": [
    {
     "data": {
      "text/html": [
       "<div>\n",
       "<style scoped>\n",
       "    .dataframe tbody tr th:only-of-type {\n",
       "        vertical-align: middle;\n",
       "    }\n",
       "\n",
       "    .dataframe tbody tr th {\n",
       "        vertical-align: top;\n",
       "    }\n",
       "\n",
       "    .dataframe thead th {\n",
       "        text-align: right;\n",
       "    }\n",
       "</style>\n",
       "<table border=\"1\" class=\"dataframe\">\n",
       "  <thead>\n",
       "    <tr style=\"text-align: right;\">\n",
       "      <th></th>\n",
       "      <th>Summary Type</th>\n",
       "      <th>Summary Count</th>\n",
       "      <th>-</th>\n",
       "      <th>Stats Type</th>\n",
       "      <th>Stats Value</th>\n",
       "      <th>--</th>\n",
       "      <th>Top Values</th>\n",
       "    </tr>\n",
       "  </thead>\n",
       "  <tbody>\n",
       "    <tr>\n",
       "      <th>0</th>\n",
       "      <td>Missing</td>\n",
       "      <td>0</td>\n",
       "      <td></td>\n",
       "      <td></td>\n",
       "      <td></td>\n",
       "      <td></td>\n",
       "      <td></td>\n",
       "    </tr>\n",
       "    <tr>\n",
       "      <th>1</th>\n",
       "      <td>Unique Count</td>\n",
       "      <td>231412</td>\n",
       "      <td></td>\n",
       "      <td></td>\n",
       "      <td></td>\n",
       "      <td></td>\n",
       "      <td></td>\n",
       "    </tr>\n",
       "    <tr>\n",
       "      <th>2</th>\n",
       "      <td>Duplicated</td>\n",
       "      <td>0</td>\n",
       "      <td></td>\n",
       "      <td></td>\n",
       "      <td></td>\n",
       "      <td></td>\n",
       "      <td></td>\n",
       "    </tr>\n",
       "    <tr>\n",
       "      <th>3</th>\n",
       "      <td>Total Count</td>\n",
       "      <td>231412</td>\n",
       "      <td></td>\n",
       "      <td></td>\n",
       "      <td></td>\n",
       "      <td></td>\n",
       "      <td></td>\n",
       "    </tr>\n",
       "    <tr>\n",
       "      <th>4</th>\n",
       "      <td>Zero</td>\n",
       "      <td>0</td>\n",
       "      <td></td>\n",
       "      <td></td>\n",
       "      <td></td>\n",
       "      <td></td>\n",
       "      <td></td>\n",
       "    </tr>\n",
       "    <tr>\n",
       "      <th>5</th>\n",
       "      <td>Negative</td>\n",
       "      <td>0</td>\n",
       "      <td></td>\n",
       "      <td></td>\n",
       "      <td></td>\n",
       "      <td></td>\n",
       "      <td></td>\n",
       "    </tr>\n",
       "  </tbody>\n",
       "</table>\n",
       "</div>"
      ],
      "text/plain": [
       "   Summary Type Summary Count  - Stats Type Stats Value -- Top Values\n",
       "0       Missing             0                                        \n",
       "1  Unique Count        231412                                        \n",
       "2    Duplicated             0                                        \n",
       "3   Total Count        231412                                        \n",
       "4          Zero             0                                        \n",
       "5      Negative             0                                        "
      ]
     },
     "execution_count": 21,
     "metadata": {},
     "output_type": "execute_result"
    }
   ],
   "source": [
    "%%sql\n",
    "SELECT * FROM get_column_summary('sales.order_lines', 'order_line_id', True);"
   ]
  },
  {
   "cell_type": "markdown",
   "metadata": {},
   "source": [
    "**order_id**"
   ]
  },
  {
   "cell_type": "code",
   "execution_count": 22,
   "metadata": {
    "vscode": {
     "languageId": "sql"
    }
   },
   "outputs": [
    {
     "data": {
      "text/html": [
       "<div>\n",
       "<style scoped>\n",
       "    .dataframe tbody tr th:only-of-type {\n",
       "        vertical-align: middle;\n",
       "    }\n",
       "\n",
       "    .dataframe tbody tr th {\n",
       "        vertical-align: top;\n",
       "    }\n",
       "\n",
       "    .dataframe thead th {\n",
       "        text-align: right;\n",
       "    }\n",
       "</style>\n",
       "<table border=\"1\" class=\"dataframe\">\n",
       "  <thead>\n",
       "    <tr style=\"text-align: right;\">\n",
       "      <th></th>\n",
       "      <th>Summary Type</th>\n",
       "      <th>Summary Count</th>\n",
       "      <th>-</th>\n",
       "      <th>Stats Type</th>\n",
       "      <th>Stats Value</th>\n",
       "      <th>--</th>\n",
       "      <th>Top Values</th>\n",
       "    </tr>\n",
       "  </thead>\n",
       "  <tbody>\n",
       "    <tr>\n",
       "      <th>0</th>\n",
       "      <td>Total Count</td>\n",
       "      <td>231412</td>\n",
       "      <td></td>\n",
       "      <td></td>\n",
       "      <td></td>\n",
       "      <td></td>\n",
       "      <td></td>\n",
       "    </tr>\n",
       "    <tr>\n",
       "      <th>1</th>\n",
       "      <td>Missing</td>\n",
       "      <td>0</td>\n",
       "      <td></td>\n",
       "      <td></td>\n",
       "      <td></td>\n",
       "      <td></td>\n",
       "      <td></td>\n",
       "    </tr>\n",
       "    <tr>\n",
       "      <th>2</th>\n",
       "      <td>Negative</td>\n",
       "      <td>0</td>\n",
       "      <td></td>\n",
       "      <td></td>\n",
       "      <td></td>\n",
       "      <td></td>\n",
       "      <td></td>\n",
       "    </tr>\n",
       "    <tr>\n",
       "      <th>3</th>\n",
       "      <td>Zero</td>\n",
       "      <td>0</td>\n",
       "      <td></td>\n",
       "      <td></td>\n",
       "      <td></td>\n",
       "      <td></td>\n",
       "      <td></td>\n",
       "    </tr>\n",
       "    <tr>\n",
       "      <th>4</th>\n",
       "      <td>Duplicated</td>\n",
       "      <td>157817</td>\n",
       "      <td></td>\n",
       "      <td></td>\n",
       "      <td></td>\n",
       "      <td></td>\n",
       "      <td></td>\n",
       "    </tr>\n",
       "    <tr>\n",
       "      <th>5</th>\n",
       "      <td>Unique Count</td>\n",
       "      <td>73595</td>\n",
       "      <td></td>\n",
       "      <td></td>\n",
       "      <td></td>\n",
       "      <td></td>\n",
       "      <td></td>\n",
       "    </tr>\n",
       "  </tbody>\n",
       "</table>\n",
       "</div>"
      ],
      "text/plain": [
       "   Summary Type Summary Count  - Stats Type Stats Value -- Top Values\n",
       "0   Total Count        231412                                        \n",
       "1       Missing             0                                        \n",
       "2      Negative             0                                        \n",
       "3          Zero             0                                        \n",
       "4    Duplicated        157817                                        \n",
       "5  Unique Count         73595                                        "
      ]
     },
     "execution_count": 22,
     "metadata": {},
     "output_type": "execute_result"
    }
   ],
   "source": [
    "%%sql\n",
    "SELECT * FROM get_column_summary('sales.order_lines', 'order_id', True);"
   ]
  },
  {
   "cell_type": "markdown",
   "metadata": {},
   "source": [
    "**stock_item_id**"
   ]
  },
  {
   "cell_type": "code",
   "execution_count": 23,
   "metadata": {
    "vscode": {
     "languageId": "sql"
    }
   },
   "outputs": [
    {
     "data": {
      "text/html": [
       "<div>\n",
       "<style scoped>\n",
       "    .dataframe tbody tr th:only-of-type {\n",
       "        vertical-align: middle;\n",
       "    }\n",
       "\n",
       "    .dataframe tbody tr th {\n",
       "        vertical-align: top;\n",
       "    }\n",
       "\n",
       "    .dataframe thead th {\n",
       "        text-align: right;\n",
       "    }\n",
       "</style>\n",
       "<table border=\"1\" class=\"dataframe\">\n",
       "  <thead>\n",
       "    <tr style=\"text-align: right;\">\n",
       "      <th></th>\n",
       "      <th>Summary Type</th>\n",
       "      <th>Summary Count</th>\n",
       "      <th>-</th>\n",
       "      <th>Stats Type</th>\n",
       "      <th>Stats Value</th>\n",
       "      <th>--</th>\n",
       "      <th>Top Values</th>\n",
       "    </tr>\n",
       "  </thead>\n",
       "  <tbody>\n",
       "    <tr>\n",
       "      <th>0</th>\n",
       "      <td>Total Count</td>\n",
       "      <td>231412</td>\n",
       "      <td></td>\n",
       "      <td></td>\n",
       "      <td></td>\n",
       "      <td></td>\n",
       "      <td></td>\n",
       "    </tr>\n",
       "    <tr>\n",
       "      <th>1</th>\n",
       "      <td>Missing</td>\n",
       "      <td>0</td>\n",
       "      <td></td>\n",
       "      <td></td>\n",
       "      <td></td>\n",
       "      <td></td>\n",
       "      <td></td>\n",
       "    </tr>\n",
       "    <tr>\n",
       "      <th>2</th>\n",
       "      <td>Negative</td>\n",
       "      <td>0</td>\n",
       "      <td></td>\n",
       "      <td></td>\n",
       "      <td></td>\n",
       "      <td></td>\n",
       "      <td></td>\n",
       "    </tr>\n",
       "    <tr>\n",
       "      <th>3</th>\n",
       "      <td>Zero</td>\n",
       "      <td>0</td>\n",
       "      <td></td>\n",
       "      <td></td>\n",
       "      <td></td>\n",
       "      <td></td>\n",
       "      <td></td>\n",
       "    </tr>\n",
       "    <tr>\n",
       "      <th>4</th>\n",
       "      <td>Duplicated</td>\n",
       "      <td>231185</td>\n",
       "      <td></td>\n",
       "      <td></td>\n",
       "      <td></td>\n",
       "      <td></td>\n",
       "      <td></td>\n",
       "    </tr>\n",
       "    <tr>\n",
       "      <th>5</th>\n",
       "      <td>Unique Count</td>\n",
       "      <td>227</td>\n",
       "      <td></td>\n",
       "      <td></td>\n",
       "      <td></td>\n",
       "      <td></td>\n",
       "      <td></td>\n",
       "    </tr>\n",
       "  </tbody>\n",
       "</table>\n",
       "</div>"
      ],
      "text/plain": [
       "   Summary Type Summary Count  - Stats Type Stats Value -- Top Values\n",
       "0   Total Count        231412                                        \n",
       "1       Missing             0                                        \n",
       "2      Negative             0                                        \n",
       "3          Zero             0                                        \n",
       "4    Duplicated        231185                                        \n",
       "5  Unique Count           227                                        "
      ]
     },
     "execution_count": 23,
     "metadata": {},
     "output_type": "execute_result"
    }
   ],
   "source": [
    "%%sql\n",
    "SELECT * FROM get_column_summary('sales.order_lines', 'stock_item_id', True);"
   ]
  },
  {
   "cell_type": "markdown",
   "metadata": {},
   "source": [
    "**description**"
   ]
  },
  {
   "cell_type": "code",
   "execution_count": 24,
   "metadata": {
    "vscode": {
     "languageId": "sql"
    }
   },
   "outputs": [
    {
     "data": {
      "text/html": [
       "<div>\n",
       "<style scoped>\n",
       "    .dataframe tbody tr th:only-of-type {\n",
       "        vertical-align: middle;\n",
       "    }\n",
       "\n",
       "    .dataframe tbody tr th {\n",
       "        vertical-align: top;\n",
       "    }\n",
       "\n",
       "    .dataframe thead th {\n",
       "        text-align: right;\n",
       "    }\n",
       "</style>\n",
       "<table border=\"1\" class=\"dataframe\">\n",
       "  <thead>\n",
       "    <tr style=\"text-align: right;\">\n",
       "      <th></th>\n",
       "      <th>Summary Type</th>\n",
       "      <th>Summary Count</th>\n",
       "      <th>-</th>\n",
       "      <th>Stats Type</th>\n",
       "      <th>Stats Value</th>\n",
       "      <th>--</th>\n",
       "      <th>Top Values</th>\n",
       "    </tr>\n",
       "  </thead>\n",
       "  <tbody>\n",
       "    <tr>\n",
       "      <th>0</th>\n",
       "      <td>Negative</td>\n",
       "      <td>None</td>\n",
       "      <td></td>\n",
       "      <td></td>\n",
       "      <td></td>\n",
       "      <td></td>\n",
       "      <td></td>\n",
       "    </tr>\n",
       "    <tr>\n",
       "      <th>1</th>\n",
       "      <td>Zero</td>\n",
       "      <td>None</td>\n",
       "      <td></td>\n",
       "      <td></td>\n",
       "      <td></td>\n",
       "      <td></td>\n",
       "      <td></td>\n",
       "    </tr>\n",
       "    <tr>\n",
       "      <th>2</th>\n",
       "      <td>Total Count</td>\n",
       "      <td>231412</td>\n",
       "      <td></td>\n",
       "      <td></td>\n",
       "      <td></td>\n",
       "      <td></td>\n",
       "      <td></td>\n",
       "    </tr>\n",
       "    <tr>\n",
       "      <th>3</th>\n",
       "      <td>Missing</td>\n",
       "      <td>0</td>\n",
       "      <td></td>\n",
       "      <td></td>\n",
       "      <td></td>\n",
       "      <td></td>\n",
       "      <td></td>\n",
       "    </tr>\n",
       "    <tr>\n",
       "      <th>4</th>\n",
       "      <td>Duplicated</td>\n",
       "      <td>231185</td>\n",
       "      <td></td>\n",
       "      <td></td>\n",
       "      <td></td>\n",
       "      <td></td>\n",
       "      <td></td>\n",
       "    </tr>\n",
       "    <tr>\n",
       "      <th>5</th>\n",
       "      <td>Unique Count</td>\n",
       "      <td>227</td>\n",
       "      <td></td>\n",
       "      <td></td>\n",
       "      <td></td>\n",
       "      <td></td>\n",
       "      <td></td>\n",
       "    </tr>\n",
       "  </tbody>\n",
       "</table>\n",
       "</div>"
      ],
      "text/plain": [
       "   Summary Type Summary Count  - Stats Type Stats Value -- Top Values\n",
       "0      Negative          None                                        \n",
       "1          Zero          None                                        \n",
       "2   Total Count        231412                                        \n",
       "3       Missing             0                                        \n",
       "4    Duplicated        231185                                        \n",
       "5  Unique Count           227                                        "
      ]
     },
     "execution_count": 24,
     "metadata": {},
     "output_type": "execute_result"
    }
   ],
   "source": [
    "%%sql\n",
    "SELECT * FROM get_column_summary('sales.order_lines', 'description', True);"
   ]
  },
  {
   "cell_type": "markdown",
   "metadata": {},
   "source": [
    "**package_type_id**"
   ]
  },
  {
   "cell_type": "code",
   "execution_count": 25,
   "metadata": {
    "vscode": {
     "languageId": "sql"
    }
   },
   "outputs": [
    {
     "data": {
      "text/html": [
       "<div>\n",
       "<style scoped>\n",
       "    .dataframe tbody tr th:only-of-type {\n",
       "        vertical-align: middle;\n",
       "    }\n",
       "\n",
       "    .dataframe tbody tr th {\n",
       "        vertical-align: top;\n",
       "    }\n",
       "\n",
       "    .dataframe thead th {\n",
       "        text-align: right;\n",
       "    }\n",
       "</style>\n",
       "<table border=\"1\" class=\"dataframe\">\n",
       "  <thead>\n",
       "    <tr style=\"text-align: right;\">\n",
       "      <th></th>\n",
       "      <th>Summary Type</th>\n",
       "      <th>Summary Count</th>\n",
       "      <th>-</th>\n",
       "      <th>Stats Type</th>\n",
       "      <th>Stats Value</th>\n",
       "      <th>--</th>\n",
       "      <th>Top Values</th>\n",
       "    </tr>\n",
       "  </thead>\n",
       "  <tbody>\n",
       "    <tr>\n",
       "      <th>0</th>\n",
       "      <td>Total Count</td>\n",
       "      <td>231412</td>\n",
       "      <td></td>\n",
       "      <td></td>\n",
       "      <td></td>\n",
       "      <td></td>\n",
       "      <td></td>\n",
       "    </tr>\n",
       "    <tr>\n",
       "      <th>1</th>\n",
       "      <td>Missing</td>\n",
       "      <td>0</td>\n",
       "      <td></td>\n",
       "      <td></td>\n",
       "      <td></td>\n",
       "      <td></td>\n",
       "      <td></td>\n",
       "    </tr>\n",
       "    <tr>\n",
       "      <th>2</th>\n",
       "      <td>Negative</td>\n",
       "      <td>0</td>\n",
       "      <td></td>\n",
       "      <td></td>\n",
       "      <td></td>\n",
       "      <td></td>\n",
       "      <td></td>\n",
       "    </tr>\n",
       "    <tr>\n",
       "      <th>3</th>\n",
       "      <td>Duplicated</td>\n",
       "      <td>231408</td>\n",
       "      <td></td>\n",
       "      <td></td>\n",
       "      <td></td>\n",
       "      <td></td>\n",
       "      <td></td>\n",
       "    </tr>\n",
       "    <tr>\n",
       "      <th>4</th>\n",
       "      <td>Unique Count</td>\n",
       "      <td>4</td>\n",
       "      <td></td>\n",
       "      <td></td>\n",
       "      <td></td>\n",
       "      <td></td>\n",
       "      <td></td>\n",
       "    </tr>\n",
       "    <tr>\n",
       "      <th>5</th>\n",
       "      <td>Zero</td>\n",
       "      <td>0</td>\n",
       "      <td></td>\n",
       "      <td></td>\n",
       "      <td></td>\n",
       "      <td></td>\n",
       "      <td></td>\n",
       "    </tr>\n",
       "  </tbody>\n",
       "</table>\n",
       "</div>"
      ],
      "text/plain": [
       "   Summary Type Summary Count  - Stats Type Stats Value -- Top Values\n",
       "0   Total Count        231412                                        \n",
       "1       Missing             0                                        \n",
       "2      Negative             0                                        \n",
       "3    Duplicated        231408                                        \n",
       "4  Unique Count             4                                        \n",
       "5          Zero             0                                        "
      ]
     },
     "execution_count": 25,
     "metadata": {},
     "output_type": "execute_result"
    }
   ],
   "source": [
    "%%sql\n",
    "SELECT * FROM get_column_summary('sales.order_lines', 'package_type_id', True);"
   ]
  },
  {
   "cell_type": "markdown",
   "metadata": {},
   "source": [
    "**quantity**"
   ]
  },
  {
   "cell_type": "code",
   "execution_count": 26,
   "metadata": {
    "vscode": {
     "languageId": "sql"
    }
   },
   "outputs": [
    {
     "data": {
      "text/html": [
       "<div>\n",
       "<style scoped>\n",
       "    .dataframe tbody tr th:only-of-type {\n",
       "        vertical-align: middle;\n",
       "    }\n",
       "\n",
       "    .dataframe tbody tr th {\n",
       "        vertical-align: top;\n",
       "    }\n",
       "\n",
       "    .dataframe thead th {\n",
       "        text-align: right;\n",
       "    }\n",
       "</style>\n",
       "<table border=\"1\" class=\"dataframe\">\n",
       "  <thead>\n",
       "    <tr style=\"text-align: right;\">\n",
       "      <th></th>\n",
       "      <th>Summary Type</th>\n",
       "      <th>Summary Count</th>\n",
       "      <th>-</th>\n",
       "      <th>Stats Type</th>\n",
       "      <th>Stats Value</th>\n",
       "      <th>--</th>\n",
       "      <th>Top Values</th>\n",
       "    </tr>\n",
       "  </thead>\n",
       "  <tbody>\n",
       "    <tr>\n",
       "      <th>0</th>\n",
       "      <td>Total Count</td>\n",
       "      <td>231412</td>\n",
       "      <td></td>\n",
       "      <td>Max</td>\n",
       "      <td>360</td>\n",
       "      <td></td>\n",
       "      <td>10 (15799)</td>\n",
       "    </tr>\n",
       "    <tr>\n",
       "      <th>1</th>\n",
       "      <td>Unique Count</td>\n",
       "      <td>61</td>\n",
       "      <td></td>\n",
       "      <td>75%</td>\n",
       "      <td>60</td>\n",
       "      <td></td>\n",
       "      <td>5 (12876)</td>\n",
       "    </tr>\n",
       "    <tr>\n",
       "      <th>2</th>\n",
       "      <td>Zero</td>\n",
       "      <td>0</td>\n",
       "      <td></td>\n",
       "      <td>Mean</td>\n",
       "      <td>40.24</td>\n",
       "      <td></td>\n",
       "      <td>1 (12716)</td>\n",
       "    </tr>\n",
       "    <tr>\n",
       "      <th>3</th>\n",
       "      <td>Missing</td>\n",
       "      <td>0</td>\n",
       "      <td></td>\n",
       "      <td>Median</td>\n",
       "      <td>10</td>\n",
       "      <td></td>\n",
       "      <td>8 (12701)</td>\n",
       "    </tr>\n",
       "    <tr>\n",
       "      <th>4</th>\n",
       "      <td>Duplicated</td>\n",
       "      <td>231351</td>\n",
       "      <td></td>\n",
       "      <td>25%</td>\n",
       "      <td>5</td>\n",
       "      <td></td>\n",
       "      <td>7 (12681)</td>\n",
       "    </tr>\n",
       "    <tr>\n",
       "      <th>5</th>\n",
       "      <td>Negative</td>\n",
       "      <td>0</td>\n",
       "      <td></td>\n",
       "      <td>Min</td>\n",
       "      <td>1</td>\n",
       "      <td></td>\n",
       "      <td>2 (12654)</td>\n",
       "    </tr>\n",
       "  </tbody>\n",
       "</table>\n",
       "</div>"
      ],
      "text/plain": [
       "   Summary Type Summary Count  - Stats Type Stats Value --  Top Values\n",
       "0   Total Count        231412           Max         360     10 (15799)\n",
       "1  Unique Count            61           75%          60      5 (12876)\n",
       "2          Zero             0          Mean       40.24      1 (12716)\n",
       "3       Missing             0        Median          10      8 (12701)\n",
       "4    Duplicated        231351           25%           5      7 (12681)\n",
       "5      Negative             0           Min           1      2 (12654)"
      ]
     },
     "execution_count": 26,
     "metadata": {},
     "output_type": "execute_result"
    }
   ],
   "source": [
    "%%sql\n",
    "SELECT * FROM get_column_summary('sales.order_lines', 'quantity', False);"
   ]
  },
  {
   "cell_type": "markdown",
   "metadata": {},
   "source": [
    "**unit_price**"
   ]
  },
  {
   "cell_type": "code",
   "execution_count": 27,
   "metadata": {
    "vscode": {
     "languageId": "sql"
    }
   },
   "outputs": [
    {
     "data": {
      "text/html": [
       "<div>\n",
       "<style scoped>\n",
       "    .dataframe tbody tr th:only-of-type {\n",
       "        vertical-align: middle;\n",
       "    }\n",
       "\n",
       "    .dataframe tbody tr th {\n",
       "        vertical-align: top;\n",
       "    }\n",
       "\n",
       "    .dataframe thead th {\n",
       "        text-align: right;\n",
       "    }\n",
       "</style>\n",
       "<table border=\"1\" class=\"dataframe\">\n",
       "  <thead>\n",
       "    <tr style=\"text-align: right;\">\n",
       "      <th></th>\n",
       "      <th>Summary Type</th>\n",
       "      <th>Summary Count</th>\n",
       "      <th>-</th>\n",
       "      <th>Stats Type</th>\n",
       "      <th>Stats Value</th>\n",
       "      <th>--</th>\n",
       "      <th>Top Values</th>\n",
       "    </tr>\n",
       "  </thead>\n",
       "  <tbody>\n",
       "    <tr>\n",
       "      <th>0</th>\n",
       "      <td>Total Count</td>\n",
       "      <td>231412</td>\n",
       "      <td></td>\n",
       "      <td>Max</td>\n",
       "      <td>1899</td>\n",
       "      <td></td>\n",
       "      <td>13.00 (44577)</td>\n",
       "    </tr>\n",
       "    <tr>\n",
       "      <th>1</th>\n",
       "      <td>Unique Count</td>\n",
       "      <td>62</td>\n",
       "      <td></td>\n",
       "      <td>75%</td>\n",
       "      <td>32</td>\n",
       "      <td></td>\n",
       "      <td>18.00 (36536)</td>\n",
       "    </tr>\n",
       "    <tr>\n",
       "      <th>2</th>\n",
       "      <td>Zero</td>\n",
       "      <td>0</td>\n",
       "      <td></td>\n",
       "      <td>Mean</td>\n",
       "      <td>45.21</td>\n",
       "      <td></td>\n",
       "      <td>32.00 (35575)</td>\n",
       "    </tr>\n",
       "    <tr>\n",
       "      <th>3</th>\n",
       "      <td>Missing</td>\n",
       "      <td>0</td>\n",
       "      <td></td>\n",
       "      <td>Median</td>\n",
       "      <td>18</td>\n",
       "      <td></td>\n",
       "      <td>25.00 (13553)</td>\n",
       "    </tr>\n",
       "    <tr>\n",
       "      <th>4</th>\n",
       "      <td>Duplicated</td>\n",
       "      <td>231350</td>\n",
       "      <td></td>\n",
       "      <td>25%</td>\n",
       "      <td>13</td>\n",
       "      <td></td>\n",
       "      <td>30.00 (7307)</td>\n",
       "    </tr>\n",
       "    <tr>\n",
       "      <th>5</th>\n",
       "      <td>Negative</td>\n",
       "      <td>0</td>\n",
       "      <td></td>\n",
       "      <td>Min</td>\n",
       "      <td>0.66</td>\n",
       "      <td></td>\n",
       "      <td>4.10 (7290)</td>\n",
       "    </tr>\n",
       "  </tbody>\n",
       "</table>\n",
       "</div>"
      ],
      "text/plain": [
       "   Summary Type Summary Count  - Stats Type Stats Value --     Top Values\n",
       "0   Total Count        231412           Max        1899     13.00 (44577)\n",
       "1  Unique Count            62           75%          32     18.00 (36536)\n",
       "2          Zero             0          Mean       45.21     32.00 (35575)\n",
       "3       Missing             0        Median          18     25.00 (13553)\n",
       "4    Duplicated        231350           25%          13      30.00 (7307)\n",
       "5      Negative             0           Min        0.66       4.10 (7290)"
      ]
     },
     "execution_count": 27,
     "metadata": {},
     "output_type": "execute_result"
    }
   ],
   "source": [
    "%%sql\n",
    "SELECT * FROM get_column_summary('sales.order_lines', 'unit_price', False);"
   ]
  },
  {
   "cell_type": "markdown",
   "metadata": {},
   "source": [
    "**tax_rate**"
   ]
  },
  {
   "cell_type": "code",
   "execution_count": 28,
   "metadata": {
    "vscode": {
     "languageId": "sql"
    }
   },
   "outputs": [
    {
     "data": {
      "text/html": [
       "<div>\n",
       "<style scoped>\n",
       "    .dataframe tbody tr th:only-of-type {\n",
       "        vertical-align: middle;\n",
       "    }\n",
       "\n",
       "    .dataframe tbody tr th {\n",
       "        vertical-align: top;\n",
       "    }\n",
       "\n",
       "    .dataframe thead th {\n",
       "        text-align: right;\n",
       "    }\n",
       "</style>\n",
       "<table border=\"1\" class=\"dataframe\">\n",
       "  <thead>\n",
       "    <tr style=\"text-align: right;\">\n",
       "      <th></th>\n",
       "      <th>Summary Type</th>\n",
       "      <th>Summary Count</th>\n",
       "      <th>-</th>\n",
       "      <th>Stats Type</th>\n",
       "      <th>Stats Value</th>\n",
       "      <th>--</th>\n",
       "      <th>Top Values</th>\n",
       "    </tr>\n",
       "  </thead>\n",
       "  <tbody>\n",
       "    <tr>\n",
       "      <th>0</th>\n",
       "      <td>Total Count</td>\n",
       "      <td>231412</td>\n",
       "      <td></td>\n",
       "      <td>Max</td>\n",
       "      <td>15</td>\n",
       "      <td></td>\n",
       "      <td>15.000 (230376)</td>\n",
       "    </tr>\n",
       "    <tr>\n",
       "      <th>1</th>\n",
       "      <td>Duplicated</td>\n",
       "      <td>231410</td>\n",
       "      <td></td>\n",
       "      <td>75%</td>\n",
       "      <td>15</td>\n",
       "      <td></td>\n",
       "      <td>10.000 (1036)</td>\n",
       "    </tr>\n",
       "    <tr>\n",
       "      <th>2</th>\n",
       "      <td>Zero</td>\n",
       "      <td>0</td>\n",
       "      <td></td>\n",
       "      <td>Mean</td>\n",
       "      <td>14.98</td>\n",
       "      <td></td>\n",
       "      <td>None</td>\n",
       "    </tr>\n",
       "    <tr>\n",
       "      <th>3</th>\n",
       "      <td>Missing</td>\n",
       "      <td>0</td>\n",
       "      <td></td>\n",
       "      <td>Median</td>\n",
       "      <td>15</td>\n",
       "      <td></td>\n",
       "      <td>None</td>\n",
       "    </tr>\n",
       "    <tr>\n",
       "      <th>4</th>\n",
       "      <td>Unique Count</td>\n",
       "      <td>2</td>\n",
       "      <td></td>\n",
       "      <td>25%</td>\n",
       "      <td>15</td>\n",
       "      <td></td>\n",
       "      <td>None</td>\n",
       "    </tr>\n",
       "    <tr>\n",
       "      <th>5</th>\n",
       "      <td>Negative</td>\n",
       "      <td>0</td>\n",
       "      <td></td>\n",
       "      <td>Min</td>\n",
       "      <td>10</td>\n",
       "      <td></td>\n",
       "      <td>None</td>\n",
       "    </tr>\n",
       "  </tbody>\n",
       "</table>\n",
       "</div>"
      ],
      "text/plain": [
       "   Summary Type Summary Count  - Stats Type Stats Value --       Top Values\n",
       "0   Total Count        231412           Max          15     15.000 (230376)\n",
       "1    Duplicated        231410           75%          15       10.000 (1036)\n",
       "2          Zero             0          Mean       14.98                None\n",
       "3       Missing             0        Median          15                None\n",
       "4  Unique Count             2           25%          15                None\n",
       "5      Negative             0           Min          10                None"
      ]
     },
     "execution_count": 28,
     "metadata": {},
     "output_type": "execute_result"
    }
   ],
   "source": [
    "%%sql\n",
    "SELECT * FROM get_column_summary('sales.order_lines', 'tax_rate', False);"
   ]
  },
  {
   "cell_type": "markdown",
   "metadata": {},
   "source": [
    "**picked_quantity**"
   ]
  },
  {
   "cell_type": "code",
   "execution_count": 29,
   "metadata": {
    "vscode": {
     "languageId": "sql"
    }
   },
   "outputs": [
    {
     "data": {
      "text/html": [
       "<div>\n",
       "<style scoped>\n",
       "    .dataframe tbody tr th:only-of-type {\n",
       "        vertical-align: middle;\n",
       "    }\n",
       "\n",
       "    .dataframe tbody tr th {\n",
       "        vertical-align: top;\n",
       "    }\n",
       "\n",
       "    .dataframe thead th {\n",
       "        text-align: right;\n",
       "    }\n",
       "</style>\n",
       "<table border=\"1\" class=\"dataframe\">\n",
       "  <thead>\n",
       "    <tr style=\"text-align: right;\">\n",
       "      <th></th>\n",
       "      <th>Summary Type</th>\n",
       "      <th>Summary Count</th>\n",
       "      <th>-</th>\n",
       "      <th>Stats Type</th>\n",
       "      <th>Stats Value</th>\n",
       "      <th>--</th>\n",
       "      <th>Top Values</th>\n",
       "    </tr>\n",
       "  </thead>\n",
       "  <tbody>\n",
       "    <tr>\n",
       "      <th>0</th>\n",
       "      <td>Total Count</td>\n",
       "      <td>231412</td>\n",
       "      <td></td>\n",
       "      <td>Max</td>\n",
       "      <td>360</td>\n",
       "      <td></td>\n",
       "      <td>10 (15799)</td>\n",
       "    </tr>\n",
       "    <tr>\n",
       "      <th>1</th>\n",
       "      <td>Unique Count</td>\n",
       "      <td>62</td>\n",
       "      <td></td>\n",
       "      <td>75%</td>\n",
       "      <td>60</td>\n",
       "      <td></td>\n",
       "      <td>5 (12876)</td>\n",
       "    </tr>\n",
       "    <tr>\n",
       "      <th>2</th>\n",
       "      <td>Zero</td>\n",
       "      <td>3147</td>\n",
       "      <td></td>\n",
       "      <td>Mean</td>\n",
       "      <td>38.68</td>\n",
       "      <td></td>\n",
       "      <td>1 (12716)</td>\n",
       "    </tr>\n",
       "    <tr>\n",
       "      <th>3</th>\n",
       "      <td>Missing</td>\n",
       "      <td>0</td>\n",
       "      <td></td>\n",
       "      <td>Median</td>\n",
       "      <td>9</td>\n",
       "      <td></td>\n",
       "      <td>8 (12701)</td>\n",
       "    </tr>\n",
       "    <tr>\n",
       "      <th>4</th>\n",
       "      <td>Duplicated</td>\n",
       "      <td>231350</td>\n",
       "      <td></td>\n",
       "      <td>25%</td>\n",
       "      <td>5</td>\n",
       "      <td></td>\n",
       "      <td>7 (12681)</td>\n",
       "    </tr>\n",
       "    <tr>\n",
       "      <th>5</th>\n",
       "      <td>Negative</td>\n",
       "      <td>0</td>\n",
       "      <td></td>\n",
       "      <td>Min</td>\n",
       "      <td>0</td>\n",
       "      <td></td>\n",
       "      <td>2 (12654)</td>\n",
       "    </tr>\n",
       "  </tbody>\n",
       "</table>\n",
       "</div>"
      ],
      "text/plain": [
       "   Summary Type Summary Count  - Stats Type Stats Value --  Top Values\n",
       "0   Total Count        231412           Max         360     10 (15799)\n",
       "1  Unique Count            62           75%          60      5 (12876)\n",
       "2          Zero          3147          Mean       38.68      1 (12716)\n",
       "3       Missing             0        Median           9      8 (12701)\n",
       "4    Duplicated        231350           25%           5      7 (12681)\n",
       "5      Negative             0           Min           0      2 (12654)"
      ]
     },
     "execution_count": 29,
     "metadata": {},
     "output_type": "execute_result"
    }
   ],
   "source": [
    "%%sql\n",
    "SELECT * FROM get_column_summary('sales.order_lines', 'picked_quantity', False);"
   ]
  },
  {
   "cell_type": "markdown",
   "metadata": {},
   "source": [
    "**picking_completed_when**"
   ]
  },
  {
   "cell_type": "code",
   "execution_count": 30,
   "metadata": {
    "vscode": {
     "languageId": "sql"
    }
   },
   "outputs": [
    {
     "data": {
      "text/html": [
       "<div>\n",
       "<style scoped>\n",
       "    .dataframe tbody tr th:only-of-type {\n",
       "        vertical-align: middle;\n",
       "    }\n",
       "\n",
       "    .dataframe tbody tr th {\n",
       "        vertical-align: top;\n",
       "    }\n",
       "\n",
       "    .dataframe thead th {\n",
       "        text-align: right;\n",
       "    }\n",
       "</style>\n",
       "<table border=\"1\" class=\"dataframe\">\n",
       "  <thead>\n",
       "    <tr style=\"text-align: right;\">\n",
       "      <th></th>\n",
       "      <th>Summary Type</th>\n",
       "      <th>Summary Count</th>\n",
       "      <th>-</th>\n",
       "      <th>Stats Type</th>\n",
       "      <th>Stats Value</th>\n",
       "      <th>--</th>\n",
       "      <th>Top Values</th>\n",
       "    </tr>\n",
       "  </thead>\n",
       "  <tbody>\n",
       "    <tr>\n",
       "      <th>0</th>\n",
       "      <td>Negative</td>\n",
       "      <td>None</td>\n",
       "      <td></td>\n",
       "      <td>25%</td>\n",
       "      <td>None</td>\n",
       "      <td></td>\n",
       "      <td>2016-05-04 11:00:00 (395)</td>\n",
       "    </tr>\n",
       "    <tr>\n",
       "      <th>1</th>\n",
       "      <td>Zero</td>\n",
       "      <td>None</td>\n",
       "      <td></td>\n",
       "      <td>Median</td>\n",
       "      <td>None</td>\n",
       "      <td></td>\n",
       "      <td>2015-01-21 11:00:00 (390)</td>\n",
       "    </tr>\n",
       "    <tr>\n",
       "      <th>2</th>\n",
       "      <td>Total Count</td>\n",
       "      <td>231412</td>\n",
       "      <td></td>\n",
       "      <td>Mean</td>\n",
       "      <td>None</td>\n",
       "      <td></td>\n",
       "      <td>2015-11-24 11:00:00 (388)</td>\n",
       "    </tr>\n",
       "    <tr>\n",
       "      <th>3</th>\n",
       "      <td>Duplicated</td>\n",
       "      <td>227196</td>\n",
       "      <td></td>\n",
       "      <td>75%</td>\n",
       "      <td>None</td>\n",
       "      <td></td>\n",
       "      <td>2015-06-26 11:00:00 (386)</td>\n",
       "    </tr>\n",
       "    <tr>\n",
       "      <th>4</th>\n",
       "      <td>Unique Count</td>\n",
       "      <td>1069</td>\n",
       "      <td></td>\n",
       "      <td>Min</td>\n",
       "      <td>2013-01-01 11:00:00</td>\n",
       "      <td></td>\n",
       "      <td>2016-03-23 11:00:00 (386)</td>\n",
       "    </tr>\n",
       "    <tr>\n",
       "      <th>5</th>\n",
       "      <td>Missing</td>\n",
       "      <td>3147</td>\n",
       "      <td></td>\n",
       "      <td>Max</td>\n",
       "      <td>2016-05-31 11:00:00</td>\n",
       "      <td></td>\n",
       "      <td>2015-10-19 11:00:00 (385)</td>\n",
       "    </tr>\n",
       "  </tbody>\n",
       "</table>\n",
       "</div>"
      ],
      "text/plain": [
       "   Summary Type Summary Count  - Stats Type          Stats Value --  \\\n",
       "0      Negative          None           25%                 None      \n",
       "1          Zero          None        Median                 None      \n",
       "2   Total Count        231412          Mean                 None      \n",
       "3    Duplicated        227196           75%                 None      \n",
       "4  Unique Count          1069           Min  2013-01-01 11:00:00      \n",
       "5       Missing          3147           Max  2016-05-31 11:00:00      \n",
       "\n",
       "                  Top Values  \n",
       "0  2016-05-04 11:00:00 (395)  \n",
       "1  2015-01-21 11:00:00 (390)  \n",
       "2  2015-11-24 11:00:00 (388)  \n",
       "3  2015-06-26 11:00:00 (386)  \n",
       "4  2016-03-23 11:00:00 (386)  \n",
       "5  2015-10-19 11:00:00 (385)  "
      ]
     },
     "execution_count": 30,
     "metadata": {},
     "output_type": "execute_result"
    }
   ],
   "source": [
    "%%sql\n",
    "SELECT * FROM get_column_summary('sales.order_lines', 'picking_completed_when', False);"
   ]
  },
  {
   "cell_type": "markdown",
   "metadata": {},
   "source": [
    "**Key Observations:**  \n",
    "\n",
    "- There are missing values in the picking_completed_when column.\n",
    "- No critical anomalies were found.\n",
    "- The date range matches the orders table."
   ]
  },
  {
   "cell_type": "markdown",
   "metadata": {},
   "source": [
    "##### Table sales.customer_categories"
   ]
  },
  {
   "cell_type": "markdown",
   "metadata": {},
   "source": [
    "Let's look at the rows."
   ]
  },
  {
   "cell_type": "code",
   "execution_count": 31,
   "metadata": {
    "vscode": {
     "languageId": "sql"
    }
   },
   "outputs": [
    {
     "data": {
      "text/html": [
       "<div>\n",
       "<style scoped>\n",
       "    .dataframe tbody tr th:only-of-type {\n",
       "        vertical-align: middle;\n",
       "    }\n",
       "\n",
       "    .dataframe tbody tr th {\n",
       "        vertical-align: top;\n",
       "    }\n",
       "\n",
       "    .dataframe thead th {\n",
       "        text-align: right;\n",
       "    }\n",
       "</style>\n",
       "<table border=\"1\" class=\"dataframe\">\n",
       "  <thead>\n",
       "    <tr style=\"text-align: right;\">\n",
       "      <th></th>\n",
       "      <th>customer_category_id</th>\n",
       "      <th>customer_category_name</th>\n",
       "      <th>last_edited_by</th>\n",
       "    </tr>\n",
       "  </thead>\n",
       "  <tbody>\n",
       "    <tr>\n",
       "      <th>0</th>\n",
       "      <td>1</td>\n",
       "      <td>Agent</td>\n",
       "      <td>1</td>\n",
       "    </tr>\n",
       "    <tr>\n",
       "      <th>1</th>\n",
       "      <td>2</td>\n",
       "      <td>Wholesaler</td>\n",
       "      <td>1</td>\n",
       "    </tr>\n",
       "    <tr>\n",
       "      <th>2</th>\n",
       "      <td>3</td>\n",
       "      <td>Novelty Shop</td>\n",
       "      <td>1</td>\n",
       "    </tr>\n",
       "    <tr>\n",
       "      <th>3</th>\n",
       "      <td>4</td>\n",
       "      <td>Supermarket</td>\n",
       "      <td>1</td>\n",
       "    </tr>\n",
       "    <tr>\n",
       "      <th>4</th>\n",
       "      <td>5</td>\n",
       "      <td>Computer Store</td>\n",
       "      <td>1</td>\n",
       "    </tr>\n",
       "  </tbody>\n",
       "</table>\n",
       "</div>"
      ],
      "text/plain": [
       "   customer_category_id customer_category_name  last_edited_by\n",
       "0                     1                  Agent               1\n",
       "1                     2             Wholesaler               1\n",
       "2                     3           Novelty Shop               1\n",
       "3                     4            Supermarket               1\n",
       "4                     5         Computer Store               1"
      ]
     },
     "execution_count": 31,
     "metadata": {},
     "output_type": "execute_result"
    }
   ],
   "source": [
    "%%sql\n",
    "SELECT\n",
    "    *\n",
    "FROM\n",
    "    sales.customer_categories\n",
    "LIMIT 5"
   ]
  },
  {
   "cell_type": "markdown",
   "metadata": {},
   "source": [
    "Let's examine each column we will use for creating the dashboard individually."
   ]
  },
  {
   "cell_type": "markdown",
   "metadata": {},
   "source": [
    "**customer_category_id**"
   ]
  },
  {
   "cell_type": "code",
   "execution_count": 32,
   "metadata": {
    "vscode": {
     "languageId": "sql"
    }
   },
   "outputs": [
    {
     "data": {
      "text/html": [
       "<div>\n",
       "<style scoped>\n",
       "    .dataframe tbody tr th:only-of-type {\n",
       "        vertical-align: middle;\n",
       "    }\n",
       "\n",
       "    .dataframe tbody tr th {\n",
       "        vertical-align: top;\n",
       "    }\n",
       "\n",
       "    .dataframe thead th {\n",
       "        text-align: right;\n",
       "    }\n",
       "</style>\n",
       "<table border=\"1\" class=\"dataframe\">\n",
       "  <thead>\n",
       "    <tr style=\"text-align: right;\">\n",
       "      <th></th>\n",
       "      <th>Summary Type</th>\n",
       "      <th>Summary Count</th>\n",
       "      <th>-</th>\n",
       "      <th>Stats Type</th>\n",
       "      <th>Stats Value</th>\n",
       "      <th>--</th>\n",
       "      <th>Top Values</th>\n",
       "    </tr>\n",
       "  </thead>\n",
       "  <tbody>\n",
       "    <tr>\n",
       "      <th>0</th>\n",
       "      <td>Total Count</td>\n",
       "      <td>8</td>\n",
       "      <td></td>\n",
       "      <td></td>\n",
       "      <td></td>\n",
       "      <td></td>\n",
       "      <td></td>\n",
       "    </tr>\n",
       "    <tr>\n",
       "      <th>1</th>\n",
       "      <td>Unique Count</td>\n",
       "      <td>8</td>\n",
       "      <td></td>\n",
       "      <td></td>\n",
       "      <td></td>\n",
       "      <td></td>\n",
       "      <td></td>\n",
       "    </tr>\n",
       "    <tr>\n",
       "      <th>2</th>\n",
       "      <td>Missing</td>\n",
       "      <td>0</td>\n",
       "      <td></td>\n",
       "      <td></td>\n",
       "      <td></td>\n",
       "      <td></td>\n",
       "      <td></td>\n",
       "    </tr>\n",
       "    <tr>\n",
       "      <th>3</th>\n",
       "      <td>Duplicated</td>\n",
       "      <td>0</td>\n",
       "      <td></td>\n",
       "      <td></td>\n",
       "      <td></td>\n",
       "      <td></td>\n",
       "      <td></td>\n",
       "    </tr>\n",
       "    <tr>\n",
       "      <th>4</th>\n",
       "      <td>Zero</td>\n",
       "      <td>0</td>\n",
       "      <td></td>\n",
       "      <td></td>\n",
       "      <td></td>\n",
       "      <td></td>\n",
       "      <td></td>\n",
       "    </tr>\n",
       "    <tr>\n",
       "      <th>5</th>\n",
       "      <td>Negative</td>\n",
       "      <td>0</td>\n",
       "      <td></td>\n",
       "      <td></td>\n",
       "      <td></td>\n",
       "      <td></td>\n",
       "      <td></td>\n",
       "    </tr>\n",
       "  </tbody>\n",
       "</table>\n",
       "</div>"
      ],
      "text/plain": [
       "   Summary Type Summary Count  - Stats Type Stats Value -- Top Values\n",
       "0   Total Count             8                                        \n",
       "1  Unique Count             8                                        \n",
       "2       Missing             0                                        \n",
       "3    Duplicated             0                                        \n",
       "4          Zero             0                                        \n",
       "5      Negative             0                                        "
      ]
     },
     "execution_count": 32,
     "metadata": {},
     "output_type": "execute_result"
    }
   ],
   "source": [
    "%%sql\n",
    "SELECT * FROM get_column_summary('sales.customer_categories', 'customer_category_id', True);"
   ]
  },
  {
   "cell_type": "markdown",
   "metadata": {},
   "source": [
    "**customer_category_name**"
   ]
  },
  {
   "cell_type": "code",
   "execution_count": 33,
   "metadata": {
    "vscode": {
     "languageId": "sql"
    }
   },
   "outputs": [
    {
     "data": {
      "text/html": [
       "<div>\n",
       "<style scoped>\n",
       "    .dataframe tbody tr th:only-of-type {\n",
       "        vertical-align: middle;\n",
       "    }\n",
       "\n",
       "    .dataframe tbody tr th {\n",
       "        vertical-align: top;\n",
       "    }\n",
       "\n",
       "    .dataframe thead th {\n",
       "        text-align: right;\n",
       "    }\n",
       "</style>\n",
       "<table border=\"1\" class=\"dataframe\">\n",
       "  <thead>\n",
       "    <tr style=\"text-align: right;\">\n",
       "      <th></th>\n",
       "      <th>Summary Type</th>\n",
       "      <th>Summary Count</th>\n",
       "      <th>-</th>\n",
       "      <th>Stats Type</th>\n",
       "      <th>Stats Value</th>\n",
       "      <th>--</th>\n",
       "      <th>Top Values</th>\n",
       "    </tr>\n",
       "  </thead>\n",
       "  <tbody>\n",
       "    <tr>\n",
       "      <th>0</th>\n",
       "      <td>Total Count</td>\n",
       "      <td>8</td>\n",
       "      <td></td>\n",
       "      <td></td>\n",
       "      <td></td>\n",
       "      <td></td>\n",
       "      <td></td>\n",
       "    </tr>\n",
       "    <tr>\n",
       "      <th>1</th>\n",
       "      <td>Unique Count</td>\n",
       "      <td>8</td>\n",
       "      <td></td>\n",
       "      <td></td>\n",
       "      <td></td>\n",
       "      <td></td>\n",
       "      <td></td>\n",
       "    </tr>\n",
       "    <tr>\n",
       "      <th>2</th>\n",
       "      <td>Missing</td>\n",
       "      <td>0</td>\n",
       "      <td></td>\n",
       "      <td></td>\n",
       "      <td></td>\n",
       "      <td></td>\n",
       "      <td></td>\n",
       "    </tr>\n",
       "    <tr>\n",
       "      <th>3</th>\n",
       "      <td>Duplicated</td>\n",
       "      <td>0</td>\n",
       "      <td></td>\n",
       "      <td></td>\n",
       "      <td></td>\n",
       "      <td></td>\n",
       "      <td></td>\n",
       "    </tr>\n",
       "    <tr>\n",
       "      <th>4</th>\n",
       "      <td>Zero</td>\n",
       "      <td>None</td>\n",
       "      <td></td>\n",
       "      <td></td>\n",
       "      <td></td>\n",
       "      <td></td>\n",
       "      <td></td>\n",
       "    </tr>\n",
       "    <tr>\n",
       "      <th>5</th>\n",
       "      <td>Negative</td>\n",
       "      <td>None</td>\n",
       "      <td></td>\n",
       "      <td></td>\n",
       "      <td></td>\n",
       "      <td></td>\n",
       "      <td></td>\n",
       "    </tr>\n",
       "  </tbody>\n",
       "</table>\n",
       "</div>"
      ],
      "text/plain": [
       "   Summary Type Summary Count  - Stats Type Stats Value -- Top Values\n",
       "0   Total Count             8                                        \n",
       "1  Unique Count             8                                        \n",
       "2       Missing             0                                        \n",
       "3    Duplicated             0                                        \n",
       "4          Zero          None                                        \n",
       "5      Negative          None                                        "
      ]
     },
     "execution_count": 33,
     "metadata": {},
     "output_type": "execute_result"
    }
   ],
   "source": [
    "%%sql\n",
    "SELECT * FROM get_column_summary('sales.customer_categories', 'customer_category_name', True);"
   ]
  },
  {
   "cell_type": "markdown",
   "metadata": {},
   "source": [
    "**Key Observations:**  \n",
    "\n",
    "- There are no missing values in the columns we need.\n",
    "- No critical anomalies were found."
   ]
  },
  {
   "cell_type": "markdown",
   "metadata": {},
   "source": [
    "##### Table sales.customers"
   ]
  },
  {
   "cell_type": "markdown",
   "metadata": {},
   "source": [
    "Let's look at the rows."
   ]
  },
  {
   "cell_type": "code",
   "execution_count": 34,
   "metadata": {
    "vscode": {
     "languageId": "sql"
    }
   },
   "outputs": [
    {
     "data": {
      "text/html": [
       "<div>\n",
       "<style scoped>\n",
       "    .dataframe tbody tr th:only-of-type {\n",
       "        vertical-align: middle;\n",
       "    }\n",
       "\n",
       "    .dataframe tbody tr th {\n",
       "        vertical-align: top;\n",
       "    }\n",
       "\n",
       "    .dataframe thead th {\n",
       "        text-align: right;\n",
       "    }\n",
       "</style>\n",
       "<table border=\"1\" class=\"dataframe\">\n",
       "  <thead>\n",
       "    <tr style=\"text-align: right;\">\n",
       "      <th></th>\n",
       "      <th>customer_id</th>\n",
       "      <th>customer_name</th>\n",
       "      <th>bill_to_customer_id</th>\n",
       "      <th>customer_category_id</th>\n",
       "      <th>buying_group_id</th>\n",
       "      <th>primary_contact_person_id</th>\n",
       "      <th>alternate_contact_person_id</th>\n",
       "      <th>delivery_method_id</th>\n",
       "      <th>delivery_city_id</th>\n",
       "      <th>postal_city_id</th>\n",
       "      <th>...</th>\n",
       "      <th>delivery_run</th>\n",
       "      <th>run_position</th>\n",
       "      <th>website_url</th>\n",
       "      <th>delivery_address_line_1</th>\n",
       "      <th>delivery_address_line_2</th>\n",
       "      <th>delivery_postal_code</th>\n",
       "      <th>postal_address_line_1</th>\n",
       "      <th>postal_address_line_2</th>\n",
       "      <th>postal_postal_code</th>\n",
       "      <th>last_edited_by</th>\n",
       "    </tr>\n",
       "  </thead>\n",
       "  <tbody>\n",
       "    <tr>\n",
       "      <th>0</th>\n",
       "      <td>1</td>\n",
       "      <td>Tailspin Toys (Head Office)</td>\n",
       "      <td>1</td>\n",
       "      <td>3</td>\n",
       "      <td>1</td>\n",
       "      <td>1001</td>\n",
       "      <td>1002</td>\n",
       "      <td>3</td>\n",
       "      <td>19586</td>\n",
       "      <td>19586</td>\n",
       "      <td>...</td>\n",
       "      <td></td>\n",
       "      <td></td>\n",
       "      <td>http://www.tailspintoys.com</td>\n",
       "      <td>Shop 38</td>\n",
       "      <td>1877 Mittal Road</td>\n",
       "      <td>90410</td>\n",
       "      <td>PO Box 8975</td>\n",
       "      <td>Ribeiroville</td>\n",
       "      <td>90410</td>\n",
       "      <td>1</td>\n",
       "    </tr>\n",
       "    <tr>\n",
       "      <th>1</th>\n",
       "      <td>2</td>\n",
       "      <td>Tailspin Toys (Sylvanite, MT)</td>\n",
       "      <td>1</td>\n",
       "      <td>3</td>\n",
       "      <td>1</td>\n",
       "      <td>1003</td>\n",
       "      <td>1004</td>\n",
       "      <td>3</td>\n",
       "      <td>33475</td>\n",
       "      <td>33475</td>\n",
       "      <td>...</td>\n",
       "      <td></td>\n",
       "      <td></td>\n",
       "      <td>http://www.tailspintoys.com/Sylvanite</td>\n",
       "      <td>Shop 245</td>\n",
       "      <td>705 Dita Lane</td>\n",
       "      <td>90216</td>\n",
       "      <td>PO Box 259</td>\n",
       "      <td>Jogiville</td>\n",
       "      <td>90216</td>\n",
       "      <td>1</td>\n",
       "    </tr>\n",
       "    <tr>\n",
       "      <th>2</th>\n",
       "      <td>3</td>\n",
       "      <td>Tailspin Toys (Peeples Valley, AZ)</td>\n",
       "      <td>1</td>\n",
       "      <td>3</td>\n",
       "      <td>1</td>\n",
       "      <td>1005</td>\n",
       "      <td>1006</td>\n",
       "      <td>3</td>\n",
       "      <td>26483</td>\n",
       "      <td>26483</td>\n",
       "      <td>...</td>\n",
       "      <td></td>\n",
       "      <td></td>\n",
       "      <td>http://www.tailspintoys.com/PeeplesValley</td>\n",
       "      <td>Unit 217</td>\n",
       "      <td>1970 Khandke Road</td>\n",
       "      <td>90205</td>\n",
       "      <td>PO Box 3648</td>\n",
       "      <td>Lucescuville</td>\n",
       "      <td>90205</td>\n",
       "      <td>1</td>\n",
       "    </tr>\n",
       "    <tr>\n",
       "      <th>3</th>\n",
       "      <td>4</td>\n",
       "      <td>Tailspin Toys (Medicine Lodge, KS)</td>\n",
       "      <td>1</td>\n",
       "      <td>3</td>\n",
       "      <td>1</td>\n",
       "      <td>1007</td>\n",
       "      <td>1008</td>\n",
       "      <td>3</td>\n",
       "      <td>21692</td>\n",
       "      <td>21692</td>\n",
       "      <td>...</td>\n",
       "      <td></td>\n",
       "      <td></td>\n",
       "      <td>http://www.tailspintoys.com/MedicineLodge</td>\n",
       "      <td>Suite 164</td>\n",
       "      <td>967 Riutta Boulevard</td>\n",
       "      <td>90152</td>\n",
       "      <td>PO Box 5065</td>\n",
       "      <td>Maciasville</td>\n",
       "      <td>90152</td>\n",
       "      <td>1</td>\n",
       "    </tr>\n",
       "    <tr>\n",
       "      <th>4</th>\n",
       "      <td>5</td>\n",
       "      <td>Tailspin Toys (Gasport, NY)</td>\n",
       "      <td>1</td>\n",
       "      <td>3</td>\n",
       "      <td>1</td>\n",
       "      <td>1009</td>\n",
       "      <td>1010</td>\n",
       "      <td>3</td>\n",
       "      <td>12748</td>\n",
       "      <td>12748</td>\n",
       "      <td>...</td>\n",
       "      <td></td>\n",
       "      <td></td>\n",
       "      <td>http://www.tailspintoys.com/Gasport</td>\n",
       "      <td>Unit 176</td>\n",
       "      <td>1674 Skujins Boulevard</td>\n",
       "      <td>90261</td>\n",
       "      <td>PO Box 6294</td>\n",
       "      <td>Kellnerovaville</td>\n",
       "      <td>90261</td>\n",
       "      <td>1</td>\n",
       "    </tr>\n",
       "  </tbody>\n",
       "</table>\n",
       "<p>5 rows × 28 columns</p>\n",
       "</div>"
      ],
      "text/plain": [
       "   customer_id                       customer_name  bill_to_customer_id  \\\n",
       "0            1         Tailspin Toys (Head Office)                    1   \n",
       "1            2       Tailspin Toys (Sylvanite, MT)                    1   \n",
       "2            3  Tailspin Toys (Peeples Valley, AZ)                    1   \n",
       "3            4  Tailspin Toys (Medicine Lodge, KS)                    1   \n",
       "4            5         Tailspin Toys (Gasport, NY)                    1   \n",
       "\n",
       "   customer_category_id  buying_group_id  primary_contact_person_id  \\\n",
       "0                     3                1                       1001   \n",
       "1                     3                1                       1003   \n",
       "2                     3                1                       1005   \n",
       "3                     3                1                       1007   \n",
       "4                     3                1                       1009   \n",
       "\n",
       "   alternate_contact_person_id  delivery_method_id  delivery_city_id  \\\n",
       "0                         1002                   3             19586   \n",
       "1                         1004                   3             33475   \n",
       "2                         1006                   3             26483   \n",
       "3                         1008                   3             21692   \n",
       "4                         1010                   3             12748   \n",
       "\n",
       "   postal_city_id  ... delivery_run run_position  \\\n",
       "0           19586  ...                             \n",
       "1           33475  ...                             \n",
       "2           26483  ...                             \n",
       "3           21692  ...                             \n",
       "4           12748  ...                             \n",
       "\n",
       "                                 website_url  delivery_address_line_1  \\\n",
       "0                http://www.tailspintoys.com                  Shop 38   \n",
       "1      http://www.tailspintoys.com/Sylvanite                 Shop 245   \n",
       "2  http://www.tailspintoys.com/PeeplesValley                 Unit 217   \n",
       "3  http://www.tailspintoys.com/MedicineLodge                Suite 164   \n",
       "4        http://www.tailspintoys.com/Gasport                 Unit 176   \n",
       "\n",
       "   delivery_address_line_2  delivery_postal_code postal_address_line_1  \\\n",
       "0         1877 Mittal Road                 90410           PO Box 8975   \n",
       "1            705 Dita Lane                 90216            PO Box 259   \n",
       "2        1970 Khandke Road                 90205           PO Box 3648   \n",
       "3     967 Riutta Boulevard                 90152           PO Box 5065   \n",
       "4   1674 Skujins Boulevard                 90261           PO Box 6294   \n",
       "\n",
       "  postal_address_line_2 postal_postal_code last_edited_by  \n",
       "0          Ribeiroville              90410              1  \n",
       "1             Jogiville              90216              1  \n",
       "2          Lucescuville              90205              1  \n",
       "3           Maciasville              90152              1  \n",
       "4       Kellnerovaville              90261              1  \n",
       "\n",
       "[5 rows x 28 columns]"
      ]
     },
     "execution_count": 34,
     "metadata": {},
     "output_type": "execute_result"
    }
   ],
   "source": [
    "%%sql\n",
    "SELECT\n",
    "    *\n",
    "FROM\n",
    "    sales.customers\n",
    "LIMIT 5"
   ]
  },
  {
   "cell_type": "markdown",
   "metadata": {},
   "source": [
    "Let's examine each column we will use for creating the dashboard individually."
   ]
  },
  {
   "cell_type": "markdown",
   "metadata": {},
   "source": [
    "**customer_id**"
   ]
  },
  {
   "cell_type": "code",
   "execution_count": 35,
   "metadata": {
    "vscode": {
     "languageId": "sql"
    }
   },
   "outputs": [
    {
     "data": {
      "text/html": [
       "<div>\n",
       "<style scoped>\n",
       "    .dataframe tbody tr th:only-of-type {\n",
       "        vertical-align: middle;\n",
       "    }\n",
       "\n",
       "    .dataframe tbody tr th {\n",
       "        vertical-align: top;\n",
       "    }\n",
       "\n",
       "    .dataframe thead th {\n",
       "        text-align: right;\n",
       "    }\n",
       "</style>\n",
       "<table border=\"1\" class=\"dataframe\">\n",
       "  <thead>\n",
       "    <tr style=\"text-align: right;\">\n",
       "      <th></th>\n",
       "      <th>Summary Type</th>\n",
       "      <th>Summary Count</th>\n",
       "      <th>-</th>\n",
       "      <th>Stats Type</th>\n",
       "      <th>Stats Value</th>\n",
       "      <th>--</th>\n",
       "      <th>Top Values</th>\n",
       "    </tr>\n",
       "  </thead>\n",
       "  <tbody>\n",
       "    <tr>\n",
       "      <th>0</th>\n",
       "      <td>Total Count</td>\n",
       "      <td>663</td>\n",
       "      <td></td>\n",
       "      <td></td>\n",
       "      <td></td>\n",
       "      <td></td>\n",
       "      <td></td>\n",
       "    </tr>\n",
       "    <tr>\n",
       "      <th>1</th>\n",
       "      <td>Unique Count</td>\n",
       "      <td>663</td>\n",
       "      <td></td>\n",
       "      <td></td>\n",
       "      <td></td>\n",
       "      <td></td>\n",
       "      <td></td>\n",
       "    </tr>\n",
       "    <tr>\n",
       "      <th>2</th>\n",
       "      <td>Missing</td>\n",
       "      <td>0</td>\n",
       "      <td></td>\n",
       "      <td></td>\n",
       "      <td></td>\n",
       "      <td></td>\n",
       "      <td></td>\n",
       "    </tr>\n",
       "    <tr>\n",
       "      <th>3</th>\n",
       "      <td>Duplicated</td>\n",
       "      <td>0</td>\n",
       "      <td></td>\n",
       "      <td></td>\n",
       "      <td></td>\n",
       "      <td></td>\n",
       "      <td></td>\n",
       "    </tr>\n",
       "    <tr>\n",
       "      <th>4</th>\n",
       "      <td>Zero</td>\n",
       "      <td>0</td>\n",
       "      <td></td>\n",
       "      <td></td>\n",
       "      <td></td>\n",
       "      <td></td>\n",
       "      <td></td>\n",
       "    </tr>\n",
       "    <tr>\n",
       "      <th>5</th>\n",
       "      <td>Negative</td>\n",
       "      <td>0</td>\n",
       "      <td></td>\n",
       "      <td></td>\n",
       "      <td></td>\n",
       "      <td></td>\n",
       "      <td></td>\n",
       "    </tr>\n",
       "  </tbody>\n",
       "</table>\n",
       "</div>"
      ],
      "text/plain": [
       "   Summary Type Summary Count  - Stats Type Stats Value -- Top Values\n",
       "0   Total Count           663                                        \n",
       "1  Unique Count           663                                        \n",
       "2       Missing             0                                        \n",
       "3    Duplicated             0                                        \n",
       "4          Zero             0                                        \n",
       "5      Negative             0                                        "
      ]
     },
     "execution_count": 35,
     "metadata": {},
     "output_type": "execute_result"
    }
   ],
   "source": [
    "%%sql\n",
    "SELECT * FROM get_column_summary('sales.customers', 'customer_id', True);"
   ]
  },
  {
   "cell_type": "markdown",
   "metadata": {},
   "source": [
    "**customer_name**"
   ]
  },
  {
   "cell_type": "code",
   "execution_count": 36,
   "metadata": {
    "vscode": {
     "languageId": "sql"
    }
   },
   "outputs": [
    {
     "data": {
      "text/html": [
       "<div>\n",
       "<style scoped>\n",
       "    .dataframe tbody tr th:only-of-type {\n",
       "        vertical-align: middle;\n",
       "    }\n",
       "\n",
       "    .dataframe tbody tr th {\n",
       "        vertical-align: top;\n",
       "    }\n",
       "\n",
       "    .dataframe thead th {\n",
       "        text-align: right;\n",
       "    }\n",
       "</style>\n",
       "<table border=\"1\" class=\"dataframe\">\n",
       "  <thead>\n",
       "    <tr style=\"text-align: right;\">\n",
       "      <th></th>\n",
       "      <th>Summary Type</th>\n",
       "      <th>Summary Count</th>\n",
       "      <th>-</th>\n",
       "      <th>Stats Type</th>\n",
       "      <th>Stats Value</th>\n",
       "      <th>--</th>\n",
       "      <th>Top Values</th>\n",
       "    </tr>\n",
       "  </thead>\n",
       "  <tbody>\n",
       "    <tr>\n",
       "      <th>0</th>\n",
       "      <td>Total Count</td>\n",
       "      <td>663</td>\n",
       "      <td></td>\n",
       "      <td></td>\n",
       "      <td></td>\n",
       "      <td></td>\n",
       "      <td></td>\n",
       "    </tr>\n",
       "    <tr>\n",
       "      <th>1</th>\n",
       "      <td>Unique Count</td>\n",
       "      <td>663</td>\n",
       "      <td></td>\n",
       "      <td></td>\n",
       "      <td></td>\n",
       "      <td></td>\n",
       "      <td></td>\n",
       "    </tr>\n",
       "    <tr>\n",
       "      <th>2</th>\n",
       "      <td>Missing</td>\n",
       "      <td>0</td>\n",
       "      <td></td>\n",
       "      <td></td>\n",
       "      <td></td>\n",
       "      <td></td>\n",
       "      <td></td>\n",
       "    </tr>\n",
       "    <tr>\n",
       "      <th>3</th>\n",
       "      <td>Duplicated</td>\n",
       "      <td>0</td>\n",
       "      <td></td>\n",
       "      <td></td>\n",
       "      <td></td>\n",
       "      <td></td>\n",
       "      <td></td>\n",
       "    </tr>\n",
       "    <tr>\n",
       "      <th>4</th>\n",
       "      <td>Zero</td>\n",
       "      <td>None</td>\n",
       "      <td></td>\n",
       "      <td></td>\n",
       "      <td></td>\n",
       "      <td></td>\n",
       "      <td></td>\n",
       "    </tr>\n",
       "    <tr>\n",
       "      <th>5</th>\n",
       "      <td>Negative</td>\n",
       "      <td>None</td>\n",
       "      <td></td>\n",
       "      <td></td>\n",
       "      <td></td>\n",
       "      <td></td>\n",
       "      <td></td>\n",
       "    </tr>\n",
       "  </tbody>\n",
       "</table>\n",
       "</div>"
      ],
      "text/plain": [
       "   Summary Type Summary Count  - Stats Type Stats Value -- Top Values\n",
       "0   Total Count           663                                        \n",
       "1  Unique Count           663                                        \n",
       "2       Missing             0                                        \n",
       "3    Duplicated             0                                        \n",
       "4          Zero          None                                        \n",
       "5      Negative          None                                        "
      ]
     },
     "execution_count": 36,
     "metadata": {},
     "output_type": "execute_result"
    }
   ],
   "source": [
    "%%sql\n",
    "SELECT * FROM get_column_summary('sales.customers', 'customer_name', True);"
   ]
  },
  {
   "cell_type": "markdown",
   "metadata": {},
   "source": [
    "**customer_category_id**"
   ]
  },
  {
   "cell_type": "code",
   "execution_count": 37,
   "metadata": {
    "vscode": {
     "languageId": "sql"
    }
   },
   "outputs": [
    {
     "data": {
      "text/html": [
       "<div>\n",
       "<style scoped>\n",
       "    .dataframe tbody tr th:only-of-type {\n",
       "        vertical-align: middle;\n",
       "    }\n",
       "\n",
       "    .dataframe tbody tr th {\n",
       "        vertical-align: top;\n",
       "    }\n",
       "\n",
       "    .dataframe thead th {\n",
       "        text-align: right;\n",
       "    }\n",
       "</style>\n",
       "<table border=\"1\" class=\"dataframe\">\n",
       "  <thead>\n",
       "    <tr style=\"text-align: right;\">\n",
       "      <th></th>\n",
       "      <th>Summary Type</th>\n",
       "      <th>Summary Count</th>\n",
       "      <th>-</th>\n",
       "      <th>Stats Type</th>\n",
       "      <th>Stats Value</th>\n",
       "      <th>--</th>\n",
       "      <th>Top Values</th>\n",
       "    </tr>\n",
       "  </thead>\n",
       "  <tbody>\n",
       "    <tr>\n",
       "      <th>0</th>\n",
       "      <td>Total Count</td>\n",
       "      <td>663</td>\n",
       "      <td></td>\n",
       "      <td></td>\n",
       "      <td></td>\n",
       "      <td></td>\n",
       "      <td></td>\n",
       "    </tr>\n",
       "    <tr>\n",
       "      <th>1</th>\n",
       "      <td>Unique Count</td>\n",
       "      <td>5</td>\n",
       "      <td></td>\n",
       "      <td></td>\n",
       "      <td></td>\n",
       "      <td></td>\n",
       "      <td></td>\n",
       "    </tr>\n",
       "    <tr>\n",
       "      <th>2</th>\n",
       "      <td>Missing</td>\n",
       "      <td>0</td>\n",
       "      <td></td>\n",
       "      <td></td>\n",
       "      <td></td>\n",
       "      <td></td>\n",
       "      <td></td>\n",
       "    </tr>\n",
       "    <tr>\n",
       "      <th>3</th>\n",
       "      <td>Duplicated</td>\n",
       "      <td>658</td>\n",
       "      <td></td>\n",
       "      <td></td>\n",
       "      <td></td>\n",
       "      <td></td>\n",
       "      <td></td>\n",
       "    </tr>\n",
       "    <tr>\n",
       "      <th>4</th>\n",
       "      <td>Zero</td>\n",
       "      <td>0</td>\n",
       "      <td></td>\n",
       "      <td></td>\n",
       "      <td></td>\n",
       "      <td></td>\n",
       "      <td></td>\n",
       "    </tr>\n",
       "    <tr>\n",
       "      <th>5</th>\n",
       "      <td>Negative</td>\n",
       "      <td>0</td>\n",
       "      <td></td>\n",
       "      <td></td>\n",
       "      <td></td>\n",
       "      <td></td>\n",
       "      <td></td>\n",
       "    </tr>\n",
       "  </tbody>\n",
       "</table>\n",
       "</div>"
      ],
      "text/plain": [
       "   Summary Type Summary Count  - Stats Type Stats Value -- Top Values\n",
       "0   Total Count           663                                        \n",
       "1  Unique Count             5                                        \n",
       "2       Missing             0                                        \n",
       "3    Duplicated           658                                        \n",
       "4          Zero             0                                        \n",
       "5      Negative             0                                        "
      ]
     },
     "execution_count": 37,
     "metadata": {},
     "output_type": "execute_result"
    }
   ],
   "source": [
    "%%sql\n",
    "SELECT * FROM get_column_summary('sales.customers', 'customer_category_id', True);"
   ]
  },
  {
   "cell_type": "markdown",
   "metadata": {},
   "source": [
    "**buying_group_id**"
   ]
  },
  {
   "cell_type": "code",
   "execution_count": 38,
   "metadata": {
    "vscode": {
     "languageId": "sql"
    }
   },
   "outputs": [
    {
     "data": {
      "text/html": [
       "<div>\n",
       "<style scoped>\n",
       "    .dataframe tbody tr th:only-of-type {\n",
       "        vertical-align: middle;\n",
       "    }\n",
       "\n",
       "    .dataframe tbody tr th {\n",
       "        vertical-align: top;\n",
       "    }\n",
       "\n",
       "    .dataframe thead th {\n",
       "        text-align: right;\n",
       "    }\n",
       "</style>\n",
       "<table border=\"1\" class=\"dataframe\">\n",
       "  <thead>\n",
       "    <tr style=\"text-align: right;\">\n",
       "      <th></th>\n",
       "      <th>Summary Type</th>\n",
       "      <th>Summary Count</th>\n",
       "      <th>-</th>\n",
       "      <th>Stats Type</th>\n",
       "      <th>Stats Value</th>\n",
       "      <th>--</th>\n",
       "      <th>Top Values</th>\n",
       "    </tr>\n",
       "  </thead>\n",
       "  <tbody>\n",
       "    <tr>\n",
       "      <th>0</th>\n",
       "      <td>Total Count</td>\n",
       "      <td>663</td>\n",
       "      <td></td>\n",
       "      <td></td>\n",
       "      <td></td>\n",
       "      <td></td>\n",
       "      <td></td>\n",
       "    </tr>\n",
       "    <tr>\n",
       "      <th>1</th>\n",
       "      <td>Unique Count</td>\n",
       "      <td>2</td>\n",
       "      <td></td>\n",
       "      <td></td>\n",
       "      <td></td>\n",
       "      <td></td>\n",
       "      <td></td>\n",
       "    </tr>\n",
       "    <tr>\n",
       "      <th>2</th>\n",
       "      <td>Missing</td>\n",
       "      <td>261</td>\n",
       "      <td></td>\n",
       "      <td></td>\n",
       "      <td></td>\n",
       "      <td></td>\n",
       "      <td></td>\n",
       "    </tr>\n",
       "    <tr>\n",
       "      <th>3</th>\n",
       "      <td>Duplicated</td>\n",
       "      <td>400</td>\n",
       "      <td></td>\n",
       "      <td></td>\n",
       "      <td></td>\n",
       "      <td></td>\n",
       "      <td></td>\n",
       "    </tr>\n",
       "    <tr>\n",
       "      <th>4</th>\n",
       "      <td>Zero</td>\n",
       "      <td>0</td>\n",
       "      <td></td>\n",
       "      <td></td>\n",
       "      <td></td>\n",
       "      <td></td>\n",
       "      <td></td>\n",
       "    </tr>\n",
       "    <tr>\n",
       "      <th>5</th>\n",
       "      <td>Negative</td>\n",
       "      <td>0</td>\n",
       "      <td></td>\n",
       "      <td></td>\n",
       "      <td></td>\n",
       "      <td></td>\n",
       "      <td></td>\n",
       "    </tr>\n",
       "  </tbody>\n",
       "</table>\n",
       "</div>"
      ],
      "text/plain": [
       "   Summary Type Summary Count  - Stats Type Stats Value -- Top Values\n",
       "0   Total Count           663                                        \n",
       "1  Unique Count             2                                        \n",
       "2       Missing           261                                        \n",
       "3    Duplicated           400                                        \n",
       "4          Zero             0                                        \n",
       "5      Negative             0                                        "
      ]
     },
     "execution_count": 38,
     "metadata": {},
     "output_type": "execute_result"
    }
   ],
   "source": [
    "%%sql\n",
    "SELECT * FROM get_column_summary('sales.customers', 'buying_group_id', True);"
   ]
  },
  {
   "cell_type": "markdown",
   "metadata": {},
   "source": [
    "Let's look at rows with missing values in buying_group_id."
   ]
  },
  {
   "cell_type": "code",
   "execution_count": 39,
   "metadata": {
    "vscode": {
     "languageId": "sql"
    }
   },
   "outputs": [
    {
     "data": {
      "text/html": [
       "<div>\n",
       "<style scoped>\n",
       "    .dataframe tbody tr th:only-of-type {\n",
       "        vertical-align: middle;\n",
       "    }\n",
       "\n",
       "    .dataframe tbody tr th {\n",
       "        vertical-align: top;\n",
       "    }\n",
       "\n",
       "    .dataframe thead th {\n",
       "        text-align: right;\n",
       "    }\n",
       "</style>\n",
       "<table border=\"1\" class=\"dataframe\">\n",
       "  <thead>\n",
       "    <tr style=\"text-align: right;\">\n",
       "      <th></th>\n",
       "      <th>customer_id</th>\n",
       "      <th>customer_name</th>\n",
       "      <th>bill_to_customer_id</th>\n",
       "      <th>customer_category_id</th>\n",
       "      <th>buying_group_id</th>\n",
       "      <th>primary_contact_person_id</th>\n",
       "      <th>alternate_contact_person_id</th>\n",
       "      <th>delivery_method_id</th>\n",
       "      <th>delivery_city_id</th>\n",
       "      <th>postal_city_id</th>\n",
       "      <th>...</th>\n",
       "      <th>delivery_run</th>\n",
       "      <th>run_position</th>\n",
       "      <th>website_url</th>\n",
       "      <th>delivery_address_line_1</th>\n",
       "      <th>delivery_address_line_2</th>\n",
       "      <th>delivery_postal_code</th>\n",
       "      <th>postal_address_line_1</th>\n",
       "      <th>postal_address_line_2</th>\n",
       "      <th>postal_postal_code</th>\n",
       "      <th>last_edited_by</th>\n",
       "    </tr>\n",
       "  </thead>\n",
       "  <tbody>\n",
       "    <tr>\n",
       "      <th>0</th>\n",
       "      <td>801</td>\n",
       "      <td>Eric Torres</td>\n",
       "      <td>801</td>\n",
       "      <td>7</td>\n",
       "      <td>None</td>\n",
       "      <td>3001</td>\n",
       "      <td>None</td>\n",
       "      <td>3</td>\n",
       "      <td>31321</td>\n",
       "      <td>31321</td>\n",
       "      <td>...</td>\n",
       "      <td></td>\n",
       "      <td></td>\n",
       "      <td>http://www.microsoft.com/EricTorres/</td>\n",
       "      <td>Unit 26</td>\n",
       "      <td>1772 Allu Street</td>\n",
       "      <td>90218</td>\n",
       "      <td>PO Box 4858</td>\n",
       "      <td>Sandhuville</td>\n",
       "      <td>90218</td>\n",
       "      <td>1</td>\n",
       "    </tr>\n",
       "    <tr>\n",
       "      <th>1</th>\n",
       "      <td>802</td>\n",
       "      <td>Cosmina Vlad</td>\n",
       "      <td>802</td>\n",
       "      <td>7</td>\n",
       "      <td>None</td>\n",
       "      <td>3002</td>\n",
       "      <td>None</td>\n",
       "      <td>3</td>\n",
       "      <td>5192</td>\n",
       "      <td>5192</td>\n",
       "      <td>...</td>\n",
       "      <td></td>\n",
       "      <td></td>\n",
       "      <td>http://www.microsoft.com/CosminaVlad/</td>\n",
       "      <td>Suite 9</td>\n",
       "      <td>908 Nadar Lane</td>\n",
       "      <td>90602</td>\n",
       "      <td>PO Box 1954</td>\n",
       "      <td>Gonzalesville</td>\n",
       "      <td>90602</td>\n",
       "      <td>15</td>\n",
       "    </tr>\n",
       "    <tr>\n",
       "      <th>2</th>\n",
       "      <td>803</td>\n",
       "      <td>Bala Dixit</td>\n",
       "      <td>803</td>\n",
       "      <td>3</td>\n",
       "      <td>None</td>\n",
       "      <td>3003</td>\n",
       "      <td>None</td>\n",
       "      <td>3</td>\n",
       "      <td>33799</td>\n",
       "      <td>33799</td>\n",
       "      <td>...</td>\n",
       "      <td></td>\n",
       "      <td></td>\n",
       "      <td>http://www.microsoft.com/BalaDixit/</td>\n",
       "      <td>Unit 7</td>\n",
       "      <td>844 Magnusson Lane</td>\n",
       "      <td>90676</td>\n",
       "      <td>PO Box 8565</td>\n",
       "      <td>Blahoville</td>\n",
       "      <td>90676</td>\n",
       "      <td>1</td>\n",
       "    </tr>\n",
       "    <tr>\n",
       "      <th>3</th>\n",
       "      <td>804</td>\n",
       "      <td>Aleksandrs Riekstins</td>\n",
       "      <td>804</td>\n",
       "      <td>5</td>\n",
       "      <td>None</td>\n",
       "      <td>3004</td>\n",
       "      <td>None</td>\n",
       "      <td>3</td>\n",
       "      <td>18069</td>\n",
       "      <td>18069</td>\n",
       "      <td>...</td>\n",
       "      <td></td>\n",
       "      <td></td>\n",
       "      <td>http://www.microsoft.com/AleksandrsRiekstins/</td>\n",
       "      <td>Shop 20</td>\n",
       "      <td>498 Bagheri Lane</td>\n",
       "      <td>90797</td>\n",
       "      <td>PO Box 6490</td>\n",
       "      <td>Linnaville</td>\n",
       "      <td>90797</td>\n",
       "      <td>1</td>\n",
       "    </tr>\n",
       "    <tr>\n",
       "      <th>4</th>\n",
       "      <td>805</td>\n",
       "      <td>Ratan Poddar</td>\n",
       "      <td>805</td>\n",
       "      <td>3</td>\n",
       "      <td>None</td>\n",
       "      <td>3005</td>\n",
       "      <td>None</td>\n",
       "      <td>3</td>\n",
       "      <td>10194</td>\n",
       "      <td>10194</td>\n",
       "      <td>...</td>\n",
       "      <td></td>\n",
       "      <td></td>\n",
       "      <td>http://www.microsoft.com/RatanPoddar/</td>\n",
       "      <td>Shop 16</td>\n",
       "      <td>1071 Goransson Crescent</td>\n",
       "      <td>90457</td>\n",
       "      <td>PO Box 6237</td>\n",
       "      <td>Shakibaville</td>\n",
       "      <td>90457</td>\n",
       "      <td>1</td>\n",
       "    </tr>\n",
       "  </tbody>\n",
       "</table>\n",
       "<p>5 rows × 28 columns</p>\n",
       "</div>"
      ],
      "text/plain": [
       "   customer_id         customer_name  bill_to_customer_id  \\\n",
       "0          801           Eric Torres                  801   \n",
       "1          802          Cosmina Vlad                  802   \n",
       "2          803            Bala Dixit                  803   \n",
       "3          804  Aleksandrs Riekstins                  804   \n",
       "4          805          Ratan Poddar                  805   \n",
       "\n",
       "   customer_category_id buying_group_id  primary_contact_person_id  \\\n",
       "0                     7            None                       3001   \n",
       "1                     7            None                       3002   \n",
       "2                     3            None                       3003   \n",
       "3                     5            None                       3004   \n",
       "4                     3            None                       3005   \n",
       "\n",
       "  alternate_contact_person_id  delivery_method_id  delivery_city_id  \\\n",
       "0                        None                   3             31321   \n",
       "1                        None                   3              5192   \n",
       "2                        None                   3             33799   \n",
       "3                        None                   3             18069   \n",
       "4                        None                   3             10194   \n",
       "\n",
       "   postal_city_id  ... delivery_run run_position  \\\n",
       "0           31321  ...                             \n",
       "1            5192  ...                             \n",
       "2           33799  ...                             \n",
       "3           18069  ...                             \n",
       "4           10194  ...                             \n",
       "\n",
       "                                     website_url  delivery_address_line_1  \\\n",
       "0           http://www.microsoft.com/EricTorres/                  Unit 26   \n",
       "1          http://www.microsoft.com/CosminaVlad/                  Suite 9   \n",
       "2            http://www.microsoft.com/BalaDixit/                   Unit 7   \n",
       "3  http://www.microsoft.com/AleksandrsRiekstins/                  Shop 20   \n",
       "4          http://www.microsoft.com/RatanPoddar/                  Shop 16   \n",
       "\n",
       "   delivery_address_line_2  delivery_postal_code postal_address_line_1  \\\n",
       "0         1772 Allu Street                 90218           PO Box 4858   \n",
       "1           908 Nadar Lane                 90602           PO Box 1954   \n",
       "2       844 Magnusson Lane                 90676           PO Box 8565   \n",
       "3         498 Bagheri Lane                 90797           PO Box 6490   \n",
       "4  1071 Goransson Crescent                 90457           PO Box 6237   \n",
       "\n",
       "  postal_address_line_2 postal_postal_code last_edited_by  \n",
       "0           Sandhuville              90218              1  \n",
       "1         Gonzalesville              90602             15  \n",
       "2            Blahoville              90676              1  \n",
       "3            Linnaville              90797              1  \n",
       "4          Shakibaville              90457              1  \n",
       "\n",
       "[5 rows x 28 columns]"
      ]
     },
     "execution_count": 39,
     "metadata": {},
     "output_type": "execute_result"
    }
   ],
   "source": [
    "%%sql\n",
    "SELECT\n",
    "    *\n",
    "FROM\n",
    "    sales.customers\n",
    "WHERE\n",
    "    buying_group_id is NULL\n",
    "LIMIT 5"
   ]
  },
  {
   "cell_type": "markdown",
   "metadata": {},
   "source": [
    "**delivery_method_id**"
   ]
  },
  {
   "cell_type": "code",
   "execution_count": 40,
   "metadata": {
    "vscode": {
     "languageId": "sql"
    }
   },
   "outputs": [
    {
     "data": {
      "text/html": [
       "<div>\n",
       "<style scoped>\n",
       "    .dataframe tbody tr th:only-of-type {\n",
       "        vertical-align: middle;\n",
       "    }\n",
       "\n",
       "    .dataframe tbody tr th {\n",
       "        vertical-align: top;\n",
       "    }\n",
       "\n",
       "    .dataframe thead th {\n",
       "        text-align: right;\n",
       "    }\n",
       "</style>\n",
       "<table border=\"1\" class=\"dataframe\">\n",
       "  <thead>\n",
       "    <tr style=\"text-align: right;\">\n",
       "      <th></th>\n",
       "      <th>Summary Type</th>\n",
       "      <th>Summary Count</th>\n",
       "      <th>-</th>\n",
       "      <th>Stats Type</th>\n",
       "      <th>Stats Value</th>\n",
       "      <th>--</th>\n",
       "      <th>Top Values</th>\n",
       "    </tr>\n",
       "  </thead>\n",
       "  <tbody>\n",
       "    <tr>\n",
       "      <th>0</th>\n",
       "      <td>Total Count</td>\n",
       "      <td>663</td>\n",
       "      <td></td>\n",
       "      <td></td>\n",
       "      <td></td>\n",
       "      <td></td>\n",
       "      <td></td>\n",
       "    </tr>\n",
       "    <tr>\n",
       "      <th>1</th>\n",
       "      <td>Unique Count</td>\n",
       "      <td>1</td>\n",
       "      <td></td>\n",
       "      <td></td>\n",
       "      <td></td>\n",
       "      <td></td>\n",
       "      <td></td>\n",
       "    </tr>\n",
       "    <tr>\n",
       "      <th>2</th>\n",
       "      <td>Missing</td>\n",
       "      <td>0</td>\n",
       "      <td></td>\n",
       "      <td></td>\n",
       "      <td></td>\n",
       "      <td></td>\n",
       "      <td></td>\n",
       "    </tr>\n",
       "    <tr>\n",
       "      <th>3</th>\n",
       "      <td>Duplicated</td>\n",
       "      <td>662</td>\n",
       "      <td></td>\n",
       "      <td></td>\n",
       "      <td></td>\n",
       "      <td></td>\n",
       "      <td></td>\n",
       "    </tr>\n",
       "    <tr>\n",
       "      <th>4</th>\n",
       "      <td>Zero</td>\n",
       "      <td>0</td>\n",
       "      <td></td>\n",
       "      <td></td>\n",
       "      <td></td>\n",
       "      <td></td>\n",
       "      <td></td>\n",
       "    </tr>\n",
       "    <tr>\n",
       "      <th>5</th>\n",
       "      <td>Negative</td>\n",
       "      <td>0</td>\n",
       "      <td></td>\n",
       "      <td></td>\n",
       "      <td></td>\n",
       "      <td></td>\n",
       "      <td></td>\n",
       "    </tr>\n",
       "  </tbody>\n",
       "</table>\n",
       "</div>"
      ],
      "text/plain": [
       "   Summary Type Summary Count  - Stats Type Stats Value -- Top Values\n",
       "0   Total Count           663                                        \n",
       "1  Unique Count             1                                        \n",
       "2       Missing             0                                        \n",
       "3    Duplicated           662                                        \n",
       "4          Zero             0                                        \n",
       "5      Negative             0                                        "
      ]
     },
     "execution_count": 40,
     "metadata": {},
     "output_type": "execute_result"
    }
   ],
   "source": [
    "%%sql\n",
    "SELECT * FROM get_column_summary('sales.customers', 'delivery_method_id', True);"
   ]
  },
  {
   "cell_type": "markdown",
   "metadata": {},
   "source": [
    "**delivery_city_id**"
   ]
  },
  {
   "cell_type": "code",
   "execution_count": 41,
   "metadata": {
    "vscode": {
     "languageId": "sql"
    }
   },
   "outputs": [
    {
     "data": {
      "text/html": [
       "<div>\n",
       "<style scoped>\n",
       "    .dataframe tbody tr th:only-of-type {\n",
       "        vertical-align: middle;\n",
       "    }\n",
       "\n",
       "    .dataframe tbody tr th {\n",
       "        vertical-align: top;\n",
       "    }\n",
       "\n",
       "    .dataframe thead th {\n",
       "        text-align: right;\n",
       "    }\n",
       "</style>\n",
       "<table border=\"1\" class=\"dataframe\">\n",
       "  <thead>\n",
       "    <tr style=\"text-align: right;\">\n",
       "      <th></th>\n",
       "      <th>Summary Type</th>\n",
       "      <th>Summary Count</th>\n",
       "      <th>-</th>\n",
       "      <th>Stats Type</th>\n",
       "      <th>Stats Value</th>\n",
       "      <th>--</th>\n",
       "      <th>Top Values</th>\n",
       "    </tr>\n",
       "  </thead>\n",
       "  <tbody>\n",
       "    <tr>\n",
       "      <th>0</th>\n",
       "      <td>Total Count</td>\n",
       "      <td>663</td>\n",
       "      <td></td>\n",
       "      <td>Max</td>\n",
       "      <td>38184</td>\n",
       "      <td></td>\n",
       "      <td>16702 (2)</td>\n",
       "    </tr>\n",
       "    <tr>\n",
       "      <th>1</th>\n",
       "      <td>Unique Count</td>\n",
       "      <td>655</td>\n",
       "      <td></td>\n",
       "      <td>75%</td>\n",
       "      <td>28468</td>\n",
       "      <td></td>\n",
       "      <td>242 (2)</td>\n",
       "    </tr>\n",
       "    <tr>\n",
       "      <th>2</th>\n",
       "      <td>Missing</td>\n",
       "      <td>0</td>\n",
       "      <td></td>\n",
       "      <td>Mean</td>\n",
       "      <td>19033.07</td>\n",
       "      <td></td>\n",
       "      <td>26010 (2)</td>\n",
       "    </tr>\n",
       "    <tr>\n",
       "      <th>3</th>\n",
       "      <td>Duplicated</td>\n",
       "      <td>8</td>\n",
       "      <td></td>\n",
       "      <td>Median</td>\n",
       "      <td>19232</td>\n",
       "      <td></td>\n",
       "      <td>29320 (2)</td>\n",
       "    </tr>\n",
       "    <tr>\n",
       "      <th>4</th>\n",
       "      <td>Zero</td>\n",
       "      <td>0</td>\n",
       "      <td></td>\n",
       "      <td>25%</td>\n",
       "      <td>9369.5</td>\n",
       "      <td></td>\n",
       "      <td>31685 (2)</td>\n",
       "    </tr>\n",
       "    <tr>\n",
       "      <th>5</th>\n",
       "      <td>Negative</td>\n",
       "      <td>0</td>\n",
       "      <td></td>\n",
       "      <td>Min</td>\n",
       "      <td>15</td>\n",
       "      <td></td>\n",
       "      <td>33832 (2)</td>\n",
       "    </tr>\n",
       "  </tbody>\n",
       "</table>\n",
       "</div>"
      ],
      "text/plain": [
       "   Summary Type Summary Count  - Stats Type Stats Value -- Top Values\n",
       "0   Total Count           663           Max       38184     16702 (2)\n",
       "1  Unique Count           655           75%       28468       242 (2)\n",
       "2       Missing             0          Mean    19033.07     26010 (2)\n",
       "3    Duplicated             8        Median       19232     29320 (2)\n",
       "4          Zero             0           25%      9369.5     31685 (2)\n",
       "5      Negative             0           Min          15     33832 (2)"
      ]
     },
     "execution_count": 41,
     "metadata": {},
     "output_type": "execute_result"
    }
   ],
   "source": [
    "%%sql\n",
    "SELECT * FROM get_column_summary('sales.customers', 'delivery_city_id', False);"
   ]
  },
  {
   "cell_type": "markdown",
   "metadata": {},
   "source": [
    "**Key Observations:**  \n",
    "\n",
    "- There are missing values in the buying_group_id column. Apparently, these are customers without a group.\n",
    "- No critical anomalies were found."
   ]
  },
  {
   "cell_type": "markdown",
   "metadata": {},
   "source": [
    "##### Table sales.invoices"
   ]
  },
  {
   "cell_type": "markdown",
   "metadata": {},
   "source": [
    "Let's look at the rows."
   ]
  },
  {
   "cell_type": "code",
   "execution_count": 42,
   "metadata": {
    "vscode": {
     "languageId": "sql"
    }
   },
   "outputs": [
    {
     "data": {
      "text/html": [
       "<div>\n",
       "<style scoped>\n",
       "    .dataframe tbody tr th:only-of-type {\n",
       "        vertical-align: middle;\n",
       "    }\n",
       "\n",
       "    .dataframe tbody tr th {\n",
       "        vertical-align: top;\n",
       "    }\n",
       "\n",
       "    .dataframe thead th {\n",
       "        text-align: right;\n",
       "    }\n",
       "</style>\n",
       "<table border=\"1\" class=\"dataframe\">\n",
       "  <thead>\n",
       "    <tr style=\"text-align: right;\">\n",
       "      <th></th>\n",
       "      <th>invoice_id</th>\n",
       "      <th>customer_id</th>\n",
       "      <th>bill_to_customer_id</th>\n",
       "      <th>order_id</th>\n",
       "      <th>delivery_method_id</th>\n",
       "      <th>contact_person_id</th>\n",
       "      <th>accounts_person_id</th>\n",
       "      <th>salesperson_person_id</th>\n",
       "      <th>packed_by_person_id</th>\n",
       "      <th>invoice_date</th>\n",
       "      <th>...</th>\n",
       "      <th>internal_comments</th>\n",
       "      <th>total_dry_items</th>\n",
       "      <th>total_chiller_items</th>\n",
       "      <th>delivery_run</th>\n",
       "      <th>run_position</th>\n",
       "      <th>returned_delivery_data</th>\n",
       "      <th>confirmed_delivery_time</th>\n",
       "      <th>confirmed_received_by</th>\n",
       "      <th>last_edited_by</th>\n",
       "      <th>last_edited_when</th>\n",
       "    </tr>\n",
       "  </thead>\n",
       "  <tbody>\n",
       "    <tr>\n",
       "      <th>0</th>\n",
       "      <td>1</td>\n",
       "      <td>832</td>\n",
       "      <td>832</td>\n",
       "      <td>1</td>\n",
       "      <td>3</td>\n",
       "      <td>3032</td>\n",
       "      <td>3032</td>\n",
       "      <td>2</td>\n",
       "      <td>14</td>\n",
       "      <td>2013-01-01</td>\n",
       "      <td>...</td>\n",
       "      <td>None</td>\n",
       "      <td>1</td>\n",
       "      <td>0</td>\n",
       "      <td></td>\n",
       "      <td></td>\n",
       "      <td>{\"Events\": [{ \"Event\":\"Ready for collection\",\"...</td>\n",
       "      <td>2013-01-02 07:05:00</td>\n",
       "      <td>Aakriti Byrraju</td>\n",
       "      <td>15</td>\n",
       "      <td>2013-01-02 07:00:00</td>\n",
       "    </tr>\n",
       "    <tr>\n",
       "      <th>1</th>\n",
       "      <td>2</td>\n",
       "      <td>803</td>\n",
       "      <td>803</td>\n",
       "      <td>2</td>\n",
       "      <td>3</td>\n",
       "      <td>3003</td>\n",
       "      <td>3003</td>\n",
       "      <td>8</td>\n",
       "      <td>14</td>\n",
       "      <td>2013-01-01</td>\n",
       "      <td>...</td>\n",
       "      <td>None</td>\n",
       "      <td>2</td>\n",
       "      <td>0</td>\n",
       "      <td></td>\n",
       "      <td></td>\n",
       "      <td>{\"Events\": [{ \"Event\":\"Ready for collection\",\"...</td>\n",
       "      <td>2013-01-02 07:10:00</td>\n",
       "      <td>Bala Dixit</td>\n",
       "      <td>15</td>\n",
       "      <td>2013-01-02 07:00:00</td>\n",
       "    </tr>\n",
       "    <tr>\n",
       "      <th>2</th>\n",
       "      <td>3</td>\n",
       "      <td>105</td>\n",
       "      <td>1</td>\n",
       "      <td>3</td>\n",
       "      <td>3</td>\n",
       "      <td>1209</td>\n",
       "      <td>1001</td>\n",
       "      <td>7</td>\n",
       "      <td>14</td>\n",
       "      <td>2013-01-01</td>\n",
       "      <td>...</td>\n",
       "      <td>None</td>\n",
       "      <td>1</td>\n",
       "      <td>0</td>\n",
       "      <td></td>\n",
       "      <td></td>\n",
       "      <td>{\"Events\": [{ \"Event\":\"Ready for collection\",\"...</td>\n",
       "      <td>2013-01-02 07:15:00</td>\n",
       "      <td>Sung-Hwan Hwang</td>\n",
       "      <td>15</td>\n",
       "      <td>2013-01-02 07:00:00</td>\n",
       "    </tr>\n",
       "    <tr>\n",
       "      <th>3</th>\n",
       "      <td>4</td>\n",
       "      <td>57</td>\n",
       "      <td>1</td>\n",
       "      <td>4</td>\n",
       "      <td>3</td>\n",
       "      <td>1113</td>\n",
       "      <td>1001</td>\n",
       "      <td>16</td>\n",
       "      <td>14</td>\n",
       "      <td>2013-01-01</td>\n",
       "      <td>...</td>\n",
       "      <td>None</td>\n",
       "      <td>3</td>\n",
       "      <td>0</td>\n",
       "      <td></td>\n",
       "      <td></td>\n",
       "      <td>{\"Events\": [{ \"Event\":\"Ready for collection\",\"...</td>\n",
       "      <td>2013-01-02 07:20:00</td>\n",
       "      <td>Aile Mae</td>\n",
       "      <td>15</td>\n",
       "      <td>2013-01-02 07:00:00</td>\n",
       "    </tr>\n",
       "    <tr>\n",
       "      <th>4</th>\n",
       "      <td>5</td>\n",
       "      <td>905</td>\n",
       "      <td>905</td>\n",
       "      <td>5</td>\n",
       "      <td>3</td>\n",
       "      <td>3105</td>\n",
       "      <td>3105</td>\n",
       "      <td>3</td>\n",
       "      <td>14</td>\n",
       "      <td>2013-01-01</td>\n",
       "      <td>...</td>\n",
       "      <td>None</td>\n",
       "      <td>3</td>\n",
       "      <td>0</td>\n",
       "      <td></td>\n",
       "      <td></td>\n",
       "      <td>{\"Events\": [{ \"Event\":\"Ready for collection\",\"...</td>\n",
       "      <td>2013-01-02 07:25:00</td>\n",
       "      <td>Sara Huiting</td>\n",
       "      <td>15</td>\n",
       "      <td>2013-01-02 07:00:00</td>\n",
       "    </tr>\n",
       "  </tbody>\n",
       "</table>\n",
       "<p>5 rows × 25 columns</p>\n",
       "</div>"
      ],
      "text/plain": [
       "   invoice_id  customer_id  bill_to_customer_id  order_id  delivery_method_id  \\\n",
       "0           1          832                  832         1                   3   \n",
       "1           2          803                  803         2                   3   \n",
       "2           3          105                    1         3                   3   \n",
       "3           4           57                    1         4                   3   \n",
       "4           5          905                  905         5                   3   \n",
       "\n",
       "   contact_person_id  accounts_person_id  salesperson_person_id  \\\n",
       "0               3032                3032                      2   \n",
       "1               3003                3003                      8   \n",
       "2               1209                1001                      7   \n",
       "3               1113                1001                     16   \n",
       "4               3105                3105                      3   \n",
       "\n",
       "   packed_by_person_id invoice_date  ... internal_comments  total_dry_items  \\\n",
       "0                   14   2013-01-01  ...              None                1   \n",
       "1                   14   2013-01-01  ...              None                2   \n",
       "2                   14   2013-01-01  ...              None                1   \n",
       "3                   14   2013-01-01  ...              None                3   \n",
       "4                   14   2013-01-01  ...              None                3   \n",
       "\n",
       "  total_chiller_items delivery_run run_position  \\\n",
       "0                   0                             \n",
       "1                   0                             \n",
       "2                   0                             \n",
       "3                   0                             \n",
       "4                   0                             \n",
       "\n",
       "                              returned_delivery_data  confirmed_delivery_time  \\\n",
       "0  {\"Events\": [{ \"Event\":\"Ready for collection\",\"...      2013-01-02 07:05:00   \n",
       "1  {\"Events\": [{ \"Event\":\"Ready for collection\",\"...      2013-01-02 07:10:00   \n",
       "2  {\"Events\": [{ \"Event\":\"Ready for collection\",\"...      2013-01-02 07:15:00   \n",
       "3  {\"Events\": [{ \"Event\":\"Ready for collection\",\"...      2013-01-02 07:20:00   \n",
       "4  {\"Events\": [{ \"Event\":\"Ready for collection\",\"...      2013-01-02 07:25:00   \n",
       "\n",
       "   confirmed_received_by last_edited_by    last_edited_when  \n",
       "0        Aakriti Byrraju             15 2013-01-02 07:00:00  \n",
       "1             Bala Dixit             15 2013-01-02 07:00:00  \n",
       "2        Sung-Hwan Hwang             15 2013-01-02 07:00:00  \n",
       "3               Aile Mae             15 2013-01-02 07:00:00  \n",
       "4           Sara Huiting             15 2013-01-02 07:00:00  \n",
       "\n",
       "[5 rows x 25 columns]"
      ]
     },
     "execution_count": 42,
     "metadata": {},
     "output_type": "execute_result"
    }
   ],
   "source": [
    "%%sql\n",
    "SELECT\n",
    "    *\n",
    "FROM\n",
    "    sales.invoices\n",
    "LIMIT 5"
   ]
  },
  {
   "cell_type": "markdown",
   "metadata": {},
   "source": [
    "Let's examine each column we will use for creating the dashboard individually."
   ]
  },
  {
   "cell_type": "markdown",
   "metadata": {},
   "source": [
    "**invoice_id**"
   ]
  },
  {
   "cell_type": "code",
   "execution_count": 43,
   "metadata": {
    "vscode": {
     "languageId": "sql"
    }
   },
   "outputs": [
    {
     "data": {
      "text/html": [
       "<div>\n",
       "<style scoped>\n",
       "    .dataframe tbody tr th:only-of-type {\n",
       "        vertical-align: middle;\n",
       "    }\n",
       "\n",
       "    .dataframe tbody tr th {\n",
       "        vertical-align: top;\n",
       "    }\n",
       "\n",
       "    .dataframe thead th {\n",
       "        text-align: right;\n",
       "    }\n",
       "</style>\n",
       "<table border=\"1\" class=\"dataframe\">\n",
       "  <thead>\n",
       "    <tr style=\"text-align: right;\">\n",
       "      <th></th>\n",
       "      <th>Summary Type</th>\n",
       "      <th>Summary Count</th>\n",
       "      <th>-</th>\n",
       "      <th>Stats Type</th>\n",
       "      <th>Stats Value</th>\n",
       "      <th>--</th>\n",
       "      <th>Top Values</th>\n",
       "    </tr>\n",
       "  </thead>\n",
       "  <tbody>\n",
       "    <tr>\n",
       "      <th>0</th>\n",
       "      <td>Missing</td>\n",
       "      <td>0</td>\n",
       "      <td></td>\n",
       "      <td></td>\n",
       "      <td></td>\n",
       "      <td></td>\n",
       "      <td></td>\n",
       "    </tr>\n",
       "    <tr>\n",
       "      <th>1</th>\n",
       "      <td>Unique Count</td>\n",
       "      <td>70510</td>\n",
       "      <td></td>\n",
       "      <td></td>\n",
       "      <td></td>\n",
       "      <td></td>\n",
       "      <td></td>\n",
       "    </tr>\n",
       "    <tr>\n",
       "      <th>2</th>\n",
       "      <td>Zero</td>\n",
       "      <td>0</td>\n",
       "      <td></td>\n",
       "      <td></td>\n",
       "      <td></td>\n",
       "      <td></td>\n",
       "      <td></td>\n",
       "    </tr>\n",
       "    <tr>\n",
       "      <th>3</th>\n",
       "      <td>Negative</td>\n",
       "      <td>0</td>\n",
       "      <td></td>\n",
       "      <td></td>\n",
       "      <td></td>\n",
       "      <td></td>\n",
       "      <td></td>\n",
       "    </tr>\n",
       "    <tr>\n",
       "      <th>4</th>\n",
       "      <td>Duplicated</td>\n",
       "      <td>0</td>\n",
       "      <td></td>\n",
       "      <td></td>\n",
       "      <td></td>\n",
       "      <td></td>\n",
       "      <td></td>\n",
       "    </tr>\n",
       "    <tr>\n",
       "      <th>5</th>\n",
       "      <td>Total Count</td>\n",
       "      <td>70510</td>\n",
       "      <td></td>\n",
       "      <td></td>\n",
       "      <td></td>\n",
       "      <td></td>\n",
       "      <td></td>\n",
       "    </tr>\n",
       "  </tbody>\n",
       "</table>\n",
       "</div>"
      ],
      "text/plain": [
       "   Summary Type Summary Count  - Stats Type Stats Value -- Top Values\n",
       "0       Missing             0                                        \n",
       "1  Unique Count         70510                                        \n",
       "2          Zero             0                                        \n",
       "3      Negative             0                                        \n",
       "4    Duplicated             0                                        \n",
       "5   Total Count         70510                                        "
      ]
     },
     "execution_count": 43,
     "metadata": {},
     "output_type": "execute_result"
    }
   ],
   "source": [
    "%%sql\n",
    "SELECT * FROM get_column_summary('sales.invoices', 'invoice_id', True);"
   ]
  },
  {
   "cell_type": "markdown",
   "metadata": {},
   "source": [
    "**customer_id**"
   ]
  },
  {
   "cell_type": "code",
   "execution_count": 44,
   "metadata": {
    "vscode": {
     "languageId": "sql"
    }
   },
   "outputs": [
    {
     "data": {
      "text/html": [
       "<div>\n",
       "<style scoped>\n",
       "    .dataframe tbody tr th:only-of-type {\n",
       "        vertical-align: middle;\n",
       "    }\n",
       "\n",
       "    .dataframe tbody tr th {\n",
       "        vertical-align: top;\n",
       "    }\n",
       "\n",
       "    .dataframe thead th {\n",
       "        text-align: right;\n",
       "    }\n",
       "</style>\n",
       "<table border=\"1\" class=\"dataframe\">\n",
       "  <thead>\n",
       "    <tr style=\"text-align: right;\">\n",
       "      <th></th>\n",
       "      <th>Summary Type</th>\n",
       "      <th>Summary Count</th>\n",
       "      <th>-</th>\n",
       "      <th>Stats Type</th>\n",
       "      <th>Stats Value</th>\n",
       "      <th>--</th>\n",
       "      <th>Top Values</th>\n",
       "    </tr>\n",
       "  </thead>\n",
       "  <tbody>\n",
       "    <tr>\n",
       "      <th>0</th>\n",
       "      <td>Total Count</td>\n",
       "      <td>70510</td>\n",
       "      <td></td>\n",
       "      <td></td>\n",
       "      <td></td>\n",
       "      <td></td>\n",
       "      <td></td>\n",
       "    </tr>\n",
       "    <tr>\n",
       "      <th>1</th>\n",
       "      <td>Missing</td>\n",
       "      <td>0</td>\n",
       "      <td></td>\n",
       "      <td></td>\n",
       "      <td></td>\n",
       "      <td></td>\n",
       "      <td></td>\n",
       "    </tr>\n",
       "    <tr>\n",
       "      <th>2</th>\n",
       "      <td>Negative</td>\n",
       "      <td>0</td>\n",
       "      <td></td>\n",
       "      <td></td>\n",
       "      <td></td>\n",
       "      <td></td>\n",
       "      <td></td>\n",
       "    </tr>\n",
       "    <tr>\n",
       "      <th>3</th>\n",
       "      <td>Unique Count</td>\n",
       "      <td>663</td>\n",
       "      <td></td>\n",
       "      <td></td>\n",
       "      <td></td>\n",
       "      <td></td>\n",
       "      <td></td>\n",
       "    </tr>\n",
       "    <tr>\n",
       "      <th>4</th>\n",
       "      <td>Duplicated</td>\n",
       "      <td>69847</td>\n",
       "      <td></td>\n",
       "      <td></td>\n",
       "      <td></td>\n",
       "      <td></td>\n",
       "      <td></td>\n",
       "    </tr>\n",
       "    <tr>\n",
       "      <th>5</th>\n",
       "      <td>Zero</td>\n",
       "      <td>0</td>\n",
       "      <td></td>\n",
       "      <td></td>\n",
       "      <td></td>\n",
       "      <td></td>\n",
       "      <td></td>\n",
       "    </tr>\n",
       "  </tbody>\n",
       "</table>\n",
       "</div>"
      ],
      "text/plain": [
       "   Summary Type Summary Count  - Stats Type Stats Value -- Top Values\n",
       "0   Total Count         70510                                        \n",
       "1       Missing             0                                        \n",
       "2      Negative             0                                        \n",
       "3  Unique Count           663                                        \n",
       "4    Duplicated         69847                                        \n",
       "5          Zero             0                                        "
      ]
     },
     "execution_count": 44,
     "metadata": {},
     "output_type": "execute_result"
    }
   ],
   "source": [
    "%%sql\n",
    "SELECT * FROM get_column_summary('sales.invoices', 'customer_id', True);"
   ]
  },
  {
   "cell_type": "markdown",
   "metadata": {},
   "source": [
    "**order_id**"
   ]
  },
  {
   "cell_type": "code",
   "execution_count": 45,
   "metadata": {
    "vscode": {
     "languageId": "sql"
    }
   },
   "outputs": [
    {
     "data": {
      "text/html": [
       "<div>\n",
       "<style scoped>\n",
       "    .dataframe tbody tr th:only-of-type {\n",
       "        vertical-align: middle;\n",
       "    }\n",
       "\n",
       "    .dataframe tbody tr th {\n",
       "        vertical-align: top;\n",
       "    }\n",
       "\n",
       "    .dataframe thead th {\n",
       "        text-align: right;\n",
       "    }\n",
       "</style>\n",
       "<table border=\"1\" class=\"dataframe\">\n",
       "  <thead>\n",
       "    <tr style=\"text-align: right;\">\n",
       "      <th></th>\n",
       "      <th>Summary Type</th>\n",
       "      <th>Summary Count</th>\n",
       "      <th>-</th>\n",
       "      <th>Stats Type</th>\n",
       "      <th>Stats Value</th>\n",
       "      <th>--</th>\n",
       "      <th>Top Values</th>\n",
       "    </tr>\n",
       "  </thead>\n",
       "  <tbody>\n",
       "    <tr>\n",
       "      <th>0</th>\n",
       "      <td>Total Count</td>\n",
       "      <td>70510</td>\n",
       "      <td></td>\n",
       "      <td></td>\n",
       "      <td></td>\n",
       "      <td></td>\n",
       "      <td></td>\n",
       "    </tr>\n",
       "    <tr>\n",
       "      <th>1</th>\n",
       "      <td>Missing</td>\n",
       "      <td>0</td>\n",
       "      <td></td>\n",
       "      <td></td>\n",
       "      <td></td>\n",
       "      <td></td>\n",
       "      <td></td>\n",
       "    </tr>\n",
       "    <tr>\n",
       "      <th>2</th>\n",
       "      <td>Negative</td>\n",
       "      <td>0</td>\n",
       "      <td></td>\n",
       "      <td></td>\n",
       "      <td></td>\n",
       "      <td></td>\n",
       "      <td></td>\n",
       "    </tr>\n",
       "    <tr>\n",
       "      <th>3</th>\n",
       "      <td>Zero</td>\n",
       "      <td>0</td>\n",
       "      <td></td>\n",
       "      <td></td>\n",
       "      <td></td>\n",
       "      <td></td>\n",
       "      <td></td>\n",
       "    </tr>\n",
       "    <tr>\n",
       "      <th>4</th>\n",
       "      <td>Duplicated</td>\n",
       "      <td>0</td>\n",
       "      <td></td>\n",
       "      <td></td>\n",
       "      <td></td>\n",
       "      <td></td>\n",
       "      <td></td>\n",
       "    </tr>\n",
       "    <tr>\n",
       "      <th>5</th>\n",
       "      <td>Unique Count</td>\n",
       "      <td>70510</td>\n",
       "      <td></td>\n",
       "      <td></td>\n",
       "      <td></td>\n",
       "      <td></td>\n",
       "      <td></td>\n",
       "    </tr>\n",
       "  </tbody>\n",
       "</table>\n",
       "</div>"
      ],
      "text/plain": [
       "   Summary Type Summary Count  - Stats Type Stats Value -- Top Values\n",
       "0   Total Count         70510                                        \n",
       "1       Missing             0                                        \n",
       "2      Negative             0                                        \n",
       "3          Zero             0                                        \n",
       "4    Duplicated             0                                        \n",
       "5  Unique Count         70510                                        "
      ]
     },
     "execution_count": 45,
     "metadata": {},
     "output_type": "execute_result"
    }
   ],
   "source": [
    "%%sql\n",
    "SELECT * FROM get_column_summary('sales.invoices', 'order_id', True);"
   ]
  },
  {
   "cell_type": "markdown",
   "metadata": {},
   "source": [
    "**delivery_method_id**"
   ]
  },
  {
   "cell_type": "code",
   "execution_count": 46,
   "metadata": {
    "vscode": {
     "languageId": "sql"
    }
   },
   "outputs": [
    {
     "data": {
      "text/html": [
       "<div>\n",
       "<style scoped>\n",
       "    .dataframe tbody tr th:only-of-type {\n",
       "        vertical-align: middle;\n",
       "    }\n",
       "\n",
       "    .dataframe tbody tr th {\n",
       "        vertical-align: top;\n",
       "    }\n",
       "\n",
       "    .dataframe thead th {\n",
       "        text-align: right;\n",
       "    }\n",
       "</style>\n",
       "<table border=\"1\" class=\"dataframe\">\n",
       "  <thead>\n",
       "    <tr style=\"text-align: right;\">\n",
       "      <th></th>\n",
       "      <th>Summary Type</th>\n",
       "      <th>Summary Count</th>\n",
       "      <th>-</th>\n",
       "      <th>Stats Type</th>\n",
       "      <th>Stats Value</th>\n",
       "      <th>--</th>\n",
       "      <th>Top Values</th>\n",
       "    </tr>\n",
       "  </thead>\n",
       "  <tbody>\n",
       "    <tr>\n",
       "      <th>0</th>\n",
       "      <td>Total Count</td>\n",
       "      <td>70510</td>\n",
       "      <td></td>\n",
       "      <td></td>\n",
       "      <td></td>\n",
       "      <td></td>\n",
       "      <td></td>\n",
       "    </tr>\n",
       "    <tr>\n",
       "      <th>1</th>\n",
       "      <td>Missing</td>\n",
       "      <td>0</td>\n",
       "      <td></td>\n",
       "      <td></td>\n",
       "      <td></td>\n",
       "      <td></td>\n",
       "      <td></td>\n",
       "    </tr>\n",
       "    <tr>\n",
       "      <th>2</th>\n",
       "      <td>Negative</td>\n",
       "      <td>0</td>\n",
       "      <td></td>\n",
       "      <td></td>\n",
       "      <td></td>\n",
       "      <td></td>\n",
       "      <td></td>\n",
       "    </tr>\n",
       "    <tr>\n",
       "      <th>3</th>\n",
       "      <td>Duplicated</td>\n",
       "      <td>70509</td>\n",
       "      <td></td>\n",
       "      <td></td>\n",
       "      <td></td>\n",
       "      <td></td>\n",
       "      <td></td>\n",
       "    </tr>\n",
       "    <tr>\n",
       "      <th>4</th>\n",
       "      <td>Unique Count</td>\n",
       "      <td>1</td>\n",
       "      <td></td>\n",
       "      <td></td>\n",
       "      <td></td>\n",
       "      <td></td>\n",
       "      <td></td>\n",
       "    </tr>\n",
       "    <tr>\n",
       "      <th>5</th>\n",
       "      <td>Zero</td>\n",
       "      <td>0</td>\n",
       "      <td></td>\n",
       "      <td></td>\n",
       "      <td></td>\n",
       "      <td></td>\n",
       "      <td></td>\n",
       "    </tr>\n",
       "  </tbody>\n",
       "</table>\n",
       "</div>"
      ],
      "text/plain": [
       "   Summary Type Summary Count  - Stats Type Stats Value -- Top Values\n",
       "0   Total Count         70510                                        \n",
       "1       Missing             0                                        \n",
       "2      Negative             0                                        \n",
       "3    Duplicated         70509                                        \n",
       "4  Unique Count             1                                        \n",
       "5          Zero             0                                        "
      ]
     },
     "execution_count": 46,
     "metadata": {},
     "output_type": "execute_result"
    }
   ],
   "source": [
    "%%sql\n",
    "SELECT * FROM get_column_summary('sales.invoices', 'delivery_method_id', True);"
   ]
  },
  {
   "cell_type": "markdown",
   "metadata": {},
   "source": [
    "**invoice_date**"
   ]
  },
  {
   "cell_type": "code",
   "execution_count": 47,
   "metadata": {
    "vscode": {
     "languageId": "sql"
    }
   },
   "outputs": [
    {
     "data": {
      "text/html": [
       "<div>\n",
       "<style scoped>\n",
       "    .dataframe tbody tr th:only-of-type {\n",
       "        vertical-align: middle;\n",
       "    }\n",
       "\n",
       "    .dataframe tbody tr th {\n",
       "        vertical-align: top;\n",
       "    }\n",
       "\n",
       "    .dataframe thead th {\n",
       "        text-align: right;\n",
       "    }\n",
       "</style>\n",
       "<table border=\"1\" class=\"dataframe\">\n",
       "  <thead>\n",
       "    <tr style=\"text-align: right;\">\n",
       "      <th></th>\n",
       "      <th>Summary Type</th>\n",
       "      <th>Summary Count</th>\n",
       "      <th>-</th>\n",
       "      <th>Stats Type</th>\n",
       "      <th>Stats Value</th>\n",
       "      <th>--</th>\n",
       "      <th>Top Values</th>\n",
       "    </tr>\n",
       "  </thead>\n",
       "  <tbody>\n",
       "    <tr>\n",
       "      <th>0</th>\n",
       "      <td>Negative</td>\n",
       "      <td>None</td>\n",
       "      <td></td>\n",
       "      <td>25%</td>\n",
       "      <td>None</td>\n",
       "      <td></td>\n",
       "      <td>2016-01-06 (117)</td>\n",
       "    </tr>\n",
       "    <tr>\n",
       "      <th>1</th>\n",
       "      <td>Duplicated</td>\n",
       "      <td>69441</td>\n",
       "      <td></td>\n",
       "      <td>Median</td>\n",
       "      <td>None</td>\n",
       "      <td></td>\n",
       "      <td>2016-04-18 (117)</td>\n",
       "    </tr>\n",
       "    <tr>\n",
       "      <th>2</th>\n",
       "      <td>Total Count</td>\n",
       "      <td>70510</td>\n",
       "      <td></td>\n",
       "      <td>Mean</td>\n",
       "      <td>None</td>\n",
       "      <td></td>\n",
       "      <td>2015-07-06 (116)</td>\n",
       "    </tr>\n",
       "    <tr>\n",
       "      <th>3</th>\n",
       "      <td>Zero</td>\n",
       "      <td>None</td>\n",
       "      <td></td>\n",
       "      <td>75%</td>\n",
       "      <td>None</td>\n",
       "      <td></td>\n",
       "      <td>2016-02-24 (116)</td>\n",
       "    </tr>\n",
       "    <tr>\n",
       "      <th>4</th>\n",
       "      <td>Unique Count</td>\n",
       "      <td>1069</td>\n",
       "      <td></td>\n",
       "      <td>Min</td>\n",
       "      <td>2013-01-01</td>\n",
       "      <td></td>\n",
       "      <td>2016-02-26 (116)</td>\n",
       "    </tr>\n",
       "    <tr>\n",
       "      <th>5</th>\n",
       "      <td>Missing</td>\n",
       "      <td>0</td>\n",
       "      <td></td>\n",
       "      <td>Max</td>\n",
       "      <td>2016-05-31</td>\n",
       "      <td></td>\n",
       "      <td>2016-05-04 (116)</td>\n",
       "    </tr>\n",
       "  </tbody>\n",
       "</table>\n",
       "</div>"
      ],
      "text/plain": [
       "   Summary Type Summary Count  - Stats Type Stats Value --        Top Values\n",
       "0      Negative          None           25%        None     2016-01-06 (117)\n",
       "1    Duplicated         69441        Median        None     2016-04-18 (117)\n",
       "2   Total Count         70510          Mean        None     2015-07-06 (116)\n",
       "3          Zero          None           75%        None     2016-02-24 (116)\n",
       "4  Unique Count          1069           Min  2013-01-01     2016-02-26 (116)\n",
       "5       Missing             0           Max  2016-05-31     2016-05-04 (116)"
      ]
     },
     "execution_count": 47,
     "metadata": {},
     "output_type": "execute_result"
    }
   ],
   "source": [
    "%%sql\n",
    "SELECT * FROM get_column_summary('sales.invoices', 'invoice_date', False);"
   ]
  },
  {
   "cell_type": "markdown",
   "metadata": {},
   "source": [
    "**total_dry_items**"
   ]
  },
  {
   "cell_type": "code",
   "execution_count": 48,
   "metadata": {
    "vscode": {
     "languageId": "sql"
    }
   },
   "outputs": [
    {
     "data": {
      "text/html": [
       "<div>\n",
       "<style scoped>\n",
       "    .dataframe tbody tr th:only-of-type {\n",
       "        vertical-align: middle;\n",
       "    }\n",
       "\n",
       "    .dataframe tbody tr th {\n",
       "        vertical-align: top;\n",
       "    }\n",
       "\n",
       "    .dataframe thead th {\n",
       "        text-align: right;\n",
       "    }\n",
       "</style>\n",
       "<table border=\"1\" class=\"dataframe\">\n",
       "  <thead>\n",
       "    <tr style=\"text-align: right;\">\n",
       "      <th></th>\n",
       "      <th>Summary Type</th>\n",
       "      <th>Summary Count</th>\n",
       "      <th>-</th>\n",
       "      <th>Stats Type</th>\n",
       "      <th>Stats Value</th>\n",
       "      <th>--</th>\n",
       "      <th>Top Values</th>\n",
       "    </tr>\n",
       "  </thead>\n",
       "  <tbody>\n",
       "    <tr>\n",
       "      <th>0</th>\n",
       "      <td>Total Count</td>\n",
       "      <td>70510</td>\n",
       "      <td></td>\n",
       "      <td>Max</td>\n",
       "      <td>5</td>\n",
       "      <td></td>\n",
       "      <td>3 (17179)</td>\n",
       "    </tr>\n",
       "    <tr>\n",
       "      <th>1</th>\n",
       "      <td>Unique Count</td>\n",
       "      <td>6</td>\n",
       "      <td></td>\n",
       "      <td>75%</td>\n",
       "      <td>4</td>\n",
       "      <td></td>\n",
       "      <td>2 (17024)</td>\n",
       "    </tr>\n",
       "    <tr>\n",
       "      <th>2</th>\n",
       "      <td>Zero</td>\n",
       "      <td>16</td>\n",
       "      <td></td>\n",
       "      <td>Mean</td>\n",
       "      <td>3.22</td>\n",
       "      <td></td>\n",
       "      <td>4 (16883)</td>\n",
       "    </tr>\n",
       "    <tr>\n",
       "      <th>3</th>\n",
       "      <td>Missing</td>\n",
       "      <td>0</td>\n",
       "      <td></td>\n",
       "      <td>Median</td>\n",
       "      <td>3</td>\n",
       "      <td></td>\n",
       "      <td>5 (13676)</td>\n",
       "    </tr>\n",
       "    <tr>\n",
       "      <th>4</th>\n",
       "      <td>Duplicated</td>\n",
       "      <td>70504</td>\n",
       "      <td></td>\n",
       "      <td>25%</td>\n",
       "      <td>2</td>\n",
       "      <td></td>\n",
       "      <td>1 (5732)</td>\n",
       "    </tr>\n",
       "    <tr>\n",
       "      <th>5</th>\n",
       "      <td>Negative</td>\n",
       "      <td>0</td>\n",
       "      <td></td>\n",
       "      <td>Min</td>\n",
       "      <td>0</td>\n",
       "      <td></td>\n",
       "      <td>0 (16)</td>\n",
       "    </tr>\n",
       "  </tbody>\n",
       "</table>\n",
       "</div>"
      ],
      "text/plain": [
       "   Summary Type Summary Count  - Stats Type Stats Value -- Top Values\n",
       "0   Total Count         70510           Max           5     3 (17179)\n",
       "1  Unique Count             6           75%           4     2 (17024)\n",
       "2          Zero            16          Mean        3.22     4 (16883)\n",
       "3       Missing             0        Median           3     5 (13676)\n",
       "4    Duplicated         70504           25%           2      1 (5732)\n",
       "5      Negative             0           Min           0        0 (16)"
      ]
     },
     "execution_count": 48,
     "metadata": {},
     "output_type": "execute_result"
    }
   ],
   "source": [
    "%%sql\n",
    "SELECT * FROM get_column_summary('sales.invoices', 'total_dry_items', False);"
   ]
  },
  {
   "cell_type": "markdown",
   "metadata": {},
   "source": [
    "**total_chiller_items**"
   ]
  },
  {
   "cell_type": "code",
   "execution_count": 49,
   "metadata": {
    "vscode": {
     "languageId": "sql"
    }
   },
   "outputs": [
    {
     "data": {
      "text/html": [
       "<div>\n",
       "<style scoped>\n",
       "    .dataframe tbody tr th:only-of-type {\n",
       "        vertical-align: middle;\n",
       "    }\n",
       "\n",
       "    .dataframe tbody tr th {\n",
       "        vertical-align: top;\n",
       "    }\n",
       "\n",
       "    .dataframe thead th {\n",
       "        text-align: right;\n",
       "    }\n",
       "</style>\n",
       "<table border=\"1\" class=\"dataframe\">\n",
       "  <thead>\n",
       "    <tr style=\"text-align: right;\">\n",
       "      <th></th>\n",
       "      <th>Summary Type</th>\n",
       "      <th>Summary Count</th>\n",
       "      <th>-</th>\n",
       "      <th>Stats Type</th>\n",
       "      <th>Stats Value</th>\n",
       "      <th>--</th>\n",
       "      <th>Top Values</th>\n",
       "    </tr>\n",
       "  </thead>\n",
       "  <tbody>\n",
       "    <tr>\n",
       "      <th>0</th>\n",
       "      <td>Total Count</td>\n",
       "      <td>70510</td>\n",
       "      <td></td>\n",
       "      <td>Max</td>\n",
       "      <td>3</td>\n",
       "      <td></td>\n",
       "      <td>0 (69519)</td>\n",
       "    </tr>\n",
       "    <tr>\n",
       "      <th>1</th>\n",
       "      <td>Unique Count</td>\n",
       "      <td>4</td>\n",
       "      <td></td>\n",
       "      <td>75%</td>\n",
       "      <td>0</td>\n",
       "      <td></td>\n",
       "      <td>1 (948)</td>\n",
       "    </tr>\n",
       "    <tr>\n",
       "      <th>2</th>\n",
       "      <td>Zero</td>\n",
       "      <td>69519</td>\n",
       "      <td></td>\n",
       "      <td>Mean</td>\n",
       "      <td>0.01</td>\n",
       "      <td></td>\n",
       "      <td>2 (41)</td>\n",
       "    </tr>\n",
       "    <tr>\n",
       "      <th>3</th>\n",
       "      <td>Duplicated</td>\n",
       "      <td>70506</td>\n",
       "      <td></td>\n",
       "      <td>Median</td>\n",
       "      <td>0</td>\n",
       "      <td></td>\n",
       "      <td>3 (2)</td>\n",
       "    </tr>\n",
       "    <tr>\n",
       "      <th>4</th>\n",
       "      <td>Negative</td>\n",
       "      <td>0</td>\n",
       "      <td></td>\n",
       "      <td>25%</td>\n",
       "      <td>0</td>\n",
       "      <td></td>\n",
       "      <td>None</td>\n",
       "    </tr>\n",
       "    <tr>\n",
       "      <th>5</th>\n",
       "      <td>Missing</td>\n",
       "      <td>0</td>\n",
       "      <td></td>\n",
       "      <td>Min</td>\n",
       "      <td>0</td>\n",
       "      <td></td>\n",
       "      <td>None</td>\n",
       "    </tr>\n",
       "  </tbody>\n",
       "</table>\n",
       "</div>"
      ],
      "text/plain": [
       "   Summary Type Summary Count  - Stats Type Stats Value -- Top Values\n",
       "0   Total Count         70510           Max           3     0 (69519)\n",
       "1  Unique Count             4           75%           0       1 (948)\n",
       "2          Zero         69519          Mean        0.01        2 (41)\n",
       "3    Duplicated         70506        Median           0         3 (2)\n",
       "4      Negative             0           25%           0          None\n",
       "5       Missing             0           Min           0          None"
      ]
     },
     "execution_count": 49,
     "metadata": {},
     "output_type": "execute_result"
    }
   ],
   "source": [
    "%%sql\n",
    "SELECT * FROM get_column_summary('sales.invoices', 'total_chiller_items', False);"
   ]
  },
  {
   "cell_type": "markdown",
   "metadata": {},
   "source": [
    "**Key Observations:**  \n",
    "\n",
    "- There are no missing values in the columns we need.\n",
    "- No critical anomalies were found.\n",
    "- The date range matches the orders table."
   ]
  },
  {
   "cell_type": "markdown",
   "metadata": {},
   "source": [
    "##### Table sales.invoice_lines"
   ]
  },
  {
   "cell_type": "markdown",
   "metadata": {},
   "source": [
    "Let's look at the rows."
   ]
  },
  {
   "cell_type": "code",
   "execution_count": 50,
   "metadata": {
    "vscode": {
     "languageId": "sql"
    }
   },
   "outputs": [
    {
     "data": {
      "text/html": [
       "<div>\n",
       "<style scoped>\n",
       "    .dataframe tbody tr th:only-of-type {\n",
       "        vertical-align: middle;\n",
       "    }\n",
       "\n",
       "    .dataframe tbody tr th {\n",
       "        vertical-align: top;\n",
       "    }\n",
       "\n",
       "    .dataframe thead th {\n",
       "        text-align: right;\n",
       "    }\n",
       "</style>\n",
       "<table border=\"1\" class=\"dataframe\">\n",
       "  <thead>\n",
       "    <tr style=\"text-align: right;\">\n",
       "      <th></th>\n",
       "      <th>invoice_line_id</th>\n",
       "      <th>invoice_id</th>\n",
       "      <th>stock_item_id</th>\n",
       "      <th>description</th>\n",
       "      <th>package_type_id</th>\n",
       "      <th>quantity</th>\n",
       "      <th>unit_price</th>\n",
       "      <th>tax_rate</th>\n",
       "      <th>tax_amount</th>\n",
       "      <th>line_profit</th>\n",
       "      <th>extended_price</th>\n",
       "      <th>last_edited_by</th>\n",
       "      <th>last_edited_when</th>\n",
       "    </tr>\n",
       "  </thead>\n",
       "  <tbody>\n",
       "    <tr>\n",
       "      <th>0</th>\n",
       "      <td>1</td>\n",
       "      <td>1</td>\n",
       "      <td>67</td>\n",
       "      <td>Ride on toy sedan car (Black) 1/12 scale</td>\n",
       "      <td>7</td>\n",
       "      <td>10</td>\n",
       "      <td>230.00</td>\n",
       "      <td>15.000</td>\n",
       "      <td>345.00</td>\n",
       "      <td>850.00</td>\n",
       "      <td>2645.00</td>\n",
       "      <td>7</td>\n",
       "      <td>2013-01-01 12:00:00</td>\n",
       "    </tr>\n",
       "    <tr>\n",
       "      <th>1</th>\n",
       "      <td>2</td>\n",
       "      <td>2</td>\n",
       "      <td>50</td>\n",
       "      <td>Developer joke mug - old C developers never di...</td>\n",
       "      <td>7</td>\n",
       "      <td>9</td>\n",
       "      <td>13.00</td>\n",
       "      <td>15.000</td>\n",
       "      <td>17.55</td>\n",
       "      <td>76.50</td>\n",
       "      <td>134.55</td>\n",
       "      <td>7</td>\n",
       "      <td>2013-01-01 12:00:00</td>\n",
       "    </tr>\n",
       "    <tr>\n",
       "      <th>2</th>\n",
       "      <td>3</td>\n",
       "      <td>2</td>\n",
       "      <td>10</td>\n",
       "      <td>USB food flash drive - chocolate bar</td>\n",
       "      <td>7</td>\n",
       "      <td>9</td>\n",
       "      <td>32.00</td>\n",
       "      <td>15.000</td>\n",
       "      <td>43.20</td>\n",
       "      <td>180.00</td>\n",
       "      <td>331.20</td>\n",
       "      <td>7</td>\n",
       "      <td>2013-01-01 12:00:00</td>\n",
       "    </tr>\n",
       "    <tr>\n",
       "      <th>3</th>\n",
       "      <td>4</td>\n",
       "      <td>3</td>\n",
       "      <td>114</td>\n",
       "      <td>Superhero action jacket (Blue) XXL</td>\n",
       "      <td>7</td>\n",
       "      <td>3</td>\n",
       "      <td>30.00</td>\n",
       "      <td>15.000</td>\n",
       "      <td>13.50</td>\n",
       "      <td>24.00</td>\n",
       "      <td>103.50</td>\n",
       "      <td>7</td>\n",
       "      <td>2013-01-01 12:00:00</td>\n",
       "    </tr>\n",
       "    <tr>\n",
       "      <th>4</th>\n",
       "      <td>5</td>\n",
       "      <td>4</td>\n",
       "      <td>206</td>\n",
       "      <td>Permanent marker black 5mm nib (Black) 5mm</td>\n",
       "      <td>7</td>\n",
       "      <td>96</td>\n",
       "      <td>2.70</td>\n",
       "      <td>15.000</td>\n",
       "      <td>38.88</td>\n",
       "      <td>96.00</td>\n",
       "      <td>298.08</td>\n",
       "      <td>7</td>\n",
       "      <td>2013-01-01 12:00:00</td>\n",
       "    </tr>\n",
       "  </tbody>\n",
       "</table>\n",
       "</div>"
      ],
      "text/plain": [
       "   invoice_line_id  invoice_id  stock_item_id  \\\n",
       "0                1           1             67   \n",
       "1                2           2             50   \n",
       "2                3           2             10   \n",
       "3                4           3            114   \n",
       "4                5           4            206   \n",
       "\n",
       "                                         description  package_type_id  \\\n",
       "0           Ride on toy sedan car (Black) 1/12 scale                7   \n",
       "1  Developer joke mug - old C developers never di...                7   \n",
       "2               USB food flash drive - chocolate bar                7   \n",
       "3                 Superhero action jacket (Blue) XXL                7   \n",
       "4         Permanent marker black 5mm nib (Black) 5mm                7   \n",
       "\n",
       "   quantity unit_price tax_rate tax_amount line_profit extended_price  \\\n",
       "0        10     230.00   15.000     345.00      850.00        2645.00   \n",
       "1         9      13.00   15.000      17.55       76.50         134.55   \n",
       "2         9      32.00   15.000      43.20      180.00         331.20   \n",
       "3         3      30.00   15.000      13.50       24.00         103.50   \n",
       "4        96       2.70   15.000      38.88       96.00         298.08   \n",
       "\n",
       "   last_edited_by    last_edited_when  \n",
       "0               7 2013-01-01 12:00:00  \n",
       "1               7 2013-01-01 12:00:00  \n",
       "2               7 2013-01-01 12:00:00  \n",
       "3               7 2013-01-01 12:00:00  \n",
       "4               7 2013-01-01 12:00:00  "
      ]
     },
     "execution_count": 50,
     "metadata": {},
     "output_type": "execute_result"
    }
   ],
   "source": [
    "%%sql\n",
    "SELECT\n",
    "    *\n",
    "FROM\n",
    "    sales.invoice_lines\n",
    "LIMIT 5"
   ]
  },
  {
   "cell_type": "markdown",
   "metadata": {},
   "source": [
    "Let's examine each column we will use for creating the dashboard individually."
   ]
  },
  {
   "cell_type": "markdown",
   "metadata": {},
   "source": [
    "**invoice_line_id**"
   ]
  },
  {
   "cell_type": "code",
   "execution_count": 51,
   "metadata": {
    "vscode": {
     "languageId": "sql"
    }
   },
   "outputs": [
    {
     "data": {
      "text/html": [
       "<div>\n",
       "<style scoped>\n",
       "    .dataframe tbody tr th:only-of-type {\n",
       "        vertical-align: middle;\n",
       "    }\n",
       "\n",
       "    .dataframe tbody tr th {\n",
       "        vertical-align: top;\n",
       "    }\n",
       "\n",
       "    .dataframe thead th {\n",
       "        text-align: right;\n",
       "    }\n",
       "</style>\n",
       "<table border=\"1\" class=\"dataframe\">\n",
       "  <thead>\n",
       "    <tr style=\"text-align: right;\">\n",
       "      <th></th>\n",
       "      <th>Summary Type</th>\n",
       "      <th>Summary Count</th>\n",
       "      <th>-</th>\n",
       "      <th>Stats Type</th>\n",
       "      <th>Stats Value</th>\n",
       "      <th>--</th>\n",
       "      <th>Top Values</th>\n",
       "    </tr>\n",
       "  </thead>\n",
       "  <tbody>\n",
       "    <tr>\n",
       "      <th>0</th>\n",
       "      <td>Missing</td>\n",
       "      <td>0</td>\n",
       "      <td></td>\n",
       "      <td></td>\n",
       "      <td></td>\n",
       "      <td></td>\n",
       "      <td></td>\n",
       "    </tr>\n",
       "    <tr>\n",
       "      <th>1</th>\n",
       "      <td>Unique Count</td>\n",
       "      <td>228265</td>\n",
       "      <td></td>\n",
       "      <td></td>\n",
       "      <td></td>\n",
       "      <td></td>\n",
       "      <td></td>\n",
       "    </tr>\n",
       "    <tr>\n",
       "      <th>2</th>\n",
       "      <td>Duplicated</td>\n",
       "      <td>0</td>\n",
       "      <td></td>\n",
       "      <td></td>\n",
       "      <td></td>\n",
       "      <td></td>\n",
       "      <td></td>\n",
       "    </tr>\n",
       "    <tr>\n",
       "      <th>3</th>\n",
       "      <td>Total Count</td>\n",
       "      <td>228265</td>\n",
       "      <td></td>\n",
       "      <td></td>\n",
       "      <td></td>\n",
       "      <td></td>\n",
       "      <td></td>\n",
       "    </tr>\n",
       "    <tr>\n",
       "      <th>4</th>\n",
       "      <td>Zero</td>\n",
       "      <td>0</td>\n",
       "      <td></td>\n",
       "      <td></td>\n",
       "      <td></td>\n",
       "      <td></td>\n",
       "      <td></td>\n",
       "    </tr>\n",
       "    <tr>\n",
       "      <th>5</th>\n",
       "      <td>Negative</td>\n",
       "      <td>0</td>\n",
       "      <td></td>\n",
       "      <td></td>\n",
       "      <td></td>\n",
       "      <td></td>\n",
       "      <td></td>\n",
       "    </tr>\n",
       "  </tbody>\n",
       "</table>\n",
       "</div>"
      ],
      "text/plain": [
       "   Summary Type Summary Count  - Stats Type Stats Value -- Top Values\n",
       "0       Missing             0                                        \n",
       "1  Unique Count        228265                                        \n",
       "2    Duplicated             0                                        \n",
       "3   Total Count        228265                                        \n",
       "4          Zero             0                                        \n",
       "5      Negative             0                                        "
      ]
     },
     "execution_count": 51,
     "metadata": {},
     "output_type": "execute_result"
    }
   ],
   "source": [
    "%%sql\n",
    "SELECT * FROM get_column_summary('sales.invoice_lines', 'invoice_line_id', True);"
   ]
  },
  {
   "cell_type": "markdown",
   "metadata": {},
   "source": [
    "**invoice_id**"
   ]
  },
  {
   "cell_type": "code",
   "execution_count": 52,
   "metadata": {
    "vscode": {
     "languageId": "sql"
    }
   },
   "outputs": [
    {
     "data": {
      "text/html": [
       "<div>\n",
       "<style scoped>\n",
       "    .dataframe tbody tr th:only-of-type {\n",
       "        vertical-align: middle;\n",
       "    }\n",
       "\n",
       "    .dataframe tbody tr th {\n",
       "        vertical-align: top;\n",
       "    }\n",
       "\n",
       "    .dataframe thead th {\n",
       "        text-align: right;\n",
       "    }\n",
       "</style>\n",
       "<table border=\"1\" class=\"dataframe\">\n",
       "  <thead>\n",
       "    <tr style=\"text-align: right;\">\n",
       "      <th></th>\n",
       "      <th>Summary Type</th>\n",
       "      <th>Summary Count</th>\n",
       "      <th>-</th>\n",
       "      <th>Stats Type</th>\n",
       "      <th>Stats Value</th>\n",
       "      <th>--</th>\n",
       "      <th>Top Values</th>\n",
       "    </tr>\n",
       "  </thead>\n",
       "  <tbody>\n",
       "    <tr>\n",
       "      <th>0</th>\n",
       "      <td>Total Count</td>\n",
       "      <td>228265</td>\n",
       "      <td></td>\n",
       "      <td></td>\n",
       "      <td></td>\n",
       "      <td></td>\n",
       "      <td></td>\n",
       "    </tr>\n",
       "    <tr>\n",
       "      <th>1</th>\n",
       "      <td>Missing</td>\n",
       "      <td>0</td>\n",
       "      <td></td>\n",
       "      <td></td>\n",
       "      <td></td>\n",
       "      <td></td>\n",
       "      <td></td>\n",
       "    </tr>\n",
       "    <tr>\n",
       "      <th>2</th>\n",
       "      <td>Negative</td>\n",
       "      <td>0</td>\n",
       "      <td></td>\n",
       "      <td></td>\n",
       "      <td></td>\n",
       "      <td></td>\n",
       "      <td></td>\n",
       "    </tr>\n",
       "    <tr>\n",
       "      <th>3</th>\n",
       "      <td>Zero</td>\n",
       "      <td>0</td>\n",
       "      <td></td>\n",
       "      <td></td>\n",
       "      <td></td>\n",
       "      <td></td>\n",
       "      <td></td>\n",
       "    </tr>\n",
       "    <tr>\n",
       "      <th>4</th>\n",
       "      <td>Duplicated</td>\n",
       "      <td>157755</td>\n",
       "      <td></td>\n",
       "      <td></td>\n",
       "      <td></td>\n",
       "      <td></td>\n",
       "      <td></td>\n",
       "    </tr>\n",
       "    <tr>\n",
       "      <th>5</th>\n",
       "      <td>Unique Count</td>\n",
       "      <td>70510</td>\n",
       "      <td></td>\n",
       "      <td></td>\n",
       "      <td></td>\n",
       "      <td></td>\n",
       "      <td></td>\n",
       "    </tr>\n",
       "  </tbody>\n",
       "</table>\n",
       "</div>"
      ],
      "text/plain": [
       "   Summary Type Summary Count  - Stats Type Stats Value -- Top Values\n",
       "0   Total Count        228265                                        \n",
       "1       Missing             0                                        \n",
       "2      Negative             0                                        \n",
       "3          Zero             0                                        \n",
       "4    Duplicated        157755                                        \n",
       "5  Unique Count         70510                                        "
      ]
     },
     "execution_count": 52,
     "metadata": {},
     "output_type": "execute_result"
    }
   ],
   "source": [
    "%%sql\n",
    "SELECT * FROM get_column_summary('sales.invoice_lines', 'invoice_id', True);"
   ]
  },
  {
   "cell_type": "markdown",
   "metadata": {},
   "source": [
    "**stock_item_id**"
   ]
  },
  {
   "cell_type": "code",
   "execution_count": 53,
   "metadata": {
    "vscode": {
     "languageId": "sql"
    }
   },
   "outputs": [
    {
     "data": {
      "text/html": [
       "<div>\n",
       "<style scoped>\n",
       "    .dataframe tbody tr th:only-of-type {\n",
       "        vertical-align: middle;\n",
       "    }\n",
       "\n",
       "    .dataframe tbody tr th {\n",
       "        vertical-align: top;\n",
       "    }\n",
       "\n",
       "    .dataframe thead th {\n",
       "        text-align: right;\n",
       "    }\n",
       "</style>\n",
       "<table border=\"1\" class=\"dataframe\">\n",
       "  <thead>\n",
       "    <tr style=\"text-align: right;\">\n",
       "      <th></th>\n",
       "      <th>Summary Type</th>\n",
       "      <th>Summary Count</th>\n",
       "      <th>-</th>\n",
       "      <th>Stats Type</th>\n",
       "      <th>Stats Value</th>\n",
       "      <th>--</th>\n",
       "      <th>Top Values</th>\n",
       "    </tr>\n",
       "  </thead>\n",
       "  <tbody>\n",
       "    <tr>\n",
       "      <th>0</th>\n",
       "      <td>Total Count</td>\n",
       "      <td>228265</td>\n",
       "      <td></td>\n",
       "      <td></td>\n",
       "      <td></td>\n",
       "      <td></td>\n",
       "      <td></td>\n",
       "    </tr>\n",
       "    <tr>\n",
       "      <th>1</th>\n",
       "      <td>Missing</td>\n",
       "      <td>0</td>\n",
       "      <td></td>\n",
       "      <td></td>\n",
       "      <td></td>\n",
       "      <td></td>\n",
       "      <td></td>\n",
       "    </tr>\n",
       "    <tr>\n",
       "      <th>2</th>\n",
       "      <td>Negative</td>\n",
       "      <td>0</td>\n",
       "      <td></td>\n",
       "      <td></td>\n",
       "      <td></td>\n",
       "      <td></td>\n",
       "      <td></td>\n",
       "    </tr>\n",
       "    <tr>\n",
       "      <th>3</th>\n",
       "      <td>Zero</td>\n",
       "      <td>0</td>\n",
       "      <td></td>\n",
       "      <td></td>\n",
       "      <td></td>\n",
       "      <td></td>\n",
       "      <td></td>\n",
       "    </tr>\n",
       "    <tr>\n",
       "      <th>4</th>\n",
       "      <td>Duplicated</td>\n",
       "      <td>228038</td>\n",
       "      <td></td>\n",
       "      <td></td>\n",
       "      <td></td>\n",
       "      <td></td>\n",
       "      <td></td>\n",
       "    </tr>\n",
       "    <tr>\n",
       "      <th>5</th>\n",
       "      <td>Unique Count</td>\n",
       "      <td>227</td>\n",
       "      <td></td>\n",
       "      <td></td>\n",
       "      <td></td>\n",
       "      <td></td>\n",
       "      <td></td>\n",
       "    </tr>\n",
       "  </tbody>\n",
       "</table>\n",
       "</div>"
      ],
      "text/plain": [
       "   Summary Type Summary Count  - Stats Type Stats Value -- Top Values\n",
       "0   Total Count        228265                                        \n",
       "1       Missing             0                                        \n",
       "2      Negative             0                                        \n",
       "3          Zero             0                                        \n",
       "4    Duplicated        228038                                        \n",
       "5  Unique Count           227                                        "
      ]
     },
     "execution_count": 53,
     "metadata": {},
     "output_type": "execute_result"
    }
   ],
   "source": [
    "%%sql\n",
    "SELECT * FROM get_column_summary('sales.invoice_lines', 'stock_item_id', True);"
   ]
  },
  {
   "cell_type": "markdown",
   "metadata": {},
   "source": [
    "**description**"
   ]
  },
  {
   "cell_type": "code",
   "execution_count": 54,
   "metadata": {
    "vscode": {
     "languageId": "sql"
    }
   },
   "outputs": [
    {
     "data": {
      "text/html": [
       "<div>\n",
       "<style scoped>\n",
       "    .dataframe tbody tr th:only-of-type {\n",
       "        vertical-align: middle;\n",
       "    }\n",
       "\n",
       "    .dataframe tbody tr th {\n",
       "        vertical-align: top;\n",
       "    }\n",
       "\n",
       "    .dataframe thead th {\n",
       "        text-align: right;\n",
       "    }\n",
       "</style>\n",
       "<table border=\"1\" class=\"dataframe\">\n",
       "  <thead>\n",
       "    <tr style=\"text-align: right;\">\n",
       "      <th></th>\n",
       "      <th>Summary Type</th>\n",
       "      <th>Summary Count</th>\n",
       "      <th>-</th>\n",
       "      <th>Stats Type</th>\n",
       "      <th>Stats Value</th>\n",
       "      <th>--</th>\n",
       "      <th>Top Values</th>\n",
       "    </tr>\n",
       "  </thead>\n",
       "  <tbody>\n",
       "    <tr>\n",
       "      <th>0</th>\n",
       "      <td>Negative</td>\n",
       "      <td>None</td>\n",
       "      <td></td>\n",
       "      <td></td>\n",
       "      <td></td>\n",
       "      <td></td>\n",
       "      <td></td>\n",
       "    </tr>\n",
       "    <tr>\n",
       "      <th>1</th>\n",
       "      <td>Zero</td>\n",
       "      <td>None</td>\n",
       "      <td></td>\n",
       "      <td></td>\n",
       "      <td></td>\n",
       "      <td></td>\n",
       "      <td></td>\n",
       "    </tr>\n",
       "    <tr>\n",
       "      <th>2</th>\n",
       "      <td>Total Count</td>\n",
       "      <td>228265</td>\n",
       "      <td></td>\n",
       "      <td></td>\n",
       "      <td></td>\n",
       "      <td></td>\n",
       "      <td></td>\n",
       "    </tr>\n",
       "    <tr>\n",
       "      <th>3</th>\n",
       "      <td>Missing</td>\n",
       "      <td>0</td>\n",
       "      <td></td>\n",
       "      <td></td>\n",
       "      <td></td>\n",
       "      <td></td>\n",
       "      <td></td>\n",
       "    </tr>\n",
       "    <tr>\n",
       "      <th>4</th>\n",
       "      <td>Unique Count</td>\n",
       "      <td>227</td>\n",
       "      <td></td>\n",
       "      <td></td>\n",
       "      <td></td>\n",
       "      <td></td>\n",
       "      <td></td>\n",
       "    </tr>\n",
       "    <tr>\n",
       "      <th>5</th>\n",
       "      <td>Duplicated</td>\n",
       "      <td>228038</td>\n",
       "      <td></td>\n",
       "      <td></td>\n",
       "      <td></td>\n",
       "      <td></td>\n",
       "      <td></td>\n",
       "    </tr>\n",
       "  </tbody>\n",
       "</table>\n",
       "</div>"
      ],
      "text/plain": [
       "   Summary Type Summary Count  - Stats Type Stats Value -- Top Values\n",
       "0      Negative          None                                        \n",
       "1          Zero          None                                        \n",
       "2   Total Count        228265                                        \n",
       "3       Missing             0                                        \n",
       "4  Unique Count           227                                        \n",
       "5    Duplicated        228038                                        "
      ]
     },
     "execution_count": 54,
     "metadata": {},
     "output_type": "execute_result"
    }
   ],
   "source": [
    "%%sql\n",
    "SELECT * FROM get_column_summary('sales.invoice_lines', 'description', True);"
   ]
  },
  {
   "cell_type": "markdown",
   "metadata": {},
   "source": [
    "**package_type_id**"
   ]
  },
  {
   "cell_type": "code",
   "execution_count": 55,
   "metadata": {
    "vscode": {
     "languageId": "sql"
    }
   },
   "outputs": [
    {
     "data": {
      "text/html": [
       "<div>\n",
       "<style scoped>\n",
       "    .dataframe tbody tr th:only-of-type {\n",
       "        vertical-align: middle;\n",
       "    }\n",
       "\n",
       "    .dataframe tbody tr th {\n",
       "        vertical-align: top;\n",
       "    }\n",
       "\n",
       "    .dataframe thead th {\n",
       "        text-align: right;\n",
       "    }\n",
       "</style>\n",
       "<table border=\"1\" class=\"dataframe\">\n",
       "  <thead>\n",
       "    <tr style=\"text-align: right;\">\n",
       "      <th></th>\n",
       "      <th>Summary Type</th>\n",
       "      <th>Summary Count</th>\n",
       "      <th>-</th>\n",
       "      <th>Stats Type</th>\n",
       "      <th>Stats Value</th>\n",
       "      <th>--</th>\n",
       "      <th>Top Values</th>\n",
       "    </tr>\n",
       "  </thead>\n",
       "  <tbody>\n",
       "    <tr>\n",
       "      <th>0</th>\n",
       "      <td>Total Count</td>\n",
       "      <td>228265</td>\n",
       "      <td></td>\n",
       "      <td></td>\n",
       "      <td></td>\n",
       "      <td></td>\n",
       "      <td></td>\n",
       "    </tr>\n",
       "    <tr>\n",
       "      <th>1</th>\n",
       "      <td>Missing</td>\n",
       "      <td>0</td>\n",
       "      <td></td>\n",
       "      <td></td>\n",
       "      <td></td>\n",
       "      <td></td>\n",
       "      <td></td>\n",
       "    </tr>\n",
       "    <tr>\n",
       "      <th>2</th>\n",
       "      <td>Negative</td>\n",
       "      <td>0</td>\n",
       "      <td></td>\n",
       "      <td></td>\n",
       "      <td></td>\n",
       "      <td></td>\n",
       "      <td></td>\n",
       "    </tr>\n",
       "    <tr>\n",
       "      <th>3</th>\n",
       "      <td>Duplicated</td>\n",
       "      <td>228261</td>\n",
       "      <td></td>\n",
       "      <td></td>\n",
       "      <td></td>\n",
       "      <td></td>\n",
       "      <td></td>\n",
       "    </tr>\n",
       "    <tr>\n",
       "      <th>4</th>\n",
       "      <td>Unique Count</td>\n",
       "      <td>4</td>\n",
       "      <td></td>\n",
       "      <td></td>\n",
       "      <td></td>\n",
       "      <td></td>\n",
       "      <td></td>\n",
       "    </tr>\n",
       "    <tr>\n",
       "      <th>5</th>\n",
       "      <td>Zero</td>\n",
       "      <td>0</td>\n",
       "      <td></td>\n",
       "      <td></td>\n",
       "      <td></td>\n",
       "      <td></td>\n",
       "      <td></td>\n",
       "    </tr>\n",
       "  </tbody>\n",
       "</table>\n",
       "</div>"
      ],
      "text/plain": [
       "   Summary Type Summary Count  - Stats Type Stats Value -- Top Values\n",
       "0   Total Count        228265                                        \n",
       "1       Missing             0                                        \n",
       "2      Negative             0                                        \n",
       "3    Duplicated        228261                                        \n",
       "4  Unique Count             4                                        \n",
       "5          Zero             0                                        "
      ]
     },
     "execution_count": 55,
     "metadata": {},
     "output_type": "execute_result"
    }
   ],
   "source": [
    "%%sql\n",
    "SELECT * FROM get_column_summary('sales.invoice_lines', 'package_type_id', True);"
   ]
  },
  {
   "cell_type": "markdown",
   "metadata": {},
   "source": [
    "**quantity**"
   ]
  },
  {
   "cell_type": "code",
   "execution_count": 56,
   "metadata": {
    "vscode": {
     "languageId": "sql"
    }
   },
   "outputs": [
    {
     "data": {
      "text/html": [
       "<div>\n",
       "<style scoped>\n",
       "    .dataframe tbody tr th:only-of-type {\n",
       "        vertical-align: middle;\n",
       "    }\n",
       "\n",
       "    .dataframe tbody tr th {\n",
       "        vertical-align: top;\n",
       "    }\n",
       "\n",
       "    .dataframe thead th {\n",
       "        text-align: right;\n",
       "    }\n",
       "</style>\n",
       "<table border=\"1\" class=\"dataframe\">\n",
       "  <thead>\n",
       "    <tr style=\"text-align: right;\">\n",
       "      <th></th>\n",
       "      <th>Summary Type</th>\n",
       "      <th>Summary Count</th>\n",
       "      <th>-</th>\n",
       "      <th>Stats Type</th>\n",
       "      <th>Stats Value</th>\n",
       "      <th>--</th>\n",
       "      <th>Top Values</th>\n",
       "    </tr>\n",
       "  </thead>\n",
       "  <tbody>\n",
       "    <tr>\n",
       "      <th>0</th>\n",
       "      <td>Total Count</td>\n",
       "      <td>228265</td>\n",
       "      <td></td>\n",
       "      <td>Max</td>\n",
       "      <td>360</td>\n",
       "      <td></td>\n",
       "      <td>10 (15799)</td>\n",
       "    </tr>\n",
       "    <tr>\n",
       "      <th>1</th>\n",
       "      <td>Unique Count</td>\n",
       "      <td>61</td>\n",
       "      <td></td>\n",
       "      <td>75%</td>\n",
       "      <td>60</td>\n",
       "      <td></td>\n",
       "      <td>5 (12876)</td>\n",
       "    </tr>\n",
       "    <tr>\n",
       "      <th>2</th>\n",
       "      <td>Zero</td>\n",
       "      <td>0</td>\n",
       "      <td></td>\n",
       "      <td>Mean</td>\n",
       "      <td>39.21</td>\n",
       "      <td></td>\n",
       "      <td>1 (12716)</td>\n",
       "    </tr>\n",
       "    <tr>\n",
       "      <th>3</th>\n",
       "      <td>Missing</td>\n",
       "      <td>0</td>\n",
       "      <td></td>\n",
       "      <td>Median</td>\n",
       "      <td>10</td>\n",
       "      <td></td>\n",
       "      <td>8 (12701)</td>\n",
       "    </tr>\n",
       "    <tr>\n",
       "      <th>4</th>\n",
       "      <td>Duplicated</td>\n",
       "      <td>228204</td>\n",
       "      <td></td>\n",
       "      <td>25%</td>\n",
       "      <td>5</td>\n",
       "      <td></td>\n",
       "      <td>7 (12681)</td>\n",
       "    </tr>\n",
       "    <tr>\n",
       "      <th>5</th>\n",
       "      <td>Negative</td>\n",
       "      <td>0</td>\n",
       "      <td></td>\n",
       "      <td>Min</td>\n",
       "      <td>1</td>\n",
       "      <td></td>\n",
       "      <td>2 (12654)</td>\n",
       "    </tr>\n",
       "  </tbody>\n",
       "</table>\n",
       "</div>"
      ],
      "text/plain": [
       "   Summary Type Summary Count  - Stats Type Stats Value --  Top Values\n",
       "0   Total Count        228265           Max         360     10 (15799)\n",
       "1  Unique Count            61           75%          60      5 (12876)\n",
       "2          Zero             0          Mean       39.21      1 (12716)\n",
       "3       Missing             0        Median          10      8 (12701)\n",
       "4    Duplicated        228204           25%           5      7 (12681)\n",
       "5      Negative             0           Min           1      2 (12654)"
      ]
     },
     "execution_count": 56,
     "metadata": {},
     "output_type": "execute_result"
    }
   ],
   "source": [
    "%%sql\n",
    "SELECT * FROM get_column_summary('sales.invoice_lines', 'quantity', False);"
   ]
  },
  {
   "cell_type": "markdown",
   "metadata": {},
   "source": [
    "**unit_price**"
   ]
  },
  {
   "cell_type": "code",
   "execution_count": 57,
   "metadata": {
    "vscode": {
     "languageId": "sql"
    }
   },
   "outputs": [
    {
     "data": {
      "text/html": [
       "<div>\n",
       "<style scoped>\n",
       "    .dataframe tbody tr th:only-of-type {\n",
       "        vertical-align: middle;\n",
       "    }\n",
       "\n",
       "    .dataframe tbody tr th {\n",
       "        vertical-align: top;\n",
       "    }\n",
       "\n",
       "    .dataframe thead th {\n",
       "        text-align: right;\n",
       "    }\n",
       "</style>\n",
       "<table border=\"1\" class=\"dataframe\">\n",
       "  <thead>\n",
       "    <tr style=\"text-align: right;\">\n",
       "      <th></th>\n",
       "      <th>Summary Type</th>\n",
       "      <th>Summary Count</th>\n",
       "      <th>-</th>\n",
       "      <th>Stats Type</th>\n",
       "      <th>Stats Value</th>\n",
       "      <th>--</th>\n",
       "      <th>Top Values</th>\n",
       "    </tr>\n",
       "  </thead>\n",
       "  <tbody>\n",
       "    <tr>\n",
       "      <th>0</th>\n",
       "      <td>Total Count</td>\n",
       "      <td>228265</td>\n",
       "      <td></td>\n",
       "      <td>Max</td>\n",
       "      <td>1899</td>\n",
       "      <td></td>\n",
       "      <td>13.00 (44577)</td>\n",
       "    </tr>\n",
       "    <tr>\n",
       "      <th>1</th>\n",
       "      <td>Duplicated</td>\n",
       "      <td>228203</td>\n",
       "      <td></td>\n",
       "      <td>75%</td>\n",
       "      <td>32</td>\n",
       "      <td></td>\n",
       "      <td>32.00 (35177)</td>\n",
       "    </tr>\n",
       "    <tr>\n",
       "      <th>2</th>\n",
       "      <td>Zero</td>\n",
       "      <td>0</td>\n",
       "      <td></td>\n",
       "      <td>Mean</td>\n",
       "      <td>45.59</td>\n",
       "      <td></td>\n",
       "      <td>18.00 (34326)</td>\n",
       "    </tr>\n",
       "    <tr>\n",
       "      <th>3</th>\n",
       "      <td>Missing</td>\n",
       "      <td>0</td>\n",
       "      <td></td>\n",
       "      <td>Median</td>\n",
       "      <td>18</td>\n",
       "      <td></td>\n",
       "      <td>25.00 (13553)</td>\n",
       "    </tr>\n",
       "    <tr>\n",
       "      <th>4</th>\n",
       "      <td>Unique Count</td>\n",
       "      <td>62</td>\n",
       "      <td></td>\n",
       "      <td>25%</td>\n",
       "      <td>13</td>\n",
       "      <td></td>\n",
       "      <td>30.00 (7307)</td>\n",
       "    </tr>\n",
       "    <tr>\n",
       "      <th>5</th>\n",
       "      <td>Negative</td>\n",
       "      <td>0</td>\n",
       "      <td></td>\n",
       "      <td>Min</td>\n",
       "      <td>0.66</td>\n",
       "      <td></td>\n",
       "      <td>4.10 (7290)</td>\n",
       "    </tr>\n",
       "  </tbody>\n",
       "</table>\n",
       "</div>"
      ],
      "text/plain": [
       "   Summary Type Summary Count  - Stats Type Stats Value --     Top Values\n",
       "0   Total Count        228265           Max        1899     13.00 (44577)\n",
       "1    Duplicated        228203           75%          32     32.00 (35177)\n",
       "2          Zero             0          Mean       45.59     18.00 (34326)\n",
       "3       Missing             0        Median          18     25.00 (13553)\n",
       "4  Unique Count            62           25%          13      30.00 (7307)\n",
       "5      Negative             0           Min        0.66       4.10 (7290)"
      ]
     },
     "execution_count": 57,
     "metadata": {},
     "output_type": "execute_result"
    }
   ],
   "source": [
    "%%sql\n",
    "SELECT * FROM get_column_summary('sales.invoice_lines', 'unit_price', False);"
   ]
  },
  {
   "cell_type": "markdown",
   "metadata": {},
   "source": [
    "**tax_rate**"
   ]
  },
  {
   "cell_type": "code",
   "execution_count": 58,
   "metadata": {
    "vscode": {
     "languageId": "sql"
    }
   },
   "outputs": [
    {
     "data": {
      "text/html": [
       "<div>\n",
       "<style scoped>\n",
       "    .dataframe tbody tr th:only-of-type {\n",
       "        vertical-align: middle;\n",
       "    }\n",
       "\n",
       "    .dataframe tbody tr th {\n",
       "        vertical-align: top;\n",
       "    }\n",
       "\n",
       "    .dataframe thead th {\n",
       "        text-align: right;\n",
       "    }\n",
       "</style>\n",
       "<table border=\"1\" class=\"dataframe\">\n",
       "  <thead>\n",
       "    <tr style=\"text-align: right;\">\n",
       "      <th></th>\n",
       "      <th>Summary Type</th>\n",
       "      <th>Summary Count</th>\n",
       "      <th>-</th>\n",
       "      <th>Stats Type</th>\n",
       "      <th>Stats Value</th>\n",
       "      <th>--</th>\n",
       "      <th>Top Values</th>\n",
       "    </tr>\n",
       "  </thead>\n",
       "  <tbody>\n",
       "    <tr>\n",
       "      <th>0</th>\n",
       "      <td>Total Count</td>\n",
       "      <td>228265</td>\n",
       "      <td></td>\n",
       "      <td>Max</td>\n",
       "      <td>15</td>\n",
       "      <td></td>\n",
       "      <td>15.000 (227229)</td>\n",
       "    </tr>\n",
       "    <tr>\n",
       "      <th>1</th>\n",
       "      <td>Duplicated</td>\n",
       "      <td>228263</td>\n",
       "      <td></td>\n",
       "      <td>75%</td>\n",
       "      <td>15</td>\n",
       "      <td></td>\n",
       "      <td>10.000 (1036)</td>\n",
       "    </tr>\n",
       "    <tr>\n",
       "      <th>2</th>\n",
       "      <td>Zero</td>\n",
       "      <td>0</td>\n",
       "      <td></td>\n",
       "      <td>Mean</td>\n",
       "      <td>14.98</td>\n",
       "      <td></td>\n",
       "      <td>None</td>\n",
       "    </tr>\n",
       "    <tr>\n",
       "      <th>3</th>\n",
       "      <td>Missing</td>\n",
       "      <td>0</td>\n",
       "      <td></td>\n",
       "      <td>Median</td>\n",
       "      <td>15</td>\n",
       "      <td></td>\n",
       "      <td>None</td>\n",
       "    </tr>\n",
       "    <tr>\n",
       "      <th>4</th>\n",
       "      <td>Unique Count</td>\n",
       "      <td>2</td>\n",
       "      <td></td>\n",
       "      <td>25%</td>\n",
       "      <td>15</td>\n",
       "      <td></td>\n",
       "      <td>None</td>\n",
       "    </tr>\n",
       "    <tr>\n",
       "      <th>5</th>\n",
       "      <td>Negative</td>\n",
       "      <td>0</td>\n",
       "      <td></td>\n",
       "      <td>Min</td>\n",
       "      <td>10</td>\n",
       "      <td></td>\n",
       "      <td>None</td>\n",
       "    </tr>\n",
       "  </tbody>\n",
       "</table>\n",
       "</div>"
      ],
      "text/plain": [
       "   Summary Type Summary Count  - Stats Type Stats Value --       Top Values\n",
       "0   Total Count        228265           Max          15     15.000 (227229)\n",
       "1    Duplicated        228263           75%          15       10.000 (1036)\n",
       "2          Zero             0          Mean       14.98                None\n",
       "3       Missing             0        Median          15                None\n",
       "4  Unique Count             2           25%          15                None\n",
       "5      Negative             0           Min          10                None"
      ]
     },
     "execution_count": 58,
     "metadata": {},
     "output_type": "execute_result"
    }
   ],
   "source": [
    "%%sql\n",
    "SELECT * FROM get_column_summary('sales.invoice_lines', 'tax_rate', False);"
   ]
  },
  {
   "cell_type": "markdown",
   "metadata": {},
   "source": [
    "**tax_amount**"
   ]
  },
  {
   "cell_type": "code",
   "execution_count": 59,
   "metadata": {
    "vscode": {
     "languageId": "sql"
    }
   },
   "outputs": [
    {
     "data": {
      "text/html": [
       "<div>\n",
       "<style scoped>\n",
       "    .dataframe tbody tr th:only-of-type {\n",
       "        vertical-align: middle;\n",
       "    }\n",
       "\n",
       "    .dataframe tbody tr th {\n",
       "        vertical-align: top;\n",
       "    }\n",
       "\n",
       "    .dataframe thead th {\n",
       "        text-align: right;\n",
       "    }\n",
       "</style>\n",
       "<table border=\"1\" class=\"dataframe\">\n",
       "  <thead>\n",
       "    <tr style=\"text-align: right;\">\n",
       "      <th></th>\n",
       "      <th>Summary Type</th>\n",
       "      <th>Summary Count</th>\n",
       "      <th>-</th>\n",
       "      <th>Stats Type</th>\n",
       "      <th>Stats Value</th>\n",
       "      <th>--</th>\n",
       "      <th>Top Values</th>\n",
       "    </tr>\n",
       "  </thead>\n",
       "  <tbody>\n",
       "    <tr>\n",
       "      <th>0</th>\n",
       "      <td>Total Count</td>\n",
       "      <td>228265</td>\n",
       "      <td></td>\n",
       "      <td>Max</td>\n",
       "      <td>2848.5</td>\n",
       "      <td></td>\n",
       "      <td>13.65 (4613)</td>\n",
       "    </tr>\n",
       "    <tr>\n",
       "      <th>1</th>\n",
       "      <td>Duplicated</td>\n",
       "      <td>227772</td>\n",
       "      <td></td>\n",
       "      <td>75%</td>\n",
       "      <td>129.6</td>\n",
       "      <td></td>\n",
       "      <td>1.95 (4580)</td>\n",
       "    </tr>\n",
       "    <tr>\n",
       "      <th>2</th>\n",
       "      <td>Negative</td>\n",
       "      <td>0</td>\n",
       "      <td></td>\n",
       "      <td>Mean</td>\n",
       "      <td>112.95</td>\n",
       "      <td></td>\n",
       "      <td>5.85 (4514)</td>\n",
       "    </tr>\n",
       "    <tr>\n",
       "      <th>3</th>\n",
       "      <td>Missing</td>\n",
       "      <td>0</td>\n",
       "      <td></td>\n",
       "      <td>Median</td>\n",
       "      <td>34.5</td>\n",
       "      <td></td>\n",
       "      <td>3.90 (4505)</td>\n",
       "    </tr>\n",
       "    <tr>\n",
       "      <th>4</th>\n",
       "      <td>Unique Count</td>\n",
       "      <td>493</td>\n",
       "      <td></td>\n",
       "      <td>25%</td>\n",
       "      <td>14.4</td>\n",
       "      <td></td>\n",
       "      <td>17.55 (4469)</td>\n",
       "    </tr>\n",
       "    <tr>\n",
       "      <th>5</th>\n",
       "      <td>Zero</td>\n",
       "      <td>0</td>\n",
       "      <td></td>\n",
       "      <td>Min</td>\n",
       "      <td>0.38</td>\n",
       "      <td></td>\n",
       "      <td>15.60 (4451)</td>\n",
       "    </tr>\n",
       "  </tbody>\n",
       "</table>\n",
       "</div>"
      ],
      "text/plain": [
       "   Summary Type Summary Count  - Stats Type Stats Value --    Top Values\n",
       "0   Total Count        228265           Max      2848.5     13.65 (4613)\n",
       "1    Duplicated        227772           75%       129.6      1.95 (4580)\n",
       "2      Negative             0          Mean      112.95      5.85 (4514)\n",
       "3       Missing             0        Median        34.5      3.90 (4505)\n",
       "4  Unique Count           493           25%        14.4     17.55 (4469)\n",
       "5          Zero             0           Min        0.38     15.60 (4451)"
      ]
     },
     "execution_count": 59,
     "metadata": {},
     "output_type": "execute_result"
    }
   ],
   "source": [
    "%%sql\n",
    "SELECT * FROM get_column_summary('sales.invoice_lines', 'tax_amount', False);"
   ]
  },
  {
   "cell_type": "markdown",
   "metadata": {},
   "source": [
    "**line_profit**"
   ]
  },
  {
   "cell_type": "code",
   "execution_count": 60,
   "metadata": {
    "vscode": {
     "languageId": "sql"
    }
   },
   "outputs": [
    {
     "data": {
      "text/html": [
       "<div>\n",
       "<style scoped>\n",
       "    .dataframe tbody tr th:only-of-type {\n",
       "        vertical-align: middle;\n",
       "    }\n",
       "\n",
       "    .dataframe tbody tr th {\n",
       "        vertical-align: top;\n",
       "    }\n",
       "\n",
       "    .dataframe thead th {\n",
       "        text-align: right;\n",
       "    }\n",
       "</style>\n",
       "<table border=\"1\" class=\"dataframe\">\n",
       "  <thead>\n",
       "    <tr style=\"text-align: right;\">\n",
       "      <th></th>\n",
       "      <th>Summary Type</th>\n",
       "      <th>Summary Count</th>\n",
       "      <th>-</th>\n",
       "      <th>Stats Type</th>\n",
       "      <th>Stats Value</th>\n",
       "      <th>--</th>\n",
       "      <th>Top Values</th>\n",
       "    </tr>\n",
       "  </thead>\n",
       "  <tbody>\n",
       "    <tr>\n",
       "      <th>0</th>\n",
       "      <td>Total Count</td>\n",
       "      <td>228265</td>\n",
       "      <td></td>\n",
       "      <td>Max</td>\n",
       "      <td>9200</td>\n",
       "      <td></td>\n",
       "      <td>85.00 (5056)</td>\n",
       "    </tr>\n",
       "    <tr>\n",
       "      <th>1</th>\n",
       "      <td>Unique Count</td>\n",
       "      <td>570</td>\n",
       "      <td></td>\n",
       "      <td>75%</td>\n",
       "      <td>390</td>\n",
       "      <td></td>\n",
       "      <td>68.00 (4662)</td>\n",
       "    </tr>\n",
       "    <tr>\n",
       "      <th>2</th>\n",
       "      <td>Negative</td>\n",
       "      <td>4626</td>\n",
       "      <td></td>\n",
       "      <td>Mean</td>\n",
       "      <td>375.57</td>\n",
       "      <td></td>\n",
       "      <td>59.50 (4613)</td>\n",
       "    </tr>\n",
       "    <tr>\n",
       "      <th>3</th>\n",
       "      <td>Duplicated</td>\n",
       "      <td>227695</td>\n",
       "      <td></td>\n",
       "      <td>Median</td>\n",
       "      <td>120</td>\n",
       "      <td></td>\n",
       "      <td>25.50 (4610)</td>\n",
       "    </tr>\n",
       "    <tr>\n",
       "      <th>4</th>\n",
       "      <td>Zero</td>\n",
       "      <td>0</td>\n",
       "      <td></td>\n",
       "      <td>25%</td>\n",
       "      <td>51</td>\n",
       "      <td></td>\n",
       "      <td>17.00 (4598)</td>\n",
       "    </tr>\n",
       "    <tr>\n",
       "      <th>5</th>\n",
       "      <td>Missing</td>\n",
       "      <td>0</td>\n",
       "      <td></td>\n",
       "      <td>Min</td>\n",
       "      <td>-645</td>\n",
       "      <td></td>\n",
       "      <td>8.50 (4580)</td>\n",
       "    </tr>\n",
       "  </tbody>\n",
       "</table>\n",
       "</div>"
      ],
      "text/plain": [
       "   Summary Type Summary Count  - Stats Type Stats Value --    Top Values\n",
       "0   Total Count        228265           Max        9200     85.00 (5056)\n",
       "1  Unique Count           570           75%         390     68.00 (4662)\n",
       "2      Negative          4626          Mean      375.57     59.50 (4613)\n",
       "3    Duplicated        227695        Median         120     25.50 (4610)\n",
       "4          Zero             0           25%          51     17.00 (4598)\n",
       "5       Missing             0           Min        -645      8.50 (4580)"
      ]
     },
     "execution_count": 60,
     "metadata": {},
     "output_type": "execute_result"
    }
   ],
   "source": [
    "%%sql\n",
    "SELECT * FROM get_column_summary('sales.invoice_lines', 'line_profit', False);"
   ]
  },
  {
   "cell_type": "markdown",
   "metadata": {},
   "source": [
    "**extended_price**"
   ]
  },
  {
   "cell_type": "code",
   "execution_count": 61,
   "metadata": {
    "vscode": {
     "languageId": "sql"
    }
   },
   "outputs": [
    {
     "data": {
      "text/html": [
       "<div>\n",
       "<style scoped>\n",
       "    .dataframe tbody tr th:only-of-type {\n",
       "        vertical-align: middle;\n",
       "    }\n",
       "\n",
       "    .dataframe tbody tr th {\n",
       "        vertical-align: top;\n",
       "    }\n",
       "\n",
       "    .dataframe thead th {\n",
       "        text-align: right;\n",
       "    }\n",
       "</style>\n",
       "<table border=\"1\" class=\"dataframe\">\n",
       "  <thead>\n",
       "    <tr style=\"text-align: right;\">\n",
       "      <th></th>\n",
       "      <th>Summary Type</th>\n",
       "      <th>Summary Count</th>\n",
       "      <th>-</th>\n",
       "      <th>Stats Type</th>\n",
       "      <th>Stats Value</th>\n",
       "      <th>--</th>\n",
       "      <th>Top Values</th>\n",
       "    </tr>\n",
       "  </thead>\n",
       "  <tbody>\n",
       "    <tr>\n",
       "      <th>0</th>\n",
       "      <td>Total Count</td>\n",
       "      <td>228265</td>\n",
       "      <td></td>\n",
       "      <td>Max</td>\n",
       "      <td>21838.5</td>\n",
       "      <td></td>\n",
       "      <td>104.65 (4613)</td>\n",
       "    </tr>\n",
       "    <tr>\n",
       "      <th>1</th>\n",
       "      <td>Duplicated</td>\n",
       "      <td>227768</td>\n",
       "      <td></td>\n",
       "      <td>75%</td>\n",
       "      <td>993.6</td>\n",
       "      <td></td>\n",
       "      <td>14.95 (4580)</td>\n",
       "    </tr>\n",
       "    <tr>\n",
       "      <th>2</th>\n",
       "      <td>Zero</td>\n",
       "      <td>0</td>\n",
       "      <td></td>\n",
       "      <td>Mean</td>\n",
       "      <td>867.6</td>\n",
       "      <td></td>\n",
       "      <td>44.85 (4514)</td>\n",
       "    </tr>\n",
       "    <tr>\n",
       "      <th>3</th>\n",
       "      <td>Unique Count</td>\n",
       "      <td>497</td>\n",
       "      <td></td>\n",
       "      <td>Median</td>\n",
       "      <td>264.5</td>\n",
       "      <td></td>\n",
       "      <td>29.90 (4505)</td>\n",
       "    </tr>\n",
       "    <tr>\n",
       "      <th>4</th>\n",
       "      <td>Negative</td>\n",
       "      <td>0</td>\n",
       "      <td></td>\n",
       "      <td>25%</td>\n",
       "      <td>110.4</td>\n",
       "      <td></td>\n",
       "      <td>134.55 (4469)</td>\n",
       "    </tr>\n",
       "    <tr>\n",
       "      <th>5</th>\n",
       "      <td>Missing</td>\n",
       "      <td>0</td>\n",
       "      <td></td>\n",
       "      <td>Min</td>\n",
       "      <td>2.88</td>\n",
       "      <td></td>\n",
       "      <td>119.60 (4451)</td>\n",
       "    </tr>\n",
       "  </tbody>\n",
       "</table>\n",
       "</div>"
      ],
      "text/plain": [
       "   Summary Type Summary Count  - Stats Type Stats Value --     Top Values\n",
       "0   Total Count        228265           Max     21838.5     104.65 (4613)\n",
       "1    Duplicated        227768           75%       993.6      14.95 (4580)\n",
       "2          Zero             0          Mean       867.6      44.85 (4514)\n",
       "3  Unique Count           497        Median       264.5      29.90 (4505)\n",
       "4      Negative             0           25%       110.4     134.55 (4469)\n",
       "5       Missing             0           Min        2.88     119.60 (4451)"
      ]
     },
     "execution_count": 61,
     "metadata": {},
     "output_type": "execute_result"
    }
   ],
   "source": [
    "%%sql\n",
    "SELECT * FROM get_column_summary('sales.invoice_lines', 'extended_price', False);"
   ]
  },
  {
   "cell_type": "markdown",
   "metadata": {},
   "source": [
    "**Key Observations:**  \n",
    "\n",
    "- There are no missing values in the columns we need.\n",
    "- No critical anomalies were found."
   ]
  },
  {
   "cell_type": "markdown",
   "metadata": {},
   "source": [
    "##### Table sales.customer_transactions"
   ]
  },
  {
   "cell_type": "markdown",
   "metadata": {},
   "source": [
    "Let's look at the rows."
   ]
  },
  {
   "cell_type": "code",
   "execution_count": 62,
   "metadata": {
    "vscode": {
     "languageId": "sql"
    }
   },
   "outputs": [
    {
     "data": {
      "text/html": [
       "<div>\n",
       "<style scoped>\n",
       "    .dataframe tbody tr th:only-of-type {\n",
       "        vertical-align: middle;\n",
       "    }\n",
       "\n",
       "    .dataframe tbody tr th {\n",
       "        vertical-align: top;\n",
       "    }\n",
       "\n",
       "    .dataframe thead th {\n",
       "        text-align: right;\n",
       "    }\n",
       "</style>\n",
       "<table border=\"1\" class=\"dataframe\">\n",
       "  <thead>\n",
       "    <tr style=\"text-align: right;\">\n",
       "      <th></th>\n",
       "      <th>customer_transaction_id</th>\n",
       "      <th>customer_id</th>\n",
       "      <th>transaction_type_id</th>\n",
       "      <th>invoice_id</th>\n",
       "      <th>payment_method_id</th>\n",
       "      <th>transaction_date</th>\n",
       "      <th>amount_excluding_tax</th>\n",
       "      <th>tax_amount</th>\n",
       "      <th>transaction_amount</th>\n",
       "      <th>outstanding_balance</th>\n",
       "      <th>finalization_date</th>\n",
       "      <th>is_finalized</th>\n",
       "      <th>last_edited_by</th>\n",
       "      <th>last_edited_when</th>\n",
       "    </tr>\n",
       "  </thead>\n",
       "  <tbody>\n",
       "    <tr>\n",
       "      <th>0</th>\n",
       "      <td>5</td>\n",
       "      <td>803</td>\n",
       "      <td>1</td>\n",
       "      <td>2</td>\n",
       "      <td>None</td>\n",
       "      <td>2013-01-01</td>\n",
       "      <td>405.00</td>\n",
       "      <td>60.75</td>\n",
       "      <td>465.75</td>\n",
       "      <td>0.00</td>\n",
       "      <td>2013-01-02</td>\n",
       "      <td>True</td>\n",
       "      <td>10</td>\n",
       "      <td>2013-01-02 11:30:00</td>\n",
       "    </tr>\n",
       "    <tr>\n",
       "      <th>1</th>\n",
       "      <td>7</td>\n",
       "      <td>1</td>\n",
       "      <td>1</td>\n",
       "      <td>3</td>\n",
       "      <td>None</td>\n",
       "      <td>2013-01-01</td>\n",
       "      <td>90.00</td>\n",
       "      <td>13.50</td>\n",
       "      <td>103.50</td>\n",
       "      <td>0.00</td>\n",
       "      <td>2013-01-02</td>\n",
       "      <td>True</td>\n",
       "      <td>10</td>\n",
       "      <td>2013-01-02 11:30:00</td>\n",
       "    </tr>\n",
       "    <tr>\n",
       "      <th>2</th>\n",
       "      <td>11</td>\n",
       "      <td>1</td>\n",
       "      <td>1</td>\n",
       "      <td>4</td>\n",
       "      <td>None</td>\n",
       "      <td>2013-01-01</td>\n",
       "      <td>445.20</td>\n",
       "      <td>66.78</td>\n",
       "      <td>511.98</td>\n",
       "      <td>0.00</td>\n",
       "      <td>2013-01-02</td>\n",
       "      <td>True</td>\n",
       "      <td>10</td>\n",
       "      <td>2013-01-02 11:30:00</td>\n",
       "    </tr>\n",
       "    <tr>\n",
       "      <th>3</th>\n",
       "      <td>15</td>\n",
       "      <td>905</td>\n",
       "      <td>1</td>\n",
       "      <td>5</td>\n",
       "      <td>None</td>\n",
       "      <td>2013-01-01</td>\n",
       "      <td>704.00</td>\n",
       "      <td>105.60</td>\n",
       "      <td>809.60</td>\n",
       "      <td>0.00</td>\n",
       "      <td>2013-01-02</td>\n",
       "      <td>True</td>\n",
       "      <td>10</td>\n",
       "      <td>2013-01-02 11:30:00</td>\n",
       "    </tr>\n",
       "    <tr>\n",
       "      <th>4</th>\n",
       "      <td>19</td>\n",
       "      <td>976</td>\n",
       "      <td>1</td>\n",
       "      <td>6</td>\n",
       "      <td>None</td>\n",
       "      <td>2013-01-01</td>\n",
       "      <td>430.00</td>\n",
       "      <td>64.50</td>\n",
       "      <td>494.50</td>\n",
       "      <td>0.00</td>\n",
       "      <td>2013-01-02</td>\n",
       "      <td>True</td>\n",
       "      <td>10</td>\n",
       "      <td>2013-01-02 11:30:00</td>\n",
       "    </tr>\n",
       "  </tbody>\n",
       "</table>\n",
       "</div>"
      ],
      "text/plain": [
       "   customer_transaction_id  customer_id  transaction_type_id  invoice_id  \\\n",
       "0                        5          803                    1           2   \n",
       "1                        7            1                    1           3   \n",
       "2                       11            1                    1           4   \n",
       "3                       15          905                    1           5   \n",
       "4                       19          976                    1           6   \n",
       "\n",
       "  payment_method_id transaction_date amount_excluding_tax tax_amount  \\\n",
       "0              None       2013-01-01               405.00      60.75   \n",
       "1              None       2013-01-01                90.00      13.50   \n",
       "2              None       2013-01-01               445.20      66.78   \n",
       "3              None       2013-01-01               704.00     105.60   \n",
       "4              None       2013-01-01               430.00      64.50   \n",
       "\n",
       "  transaction_amount outstanding_balance finalization_date  is_finalized  \\\n",
       "0             465.75                0.00        2013-01-02          True   \n",
       "1             103.50                0.00        2013-01-02          True   \n",
       "2             511.98                0.00        2013-01-02          True   \n",
       "3             809.60                0.00        2013-01-02          True   \n",
       "4             494.50                0.00        2013-01-02          True   \n",
       "\n",
       "   last_edited_by    last_edited_when  \n",
       "0              10 2013-01-02 11:30:00  \n",
       "1              10 2013-01-02 11:30:00  \n",
       "2              10 2013-01-02 11:30:00  \n",
       "3              10 2013-01-02 11:30:00  \n",
       "4              10 2013-01-02 11:30:00  "
      ]
     },
     "execution_count": 62,
     "metadata": {},
     "output_type": "execute_result"
    }
   ],
   "source": [
    "%%sql \n",
    "SELECT\n",
    "    *\n",
    "FROM\n",
    "    sales.customer_transactions\n",
    "LIMIT 5"
   ]
  },
  {
   "cell_type": "markdown",
   "metadata": {},
   "source": [
    "Let's examine each column we will use for creating the dashboard individually."
   ]
  },
  {
   "cell_type": "markdown",
   "metadata": {},
   "source": [
    "**customer_transaction_id**"
   ]
  },
  {
   "cell_type": "code",
   "execution_count": 63,
   "metadata": {
    "vscode": {
     "languageId": "sql"
    }
   },
   "outputs": [
    {
     "data": {
      "text/html": [
       "<div>\n",
       "<style scoped>\n",
       "    .dataframe tbody tr th:only-of-type {\n",
       "        vertical-align: middle;\n",
       "    }\n",
       "\n",
       "    .dataframe tbody tr th {\n",
       "        vertical-align: top;\n",
       "    }\n",
       "\n",
       "    .dataframe thead th {\n",
       "        text-align: right;\n",
       "    }\n",
       "</style>\n",
       "<table border=\"1\" class=\"dataframe\">\n",
       "  <thead>\n",
       "    <tr style=\"text-align: right;\">\n",
       "      <th></th>\n",
       "      <th>Summary Type</th>\n",
       "      <th>Summary Count</th>\n",
       "      <th>-</th>\n",
       "      <th>Stats Type</th>\n",
       "      <th>Stats Value</th>\n",
       "      <th>--</th>\n",
       "      <th>Top Values</th>\n",
       "    </tr>\n",
       "  </thead>\n",
       "  <tbody>\n",
       "    <tr>\n",
       "      <th>0</th>\n",
       "      <td>Missing</td>\n",
       "      <td>0</td>\n",
       "      <td></td>\n",
       "      <td></td>\n",
       "      <td></td>\n",
       "      <td></td>\n",
       "      <td></td>\n",
       "    </tr>\n",
       "    <tr>\n",
       "      <th>1</th>\n",
       "      <td>Total Count</td>\n",
       "      <td>97147</td>\n",
       "      <td></td>\n",
       "      <td></td>\n",
       "      <td></td>\n",
       "      <td></td>\n",
       "      <td></td>\n",
       "    </tr>\n",
       "    <tr>\n",
       "      <th>2</th>\n",
       "      <td>Duplicated</td>\n",
       "      <td>0</td>\n",
       "      <td></td>\n",
       "      <td></td>\n",
       "      <td></td>\n",
       "      <td></td>\n",
       "      <td></td>\n",
       "    </tr>\n",
       "    <tr>\n",
       "      <th>3</th>\n",
       "      <td>Zero</td>\n",
       "      <td>0</td>\n",
       "      <td></td>\n",
       "      <td></td>\n",
       "      <td></td>\n",
       "      <td></td>\n",
       "      <td></td>\n",
       "    </tr>\n",
       "    <tr>\n",
       "      <th>4</th>\n",
       "      <td>Unique Count</td>\n",
       "      <td>97147</td>\n",
       "      <td></td>\n",
       "      <td></td>\n",
       "      <td></td>\n",
       "      <td></td>\n",
       "      <td></td>\n",
       "    </tr>\n",
       "    <tr>\n",
       "      <th>5</th>\n",
       "      <td>Negative</td>\n",
       "      <td>0</td>\n",
       "      <td></td>\n",
       "      <td></td>\n",
       "      <td></td>\n",
       "      <td></td>\n",
       "      <td></td>\n",
       "    </tr>\n",
       "  </tbody>\n",
       "</table>\n",
       "</div>"
      ],
      "text/plain": [
       "   Summary Type Summary Count  - Stats Type Stats Value -- Top Values\n",
       "0       Missing             0                                        \n",
       "1   Total Count         97147                                        \n",
       "2    Duplicated             0                                        \n",
       "3          Zero             0                                        \n",
       "4  Unique Count         97147                                        \n",
       "5      Negative             0                                        "
      ]
     },
     "execution_count": 63,
     "metadata": {},
     "output_type": "execute_result"
    }
   ],
   "source": [
    "%%sql\n",
    "SELECT * FROM get_column_summary('sales.customer_transactions', 'customer_transaction_id', True);"
   ]
  },
  {
   "cell_type": "markdown",
   "metadata": {},
   "source": [
    "**customer_id**"
   ]
  },
  {
   "cell_type": "code",
   "execution_count": 64,
   "metadata": {
    "vscode": {
     "languageId": "sql"
    }
   },
   "outputs": [
    {
     "data": {
      "text/html": [
       "<div>\n",
       "<style scoped>\n",
       "    .dataframe tbody tr th:only-of-type {\n",
       "        vertical-align: middle;\n",
       "    }\n",
       "\n",
       "    .dataframe tbody tr th {\n",
       "        vertical-align: top;\n",
       "    }\n",
       "\n",
       "    .dataframe thead th {\n",
       "        text-align: right;\n",
       "    }\n",
       "</style>\n",
       "<table border=\"1\" class=\"dataframe\">\n",
       "  <thead>\n",
       "    <tr style=\"text-align: right;\">\n",
       "      <th></th>\n",
       "      <th>Summary Type</th>\n",
       "      <th>Summary Count</th>\n",
       "      <th>-</th>\n",
       "      <th>Stats Type</th>\n",
       "      <th>Stats Value</th>\n",
       "      <th>--</th>\n",
       "      <th>Top Values</th>\n",
       "    </tr>\n",
       "  </thead>\n",
       "  <tbody>\n",
       "    <tr>\n",
       "      <th>0</th>\n",
       "      <td>Missing</td>\n",
       "      <td>0</td>\n",
       "      <td></td>\n",
       "      <td></td>\n",
       "      <td></td>\n",
       "      <td></td>\n",
       "      <td></td>\n",
       "    </tr>\n",
       "    <tr>\n",
       "      <th>1</th>\n",
       "      <td>Total Count</td>\n",
       "      <td>97147</td>\n",
       "      <td></td>\n",
       "      <td></td>\n",
       "      <td></td>\n",
       "      <td></td>\n",
       "      <td></td>\n",
       "    </tr>\n",
       "    <tr>\n",
       "      <th>2</th>\n",
       "      <td>Negative</td>\n",
       "      <td>0</td>\n",
       "      <td></td>\n",
       "      <td></td>\n",
       "      <td></td>\n",
       "      <td></td>\n",
       "      <td></td>\n",
       "    </tr>\n",
       "    <tr>\n",
       "      <th>3</th>\n",
       "      <td>Unique Count</td>\n",
       "      <td>263</td>\n",
       "      <td></td>\n",
       "      <td></td>\n",
       "      <td></td>\n",
       "      <td></td>\n",
       "      <td></td>\n",
       "    </tr>\n",
       "    <tr>\n",
       "      <th>4</th>\n",
       "      <td>Duplicated</td>\n",
       "      <td>96884</td>\n",
       "      <td></td>\n",
       "      <td></td>\n",
       "      <td></td>\n",
       "      <td></td>\n",
       "      <td></td>\n",
       "    </tr>\n",
       "    <tr>\n",
       "      <th>5</th>\n",
       "      <td>Zero</td>\n",
       "      <td>0</td>\n",
       "      <td></td>\n",
       "      <td></td>\n",
       "      <td></td>\n",
       "      <td></td>\n",
       "      <td></td>\n",
       "    </tr>\n",
       "  </tbody>\n",
       "</table>\n",
       "</div>"
      ],
      "text/plain": [
       "   Summary Type Summary Count  - Stats Type Stats Value -- Top Values\n",
       "0       Missing             0                                        \n",
       "1   Total Count         97147                                        \n",
       "2      Negative             0                                        \n",
       "3  Unique Count           263                                        \n",
       "4    Duplicated         96884                                        \n",
       "5          Zero             0                                        "
      ]
     },
     "execution_count": 64,
     "metadata": {},
     "output_type": "execute_result"
    }
   ],
   "source": [
    "%%sql\n",
    "SELECT * FROM get_column_summary('sales.customer_transactions', 'customer_id', True);"
   ]
  },
  {
   "cell_type": "markdown",
   "metadata": {},
   "source": [
    "**transaction_type_id**"
   ]
  },
  {
   "cell_type": "code",
   "execution_count": 65,
   "metadata": {
    "vscode": {
     "languageId": "sql"
    }
   },
   "outputs": [
    {
     "data": {
      "text/html": [
       "<div>\n",
       "<style scoped>\n",
       "    .dataframe tbody tr th:only-of-type {\n",
       "        vertical-align: middle;\n",
       "    }\n",
       "\n",
       "    .dataframe tbody tr th {\n",
       "        vertical-align: top;\n",
       "    }\n",
       "\n",
       "    .dataframe thead th {\n",
       "        text-align: right;\n",
       "    }\n",
       "</style>\n",
       "<table border=\"1\" class=\"dataframe\">\n",
       "  <thead>\n",
       "    <tr style=\"text-align: right;\">\n",
       "      <th></th>\n",
       "      <th>Summary Type</th>\n",
       "      <th>Summary Count</th>\n",
       "      <th>-</th>\n",
       "      <th>Stats Type</th>\n",
       "      <th>Stats Value</th>\n",
       "      <th>--</th>\n",
       "      <th>Top Values</th>\n",
       "    </tr>\n",
       "  </thead>\n",
       "  <tbody>\n",
       "    <tr>\n",
       "      <th>0</th>\n",
       "      <td>Missing</td>\n",
       "      <td>0</td>\n",
       "      <td></td>\n",
       "      <td></td>\n",
       "      <td></td>\n",
       "      <td></td>\n",
       "      <td></td>\n",
       "    </tr>\n",
       "    <tr>\n",
       "      <th>1</th>\n",
       "      <td>Total Count</td>\n",
       "      <td>97147</td>\n",
       "      <td></td>\n",
       "      <td></td>\n",
       "      <td></td>\n",
       "      <td></td>\n",
       "      <td></td>\n",
       "    </tr>\n",
       "    <tr>\n",
       "      <th>2</th>\n",
       "      <td>Negative</td>\n",
       "      <td>0</td>\n",
       "      <td></td>\n",
       "      <td></td>\n",
       "      <td></td>\n",
       "      <td></td>\n",
       "      <td></td>\n",
       "    </tr>\n",
       "    <tr>\n",
       "      <th>3</th>\n",
       "      <td>Zero</td>\n",
       "      <td>0</td>\n",
       "      <td></td>\n",
       "      <td></td>\n",
       "      <td></td>\n",
       "      <td></td>\n",
       "      <td></td>\n",
       "    </tr>\n",
       "    <tr>\n",
       "      <th>4</th>\n",
       "      <td>Unique Count</td>\n",
       "      <td>2</td>\n",
       "      <td></td>\n",
       "      <td></td>\n",
       "      <td></td>\n",
       "      <td></td>\n",
       "      <td></td>\n",
       "    </tr>\n",
       "    <tr>\n",
       "      <th>5</th>\n",
       "      <td>Duplicated</td>\n",
       "      <td>97145</td>\n",
       "      <td></td>\n",
       "      <td></td>\n",
       "      <td></td>\n",
       "      <td></td>\n",
       "      <td></td>\n",
       "    </tr>\n",
       "  </tbody>\n",
       "</table>\n",
       "</div>"
      ],
      "text/plain": [
       "   Summary Type Summary Count  - Stats Type Stats Value -- Top Values\n",
       "0       Missing             0                                        \n",
       "1   Total Count         97147                                        \n",
       "2      Negative             0                                        \n",
       "3          Zero             0                                        \n",
       "4  Unique Count             2                                        \n",
       "5    Duplicated         97145                                        "
      ]
     },
     "execution_count": 65,
     "metadata": {},
     "output_type": "execute_result"
    }
   ],
   "source": [
    "%%sql\n",
    "SELECT * FROM get_column_summary('sales.customer_transactions', 'transaction_type_id', True);"
   ]
  },
  {
   "cell_type": "markdown",
   "metadata": {},
   "source": [
    "**invoice_id**"
   ]
  },
  {
   "cell_type": "code",
   "execution_count": 66,
   "metadata": {
    "vscode": {
     "languageId": "sql"
    }
   },
   "outputs": [
    {
     "data": {
      "text/html": [
       "<div>\n",
       "<style scoped>\n",
       "    .dataframe tbody tr th:only-of-type {\n",
       "        vertical-align: middle;\n",
       "    }\n",
       "\n",
       "    .dataframe tbody tr th {\n",
       "        vertical-align: top;\n",
       "    }\n",
       "\n",
       "    .dataframe thead th {\n",
       "        text-align: right;\n",
       "    }\n",
       "</style>\n",
       "<table border=\"1\" class=\"dataframe\">\n",
       "  <thead>\n",
       "    <tr style=\"text-align: right;\">\n",
       "      <th></th>\n",
       "      <th>Summary Type</th>\n",
       "      <th>Summary Count</th>\n",
       "      <th>-</th>\n",
       "      <th>Stats Type</th>\n",
       "      <th>Stats Value</th>\n",
       "      <th>--</th>\n",
       "      <th>Top Values</th>\n",
       "    </tr>\n",
       "  </thead>\n",
       "  <tbody>\n",
       "    <tr>\n",
       "      <th>0</th>\n",
       "      <td>Missing</td>\n",
       "      <td>26637</td>\n",
       "      <td></td>\n",
       "      <td></td>\n",
       "      <td></td>\n",
       "      <td></td>\n",
       "      <td></td>\n",
       "    </tr>\n",
       "    <tr>\n",
       "      <th>1</th>\n",
       "      <td>Total Count</td>\n",
       "      <td>97147</td>\n",
       "      <td></td>\n",
       "      <td></td>\n",
       "      <td></td>\n",
       "      <td></td>\n",
       "      <td></td>\n",
       "    </tr>\n",
       "    <tr>\n",
       "      <th>2</th>\n",
       "      <td>Negative</td>\n",
       "      <td>0</td>\n",
       "      <td></td>\n",
       "      <td></td>\n",
       "      <td></td>\n",
       "      <td></td>\n",
       "      <td></td>\n",
       "    </tr>\n",
       "    <tr>\n",
       "      <th>3</th>\n",
       "      <td>Zero</td>\n",
       "      <td>0</td>\n",
       "      <td></td>\n",
       "      <td></td>\n",
       "      <td></td>\n",
       "      <td></td>\n",
       "      <td></td>\n",
       "    </tr>\n",
       "    <tr>\n",
       "      <th>4</th>\n",
       "      <td>Duplicated</td>\n",
       "      <td>0</td>\n",
       "      <td></td>\n",
       "      <td></td>\n",
       "      <td></td>\n",
       "      <td></td>\n",
       "      <td></td>\n",
       "    </tr>\n",
       "    <tr>\n",
       "      <th>5</th>\n",
       "      <td>Unique Count</td>\n",
       "      <td>70510</td>\n",
       "      <td></td>\n",
       "      <td></td>\n",
       "      <td></td>\n",
       "      <td></td>\n",
       "      <td></td>\n",
       "    </tr>\n",
       "  </tbody>\n",
       "</table>\n",
       "</div>"
      ],
      "text/plain": [
       "   Summary Type Summary Count  - Stats Type Stats Value -- Top Values\n",
       "0       Missing         26637                                        \n",
       "1   Total Count         97147                                        \n",
       "2      Negative             0                                        \n",
       "3          Zero             0                                        \n",
       "4    Duplicated             0                                        \n",
       "5  Unique Count         70510                                        "
      ]
     },
     "execution_count": 66,
     "metadata": {},
     "output_type": "execute_result"
    }
   ],
   "source": [
    "%%sql\n",
    "SELECT * FROM get_column_summary('sales.customer_transactions', 'invoice_id', True);"
   ]
  },
  {
   "cell_type": "markdown",
   "metadata": {},
   "source": [
    "**payment_method_id**"
   ]
  },
  {
   "cell_type": "code",
   "execution_count": 67,
   "metadata": {
    "vscode": {
     "languageId": "sql"
    }
   },
   "outputs": [
    {
     "data": {
      "text/html": [
       "<div>\n",
       "<style scoped>\n",
       "    .dataframe tbody tr th:only-of-type {\n",
       "        vertical-align: middle;\n",
       "    }\n",
       "\n",
       "    .dataframe tbody tr th {\n",
       "        vertical-align: top;\n",
       "    }\n",
       "\n",
       "    .dataframe thead th {\n",
       "        text-align: right;\n",
       "    }\n",
       "</style>\n",
       "<table border=\"1\" class=\"dataframe\">\n",
       "  <thead>\n",
       "    <tr style=\"text-align: right;\">\n",
       "      <th></th>\n",
       "      <th>Summary Type</th>\n",
       "      <th>Summary Count</th>\n",
       "      <th>-</th>\n",
       "      <th>Stats Type</th>\n",
       "      <th>Stats Value</th>\n",
       "      <th>--</th>\n",
       "      <th>Top Values</th>\n",
       "    </tr>\n",
       "  </thead>\n",
       "  <tbody>\n",
       "    <tr>\n",
       "      <th>0</th>\n",
       "      <td>Missing</td>\n",
       "      <td>70510</td>\n",
       "      <td></td>\n",
       "      <td></td>\n",
       "      <td></td>\n",
       "      <td></td>\n",
       "      <td></td>\n",
       "    </tr>\n",
       "    <tr>\n",
       "      <th>1</th>\n",
       "      <td>Total Count</td>\n",
       "      <td>97147</td>\n",
       "      <td></td>\n",
       "      <td></td>\n",
       "      <td></td>\n",
       "      <td></td>\n",
       "      <td></td>\n",
       "    </tr>\n",
       "    <tr>\n",
       "      <th>2</th>\n",
       "      <td>Negative</td>\n",
       "      <td>0</td>\n",
       "      <td></td>\n",
       "      <td></td>\n",
       "      <td></td>\n",
       "      <td></td>\n",
       "      <td></td>\n",
       "    </tr>\n",
       "    <tr>\n",
       "      <th>3</th>\n",
       "      <td>Duplicated</td>\n",
       "      <td>26636</td>\n",
       "      <td></td>\n",
       "      <td></td>\n",
       "      <td></td>\n",
       "      <td></td>\n",
       "      <td></td>\n",
       "    </tr>\n",
       "    <tr>\n",
       "      <th>4</th>\n",
       "      <td>Unique Count</td>\n",
       "      <td>1</td>\n",
       "      <td></td>\n",
       "      <td></td>\n",
       "      <td></td>\n",
       "      <td></td>\n",
       "      <td></td>\n",
       "    </tr>\n",
       "    <tr>\n",
       "      <th>5</th>\n",
       "      <td>Zero</td>\n",
       "      <td>0</td>\n",
       "      <td></td>\n",
       "      <td></td>\n",
       "      <td></td>\n",
       "      <td></td>\n",
       "      <td></td>\n",
       "    </tr>\n",
       "  </tbody>\n",
       "</table>\n",
       "</div>"
      ],
      "text/plain": [
       "   Summary Type Summary Count  - Stats Type Stats Value -- Top Values\n",
       "0       Missing         70510                                        \n",
       "1   Total Count         97147                                        \n",
       "2      Negative             0                                        \n",
       "3    Duplicated         26636                                        \n",
       "4  Unique Count             1                                        \n",
       "5          Zero             0                                        "
      ]
     },
     "execution_count": 67,
     "metadata": {},
     "output_type": "execute_result"
    }
   ],
   "source": [
    "%%sql\n",
    "SELECT * FROM get_column_summary('sales.customer_transactions', 'payment_method_id', True);"
   ]
  },
  {
   "cell_type": "markdown",
   "metadata": {},
   "source": [
    "**transaction_date**"
   ]
  },
  {
   "cell_type": "code",
   "execution_count": 68,
   "metadata": {
    "vscode": {
     "languageId": "sql"
    }
   },
   "outputs": [
    {
     "data": {
      "text/html": [
       "<div>\n",
       "<style scoped>\n",
       "    .dataframe tbody tr th:only-of-type {\n",
       "        vertical-align: middle;\n",
       "    }\n",
       "\n",
       "    .dataframe tbody tr th {\n",
       "        vertical-align: top;\n",
       "    }\n",
       "\n",
       "    .dataframe thead th {\n",
       "        text-align: right;\n",
       "    }\n",
       "</style>\n",
       "<table border=\"1\" class=\"dataframe\">\n",
       "  <thead>\n",
       "    <tr style=\"text-align: right;\">\n",
       "      <th></th>\n",
       "      <th>Summary Type</th>\n",
       "      <th>Summary Count</th>\n",
       "      <th>-</th>\n",
       "      <th>Stats Type</th>\n",
       "      <th>Stats Value</th>\n",
       "      <th>--</th>\n",
       "      <th>Top Values</th>\n",
       "    </tr>\n",
       "  </thead>\n",
       "  <tbody>\n",
       "    <tr>\n",
       "      <th>0</th>\n",
       "      <td>Negative</td>\n",
       "      <td>None</td>\n",
       "      <td></td>\n",
       "      <td>25%</td>\n",
       "      <td>None</td>\n",
       "      <td></td>\n",
       "      <td>2016-01-07 (164)</td>\n",
       "    </tr>\n",
       "    <tr>\n",
       "      <th>1</th>\n",
       "      <td>Duplicated</td>\n",
       "      <td>95900</td>\n",
       "      <td></td>\n",
       "      <td>Median</td>\n",
       "      <td>None</td>\n",
       "      <td></td>\n",
       "      <td>2015-11-24 (159)</td>\n",
       "    </tr>\n",
       "    <tr>\n",
       "      <th>2</th>\n",
       "      <td>Total Count</td>\n",
       "      <td>97147</td>\n",
       "      <td></td>\n",
       "      <td>Mean</td>\n",
       "      <td>None</td>\n",
       "      <td></td>\n",
       "      <td>2015-07-07 (157)</td>\n",
       "    </tr>\n",
       "    <tr>\n",
       "      <th>3</th>\n",
       "      <td>Zero</td>\n",
       "      <td>None</td>\n",
       "      <td></td>\n",
       "      <td>75%</td>\n",
       "      <td>None</td>\n",
       "      <td></td>\n",
       "      <td>2016-03-22 (155)</td>\n",
       "    </tr>\n",
       "    <tr>\n",
       "      <th>4</th>\n",
       "      <td>Unique Count</td>\n",
       "      <td>1247</td>\n",
       "      <td></td>\n",
       "      <td>Min</td>\n",
       "      <td>2013-01-01</td>\n",
       "      <td></td>\n",
       "      <td>2016-01-06 (154)</td>\n",
       "    </tr>\n",
       "    <tr>\n",
       "      <th>5</th>\n",
       "      <td>Missing</td>\n",
       "      <td>0</td>\n",
       "      <td></td>\n",
       "      <td>Max</td>\n",
       "      <td>2016-05-31</td>\n",
       "      <td></td>\n",
       "      <td>2015-07-23 (151)</td>\n",
       "    </tr>\n",
       "  </tbody>\n",
       "</table>\n",
       "</div>"
      ],
      "text/plain": [
       "   Summary Type Summary Count  - Stats Type Stats Value --        Top Values\n",
       "0      Negative          None           25%        None     2016-01-07 (164)\n",
       "1    Duplicated         95900        Median        None     2015-11-24 (159)\n",
       "2   Total Count         97147          Mean        None     2015-07-07 (157)\n",
       "3          Zero          None           75%        None     2016-03-22 (155)\n",
       "4  Unique Count          1247           Min  2013-01-01     2016-01-06 (154)\n",
       "5       Missing             0           Max  2016-05-31     2015-07-23 (151)"
      ]
     },
     "execution_count": 68,
     "metadata": {},
     "output_type": "execute_result"
    }
   ],
   "source": [
    "%%sql\n",
    "SELECT * FROM get_column_summary('sales.customer_transactions', 'transaction_date', False);"
   ]
  },
  {
   "cell_type": "markdown",
   "metadata": {},
   "source": [
    "**Key Observations:**\n",
    "\n",
    "- Many missing values in the invoice_id column. This is normal, as not all transactions have an invoice_id. This is a system feature.\n",
    "- Very many missing values in payment_method_id. And only one unique value. This is normal, as transactions are not always related to payments.\n",
    "- The date range matches the orders table."
   ]
  },
  {
   "cell_type": "markdown",
   "metadata": {},
   "source": [
    "#### Application Schema"
   ]
  },
  {
   "cell_type": "markdown",
   "metadata": {},
   "source": [
    "##### Table application.countries"
   ]
  },
  {
   "cell_type": "markdown",
   "metadata": {},
   "source": [
    "Let's look at the rows."
   ]
  },
  {
   "cell_type": "code",
   "execution_count": 69,
   "metadata": {
    "vscode": {
     "languageId": "sql"
    }
   },
   "outputs": [
    {
     "data": {
      "text/html": [
       "<div>\n",
       "<style scoped>\n",
       "    .dataframe tbody tr th:only-of-type {\n",
       "        vertical-align: middle;\n",
       "    }\n",
       "\n",
       "    .dataframe tbody tr th {\n",
       "        vertical-align: top;\n",
       "    }\n",
       "\n",
       "    .dataframe thead th {\n",
       "        text-align: right;\n",
       "    }\n",
       "</style>\n",
       "<table border=\"1\" class=\"dataframe\">\n",
       "  <thead>\n",
       "    <tr style=\"text-align: right;\">\n",
       "      <th></th>\n",
       "      <th>country_id</th>\n",
       "      <th>country_name</th>\n",
       "      <th>formal_name</th>\n",
       "      <th>iso_alpha_3_code</th>\n",
       "      <th>iso_numeric_code</th>\n",
       "      <th>country_type</th>\n",
       "      <th>latest_recorded_population</th>\n",
       "      <th>continent</th>\n",
       "      <th>region</th>\n",
       "      <th>subregion</th>\n",
       "      <th>last_edited_by</th>\n",
       "    </tr>\n",
       "  </thead>\n",
       "  <tbody>\n",
       "    <tr>\n",
       "      <th>0</th>\n",
       "      <td>1</td>\n",
       "      <td>Afghanistan</td>\n",
       "      <td>Islamic State of Afghanistan</td>\n",
       "      <td>AFG</td>\n",
       "      <td>4</td>\n",
       "      <td>UN Member State</td>\n",
       "      <td>28400000</td>\n",
       "      <td>Asia</td>\n",
       "      <td>Asia</td>\n",
       "      <td>Southern Asia</td>\n",
       "      <td>1</td>\n",
       "    </tr>\n",
       "    <tr>\n",
       "      <th>1</th>\n",
       "      <td>3</td>\n",
       "      <td>Albania</td>\n",
       "      <td>Republic of Albania</td>\n",
       "      <td>ALB</td>\n",
       "      <td>8</td>\n",
       "      <td>UN Member State</td>\n",
       "      <td>3785031</td>\n",
       "      <td>Europe</td>\n",
       "      <td>Europe</td>\n",
       "      <td>Southern Europe</td>\n",
       "      <td>20</td>\n",
       "    </tr>\n",
       "    <tr>\n",
       "      <th>2</th>\n",
       "      <td>4</td>\n",
       "      <td>Algeria</td>\n",
       "      <td>People's Democratic Republic of Algeria</td>\n",
       "      <td>DZA</td>\n",
       "      <td>12</td>\n",
       "      <td>UN Member State</td>\n",
       "      <td>34178188</td>\n",
       "      <td>Africa</td>\n",
       "      <td>Africa</td>\n",
       "      <td>Northern Africa</td>\n",
       "      <td>1</td>\n",
       "    </tr>\n",
       "    <tr>\n",
       "      <th>3</th>\n",
       "      <td>6</td>\n",
       "      <td>Andorra</td>\n",
       "      <td>Principality of Andorra</td>\n",
       "      <td>AND</td>\n",
       "      <td>20</td>\n",
       "      <td>UN Member State</td>\n",
       "      <td>87243</td>\n",
       "      <td>Europe</td>\n",
       "      <td>Europe</td>\n",
       "      <td>Southern Europe</td>\n",
       "      <td>15</td>\n",
       "    </tr>\n",
       "    <tr>\n",
       "      <th>4</th>\n",
       "      <td>7</td>\n",
       "      <td>Angola</td>\n",
       "      <td>People's Republic of Angola</td>\n",
       "      <td>AGO</td>\n",
       "      <td>24</td>\n",
       "      <td>UN Member State</td>\n",
       "      <td>12799293</td>\n",
       "      <td>Africa</td>\n",
       "      <td>Africa</td>\n",
       "      <td>Middle Africa</td>\n",
       "      <td>1</td>\n",
       "    </tr>\n",
       "  </tbody>\n",
       "</table>\n",
       "</div>"
      ],
      "text/plain": [
       "   country_id country_name                              formal_name  \\\n",
       "0           1  Afghanistan             Islamic State of Afghanistan   \n",
       "1           3      Albania                      Republic of Albania   \n",
       "2           4      Algeria  People's Democratic Republic of Algeria   \n",
       "3           6      Andorra                  Principality of Andorra   \n",
       "4           7       Angola              People's Republic of Angola   \n",
       "\n",
       "  iso_alpha_3_code  iso_numeric_code     country_type  \\\n",
       "0              AFG                 4  UN Member State   \n",
       "1              ALB                 8  UN Member State   \n",
       "2              DZA                12  UN Member State   \n",
       "3              AND                20  UN Member State   \n",
       "4              AGO                24  UN Member State   \n",
       "\n",
       "   latest_recorded_population continent  region        subregion  \\\n",
       "0                    28400000      Asia    Asia    Southern Asia   \n",
       "1                     3785031    Europe  Europe  Southern Europe   \n",
       "2                    34178188    Africa  Africa  Northern Africa   \n",
       "3                       87243    Europe  Europe  Southern Europe   \n",
       "4                    12799293    Africa  Africa    Middle Africa   \n",
       "\n",
       "   last_edited_by  \n",
       "0               1  \n",
       "1              20  \n",
       "2               1  \n",
       "3              15  \n",
       "4               1  "
      ]
     },
     "execution_count": 69,
     "metadata": {},
     "output_type": "execute_result"
    }
   ],
   "source": [
    "%%sql\n",
    "SELECT\n",
    "    *\n",
    "FROM\n",
    "    application.countries\n",
    "LIMIT 5"
   ]
  },
  {
   "cell_type": "markdown",
   "metadata": {},
   "source": [
    "Let's examine each column we will use for creating the dashboard individually."
   ]
  },
  {
   "cell_type": "markdown",
   "metadata": {},
   "source": [
    "**country_id**"
   ]
  },
  {
   "cell_type": "code",
   "execution_count": 70,
   "metadata": {
    "vscode": {
     "languageId": "sql"
    }
   },
   "outputs": [
    {
     "data": {
      "text/html": [
       "<div>\n",
       "<style scoped>\n",
       "    .dataframe tbody tr th:only-of-type {\n",
       "        vertical-align: middle;\n",
       "    }\n",
       "\n",
       "    .dataframe tbody tr th {\n",
       "        vertical-align: top;\n",
       "    }\n",
       "\n",
       "    .dataframe thead th {\n",
       "        text-align: right;\n",
       "    }\n",
       "</style>\n",
       "<table border=\"1\" class=\"dataframe\">\n",
       "  <thead>\n",
       "    <tr style=\"text-align: right;\">\n",
       "      <th></th>\n",
       "      <th>Summary Type</th>\n",
       "      <th>Summary Count</th>\n",
       "      <th>-</th>\n",
       "      <th>Stats Type</th>\n",
       "      <th>Stats Value</th>\n",
       "      <th>--</th>\n",
       "      <th>Top Values</th>\n",
       "    </tr>\n",
       "  </thead>\n",
       "  <tbody>\n",
       "    <tr>\n",
       "      <th>0</th>\n",
       "      <td>Total Count</td>\n",
       "      <td>190</td>\n",
       "      <td></td>\n",
       "      <td></td>\n",
       "      <td></td>\n",
       "      <td></td>\n",
       "      <td></td>\n",
       "    </tr>\n",
       "    <tr>\n",
       "      <th>1</th>\n",
       "      <td>Unique Count</td>\n",
       "      <td>190</td>\n",
       "      <td></td>\n",
       "      <td></td>\n",
       "      <td></td>\n",
       "      <td></td>\n",
       "      <td></td>\n",
       "    </tr>\n",
       "    <tr>\n",
       "      <th>2</th>\n",
       "      <td>Missing</td>\n",
       "      <td>0</td>\n",
       "      <td></td>\n",
       "      <td></td>\n",
       "      <td></td>\n",
       "      <td></td>\n",
       "      <td></td>\n",
       "    </tr>\n",
       "    <tr>\n",
       "      <th>3</th>\n",
       "      <td>Duplicated</td>\n",
       "      <td>0</td>\n",
       "      <td></td>\n",
       "      <td></td>\n",
       "      <td></td>\n",
       "      <td></td>\n",
       "      <td></td>\n",
       "    </tr>\n",
       "    <tr>\n",
       "      <th>4</th>\n",
       "      <td>Zero</td>\n",
       "      <td>0</td>\n",
       "      <td></td>\n",
       "      <td></td>\n",
       "      <td></td>\n",
       "      <td></td>\n",
       "      <td></td>\n",
       "    </tr>\n",
       "    <tr>\n",
       "      <th>5</th>\n",
       "      <td>Negative</td>\n",
       "      <td>0</td>\n",
       "      <td></td>\n",
       "      <td></td>\n",
       "      <td></td>\n",
       "      <td></td>\n",
       "      <td></td>\n",
       "    </tr>\n",
       "  </tbody>\n",
       "</table>\n",
       "</div>"
      ],
      "text/plain": [
       "   Summary Type Summary Count  - Stats Type Stats Value -- Top Values\n",
       "0   Total Count           190                                        \n",
       "1  Unique Count           190                                        \n",
       "2       Missing             0                                        \n",
       "3    Duplicated             0                                        \n",
       "4          Zero             0                                        \n",
       "5      Negative             0                                        "
      ]
     },
     "execution_count": 70,
     "metadata": {},
     "output_type": "execute_result"
    }
   ],
   "source": [
    "%%sql\n",
    "SELECT * FROM get_column_summary('application.countries', 'country_id', True);"
   ]
  },
  {
   "cell_type": "markdown",
   "metadata": {},
   "source": [
    "**country_name**"
   ]
  },
  {
   "cell_type": "code",
   "execution_count": 71,
   "metadata": {
    "vscode": {
     "languageId": "sql"
    }
   },
   "outputs": [
    {
     "data": {
      "text/html": [
       "<div>\n",
       "<style scoped>\n",
       "    .dataframe tbody tr th:only-of-type {\n",
       "        vertical-align: middle;\n",
       "    }\n",
       "\n",
       "    .dataframe tbody tr th {\n",
       "        vertical-align: top;\n",
       "    }\n",
       "\n",
       "    .dataframe thead th {\n",
       "        text-align: right;\n",
       "    }\n",
       "</style>\n",
       "<table border=\"1\" class=\"dataframe\">\n",
       "  <thead>\n",
       "    <tr style=\"text-align: right;\">\n",
       "      <th></th>\n",
       "      <th>Summary Type</th>\n",
       "      <th>Summary Count</th>\n",
       "      <th>-</th>\n",
       "      <th>Stats Type</th>\n",
       "      <th>Stats Value</th>\n",
       "      <th>--</th>\n",
       "      <th>Top Values</th>\n",
       "    </tr>\n",
       "  </thead>\n",
       "  <tbody>\n",
       "    <tr>\n",
       "      <th>0</th>\n",
       "      <td>Total Count</td>\n",
       "      <td>190</td>\n",
       "      <td></td>\n",
       "      <td></td>\n",
       "      <td></td>\n",
       "      <td></td>\n",
       "      <td></td>\n",
       "    </tr>\n",
       "    <tr>\n",
       "      <th>1</th>\n",
       "      <td>Unique Count</td>\n",
       "      <td>190</td>\n",
       "      <td></td>\n",
       "      <td></td>\n",
       "      <td></td>\n",
       "      <td></td>\n",
       "      <td></td>\n",
       "    </tr>\n",
       "    <tr>\n",
       "      <th>2</th>\n",
       "      <td>Missing</td>\n",
       "      <td>0</td>\n",
       "      <td></td>\n",
       "      <td></td>\n",
       "      <td></td>\n",
       "      <td></td>\n",
       "      <td></td>\n",
       "    </tr>\n",
       "    <tr>\n",
       "      <th>3</th>\n",
       "      <td>Duplicated</td>\n",
       "      <td>0</td>\n",
       "      <td></td>\n",
       "      <td></td>\n",
       "      <td></td>\n",
       "      <td></td>\n",
       "      <td></td>\n",
       "    </tr>\n",
       "    <tr>\n",
       "      <th>4</th>\n",
       "      <td>Zero</td>\n",
       "      <td>None</td>\n",
       "      <td></td>\n",
       "      <td></td>\n",
       "      <td></td>\n",
       "      <td></td>\n",
       "      <td></td>\n",
       "    </tr>\n",
       "    <tr>\n",
       "      <th>5</th>\n",
       "      <td>Negative</td>\n",
       "      <td>None</td>\n",
       "      <td></td>\n",
       "      <td></td>\n",
       "      <td></td>\n",
       "      <td></td>\n",
       "      <td></td>\n",
       "    </tr>\n",
       "  </tbody>\n",
       "</table>\n",
       "</div>"
      ],
      "text/plain": [
       "   Summary Type Summary Count  - Stats Type Stats Value -- Top Values\n",
       "0   Total Count           190                                        \n",
       "1  Unique Count           190                                        \n",
       "2       Missing             0                                        \n",
       "3    Duplicated             0                                        \n",
       "4          Zero          None                                        \n",
       "5      Negative          None                                        "
      ]
     },
     "execution_count": 71,
     "metadata": {},
     "output_type": "execute_result"
    }
   ],
   "source": [
    "%%sql\n",
    "SELECT * FROM get_column_summary('application.countries', 'country_name', True);"
   ]
  },
  {
   "cell_type": "markdown",
   "metadata": {},
   "source": [
    "**iso_alpha_3_code**"
   ]
  },
  {
   "cell_type": "code",
   "execution_count": 72,
   "metadata": {
    "vscode": {
     "languageId": "sql"
    }
   },
   "outputs": [
    {
     "data": {
      "text/html": [
       "<div>\n",
       "<style scoped>\n",
       "    .dataframe tbody tr th:only-of-type {\n",
       "        vertical-align: middle;\n",
       "    }\n",
       "\n",
       "    .dataframe tbody tr th {\n",
       "        vertical-align: top;\n",
       "    }\n",
       "\n",
       "    .dataframe thead th {\n",
       "        text-align: right;\n",
       "    }\n",
       "</style>\n",
       "<table border=\"1\" class=\"dataframe\">\n",
       "  <thead>\n",
       "    <tr style=\"text-align: right;\">\n",
       "      <th></th>\n",
       "      <th>Summary Type</th>\n",
       "      <th>Summary Count</th>\n",
       "      <th>-</th>\n",
       "      <th>Stats Type</th>\n",
       "      <th>Stats Value</th>\n",
       "      <th>--</th>\n",
       "      <th>Top Values</th>\n",
       "    </tr>\n",
       "  </thead>\n",
       "  <tbody>\n",
       "    <tr>\n",
       "      <th>0</th>\n",
       "      <td>Total Count</td>\n",
       "      <td>190</td>\n",
       "      <td></td>\n",
       "      <td></td>\n",
       "      <td></td>\n",
       "      <td></td>\n",
       "      <td></td>\n",
       "    </tr>\n",
       "    <tr>\n",
       "      <th>1</th>\n",
       "      <td>Unique Count</td>\n",
       "      <td>190</td>\n",
       "      <td></td>\n",
       "      <td></td>\n",
       "      <td></td>\n",
       "      <td></td>\n",
       "      <td></td>\n",
       "    </tr>\n",
       "    <tr>\n",
       "      <th>2</th>\n",
       "      <td>Missing</td>\n",
       "      <td>0</td>\n",
       "      <td></td>\n",
       "      <td></td>\n",
       "      <td></td>\n",
       "      <td></td>\n",
       "      <td></td>\n",
       "    </tr>\n",
       "    <tr>\n",
       "      <th>3</th>\n",
       "      <td>Duplicated</td>\n",
       "      <td>0</td>\n",
       "      <td></td>\n",
       "      <td></td>\n",
       "      <td></td>\n",
       "      <td></td>\n",
       "      <td></td>\n",
       "    </tr>\n",
       "    <tr>\n",
       "      <th>4</th>\n",
       "      <td>Zero</td>\n",
       "      <td>None</td>\n",
       "      <td></td>\n",
       "      <td></td>\n",
       "      <td></td>\n",
       "      <td></td>\n",
       "      <td></td>\n",
       "    </tr>\n",
       "    <tr>\n",
       "      <th>5</th>\n",
       "      <td>Negative</td>\n",
       "      <td>None</td>\n",
       "      <td></td>\n",
       "      <td></td>\n",
       "      <td></td>\n",
       "      <td></td>\n",
       "      <td></td>\n",
       "    </tr>\n",
       "  </tbody>\n",
       "</table>\n",
       "</div>"
      ],
      "text/plain": [
       "   Summary Type Summary Count  - Stats Type Stats Value -- Top Values\n",
       "0   Total Count           190                                        \n",
       "1  Unique Count           190                                        \n",
       "2       Missing             0                                        \n",
       "3    Duplicated             0                                        \n",
       "4          Zero          None                                        \n",
       "5      Negative          None                                        "
      ]
     },
     "execution_count": 72,
     "metadata": {},
     "output_type": "execute_result"
    }
   ],
   "source": [
    "%%sql\n",
    "SELECT * FROM get_column_summary('application.countries', 'iso_alpha_3_code', True);"
   ]
  },
  {
   "cell_type": "markdown",
   "metadata": {},
   "source": [
    "**Key Observations:**  \n",
    "\n",
    "- No missing values in the columns we need.\n",
    "- No critical anomalies were found."
   ]
  },
  {
   "cell_type": "markdown",
   "metadata": {},
   "source": [
    "##### Table application.state_provinces"
   ]
  },
  {
   "cell_type": "markdown",
   "metadata": {},
   "source": [
    "Let's look at the rows."
   ]
  },
  {
   "cell_type": "code",
   "execution_count": 73,
   "metadata": {
    "vscode": {
     "languageId": "sql"
    }
   },
   "outputs": [
    {
     "data": {
      "text/html": [
       "<div>\n",
       "<style scoped>\n",
       "    .dataframe tbody tr th:only-of-type {\n",
       "        vertical-align: middle;\n",
       "    }\n",
       "\n",
       "    .dataframe tbody tr th {\n",
       "        vertical-align: top;\n",
       "    }\n",
       "\n",
       "    .dataframe thead th {\n",
       "        text-align: right;\n",
       "    }\n",
       "</style>\n",
       "<table border=\"1\" class=\"dataframe\">\n",
       "  <thead>\n",
       "    <tr style=\"text-align: right;\">\n",
       "      <th></th>\n",
       "      <th>state_province_id</th>\n",
       "      <th>state_province_code</th>\n",
       "      <th>state_province_name</th>\n",
       "      <th>country_id</th>\n",
       "      <th>sales_territory</th>\n",
       "      <th>latest_recorded_population</th>\n",
       "      <th>last_edited_by</th>\n",
       "    </tr>\n",
       "  </thead>\n",
       "  <tbody>\n",
       "    <tr>\n",
       "      <th>0</th>\n",
       "      <td>1</td>\n",
       "      <td>AL</td>\n",
       "      <td>Alabama</td>\n",
       "      <td>230</td>\n",
       "      <td>Southeast</td>\n",
       "      <td>5437278</td>\n",
       "      <td>15</td>\n",
       "    </tr>\n",
       "    <tr>\n",
       "      <th>1</th>\n",
       "      <td>2</td>\n",
       "      <td>AK</td>\n",
       "      <td>Alaska</td>\n",
       "      <td>230</td>\n",
       "      <td>Far West</td>\n",
       "      <td>735132</td>\n",
       "      <td>1</td>\n",
       "    </tr>\n",
       "    <tr>\n",
       "      <th>2</th>\n",
       "      <td>3</td>\n",
       "      <td>AZ</td>\n",
       "      <td>Arizona</td>\n",
       "      <td>230</td>\n",
       "      <td>Southwest</td>\n",
       "      <td>6891688</td>\n",
       "      <td>8</td>\n",
       "    </tr>\n",
       "    <tr>\n",
       "      <th>3</th>\n",
       "      <td>4</td>\n",
       "      <td>AR</td>\n",
       "      <td>Arkansas</td>\n",
       "      <td>230</td>\n",
       "      <td>Southeast</td>\n",
       "      <td>3077747</td>\n",
       "      <td>8</td>\n",
       "    </tr>\n",
       "    <tr>\n",
       "      <th>4</th>\n",
       "      <td>5</td>\n",
       "      <td>CA</td>\n",
       "      <td>California</td>\n",
       "      <td>230</td>\n",
       "      <td>Far West</td>\n",
       "      <td>41460453</td>\n",
       "      <td>15</td>\n",
       "    </tr>\n",
       "  </tbody>\n",
       "</table>\n",
       "</div>"
      ],
      "text/plain": [
       "   state_province_id state_province_code state_province_name  country_id  \\\n",
       "0                  1                  AL             Alabama         230   \n",
       "1                  2                  AK              Alaska         230   \n",
       "2                  3                  AZ             Arizona         230   \n",
       "3                  4                  AR            Arkansas         230   \n",
       "4                  5                  CA          California         230   \n",
       "\n",
       "  sales_territory  latest_recorded_population  last_edited_by  \n",
       "0       Southeast                     5437278              15  \n",
       "1        Far West                      735132               1  \n",
       "2       Southwest                     6891688               8  \n",
       "3       Southeast                     3077747               8  \n",
       "4        Far West                    41460453              15  "
      ]
     },
     "execution_count": 73,
     "metadata": {},
     "output_type": "execute_result"
    }
   ],
   "source": [
    "%%sql\n",
    "SELECT\n",
    "    *\n",
    "FROM\n",
    "    application.state_provinces\n",
    "LIMIT 5"
   ]
  },
  {
   "cell_type": "markdown",
   "metadata": {},
   "source": [
    "Let's examine each column we will use for creating the dashboard individually."
   ]
  },
  {
   "cell_type": "markdown",
   "metadata": {},
   "source": [
    "**state_province_id**"
   ]
  },
  {
   "cell_type": "code",
   "execution_count": 74,
   "metadata": {
    "vscode": {
     "languageId": "sql"
    }
   },
   "outputs": [
    {
     "data": {
      "text/html": [
       "<div>\n",
       "<style scoped>\n",
       "    .dataframe tbody tr th:only-of-type {\n",
       "        vertical-align: middle;\n",
       "    }\n",
       "\n",
       "    .dataframe tbody tr th {\n",
       "        vertical-align: top;\n",
       "    }\n",
       "\n",
       "    .dataframe thead th {\n",
       "        text-align: right;\n",
       "    }\n",
       "</style>\n",
       "<table border=\"1\" class=\"dataframe\">\n",
       "  <thead>\n",
       "    <tr style=\"text-align: right;\">\n",
       "      <th></th>\n",
       "      <th>Summary Type</th>\n",
       "      <th>Summary Count</th>\n",
       "      <th>-</th>\n",
       "      <th>Stats Type</th>\n",
       "      <th>Stats Value</th>\n",
       "      <th>--</th>\n",
       "      <th>Top Values</th>\n",
       "    </tr>\n",
       "  </thead>\n",
       "  <tbody>\n",
       "    <tr>\n",
       "      <th>0</th>\n",
       "      <td>Total Count</td>\n",
       "      <td>53</td>\n",
       "      <td></td>\n",
       "      <td></td>\n",
       "      <td></td>\n",
       "      <td></td>\n",
       "      <td></td>\n",
       "    </tr>\n",
       "    <tr>\n",
       "      <th>1</th>\n",
       "      <td>Unique Count</td>\n",
       "      <td>53</td>\n",
       "      <td></td>\n",
       "      <td></td>\n",
       "      <td></td>\n",
       "      <td></td>\n",
       "      <td></td>\n",
       "    </tr>\n",
       "    <tr>\n",
       "      <th>2</th>\n",
       "      <td>Missing</td>\n",
       "      <td>0</td>\n",
       "      <td></td>\n",
       "      <td></td>\n",
       "      <td></td>\n",
       "      <td></td>\n",
       "      <td></td>\n",
       "    </tr>\n",
       "    <tr>\n",
       "      <th>3</th>\n",
       "      <td>Duplicated</td>\n",
       "      <td>0</td>\n",
       "      <td></td>\n",
       "      <td></td>\n",
       "      <td></td>\n",
       "      <td></td>\n",
       "      <td></td>\n",
       "    </tr>\n",
       "    <tr>\n",
       "      <th>4</th>\n",
       "      <td>Zero</td>\n",
       "      <td>0</td>\n",
       "      <td></td>\n",
       "      <td></td>\n",
       "      <td></td>\n",
       "      <td></td>\n",
       "      <td></td>\n",
       "    </tr>\n",
       "    <tr>\n",
       "      <th>5</th>\n",
       "      <td>Negative</td>\n",
       "      <td>0</td>\n",
       "      <td></td>\n",
       "      <td></td>\n",
       "      <td></td>\n",
       "      <td></td>\n",
       "      <td></td>\n",
       "    </tr>\n",
       "  </tbody>\n",
       "</table>\n",
       "</div>"
      ],
      "text/plain": [
       "   Summary Type Summary Count  - Stats Type Stats Value -- Top Values\n",
       "0   Total Count            53                                        \n",
       "1  Unique Count            53                                        \n",
       "2       Missing             0                                        \n",
       "3    Duplicated             0                                        \n",
       "4          Zero             0                                        \n",
       "5      Negative             0                                        "
      ]
     },
     "execution_count": 74,
     "metadata": {},
     "output_type": "execute_result"
    }
   ],
   "source": [
    "%%sql\n",
    "SELECT * FROM get_column_summary('application.state_provinces', 'state_province_id', True);"
   ]
  },
  {
   "cell_type": "markdown",
   "metadata": {},
   "source": [
    "**state_province_code**"
   ]
  },
  {
   "cell_type": "code",
   "execution_count": 75,
   "metadata": {
    "vscode": {
     "languageId": "sql"
    }
   },
   "outputs": [
    {
     "data": {
      "text/html": [
       "<div>\n",
       "<style scoped>\n",
       "    .dataframe tbody tr th:only-of-type {\n",
       "        vertical-align: middle;\n",
       "    }\n",
       "\n",
       "    .dataframe tbody tr th {\n",
       "        vertical-align: top;\n",
       "    }\n",
       "\n",
       "    .dataframe thead th {\n",
       "        text-align: right;\n",
       "    }\n",
       "</style>\n",
       "<table border=\"1\" class=\"dataframe\">\n",
       "  <thead>\n",
       "    <tr style=\"text-align: right;\">\n",
       "      <th></th>\n",
       "      <th>Summary Type</th>\n",
       "      <th>Summary Count</th>\n",
       "      <th>-</th>\n",
       "      <th>Stats Type</th>\n",
       "      <th>Stats Value</th>\n",
       "      <th>--</th>\n",
       "      <th>Top Values</th>\n",
       "    </tr>\n",
       "  </thead>\n",
       "  <tbody>\n",
       "    <tr>\n",
       "      <th>0</th>\n",
       "      <td>Total Count</td>\n",
       "      <td>53</td>\n",
       "      <td></td>\n",
       "      <td></td>\n",
       "      <td></td>\n",
       "      <td></td>\n",
       "      <td></td>\n",
       "    </tr>\n",
       "    <tr>\n",
       "      <th>1</th>\n",
       "      <td>Unique Count</td>\n",
       "      <td>53</td>\n",
       "      <td></td>\n",
       "      <td></td>\n",
       "      <td></td>\n",
       "      <td></td>\n",
       "      <td></td>\n",
       "    </tr>\n",
       "    <tr>\n",
       "      <th>2</th>\n",
       "      <td>Missing</td>\n",
       "      <td>0</td>\n",
       "      <td></td>\n",
       "      <td></td>\n",
       "      <td></td>\n",
       "      <td></td>\n",
       "      <td></td>\n",
       "    </tr>\n",
       "    <tr>\n",
       "      <th>3</th>\n",
       "      <td>Duplicated</td>\n",
       "      <td>0</td>\n",
       "      <td></td>\n",
       "      <td></td>\n",
       "      <td></td>\n",
       "      <td></td>\n",
       "      <td></td>\n",
       "    </tr>\n",
       "    <tr>\n",
       "      <th>4</th>\n",
       "      <td>Zero</td>\n",
       "      <td>None</td>\n",
       "      <td></td>\n",
       "      <td></td>\n",
       "      <td></td>\n",
       "      <td></td>\n",
       "      <td></td>\n",
       "    </tr>\n",
       "    <tr>\n",
       "      <th>5</th>\n",
       "      <td>Negative</td>\n",
       "      <td>None</td>\n",
       "      <td></td>\n",
       "      <td></td>\n",
       "      <td></td>\n",
       "      <td></td>\n",
       "      <td></td>\n",
       "    </tr>\n",
       "  </tbody>\n",
       "</table>\n",
       "</div>"
      ],
      "text/plain": [
       "   Summary Type Summary Count  - Stats Type Stats Value -- Top Values\n",
       "0   Total Count            53                                        \n",
       "1  Unique Count            53                                        \n",
       "2       Missing             0                                        \n",
       "3    Duplicated             0                                        \n",
       "4          Zero          None                                        \n",
       "5      Negative          None                                        "
      ]
     },
     "execution_count": 75,
     "metadata": {},
     "output_type": "execute_result"
    }
   ],
   "source": [
    "%%sql\n",
    "SELECT * FROM get_column_summary('application.state_provinces', 'state_province_code', True);"
   ]
  },
  {
   "cell_type": "markdown",
   "metadata": {},
   "source": [
    "**state_province_name**"
   ]
  },
  {
   "cell_type": "code",
   "execution_count": 76,
   "metadata": {
    "vscode": {
     "languageId": "sql"
    }
   },
   "outputs": [
    {
     "data": {
      "text/html": [
       "<div>\n",
       "<style scoped>\n",
       "    .dataframe tbody tr th:only-of-type {\n",
       "        vertical-align: middle;\n",
       "    }\n",
       "\n",
       "    .dataframe tbody tr th {\n",
       "        vertical-align: top;\n",
       "    }\n",
       "\n",
       "    .dataframe thead th {\n",
       "        text-align: right;\n",
       "    }\n",
       "</style>\n",
       "<table border=\"1\" class=\"dataframe\">\n",
       "  <thead>\n",
       "    <tr style=\"text-align: right;\">\n",
       "      <th></th>\n",
       "      <th>Summary Type</th>\n",
       "      <th>Summary Count</th>\n",
       "      <th>-</th>\n",
       "      <th>Stats Type</th>\n",
       "      <th>Stats Value</th>\n",
       "      <th>--</th>\n",
       "      <th>Top Values</th>\n",
       "    </tr>\n",
       "  </thead>\n",
       "  <tbody>\n",
       "    <tr>\n",
       "      <th>0</th>\n",
       "      <td>Total Count</td>\n",
       "      <td>53</td>\n",
       "      <td></td>\n",
       "      <td></td>\n",
       "      <td></td>\n",
       "      <td></td>\n",
       "      <td></td>\n",
       "    </tr>\n",
       "    <tr>\n",
       "      <th>1</th>\n",
       "      <td>Unique Count</td>\n",
       "      <td>53</td>\n",
       "      <td></td>\n",
       "      <td></td>\n",
       "      <td></td>\n",
       "      <td></td>\n",
       "      <td></td>\n",
       "    </tr>\n",
       "    <tr>\n",
       "      <th>2</th>\n",
       "      <td>Missing</td>\n",
       "      <td>0</td>\n",
       "      <td></td>\n",
       "      <td></td>\n",
       "      <td></td>\n",
       "      <td></td>\n",
       "      <td></td>\n",
       "    </tr>\n",
       "    <tr>\n",
       "      <th>3</th>\n",
       "      <td>Duplicated</td>\n",
       "      <td>0</td>\n",
       "      <td></td>\n",
       "      <td></td>\n",
       "      <td></td>\n",
       "      <td></td>\n",
       "      <td></td>\n",
       "    </tr>\n",
       "    <tr>\n",
       "      <th>4</th>\n",
       "      <td>Zero</td>\n",
       "      <td>None</td>\n",
       "      <td></td>\n",
       "      <td></td>\n",
       "      <td></td>\n",
       "      <td></td>\n",
       "      <td></td>\n",
       "    </tr>\n",
       "    <tr>\n",
       "      <th>5</th>\n",
       "      <td>Negative</td>\n",
       "      <td>None</td>\n",
       "      <td></td>\n",
       "      <td></td>\n",
       "      <td></td>\n",
       "      <td></td>\n",
       "      <td></td>\n",
       "    </tr>\n",
       "  </tbody>\n",
       "</table>\n",
       "</div>"
      ],
      "text/plain": [
       "   Summary Type Summary Count  - Stats Type Stats Value -- Top Values\n",
       "0   Total Count            53                                        \n",
       "1  Unique Count            53                                        \n",
       "2       Missing             0                                        \n",
       "3    Duplicated             0                                        \n",
       "4          Zero          None                                        \n",
       "5      Negative          None                                        "
      ]
     },
     "execution_count": 76,
     "metadata": {},
     "output_type": "execute_result"
    }
   ],
   "source": [
    "%%sql\n",
    "SELECT * FROM get_column_summary('application.state_provinces', 'state_province_name', True);"
   ]
  },
  {
   "cell_type": "markdown",
   "metadata": {},
   "source": [
    "**country_id**"
   ]
  },
  {
   "cell_type": "code",
   "execution_count": 77,
   "metadata": {
    "vscode": {
     "languageId": "sql"
    }
   },
   "outputs": [
    {
     "data": {
      "text/html": [
       "<div>\n",
       "<style scoped>\n",
       "    .dataframe tbody tr th:only-of-type {\n",
       "        vertical-align: middle;\n",
       "    }\n",
       "\n",
       "    .dataframe tbody tr th {\n",
       "        vertical-align: top;\n",
       "    }\n",
       "\n",
       "    .dataframe thead th {\n",
       "        text-align: right;\n",
       "    }\n",
       "</style>\n",
       "<table border=\"1\" class=\"dataframe\">\n",
       "  <thead>\n",
       "    <tr style=\"text-align: right;\">\n",
       "      <th></th>\n",
       "      <th>Summary Type</th>\n",
       "      <th>Summary Count</th>\n",
       "      <th>-</th>\n",
       "      <th>Stats Type</th>\n",
       "      <th>Stats Value</th>\n",
       "      <th>--</th>\n",
       "      <th>Top Values</th>\n",
       "    </tr>\n",
       "  </thead>\n",
       "  <tbody>\n",
       "    <tr>\n",
       "      <th>0</th>\n",
       "      <td>Total Count</td>\n",
       "      <td>53</td>\n",
       "      <td></td>\n",
       "      <td></td>\n",
       "      <td></td>\n",
       "      <td></td>\n",
       "      <td></td>\n",
       "    </tr>\n",
       "    <tr>\n",
       "      <th>1</th>\n",
       "      <td>Unique Count</td>\n",
       "      <td>1</td>\n",
       "      <td></td>\n",
       "      <td></td>\n",
       "      <td></td>\n",
       "      <td></td>\n",
       "      <td></td>\n",
       "    </tr>\n",
       "    <tr>\n",
       "      <th>2</th>\n",
       "      <td>Missing</td>\n",
       "      <td>0</td>\n",
       "      <td></td>\n",
       "      <td></td>\n",
       "      <td></td>\n",
       "      <td></td>\n",
       "      <td></td>\n",
       "    </tr>\n",
       "    <tr>\n",
       "      <th>3</th>\n",
       "      <td>Duplicated</td>\n",
       "      <td>52</td>\n",
       "      <td></td>\n",
       "      <td></td>\n",
       "      <td></td>\n",
       "      <td></td>\n",
       "      <td></td>\n",
       "    </tr>\n",
       "    <tr>\n",
       "      <th>4</th>\n",
       "      <td>Zero</td>\n",
       "      <td>0</td>\n",
       "      <td></td>\n",
       "      <td></td>\n",
       "      <td></td>\n",
       "      <td></td>\n",
       "      <td></td>\n",
       "    </tr>\n",
       "    <tr>\n",
       "      <th>5</th>\n",
       "      <td>Negative</td>\n",
       "      <td>0</td>\n",
       "      <td></td>\n",
       "      <td></td>\n",
       "      <td></td>\n",
       "      <td></td>\n",
       "      <td></td>\n",
       "    </tr>\n",
       "  </tbody>\n",
       "</table>\n",
       "</div>"
      ],
      "text/plain": [
       "   Summary Type Summary Count  - Stats Type Stats Value -- Top Values\n",
       "0   Total Count            53                                        \n",
       "1  Unique Count             1                                        \n",
       "2       Missing             0                                        \n",
       "3    Duplicated            52                                        \n",
       "4          Zero             0                                        \n",
       "5      Negative             0                                        "
      ]
     },
     "execution_count": 77,
     "metadata": {},
     "output_type": "execute_result"
    }
   ],
   "source": [
    "%%sql\n",
    "SELECT * FROM get_column_summary('application.state_provinces', 'country_id', True);"
   ]
  },
  {
   "cell_type": "markdown",
   "metadata": {},
   "source": [
    "**sales_territory**"
   ]
  },
  {
   "cell_type": "code",
   "execution_count": 78,
   "metadata": {
    "vscode": {
     "languageId": "sql"
    }
   },
   "outputs": [
    {
     "data": {
      "text/html": [
       "<div>\n",
       "<style scoped>\n",
       "    .dataframe tbody tr th:only-of-type {\n",
       "        vertical-align: middle;\n",
       "    }\n",
       "\n",
       "    .dataframe tbody tr th {\n",
       "        vertical-align: top;\n",
       "    }\n",
       "\n",
       "    .dataframe thead th {\n",
       "        text-align: right;\n",
       "    }\n",
       "</style>\n",
       "<table border=\"1\" class=\"dataframe\">\n",
       "  <thead>\n",
       "    <tr style=\"text-align: right;\">\n",
       "      <th></th>\n",
       "      <th>Summary Type</th>\n",
       "      <th>Summary Count</th>\n",
       "      <th>-</th>\n",
       "      <th>Stats Type</th>\n",
       "      <th>Stats Value</th>\n",
       "      <th>--</th>\n",
       "      <th>Top Values</th>\n",
       "    </tr>\n",
       "  </thead>\n",
       "  <tbody>\n",
       "    <tr>\n",
       "      <th>0</th>\n",
       "      <td>Total Count</td>\n",
       "      <td>53</td>\n",
       "      <td></td>\n",
       "      <td></td>\n",
       "      <td></td>\n",
       "      <td></td>\n",
       "      <td></td>\n",
       "    </tr>\n",
       "    <tr>\n",
       "      <th>1</th>\n",
       "      <td>Unique Count</td>\n",
       "      <td>9</td>\n",
       "      <td></td>\n",
       "      <td></td>\n",
       "      <td></td>\n",
       "      <td></td>\n",
       "      <td></td>\n",
       "    </tr>\n",
       "    <tr>\n",
       "      <th>2</th>\n",
       "      <td>Missing</td>\n",
       "      <td>0</td>\n",
       "      <td></td>\n",
       "      <td></td>\n",
       "      <td></td>\n",
       "      <td></td>\n",
       "      <td></td>\n",
       "    </tr>\n",
       "    <tr>\n",
       "      <th>3</th>\n",
       "      <td>Duplicated</td>\n",
       "      <td>44</td>\n",
       "      <td></td>\n",
       "      <td></td>\n",
       "      <td></td>\n",
       "      <td></td>\n",
       "      <td></td>\n",
       "    </tr>\n",
       "    <tr>\n",
       "      <th>4</th>\n",
       "      <td>Zero</td>\n",
       "      <td>None</td>\n",
       "      <td></td>\n",
       "      <td></td>\n",
       "      <td></td>\n",
       "      <td></td>\n",
       "      <td></td>\n",
       "    </tr>\n",
       "    <tr>\n",
       "      <th>5</th>\n",
       "      <td>Negative</td>\n",
       "      <td>None</td>\n",
       "      <td></td>\n",
       "      <td></td>\n",
       "      <td></td>\n",
       "      <td></td>\n",
       "      <td></td>\n",
       "    </tr>\n",
       "  </tbody>\n",
       "</table>\n",
       "</div>"
      ],
      "text/plain": [
       "   Summary Type Summary Count  - Stats Type Stats Value -- Top Values\n",
       "0   Total Count            53                                        \n",
       "1  Unique Count             9                                        \n",
       "2       Missing             0                                        \n",
       "3    Duplicated            44                                        \n",
       "4          Zero          None                                        \n",
       "5      Negative          None                                        "
      ]
     },
     "execution_count": 78,
     "metadata": {},
     "output_type": "execute_result"
    }
   ],
   "source": [
    "%%sql\n",
    "SELECT * FROM get_column_summary('application.state_provinces', 'sales_territory', True);"
   ]
  },
  {
   "cell_type": "markdown",
   "metadata": {},
   "source": [
    "**latest_recorded_population**"
   ]
  },
  {
   "cell_type": "code",
   "execution_count": 79,
   "metadata": {
    "vscode": {
     "languageId": "sql"
    }
   },
   "outputs": [
    {
     "data": {
      "text/html": [
       "<div>\n",
       "<style scoped>\n",
       "    .dataframe tbody tr th:only-of-type {\n",
       "        vertical-align: middle;\n",
       "    }\n",
       "\n",
       "    .dataframe tbody tr th {\n",
       "        vertical-align: top;\n",
       "    }\n",
       "\n",
       "    .dataframe thead th {\n",
       "        text-align: right;\n",
       "    }\n",
       "</style>\n",
       "<table border=\"1\" class=\"dataframe\">\n",
       "  <thead>\n",
       "    <tr style=\"text-align: right;\">\n",
       "      <th></th>\n",
       "      <th>Summary Type</th>\n",
       "      <th>Summary Count</th>\n",
       "      <th>-</th>\n",
       "      <th>Stats Type</th>\n",
       "      <th>Stats Value</th>\n",
       "      <th>--</th>\n",
       "      <th>Top Values</th>\n",
       "    </tr>\n",
       "  </thead>\n",
       "  <tbody>\n",
       "    <tr>\n",
       "      <th>0</th>\n",
       "      <td>Total Count</td>\n",
       "      <td>53</td>\n",
       "      <td></td>\n",
       "      <td></td>\n",
       "      <td></td>\n",
       "      <td></td>\n",
       "      <td></td>\n",
       "    </tr>\n",
       "    <tr>\n",
       "      <th>1</th>\n",
       "      <td>Unique Count</td>\n",
       "      <td>53</td>\n",
       "      <td></td>\n",
       "      <td></td>\n",
       "      <td></td>\n",
       "      <td></td>\n",
       "      <td></td>\n",
       "    </tr>\n",
       "    <tr>\n",
       "      <th>2</th>\n",
       "      <td>Missing</td>\n",
       "      <td>0</td>\n",
       "      <td></td>\n",
       "      <td></td>\n",
       "      <td></td>\n",
       "      <td></td>\n",
       "      <td></td>\n",
       "    </tr>\n",
       "    <tr>\n",
       "      <th>3</th>\n",
       "      <td>Duplicated</td>\n",
       "      <td>0</td>\n",
       "      <td></td>\n",
       "      <td></td>\n",
       "      <td></td>\n",
       "      <td></td>\n",
       "      <td></td>\n",
       "    </tr>\n",
       "    <tr>\n",
       "      <th>4</th>\n",
       "      <td>Zero</td>\n",
       "      <td>0</td>\n",
       "      <td></td>\n",
       "      <td></td>\n",
       "      <td></td>\n",
       "      <td></td>\n",
       "      <td></td>\n",
       "    </tr>\n",
       "    <tr>\n",
       "      <th>5</th>\n",
       "      <td>Negative</td>\n",
       "      <td>0</td>\n",
       "      <td></td>\n",
       "      <td></td>\n",
       "      <td></td>\n",
       "      <td></td>\n",
       "      <td></td>\n",
       "    </tr>\n",
       "  </tbody>\n",
       "</table>\n",
       "</div>"
      ],
      "text/plain": [
       "   Summary Type Summary Count  - Stats Type Stats Value -- Top Values\n",
       "0   Total Count            53                                        \n",
       "1  Unique Count            53                                        \n",
       "2       Missing             0                                        \n",
       "3    Duplicated             0                                        \n",
       "4          Zero             0                                        \n",
       "5      Negative             0                                        "
      ]
     },
     "execution_count": 79,
     "metadata": {},
     "output_type": "execute_result"
    }
   ],
   "source": [
    "%%sql\n",
    "SELECT * FROM get_column_summary('application.state_provinces', 'latest_recorded_population', True);"
   ]
  },
  {
   "cell_type": "markdown",
   "metadata": {},
   "source": [
    "**Key Observations:**\n",
    "\n",
    "- No missing values in the columns we need.\n",
    "- No critical anomalies were found.\n",
    "- All states in the application.state_provinces table are from the USA."
   ]
  },
  {
   "cell_type": "markdown",
   "metadata": {},
   "source": [
    "##### Table application.cities"
   ]
  },
  {
   "cell_type": "markdown",
   "metadata": {},
   "source": [
    "Let's look at the rows."
   ]
  },
  {
   "cell_type": "code",
   "execution_count": 80,
   "metadata": {
    "vscode": {
     "languageId": "sql"
    }
   },
   "outputs": [
    {
     "data": {
      "text/html": [
       "<div>\n",
       "<style scoped>\n",
       "    .dataframe tbody tr th:only-of-type {\n",
       "        vertical-align: middle;\n",
       "    }\n",
       "\n",
       "    .dataframe tbody tr th {\n",
       "        vertical-align: top;\n",
       "    }\n",
       "\n",
       "    .dataframe thead th {\n",
       "        text-align: right;\n",
       "    }\n",
       "</style>\n",
       "<table border=\"1\" class=\"dataframe\">\n",
       "  <thead>\n",
       "    <tr style=\"text-align: right;\">\n",
       "      <th></th>\n",
       "      <th>city_id</th>\n",
       "      <th>city_name</th>\n",
       "      <th>state_province_id</th>\n",
       "      <th>latest_recorded_population</th>\n",
       "      <th>last_edited_by</th>\n",
       "    </tr>\n",
       "  </thead>\n",
       "  <tbody>\n",
       "    <tr>\n",
       "      <th>0</th>\n",
       "      <td>1</td>\n",
       "      <td>Aaronsburg</td>\n",
       "      <td>39</td>\n",
       "      <td>613</td>\n",
       "      <td>1</td>\n",
       "    </tr>\n",
       "    <tr>\n",
       "      <th>1</th>\n",
       "      <td>3</td>\n",
       "      <td>Abanda</td>\n",
       "      <td>1</td>\n",
       "      <td>192</td>\n",
       "      <td>1</td>\n",
       "    </tr>\n",
       "    <tr>\n",
       "      <th>2</th>\n",
       "      <td>4</td>\n",
       "      <td>Abbeville</td>\n",
       "      <td>42</td>\n",
       "      <td>5237</td>\n",
       "      <td>1</td>\n",
       "    </tr>\n",
       "    <tr>\n",
       "      <th>3</th>\n",
       "      <td>5</td>\n",
       "      <td>Abbeville</td>\n",
       "      <td>11</td>\n",
       "      <td>2908</td>\n",
       "      <td>1</td>\n",
       "    </tr>\n",
       "    <tr>\n",
       "      <th>4</th>\n",
       "      <td>6</td>\n",
       "      <td>Abbeville</td>\n",
       "      <td>1</td>\n",
       "      <td>2688</td>\n",
       "      <td>1</td>\n",
       "    </tr>\n",
       "  </tbody>\n",
       "</table>\n",
       "</div>"
      ],
      "text/plain": [
       "   city_id   city_name  state_province_id  latest_recorded_population  \\\n",
       "0        1  Aaronsburg                 39                         613   \n",
       "1        3      Abanda                  1                         192   \n",
       "2        4   Abbeville                 42                        5237   \n",
       "3        5   Abbeville                 11                        2908   \n",
       "4        6   Abbeville                  1                        2688   \n",
       "\n",
       "   last_edited_by  \n",
       "0               1  \n",
       "1               1  \n",
       "2               1  \n",
       "3               1  \n",
       "4               1  "
      ]
     },
     "execution_count": 80,
     "metadata": {},
     "output_type": "execute_result"
    }
   ],
   "source": [
    "%%sql\n",
    "SELECT\n",
    "    *\n",
    "FROM\n",
    "    application.cities\n",
    "LIMIT 5"
   ]
  },
  {
   "cell_type": "markdown",
   "metadata": {},
   "source": [
    "Let's examine each column we will use for creating the dashboard individually."
   ]
  },
  {
   "cell_type": "markdown",
   "metadata": {},
   "source": [
    "**city_id**"
   ]
  },
  {
   "cell_type": "code",
   "execution_count": 81,
   "metadata": {
    "vscode": {
     "languageId": "sql"
    }
   },
   "outputs": [
    {
     "data": {
      "text/html": [
       "<div>\n",
       "<style scoped>\n",
       "    .dataframe tbody tr th:only-of-type {\n",
       "        vertical-align: middle;\n",
       "    }\n",
       "\n",
       "    .dataframe tbody tr th {\n",
       "        vertical-align: top;\n",
       "    }\n",
       "\n",
       "    .dataframe thead th {\n",
       "        text-align: right;\n",
       "    }\n",
       "</style>\n",
       "<table border=\"1\" class=\"dataframe\">\n",
       "  <thead>\n",
       "    <tr style=\"text-align: right;\">\n",
       "      <th></th>\n",
       "      <th>Summary Type</th>\n",
       "      <th>Summary Count</th>\n",
       "      <th>-</th>\n",
       "      <th>Stats Type</th>\n",
       "      <th>Stats Value</th>\n",
       "      <th>--</th>\n",
       "      <th>Top Values</th>\n",
       "    </tr>\n",
       "  </thead>\n",
       "  <tbody>\n",
       "    <tr>\n",
       "      <th>0</th>\n",
       "      <td>Missing</td>\n",
       "      <td>0</td>\n",
       "      <td></td>\n",
       "      <td></td>\n",
       "      <td></td>\n",
       "      <td></td>\n",
       "      <td></td>\n",
       "    </tr>\n",
       "    <tr>\n",
       "      <th>1</th>\n",
       "      <td>Total Count</td>\n",
       "      <td>37940</td>\n",
       "      <td></td>\n",
       "      <td></td>\n",
       "      <td></td>\n",
       "      <td></td>\n",
       "      <td></td>\n",
       "    </tr>\n",
       "    <tr>\n",
       "      <th>2</th>\n",
       "      <td>Duplicated</td>\n",
       "      <td>0</td>\n",
       "      <td></td>\n",
       "      <td></td>\n",
       "      <td></td>\n",
       "      <td></td>\n",
       "      <td></td>\n",
       "    </tr>\n",
       "    <tr>\n",
       "      <th>3</th>\n",
       "      <td>Negative</td>\n",
       "      <td>0</td>\n",
       "      <td></td>\n",
       "      <td></td>\n",
       "      <td></td>\n",
       "      <td></td>\n",
       "      <td></td>\n",
       "    </tr>\n",
       "    <tr>\n",
       "      <th>4</th>\n",
       "      <td>Unique Count</td>\n",
       "      <td>37940</td>\n",
       "      <td></td>\n",
       "      <td></td>\n",
       "      <td></td>\n",
       "      <td></td>\n",
       "      <td></td>\n",
       "    </tr>\n",
       "    <tr>\n",
       "      <th>5</th>\n",
       "      <td>Zero</td>\n",
       "      <td>0</td>\n",
       "      <td></td>\n",
       "      <td></td>\n",
       "      <td></td>\n",
       "      <td></td>\n",
       "      <td></td>\n",
       "    </tr>\n",
       "  </tbody>\n",
       "</table>\n",
       "</div>"
      ],
      "text/plain": [
       "   Summary Type Summary Count  - Stats Type Stats Value -- Top Values\n",
       "0       Missing             0                                        \n",
       "1   Total Count         37940                                        \n",
       "2    Duplicated             0                                        \n",
       "3      Negative             0                                        \n",
       "4  Unique Count         37940                                        \n",
       "5          Zero             0                                        "
      ]
     },
     "execution_count": 81,
     "metadata": {},
     "output_type": "execute_result"
    }
   ],
   "source": [
    "%%sql\n",
    "SELECT * FROM get_column_summary('application.cities', 'city_id', True);"
   ]
  },
  {
   "cell_type": "markdown",
   "metadata": {},
   "source": [
    "**city_name**"
   ]
  },
  {
   "cell_type": "code",
   "execution_count": 82,
   "metadata": {
    "vscode": {
     "languageId": "sql"
    }
   },
   "outputs": [
    {
     "data": {
      "text/html": [
       "<div>\n",
       "<style scoped>\n",
       "    .dataframe tbody tr th:only-of-type {\n",
       "        vertical-align: middle;\n",
       "    }\n",
       "\n",
       "    .dataframe tbody tr th {\n",
       "        vertical-align: top;\n",
       "    }\n",
       "\n",
       "    .dataframe thead th {\n",
       "        text-align: right;\n",
       "    }\n",
       "</style>\n",
       "<table border=\"1\" class=\"dataframe\">\n",
       "  <thead>\n",
       "    <tr style=\"text-align: right;\">\n",
       "      <th></th>\n",
       "      <th>Summary Type</th>\n",
       "      <th>Summary Count</th>\n",
       "      <th>-</th>\n",
       "      <th>Stats Type</th>\n",
       "      <th>Stats Value</th>\n",
       "      <th>--</th>\n",
       "      <th>Top Values</th>\n",
       "    </tr>\n",
       "  </thead>\n",
       "  <tbody>\n",
       "    <tr>\n",
       "      <th>0</th>\n",
       "      <td>Negative</td>\n",
       "      <td>None</td>\n",
       "      <td></td>\n",
       "      <td></td>\n",
       "      <td></td>\n",
       "      <td></td>\n",
       "      <td></td>\n",
       "    </tr>\n",
       "    <tr>\n",
       "      <th>1</th>\n",
       "      <td>Zero</td>\n",
       "      <td>None</td>\n",
       "      <td></td>\n",
       "      <td></td>\n",
       "      <td></td>\n",
       "      <td></td>\n",
       "      <td></td>\n",
       "    </tr>\n",
       "    <tr>\n",
       "      <th>2</th>\n",
       "      <td>Missing</td>\n",
       "      <td>0</td>\n",
       "      <td></td>\n",
       "      <td></td>\n",
       "      <td></td>\n",
       "      <td></td>\n",
       "      <td></td>\n",
       "    </tr>\n",
       "    <tr>\n",
       "      <th>3</th>\n",
       "      <td>Total Count</td>\n",
       "      <td>37940</td>\n",
       "      <td></td>\n",
       "      <td></td>\n",
       "      <td></td>\n",
       "      <td></td>\n",
       "      <td></td>\n",
       "    </tr>\n",
       "    <tr>\n",
       "      <th>4</th>\n",
       "      <td>Unique Count</td>\n",
       "      <td>23279</td>\n",
       "      <td></td>\n",
       "      <td></td>\n",
       "      <td></td>\n",
       "      <td></td>\n",
       "      <td></td>\n",
       "    </tr>\n",
       "    <tr>\n",
       "      <th>5</th>\n",
       "      <td>Duplicated</td>\n",
       "      <td>14661</td>\n",
       "      <td></td>\n",
       "      <td></td>\n",
       "      <td></td>\n",
       "      <td></td>\n",
       "      <td></td>\n",
       "    </tr>\n",
       "  </tbody>\n",
       "</table>\n",
       "</div>"
      ],
      "text/plain": [
       "   Summary Type Summary Count  - Stats Type Stats Value -- Top Values\n",
       "0      Negative          None                                        \n",
       "1          Zero          None                                        \n",
       "2       Missing             0                                        \n",
       "3   Total Count         37940                                        \n",
       "4  Unique Count         23279                                        \n",
       "5    Duplicated         14661                                        "
      ]
     },
     "execution_count": 82,
     "metadata": {},
     "output_type": "execute_result"
    }
   ],
   "source": [
    "%%sql\n",
    "SELECT * FROM get_column_summary('application.cities', 'city_name', True);"
   ]
  },
  {
   "cell_type": "markdown",
   "metadata": {},
   "source": [
    "**state_province_id**"
   ]
  },
  {
   "cell_type": "code",
   "execution_count": 83,
   "metadata": {
    "vscode": {
     "languageId": "sql"
    }
   },
   "outputs": [
    {
     "data": {
      "text/html": [
       "<div>\n",
       "<style scoped>\n",
       "    .dataframe tbody tr th:only-of-type {\n",
       "        vertical-align: middle;\n",
       "    }\n",
       "\n",
       "    .dataframe tbody tr th {\n",
       "        vertical-align: top;\n",
       "    }\n",
       "\n",
       "    .dataframe thead th {\n",
       "        text-align: right;\n",
       "    }\n",
       "</style>\n",
       "<table border=\"1\" class=\"dataframe\">\n",
       "  <thead>\n",
       "    <tr style=\"text-align: right;\">\n",
       "      <th></th>\n",
       "      <th>Summary Type</th>\n",
       "      <th>Summary Count</th>\n",
       "      <th>-</th>\n",
       "      <th>Stats Type</th>\n",
       "      <th>Stats Value</th>\n",
       "      <th>--</th>\n",
       "      <th>Top Values</th>\n",
       "    </tr>\n",
       "  </thead>\n",
       "  <tbody>\n",
       "    <tr>\n",
       "      <th>0</th>\n",
       "      <td>Missing</td>\n",
       "      <td>0</td>\n",
       "      <td></td>\n",
       "      <td></td>\n",
       "      <td></td>\n",
       "      <td></td>\n",
       "      <td></td>\n",
       "    </tr>\n",
       "    <tr>\n",
       "      <th>1</th>\n",
       "      <td>Total Count</td>\n",
       "      <td>37940</td>\n",
       "      <td></td>\n",
       "      <td></td>\n",
       "      <td></td>\n",
       "      <td></td>\n",
       "      <td></td>\n",
       "    </tr>\n",
       "    <tr>\n",
       "      <th>2</th>\n",
       "      <td>Negative</td>\n",
       "      <td>0</td>\n",
       "      <td></td>\n",
       "      <td></td>\n",
       "      <td></td>\n",
       "      <td></td>\n",
       "      <td></td>\n",
       "    </tr>\n",
       "    <tr>\n",
       "      <th>3</th>\n",
       "      <td>Zero</td>\n",
       "      <td>0</td>\n",
       "      <td></td>\n",
       "      <td></td>\n",
       "      <td></td>\n",
       "      <td></td>\n",
       "      <td></td>\n",
       "    </tr>\n",
       "    <tr>\n",
       "      <th>4</th>\n",
       "      <td>Unique Count</td>\n",
       "      <td>53</td>\n",
       "      <td></td>\n",
       "      <td></td>\n",
       "      <td></td>\n",
       "      <td></td>\n",
       "      <td></td>\n",
       "    </tr>\n",
       "    <tr>\n",
       "      <th>5</th>\n",
       "      <td>Duplicated</td>\n",
       "      <td>37887</td>\n",
       "      <td></td>\n",
       "      <td></td>\n",
       "      <td></td>\n",
       "      <td></td>\n",
       "      <td></td>\n",
       "    </tr>\n",
       "  </tbody>\n",
       "</table>\n",
       "</div>"
      ],
      "text/plain": [
       "   Summary Type Summary Count  - Stats Type Stats Value -- Top Values\n",
       "0       Missing             0                                        \n",
       "1   Total Count         37940                                        \n",
       "2      Negative             0                                        \n",
       "3          Zero             0                                        \n",
       "4  Unique Count            53                                        \n",
       "5    Duplicated         37887                                        "
      ]
     },
     "execution_count": 83,
     "metadata": {},
     "output_type": "execute_result"
    }
   ],
   "source": [
    "%%sql\n",
    "SELECT * FROM get_column_summary('application.cities', 'state_province_id', True);"
   ]
  },
  {
   "cell_type": "markdown",
   "metadata": {},
   "source": [
    "**latest_recorded_population**"
   ]
  },
  {
   "cell_type": "code",
   "execution_count": 84,
   "metadata": {
    "vscode": {
     "languageId": "sql"
    }
   },
   "outputs": [
    {
     "data": {
      "text/html": [
       "<div>\n",
       "<style scoped>\n",
       "    .dataframe tbody tr th:only-of-type {\n",
       "        vertical-align: middle;\n",
       "    }\n",
       "\n",
       "    .dataframe tbody tr th {\n",
       "        vertical-align: top;\n",
       "    }\n",
       "\n",
       "    .dataframe thead th {\n",
       "        text-align: right;\n",
       "    }\n",
       "</style>\n",
       "<table border=\"1\" class=\"dataframe\">\n",
       "  <thead>\n",
       "    <tr style=\"text-align: right;\">\n",
       "      <th></th>\n",
       "      <th>Summary Type</th>\n",
       "      <th>Summary Count</th>\n",
       "      <th>-</th>\n",
       "      <th>Stats Type</th>\n",
       "      <th>Stats Value</th>\n",
       "      <th>--</th>\n",
       "      <th>Top Values</th>\n",
       "    </tr>\n",
       "  </thead>\n",
       "  <tbody>\n",
       "    <tr>\n",
       "      <th>0</th>\n",
       "      <td>Missing</td>\n",
       "      <td>11048</td>\n",
       "      <td></td>\n",
       "      <td></td>\n",
       "      <td></td>\n",
       "      <td></td>\n",
       "      <td></td>\n",
       "    </tr>\n",
       "    <tr>\n",
       "      <th>1</th>\n",
       "      <td>Total Count</td>\n",
       "      <td>37940</td>\n",
       "      <td></td>\n",
       "      <td></td>\n",
       "      <td></td>\n",
       "      <td></td>\n",
       "      <td></td>\n",
       "    </tr>\n",
       "    <tr>\n",
       "      <th>2</th>\n",
       "      <td>Negative</td>\n",
       "      <td>0</td>\n",
       "      <td></td>\n",
       "      <td></td>\n",
       "      <td></td>\n",
       "      <td></td>\n",
       "      <td></td>\n",
       "    </tr>\n",
       "    <tr>\n",
       "      <th>3</th>\n",
       "      <td>Zero</td>\n",
       "      <td>14</td>\n",
       "      <td></td>\n",
       "      <td></td>\n",
       "      <td></td>\n",
       "      <td></td>\n",
       "      <td></td>\n",
       "    </tr>\n",
       "    <tr>\n",
       "      <th>4</th>\n",
       "      <td>Duplicated</td>\n",
       "      <td>17568</td>\n",
       "      <td></td>\n",
       "      <td></td>\n",
       "      <td></td>\n",
       "      <td></td>\n",
       "      <td></td>\n",
       "    </tr>\n",
       "    <tr>\n",
       "      <th>5</th>\n",
       "      <td>Unique Count</td>\n",
       "      <td>9324</td>\n",
       "      <td></td>\n",
       "      <td></td>\n",
       "      <td></td>\n",
       "      <td></td>\n",
       "      <td></td>\n",
       "    </tr>\n",
       "  </tbody>\n",
       "</table>\n",
       "</div>"
      ],
      "text/plain": [
       "   Summary Type Summary Count  - Stats Type Stats Value -- Top Values\n",
       "0       Missing         11048                                        \n",
       "1   Total Count         37940                                        \n",
       "2      Negative             0                                        \n",
       "3          Zero            14                                        \n",
       "4    Duplicated         17568                                        \n",
       "5  Unique Count          9324                                        "
      ]
     },
     "execution_count": 84,
     "metadata": {},
     "output_type": "execute_result"
    }
   ],
   "source": [
    "%%sql\n",
    "SELECT * FROM get_column_summary('application.cities', 'latest_recorded_population', True);"
   ]
  },
  {
   "cell_type": "markdown",
   "metadata": {},
   "source": [
    "**Key Observations:**  \n",
    "\n",
    "- Not all cities have population values.\n",
    "- No critical anomalies were found.\n",
    "- The date range matches the orders table."
   ]
  },
  {
   "cell_type": "markdown",
   "metadata": {},
   "source": [
    "##### Table application.delivery_methods"
   ]
  },
  {
   "cell_type": "markdown",
   "metadata": {},
   "source": [
    "Let's look at the rows."
   ]
  },
  {
   "cell_type": "code",
   "execution_count": 85,
   "metadata": {
    "vscode": {
     "languageId": "sql"
    }
   },
   "outputs": [
    {
     "data": {
      "text/html": [
       "<div>\n",
       "<style scoped>\n",
       "    .dataframe tbody tr th:only-of-type {\n",
       "        vertical-align: middle;\n",
       "    }\n",
       "\n",
       "    .dataframe tbody tr th {\n",
       "        vertical-align: top;\n",
       "    }\n",
       "\n",
       "    .dataframe thead th {\n",
       "        text-align: right;\n",
       "    }\n",
       "</style>\n",
       "<table border=\"1\" class=\"dataframe\">\n",
       "  <thead>\n",
       "    <tr style=\"text-align: right;\">\n",
       "      <th></th>\n",
       "      <th>delivery_method_id</th>\n",
       "      <th>delivery_method_name</th>\n",
       "      <th>last_edited_by</th>\n",
       "    </tr>\n",
       "  </thead>\n",
       "  <tbody>\n",
       "    <tr>\n",
       "      <th>0</th>\n",
       "      <td>1</td>\n",
       "      <td>Post</td>\n",
       "      <td>1</td>\n",
       "    </tr>\n",
       "    <tr>\n",
       "      <th>1</th>\n",
       "      <td>2</td>\n",
       "      <td>Courier</td>\n",
       "      <td>1</td>\n",
       "    </tr>\n",
       "    <tr>\n",
       "      <th>2</th>\n",
       "      <td>3</td>\n",
       "      <td>Delivery Van</td>\n",
       "      <td>1</td>\n",
       "    </tr>\n",
       "    <tr>\n",
       "      <th>3</th>\n",
       "      <td>4</td>\n",
       "      <td>Customer Collect</td>\n",
       "      <td>1</td>\n",
       "    </tr>\n",
       "    <tr>\n",
       "      <th>4</th>\n",
       "      <td>5</td>\n",
       "      <td>Chilled Van</td>\n",
       "      <td>16</td>\n",
       "    </tr>\n",
       "  </tbody>\n",
       "</table>\n",
       "</div>"
      ],
      "text/plain": [
       "   delivery_method_id delivery_method_name  last_edited_by\n",
       "0                   1                 Post               1\n",
       "1                   2              Courier               1\n",
       "2                   3         Delivery Van               1\n",
       "3                   4     Customer Collect               1\n",
       "4                   5          Chilled Van              16"
      ]
     },
     "execution_count": 85,
     "metadata": {},
     "output_type": "execute_result"
    }
   ],
   "source": [
    "%%sql\n",
    "SELECT\n",
    "    *\n",
    "FROM\n",
    "    application.delivery_methods\n",
    "LIMIT 5"
   ]
  },
  {
   "cell_type": "markdown",
   "metadata": {},
   "source": [
    "Let's examine each column we will use for creating the dashboard individually."
   ]
  },
  {
   "cell_type": "markdown",
   "metadata": {},
   "source": [
    "**delivery_method_id**"
   ]
  },
  {
   "cell_type": "code",
   "execution_count": 86,
   "metadata": {
    "vscode": {
     "languageId": "sql"
    }
   },
   "outputs": [
    {
     "data": {
      "text/html": [
       "<div>\n",
       "<style scoped>\n",
       "    .dataframe tbody tr th:only-of-type {\n",
       "        vertical-align: middle;\n",
       "    }\n",
       "\n",
       "    .dataframe tbody tr th {\n",
       "        vertical-align: top;\n",
       "    }\n",
       "\n",
       "    .dataframe thead th {\n",
       "        text-align: right;\n",
       "    }\n",
       "</style>\n",
       "<table border=\"1\" class=\"dataframe\">\n",
       "  <thead>\n",
       "    <tr style=\"text-align: right;\">\n",
       "      <th></th>\n",
       "      <th>Summary Type</th>\n",
       "      <th>Summary Count</th>\n",
       "      <th>-</th>\n",
       "      <th>Stats Type</th>\n",
       "      <th>Stats Value</th>\n",
       "      <th>--</th>\n",
       "      <th>Top Values</th>\n",
       "    </tr>\n",
       "  </thead>\n",
       "  <tbody>\n",
       "    <tr>\n",
       "      <th>0</th>\n",
       "      <td>Total Count</td>\n",
       "      <td>10</td>\n",
       "      <td></td>\n",
       "      <td></td>\n",
       "      <td></td>\n",
       "      <td></td>\n",
       "      <td></td>\n",
       "    </tr>\n",
       "    <tr>\n",
       "      <th>1</th>\n",
       "      <td>Unique Count</td>\n",
       "      <td>10</td>\n",
       "      <td></td>\n",
       "      <td></td>\n",
       "      <td></td>\n",
       "      <td></td>\n",
       "      <td></td>\n",
       "    </tr>\n",
       "    <tr>\n",
       "      <th>2</th>\n",
       "      <td>Missing</td>\n",
       "      <td>0</td>\n",
       "      <td></td>\n",
       "      <td></td>\n",
       "      <td></td>\n",
       "      <td></td>\n",
       "      <td></td>\n",
       "    </tr>\n",
       "    <tr>\n",
       "      <th>3</th>\n",
       "      <td>Duplicated</td>\n",
       "      <td>0</td>\n",
       "      <td></td>\n",
       "      <td></td>\n",
       "      <td></td>\n",
       "      <td></td>\n",
       "      <td></td>\n",
       "    </tr>\n",
       "    <tr>\n",
       "      <th>4</th>\n",
       "      <td>Zero</td>\n",
       "      <td>0</td>\n",
       "      <td></td>\n",
       "      <td></td>\n",
       "      <td></td>\n",
       "      <td></td>\n",
       "      <td></td>\n",
       "    </tr>\n",
       "    <tr>\n",
       "      <th>5</th>\n",
       "      <td>Negative</td>\n",
       "      <td>0</td>\n",
       "      <td></td>\n",
       "      <td></td>\n",
       "      <td></td>\n",
       "      <td></td>\n",
       "      <td></td>\n",
       "    </tr>\n",
       "  </tbody>\n",
       "</table>\n",
       "</div>"
      ],
      "text/plain": [
       "   Summary Type Summary Count  - Stats Type Stats Value -- Top Values\n",
       "0   Total Count            10                                        \n",
       "1  Unique Count            10                                        \n",
       "2       Missing             0                                        \n",
       "3    Duplicated             0                                        \n",
       "4          Zero             0                                        \n",
       "5      Negative             0                                        "
      ]
     },
     "execution_count": 86,
     "metadata": {},
     "output_type": "execute_result"
    }
   ],
   "source": [
    "%%sql\n",
    "SELECT * FROM get_column_summary('application.delivery_methods', 'delivery_method_id', True);"
   ]
  },
  {
   "cell_type": "markdown",
   "metadata": {},
   "source": [
    "**delivery_method_name**"
   ]
  },
  {
   "cell_type": "code",
   "execution_count": 87,
   "metadata": {
    "vscode": {
     "languageId": "sql"
    }
   },
   "outputs": [
    {
     "data": {
      "text/html": [
       "<div>\n",
       "<style scoped>\n",
       "    .dataframe tbody tr th:only-of-type {\n",
       "        vertical-align: middle;\n",
       "    }\n",
       "\n",
       "    .dataframe tbody tr th {\n",
       "        vertical-align: top;\n",
       "    }\n",
       "\n",
       "    .dataframe thead th {\n",
       "        text-align: right;\n",
       "    }\n",
       "</style>\n",
       "<table border=\"1\" class=\"dataframe\">\n",
       "  <thead>\n",
       "    <tr style=\"text-align: right;\">\n",
       "      <th></th>\n",
       "      <th>Summary Type</th>\n",
       "      <th>Summary Count</th>\n",
       "      <th>-</th>\n",
       "      <th>Stats Type</th>\n",
       "      <th>Stats Value</th>\n",
       "      <th>--</th>\n",
       "      <th>Top Values</th>\n",
       "    </tr>\n",
       "  </thead>\n",
       "  <tbody>\n",
       "    <tr>\n",
       "      <th>0</th>\n",
       "      <td>Total Count</td>\n",
       "      <td>10</td>\n",
       "      <td></td>\n",
       "      <td></td>\n",
       "      <td></td>\n",
       "      <td></td>\n",
       "      <td></td>\n",
       "    </tr>\n",
       "    <tr>\n",
       "      <th>1</th>\n",
       "      <td>Unique Count</td>\n",
       "      <td>10</td>\n",
       "      <td></td>\n",
       "      <td></td>\n",
       "      <td></td>\n",
       "      <td></td>\n",
       "      <td></td>\n",
       "    </tr>\n",
       "    <tr>\n",
       "      <th>2</th>\n",
       "      <td>Missing</td>\n",
       "      <td>0</td>\n",
       "      <td></td>\n",
       "      <td></td>\n",
       "      <td></td>\n",
       "      <td></td>\n",
       "      <td></td>\n",
       "    </tr>\n",
       "    <tr>\n",
       "      <th>3</th>\n",
       "      <td>Duplicated</td>\n",
       "      <td>0</td>\n",
       "      <td></td>\n",
       "      <td></td>\n",
       "      <td></td>\n",
       "      <td></td>\n",
       "      <td></td>\n",
       "    </tr>\n",
       "    <tr>\n",
       "      <th>4</th>\n",
       "      <td>Zero</td>\n",
       "      <td>None</td>\n",
       "      <td></td>\n",
       "      <td></td>\n",
       "      <td></td>\n",
       "      <td></td>\n",
       "      <td></td>\n",
       "    </tr>\n",
       "    <tr>\n",
       "      <th>5</th>\n",
       "      <td>Negative</td>\n",
       "      <td>None</td>\n",
       "      <td></td>\n",
       "      <td></td>\n",
       "      <td></td>\n",
       "      <td></td>\n",
       "      <td></td>\n",
       "    </tr>\n",
       "  </tbody>\n",
       "</table>\n",
       "</div>"
      ],
      "text/plain": [
       "   Summary Type Summary Count  - Stats Type Stats Value -- Top Values\n",
       "0   Total Count            10                                        \n",
       "1  Unique Count            10                                        \n",
       "2       Missing             0                                        \n",
       "3    Duplicated             0                                        \n",
       "4          Zero          None                                        \n",
       "5      Negative          None                                        "
      ]
     },
     "execution_count": 87,
     "metadata": {},
     "output_type": "execute_result"
    }
   ],
   "source": [
    "%%sql\n",
    "SELECT * FROM get_column_summary('application.delivery_methods', 'delivery_method_name', True);"
   ]
  },
  {
   "cell_type": "markdown",
   "metadata": {},
   "source": [
    "**Key Observations:**  \n",
    "\n",
    "- No missing values in the columns we need.\n",
    "- No critical anomalies were found."
   ]
  },
  {
   "cell_type": "markdown",
   "metadata": {},
   "source": [
    "##### Table application.payment_methods"
   ]
  },
  {
   "cell_type": "markdown",
   "metadata": {},
   "source": [
    "Let's look at the rows."
   ]
  },
  {
   "cell_type": "code",
   "execution_count": 88,
   "metadata": {
    "vscode": {
     "languageId": "sql"
    }
   },
   "outputs": [
    {
     "data": {
      "text/html": [
       "<div>\n",
       "<style scoped>\n",
       "    .dataframe tbody tr th:only-of-type {\n",
       "        vertical-align: middle;\n",
       "    }\n",
       "\n",
       "    .dataframe tbody tr th {\n",
       "        vertical-align: top;\n",
       "    }\n",
       "\n",
       "    .dataframe thead th {\n",
       "        text-align: right;\n",
       "    }\n",
       "</style>\n",
       "<table border=\"1\" class=\"dataframe\">\n",
       "  <thead>\n",
       "    <tr style=\"text-align: right;\">\n",
       "      <th></th>\n",
       "      <th>payment_method_id</th>\n",
       "      <th>payment_method_name</th>\n",
       "      <th>last_edited_by</th>\n",
       "    </tr>\n",
       "  </thead>\n",
       "  <tbody>\n",
       "    <tr>\n",
       "      <th>0</th>\n",
       "      <td>1</td>\n",
       "      <td>Cash</td>\n",
       "      <td>1</td>\n",
       "    </tr>\n",
       "    <tr>\n",
       "      <th>1</th>\n",
       "      <td>2</td>\n",
       "      <td>Check</td>\n",
       "      <td>1</td>\n",
       "    </tr>\n",
       "    <tr>\n",
       "      <th>2</th>\n",
       "      <td>3</td>\n",
       "      <td>Credit-Card</td>\n",
       "      <td>9</td>\n",
       "    </tr>\n",
       "    <tr>\n",
       "      <th>3</th>\n",
       "      <td>4</td>\n",
       "      <td>EFT</td>\n",
       "      <td>1</td>\n",
       "    </tr>\n",
       "  </tbody>\n",
       "</table>\n",
       "</div>"
      ],
      "text/plain": [
       "   payment_method_id payment_method_name  last_edited_by\n",
       "0                  1                Cash               1\n",
       "1                  2               Check               1\n",
       "2                  3         Credit-Card               9\n",
       "3                  4                 EFT               1"
      ]
     },
     "execution_count": 88,
     "metadata": {},
     "output_type": "execute_result"
    }
   ],
   "source": [
    "%%sql\n",
    "SELECT\n",
    "    *\n",
    "FROM\n",
    "    application.payment_methods\n",
    "LIMIT 5"
   ]
  },
  {
   "cell_type": "markdown",
   "metadata": {},
   "source": [
    "Let's examine each column we will use for creating the dashboard individually."
   ]
  },
  {
   "cell_type": "markdown",
   "metadata": {},
   "source": [
    "**payment_method_id**"
   ]
  },
  {
   "cell_type": "code",
   "execution_count": 89,
   "metadata": {
    "vscode": {
     "languageId": "sql"
    }
   },
   "outputs": [
    {
     "data": {
      "text/html": [
       "<div>\n",
       "<style scoped>\n",
       "    .dataframe tbody tr th:only-of-type {\n",
       "        vertical-align: middle;\n",
       "    }\n",
       "\n",
       "    .dataframe tbody tr th {\n",
       "        vertical-align: top;\n",
       "    }\n",
       "\n",
       "    .dataframe thead th {\n",
       "        text-align: right;\n",
       "    }\n",
       "</style>\n",
       "<table border=\"1\" class=\"dataframe\">\n",
       "  <thead>\n",
       "    <tr style=\"text-align: right;\">\n",
       "      <th></th>\n",
       "      <th>Summary Type</th>\n",
       "      <th>Summary Count</th>\n",
       "      <th>-</th>\n",
       "      <th>Stats Type</th>\n",
       "      <th>Stats Value</th>\n",
       "      <th>--</th>\n",
       "      <th>Top Values</th>\n",
       "    </tr>\n",
       "  </thead>\n",
       "  <tbody>\n",
       "    <tr>\n",
       "      <th>0</th>\n",
       "      <td>Total Count</td>\n",
       "      <td>4</td>\n",
       "      <td></td>\n",
       "      <td></td>\n",
       "      <td></td>\n",
       "      <td></td>\n",
       "      <td></td>\n",
       "    </tr>\n",
       "    <tr>\n",
       "      <th>1</th>\n",
       "      <td>Unique Count</td>\n",
       "      <td>4</td>\n",
       "      <td></td>\n",
       "      <td></td>\n",
       "      <td></td>\n",
       "      <td></td>\n",
       "      <td></td>\n",
       "    </tr>\n",
       "    <tr>\n",
       "      <th>2</th>\n",
       "      <td>Missing</td>\n",
       "      <td>0</td>\n",
       "      <td></td>\n",
       "      <td></td>\n",
       "      <td></td>\n",
       "      <td></td>\n",
       "      <td></td>\n",
       "    </tr>\n",
       "    <tr>\n",
       "      <th>3</th>\n",
       "      <td>Duplicated</td>\n",
       "      <td>0</td>\n",
       "      <td></td>\n",
       "      <td></td>\n",
       "      <td></td>\n",
       "      <td></td>\n",
       "      <td></td>\n",
       "    </tr>\n",
       "    <tr>\n",
       "      <th>4</th>\n",
       "      <td>Zero</td>\n",
       "      <td>0</td>\n",
       "      <td></td>\n",
       "      <td></td>\n",
       "      <td></td>\n",
       "      <td></td>\n",
       "      <td></td>\n",
       "    </tr>\n",
       "    <tr>\n",
       "      <th>5</th>\n",
       "      <td>Negative</td>\n",
       "      <td>0</td>\n",
       "      <td></td>\n",
       "      <td></td>\n",
       "      <td></td>\n",
       "      <td></td>\n",
       "      <td></td>\n",
       "    </tr>\n",
       "  </tbody>\n",
       "</table>\n",
       "</div>"
      ],
      "text/plain": [
       "   Summary Type Summary Count  - Stats Type Stats Value -- Top Values\n",
       "0   Total Count             4                                        \n",
       "1  Unique Count             4                                        \n",
       "2       Missing             0                                        \n",
       "3    Duplicated             0                                        \n",
       "4          Zero             0                                        \n",
       "5      Negative             0                                        "
      ]
     },
     "execution_count": 89,
     "metadata": {},
     "output_type": "execute_result"
    }
   ],
   "source": [
    "%%sql\n",
    "SELECT * FROM get_column_summary('application.payment_methods', 'payment_method_id', True);"
   ]
  },
  {
   "cell_type": "markdown",
   "metadata": {},
   "source": [
    "**payment_method_name**"
   ]
  },
  {
   "cell_type": "code",
   "execution_count": 90,
   "metadata": {
    "vscode": {
     "languageId": "sql"
    }
   },
   "outputs": [
    {
     "data": {
      "text/html": [
       "<div>\n",
       "<style scoped>\n",
       "    .dataframe tbody tr th:only-of-type {\n",
       "        vertical-align: middle;\n",
       "    }\n",
       "\n",
       "    .dataframe tbody tr th {\n",
       "        vertical-align: top;\n",
       "    }\n",
       "\n",
       "    .dataframe thead th {\n",
       "        text-align: right;\n",
       "    }\n",
       "</style>\n",
       "<table border=\"1\" class=\"dataframe\">\n",
       "  <thead>\n",
       "    <tr style=\"text-align: right;\">\n",
       "      <th></th>\n",
       "      <th>Summary Type</th>\n",
       "      <th>Summary Count</th>\n",
       "      <th>-</th>\n",
       "      <th>Stats Type</th>\n",
       "      <th>Stats Value</th>\n",
       "      <th>--</th>\n",
       "      <th>Top Values</th>\n",
       "    </tr>\n",
       "  </thead>\n",
       "  <tbody>\n",
       "    <tr>\n",
       "      <th>0</th>\n",
       "      <td>Total Count</td>\n",
       "      <td>4</td>\n",
       "      <td></td>\n",
       "      <td></td>\n",
       "      <td></td>\n",
       "      <td></td>\n",
       "      <td></td>\n",
       "    </tr>\n",
       "    <tr>\n",
       "      <th>1</th>\n",
       "      <td>Unique Count</td>\n",
       "      <td>4</td>\n",
       "      <td></td>\n",
       "      <td></td>\n",
       "      <td></td>\n",
       "      <td></td>\n",
       "      <td></td>\n",
       "    </tr>\n",
       "    <tr>\n",
       "      <th>2</th>\n",
       "      <td>Missing</td>\n",
       "      <td>0</td>\n",
       "      <td></td>\n",
       "      <td></td>\n",
       "      <td></td>\n",
       "      <td></td>\n",
       "      <td></td>\n",
       "    </tr>\n",
       "    <tr>\n",
       "      <th>3</th>\n",
       "      <td>Duplicated</td>\n",
       "      <td>0</td>\n",
       "      <td></td>\n",
       "      <td></td>\n",
       "      <td></td>\n",
       "      <td></td>\n",
       "      <td></td>\n",
       "    </tr>\n",
       "    <tr>\n",
       "      <th>4</th>\n",
       "      <td>Zero</td>\n",
       "      <td>None</td>\n",
       "      <td></td>\n",
       "      <td></td>\n",
       "      <td></td>\n",
       "      <td></td>\n",
       "      <td></td>\n",
       "    </tr>\n",
       "    <tr>\n",
       "      <th>5</th>\n",
       "      <td>Negative</td>\n",
       "      <td>None</td>\n",
       "      <td></td>\n",
       "      <td></td>\n",
       "      <td></td>\n",
       "      <td></td>\n",
       "      <td></td>\n",
       "    </tr>\n",
       "  </tbody>\n",
       "</table>\n",
       "</div>"
      ],
      "text/plain": [
       "   Summary Type Summary Count  - Stats Type Stats Value -- Top Values\n",
       "0   Total Count             4                                        \n",
       "1  Unique Count             4                                        \n",
       "2       Missing             0                                        \n",
       "3    Duplicated             0                                        \n",
       "4          Zero          None                                        \n",
       "5      Negative          None                                        "
      ]
     },
     "execution_count": 90,
     "metadata": {},
     "output_type": "execute_result"
    }
   ],
   "source": [
    "%%sql\n",
    "SELECT * FROM get_column_summary('application.payment_methods', 'payment_method_name', True);"
   ]
  },
  {
   "cell_type": "markdown",
   "metadata": {},
   "source": [
    "**Key Observations:**  \n",
    "\n",
    "- No missing values in the columns we need.\n",
    "- No critical anomalies were found."
   ]
  },
  {
   "cell_type": "markdown",
   "metadata": {},
   "source": [
    "##### Table application.transaction_types"
   ]
  },
  {
   "cell_type": "markdown",
   "metadata": {},
   "source": [
    "Let's look at the rows."
   ]
  },
  {
   "cell_type": "code",
   "execution_count": 91,
   "metadata": {
    "vscode": {
     "languageId": "sql"
    }
   },
   "outputs": [
    {
     "data": {
      "text/html": [
       "<div>\n",
       "<style scoped>\n",
       "    .dataframe tbody tr th:only-of-type {\n",
       "        vertical-align: middle;\n",
       "    }\n",
       "\n",
       "    .dataframe tbody tr th {\n",
       "        vertical-align: top;\n",
       "    }\n",
       "\n",
       "    .dataframe thead th {\n",
       "        text-align: right;\n",
       "    }\n",
       "</style>\n",
       "<table border=\"1\" class=\"dataframe\">\n",
       "  <thead>\n",
       "    <tr style=\"text-align: right;\">\n",
       "      <th></th>\n",
       "      <th>transaction_type_id</th>\n",
       "      <th>transaction_type_name</th>\n",
       "      <th>last_edited_by</th>\n",
       "    </tr>\n",
       "  </thead>\n",
       "  <tbody>\n",
       "    <tr>\n",
       "      <th>0</th>\n",
       "      <td>1</td>\n",
       "      <td>Customer Invoice</td>\n",
       "      <td>1</td>\n",
       "    </tr>\n",
       "    <tr>\n",
       "      <th>1</th>\n",
       "      <td>2</td>\n",
       "      <td>Customer Credit Note</td>\n",
       "      <td>1</td>\n",
       "    </tr>\n",
       "    <tr>\n",
       "      <th>2</th>\n",
       "      <td>3</td>\n",
       "      <td>Customer Payment Received</td>\n",
       "      <td>1</td>\n",
       "    </tr>\n",
       "    <tr>\n",
       "      <th>3</th>\n",
       "      <td>4</td>\n",
       "      <td>Customer Refund</td>\n",
       "      <td>1</td>\n",
       "    </tr>\n",
       "    <tr>\n",
       "      <th>4</th>\n",
       "      <td>5</td>\n",
       "      <td>Supplier Invoice</td>\n",
       "      <td>1</td>\n",
       "    </tr>\n",
       "  </tbody>\n",
       "</table>\n",
       "</div>"
      ],
      "text/plain": [
       "   transaction_type_id      transaction_type_name  last_edited_by\n",
       "0                    1           Customer Invoice               1\n",
       "1                    2       Customer Credit Note               1\n",
       "2                    3  Customer Payment Received               1\n",
       "3                    4            Customer Refund               1\n",
       "4                    5           Supplier Invoice               1"
      ]
     },
     "execution_count": 91,
     "metadata": {},
     "output_type": "execute_result"
    }
   ],
   "source": [
    "%%sql\n",
    "SELECT\n",
    "    *\n",
    "FROM\n",
    "    application.transaction_types\n",
    "LIMIT 5"
   ]
  },
  {
   "cell_type": "markdown",
   "metadata": {},
   "source": [
    "Let's examine each column we will use for creating the dashboard individually."
   ]
  },
  {
   "cell_type": "markdown",
   "metadata": {},
   "source": [
    "**transaction_type_id**"
   ]
  },
  {
   "cell_type": "code",
   "execution_count": 92,
   "metadata": {
    "vscode": {
     "languageId": "sql"
    }
   },
   "outputs": [
    {
     "data": {
      "text/html": [
       "<div>\n",
       "<style scoped>\n",
       "    .dataframe tbody tr th:only-of-type {\n",
       "        vertical-align: middle;\n",
       "    }\n",
       "\n",
       "    .dataframe tbody tr th {\n",
       "        vertical-align: top;\n",
       "    }\n",
       "\n",
       "    .dataframe thead th {\n",
       "        text-align: right;\n",
       "    }\n",
       "</style>\n",
       "<table border=\"1\" class=\"dataframe\">\n",
       "  <thead>\n",
       "    <tr style=\"text-align: right;\">\n",
       "      <th></th>\n",
       "      <th>Summary Type</th>\n",
       "      <th>Summary Count</th>\n",
       "      <th>-</th>\n",
       "      <th>Stats Type</th>\n",
       "      <th>Stats Value</th>\n",
       "      <th>--</th>\n",
       "      <th>Top Values</th>\n",
       "    </tr>\n",
       "  </thead>\n",
       "  <tbody>\n",
       "    <tr>\n",
       "      <th>0</th>\n",
       "      <td>Total Count</td>\n",
       "      <td>13</td>\n",
       "      <td></td>\n",
       "      <td></td>\n",
       "      <td></td>\n",
       "      <td></td>\n",
       "      <td></td>\n",
       "    </tr>\n",
       "    <tr>\n",
       "      <th>1</th>\n",
       "      <td>Unique Count</td>\n",
       "      <td>13</td>\n",
       "      <td></td>\n",
       "      <td></td>\n",
       "      <td></td>\n",
       "      <td></td>\n",
       "      <td></td>\n",
       "    </tr>\n",
       "    <tr>\n",
       "      <th>2</th>\n",
       "      <td>Missing</td>\n",
       "      <td>0</td>\n",
       "      <td></td>\n",
       "      <td></td>\n",
       "      <td></td>\n",
       "      <td></td>\n",
       "      <td></td>\n",
       "    </tr>\n",
       "    <tr>\n",
       "      <th>3</th>\n",
       "      <td>Duplicated</td>\n",
       "      <td>0</td>\n",
       "      <td></td>\n",
       "      <td></td>\n",
       "      <td></td>\n",
       "      <td></td>\n",
       "      <td></td>\n",
       "    </tr>\n",
       "    <tr>\n",
       "      <th>4</th>\n",
       "      <td>Zero</td>\n",
       "      <td>0</td>\n",
       "      <td></td>\n",
       "      <td></td>\n",
       "      <td></td>\n",
       "      <td></td>\n",
       "      <td></td>\n",
       "    </tr>\n",
       "    <tr>\n",
       "      <th>5</th>\n",
       "      <td>Negative</td>\n",
       "      <td>0</td>\n",
       "      <td></td>\n",
       "      <td></td>\n",
       "      <td></td>\n",
       "      <td></td>\n",
       "      <td></td>\n",
       "    </tr>\n",
       "  </tbody>\n",
       "</table>\n",
       "</div>"
      ],
      "text/plain": [
       "   Summary Type Summary Count  - Stats Type Stats Value -- Top Values\n",
       "0   Total Count            13                                        \n",
       "1  Unique Count            13                                        \n",
       "2       Missing             0                                        \n",
       "3    Duplicated             0                                        \n",
       "4          Zero             0                                        \n",
       "5      Negative             0                                        "
      ]
     },
     "execution_count": 92,
     "metadata": {},
     "output_type": "execute_result"
    }
   ],
   "source": [
    "%%sql\n",
    "SELECT * FROM get_column_summary('application.transaction_types', 'transaction_type_id', True);"
   ]
  },
  {
   "cell_type": "markdown",
   "metadata": {},
   "source": [
    "**transaction_type_name**"
   ]
  },
  {
   "cell_type": "code",
   "execution_count": 93,
   "metadata": {
    "vscode": {
     "languageId": "sql"
    }
   },
   "outputs": [
    {
     "data": {
      "text/html": [
       "<div>\n",
       "<style scoped>\n",
       "    .dataframe tbody tr th:only-of-type {\n",
       "        vertical-align: middle;\n",
       "    }\n",
       "\n",
       "    .dataframe tbody tr th {\n",
       "        vertical-align: top;\n",
       "    }\n",
       "\n",
       "    .dataframe thead th {\n",
       "        text-align: right;\n",
       "    }\n",
       "</style>\n",
       "<table border=\"1\" class=\"dataframe\">\n",
       "  <thead>\n",
       "    <tr style=\"text-align: right;\">\n",
       "      <th></th>\n",
       "      <th>Summary Type</th>\n",
       "      <th>Summary Count</th>\n",
       "      <th>-</th>\n",
       "      <th>Stats Type</th>\n",
       "      <th>Stats Value</th>\n",
       "      <th>--</th>\n",
       "      <th>Top Values</th>\n",
       "    </tr>\n",
       "  </thead>\n",
       "  <tbody>\n",
       "    <tr>\n",
       "      <th>0</th>\n",
       "      <td>Total Count</td>\n",
       "      <td>13</td>\n",
       "      <td></td>\n",
       "      <td></td>\n",
       "      <td></td>\n",
       "      <td></td>\n",
       "      <td></td>\n",
       "    </tr>\n",
       "    <tr>\n",
       "      <th>1</th>\n",
       "      <td>Unique Count</td>\n",
       "      <td>13</td>\n",
       "      <td></td>\n",
       "      <td></td>\n",
       "      <td></td>\n",
       "      <td></td>\n",
       "      <td></td>\n",
       "    </tr>\n",
       "    <tr>\n",
       "      <th>2</th>\n",
       "      <td>Missing</td>\n",
       "      <td>0</td>\n",
       "      <td></td>\n",
       "      <td></td>\n",
       "      <td></td>\n",
       "      <td></td>\n",
       "      <td></td>\n",
       "    </tr>\n",
       "    <tr>\n",
       "      <th>3</th>\n",
       "      <td>Duplicated</td>\n",
       "      <td>0</td>\n",
       "      <td></td>\n",
       "      <td></td>\n",
       "      <td></td>\n",
       "      <td></td>\n",
       "      <td></td>\n",
       "    </tr>\n",
       "    <tr>\n",
       "      <th>4</th>\n",
       "      <td>Zero</td>\n",
       "      <td>None</td>\n",
       "      <td></td>\n",
       "      <td></td>\n",
       "      <td></td>\n",
       "      <td></td>\n",
       "      <td></td>\n",
       "    </tr>\n",
       "    <tr>\n",
       "      <th>5</th>\n",
       "      <td>Negative</td>\n",
       "      <td>None</td>\n",
       "      <td></td>\n",
       "      <td></td>\n",
       "      <td></td>\n",
       "      <td></td>\n",
       "      <td></td>\n",
       "    </tr>\n",
       "  </tbody>\n",
       "</table>\n",
       "</div>"
      ],
      "text/plain": [
       "   Summary Type Summary Count  - Stats Type Stats Value -- Top Values\n",
       "0   Total Count            13                                        \n",
       "1  Unique Count            13                                        \n",
       "2       Missing             0                                        \n",
       "3    Duplicated             0                                        \n",
       "4          Zero          None                                        \n",
       "5      Negative          None                                        "
      ]
     },
     "execution_count": 93,
     "metadata": {},
     "output_type": "execute_result"
    }
   ],
   "source": [
    "%%sql\n",
    "SELECT * FROM get_column_summary('application.transaction_types', 'transaction_type_name', True);"
   ]
  },
  {
   "cell_type": "markdown",
   "metadata": {},
   "source": [
    "**Key Observations:**  \n",
    "\n",
    "- No missing values in the columns we need.\n",
    "- No critical anomalies were found."
   ]
  },
  {
   "cell_type": "markdown",
   "metadata": {},
   "source": [
    "#### Warehouse Schema"
   ]
  },
  {
   "cell_type": "markdown",
   "metadata": {},
   "source": [
    "##### Table warehouse.stock_items"
   ]
  },
  {
   "cell_type": "markdown",
   "metadata": {},
   "source": [
    "Let's look at the rows."
   ]
  },
  {
   "cell_type": "code",
   "execution_count": 94,
   "metadata": {
    "vscode": {
     "languageId": "sql"
    }
   },
   "outputs": [
    {
     "data": {
      "text/html": [
       "<div>\n",
       "<style scoped>\n",
       "    .dataframe tbody tr th:only-of-type {\n",
       "        vertical-align: middle;\n",
       "    }\n",
       "\n",
       "    .dataframe tbody tr th {\n",
       "        vertical-align: top;\n",
       "    }\n",
       "\n",
       "    .dataframe thead th {\n",
       "        text-align: right;\n",
       "    }\n",
       "</style>\n",
       "<table border=\"1\" class=\"dataframe\">\n",
       "  <thead>\n",
       "    <tr style=\"text-align: right;\">\n",
       "      <th></th>\n",
       "      <th>stock_item_id</th>\n",
       "      <th>stock_item_name</th>\n",
       "      <th>supplier_id</th>\n",
       "      <th>color_id</th>\n",
       "      <th>unit_package_id</th>\n",
       "      <th>outer_package_id</th>\n",
       "      <th>brand</th>\n",
       "      <th>size</th>\n",
       "      <th>lead_time_days</th>\n",
       "      <th>quantity_per_outer</th>\n",
       "      <th>...</th>\n",
       "      <th>unit_price</th>\n",
       "      <th>recommended_retail_price</th>\n",
       "      <th>typical_weight_per_unit</th>\n",
       "      <th>marketing_comments</th>\n",
       "      <th>internal_comments</th>\n",
       "      <th>photo</th>\n",
       "      <th>custom_fields</th>\n",
       "      <th>tags</th>\n",
       "      <th>search_details</th>\n",
       "      <th>last_edited_by</th>\n",
       "    </tr>\n",
       "  </thead>\n",
       "  <tbody>\n",
       "    <tr>\n",
       "      <th>0</th>\n",
       "      <td>1</td>\n",
       "      <td>USB missile launcher (Green)</td>\n",
       "      <td>12</td>\n",
       "      <td>NaN</td>\n",
       "      <td>7</td>\n",
       "      <td>7</td>\n",
       "      <td>None</td>\n",
       "      <td>None</td>\n",
       "      <td>14</td>\n",
       "      <td>1</td>\n",
       "      <td>...</td>\n",
       "      <td>25.00</td>\n",
       "      <td>37.38</td>\n",
       "      <td>0.300</td>\n",
       "      <td>Complete with 12 projectiles</td>\n",
       "      <td>None</td>\n",
       "      <td>None</td>\n",
       "      <td>{ \"CountryOfManufacture\": \"China\", \"Tags\": [\"U...</td>\n",
       "      <td>[\"USB Powered\"]</td>\n",
       "      <td>USB missile launcher (Green) Complete with 12 ...</td>\n",
       "      <td>1</td>\n",
       "    </tr>\n",
       "    <tr>\n",
       "      <th>1</th>\n",
       "      <td>2</td>\n",
       "      <td>USB rocket launcher (Gray)</td>\n",
       "      <td>12</td>\n",
       "      <td>12.0</td>\n",
       "      <td>7</td>\n",
       "      <td>7</td>\n",
       "      <td>None</td>\n",
       "      <td>None</td>\n",
       "      <td>14</td>\n",
       "      <td>1</td>\n",
       "      <td>...</td>\n",
       "      <td>25.00</td>\n",
       "      <td>37.38</td>\n",
       "      <td>0.300</td>\n",
       "      <td>Complete with 12 projectiles</td>\n",
       "      <td>None</td>\n",
       "      <td>None</td>\n",
       "      <td>{ \"CountryOfManufacture\": \"China\", \"Tags\": [\"U...</td>\n",
       "      <td>[\"USB Powered\"]</td>\n",
       "      <td>USB rocket launcher (Gray) Complete with 12 pr...</td>\n",
       "      <td>1</td>\n",
       "    </tr>\n",
       "    <tr>\n",
       "      <th>2</th>\n",
       "      <td>3</td>\n",
       "      <td>Office cube periscope (Black)</td>\n",
       "      <td>12</td>\n",
       "      <td>3.0</td>\n",
       "      <td>7</td>\n",
       "      <td>6</td>\n",
       "      <td>None</td>\n",
       "      <td>None</td>\n",
       "      <td>14</td>\n",
       "      <td>10</td>\n",
       "      <td>...</td>\n",
       "      <td>18.50</td>\n",
       "      <td>27.66</td>\n",
       "      <td>0.250</td>\n",
       "      <td>Need to see over your cubicle wall? This is ju...</td>\n",
       "      <td>None</td>\n",
       "      <td>None</td>\n",
       "      <td>{ \"CountryOfManufacture\": \"China\", \"Tags\": [] }</td>\n",
       "      <td>[]</td>\n",
       "      <td>Office cube periscope (Black) Need to see over...</td>\n",
       "      <td>1</td>\n",
       "    </tr>\n",
       "    <tr>\n",
       "      <th>3</th>\n",
       "      <td>4</td>\n",
       "      <td>USB food flash drive - sushi roll</td>\n",
       "      <td>12</td>\n",
       "      <td>NaN</td>\n",
       "      <td>7</td>\n",
       "      <td>7</td>\n",
       "      <td>None</td>\n",
       "      <td>None</td>\n",
       "      <td>14</td>\n",
       "      <td>1</td>\n",
       "      <td>...</td>\n",
       "      <td>32.00</td>\n",
       "      <td>47.84</td>\n",
       "      <td>0.050</td>\n",
       "      <td>None</td>\n",
       "      <td>None</td>\n",
       "      <td>None</td>\n",
       "      <td>{ \"CountryOfManufacture\": \"Japan\", \"Tags\": [\"3...</td>\n",
       "      <td>[\"32GB\",\"USB Powered\"]</td>\n",
       "      <td>USB food flash drive - sushi roll</td>\n",
       "      <td>1</td>\n",
       "    </tr>\n",
       "    <tr>\n",
       "      <th>4</th>\n",
       "      <td>5</td>\n",
       "      <td>USB food flash drive - hamburger</td>\n",
       "      <td>12</td>\n",
       "      <td>NaN</td>\n",
       "      <td>7</td>\n",
       "      <td>7</td>\n",
       "      <td>None</td>\n",
       "      <td>None</td>\n",
       "      <td>14</td>\n",
       "      <td>1</td>\n",
       "      <td>...</td>\n",
       "      <td>32.00</td>\n",
       "      <td>47.84</td>\n",
       "      <td>0.050</td>\n",
       "      <td>None</td>\n",
       "      <td>None</td>\n",
       "      <td>None</td>\n",
       "      <td>{ \"CountryOfManufacture\": \"Japan\", \"Tags\": [\"1...</td>\n",
       "      <td>[\"16GB\",\"USB Powered\"]</td>\n",
       "      <td>USB food flash drive - hamburger</td>\n",
       "      <td>1</td>\n",
       "    </tr>\n",
       "  </tbody>\n",
       "</table>\n",
       "<p>5 rows × 23 columns</p>\n",
       "</div>"
      ],
      "text/plain": [
       "   stock_item_id                    stock_item_name  supplier_id  color_id  \\\n",
       "0              1       USB missile launcher (Green)           12       NaN   \n",
       "1              2         USB rocket launcher (Gray)           12      12.0   \n",
       "2              3      Office cube periscope (Black)           12       3.0   \n",
       "3              4  USB food flash drive - sushi roll           12       NaN   \n",
       "4              5   USB food flash drive - hamburger           12       NaN   \n",
       "\n",
       "   unit_package_id  outer_package_id brand  size  lead_time_days  \\\n",
       "0                7                 7  None  None              14   \n",
       "1                7                 7  None  None              14   \n",
       "2                7                 6  None  None              14   \n",
       "3                7                 7  None  None              14   \n",
       "4                7                 7  None  None              14   \n",
       "\n",
       "   quantity_per_outer  ...  unit_price recommended_retail_price  \\\n",
       "0                   1  ...       25.00                    37.38   \n",
       "1                   1  ...       25.00                    37.38   \n",
       "2                  10  ...       18.50                    27.66   \n",
       "3                   1  ...       32.00                    47.84   \n",
       "4                   1  ...       32.00                    47.84   \n",
       "\n",
       "  typical_weight_per_unit                                 marketing_comments  \\\n",
       "0                   0.300                       Complete with 12 projectiles   \n",
       "1                   0.300                       Complete with 12 projectiles   \n",
       "2                   0.250  Need to see over your cubicle wall? This is ju...   \n",
       "3                   0.050                                               None   \n",
       "4                   0.050                                               None   \n",
       "\n",
       "  internal_comments photo                                      custom_fields  \\\n",
       "0              None  None  { \"CountryOfManufacture\": \"China\", \"Tags\": [\"U...   \n",
       "1              None  None  { \"CountryOfManufacture\": \"China\", \"Tags\": [\"U...   \n",
       "2              None  None    { \"CountryOfManufacture\": \"China\", \"Tags\": [] }   \n",
       "3              None  None  { \"CountryOfManufacture\": \"Japan\", \"Tags\": [\"3...   \n",
       "4              None  None  { \"CountryOfManufacture\": \"Japan\", \"Tags\": [\"1...   \n",
       "\n",
       "                     tags                                     search_details  \\\n",
       "0         [\"USB Powered\"]  USB missile launcher (Green) Complete with 12 ...   \n",
       "1         [\"USB Powered\"]  USB rocket launcher (Gray) Complete with 12 pr...   \n",
       "2                      []  Office cube periscope (Black) Need to see over...   \n",
       "3  [\"32GB\",\"USB Powered\"]                 USB food flash drive - sushi roll    \n",
       "4  [\"16GB\",\"USB Powered\"]                  USB food flash drive - hamburger    \n",
       "\n",
       "  last_edited_by  \n",
       "0              1  \n",
       "1              1  \n",
       "2              1  \n",
       "3              1  \n",
       "4              1  \n",
       "\n",
       "[5 rows x 23 columns]"
      ]
     },
     "execution_count": 94,
     "metadata": {},
     "output_type": "execute_result"
    }
   ],
   "source": [
    "%%sql\n",
    "SELECT\n",
    "    *\n",
    "FROM\n",
    "    warehouse.stock_items\n",
    "LIMIT 5"
   ]
  },
  {
   "cell_type": "markdown",
   "metadata": {},
   "source": [
    "Let's examine each column we will use for creating the dashboard individually."
   ]
  },
  {
   "cell_type": "markdown",
   "metadata": {},
   "source": [
    "**stock_item_id**"
   ]
  },
  {
   "cell_type": "code",
   "execution_count": 95,
   "metadata": {
    "vscode": {
     "languageId": "sql"
    }
   },
   "outputs": [
    {
     "data": {
      "text/html": [
       "<div>\n",
       "<style scoped>\n",
       "    .dataframe tbody tr th:only-of-type {\n",
       "        vertical-align: middle;\n",
       "    }\n",
       "\n",
       "    .dataframe tbody tr th {\n",
       "        vertical-align: top;\n",
       "    }\n",
       "\n",
       "    .dataframe thead th {\n",
       "        text-align: right;\n",
       "    }\n",
       "</style>\n",
       "<table border=\"1\" class=\"dataframe\">\n",
       "  <thead>\n",
       "    <tr style=\"text-align: right;\">\n",
       "      <th></th>\n",
       "      <th>Summary Type</th>\n",
       "      <th>Summary Count</th>\n",
       "      <th>-</th>\n",
       "      <th>Stats Type</th>\n",
       "      <th>Stats Value</th>\n",
       "      <th>--</th>\n",
       "      <th>Top Values</th>\n",
       "    </tr>\n",
       "  </thead>\n",
       "  <tbody>\n",
       "    <tr>\n",
       "      <th>0</th>\n",
       "      <td>Total Count</td>\n",
       "      <td>227</td>\n",
       "      <td></td>\n",
       "      <td></td>\n",
       "      <td></td>\n",
       "      <td></td>\n",
       "      <td></td>\n",
       "    </tr>\n",
       "    <tr>\n",
       "      <th>1</th>\n",
       "      <td>Unique Count</td>\n",
       "      <td>227</td>\n",
       "      <td></td>\n",
       "      <td></td>\n",
       "      <td></td>\n",
       "      <td></td>\n",
       "      <td></td>\n",
       "    </tr>\n",
       "    <tr>\n",
       "      <th>2</th>\n",
       "      <td>Missing</td>\n",
       "      <td>0</td>\n",
       "      <td></td>\n",
       "      <td></td>\n",
       "      <td></td>\n",
       "      <td></td>\n",
       "      <td></td>\n",
       "    </tr>\n",
       "    <tr>\n",
       "      <th>3</th>\n",
       "      <td>Duplicated</td>\n",
       "      <td>0</td>\n",
       "      <td></td>\n",
       "      <td></td>\n",
       "      <td></td>\n",
       "      <td></td>\n",
       "      <td></td>\n",
       "    </tr>\n",
       "    <tr>\n",
       "      <th>4</th>\n",
       "      <td>Zero</td>\n",
       "      <td>0</td>\n",
       "      <td></td>\n",
       "      <td></td>\n",
       "      <td></td>\n",
       "      <td></td>\n",
       "      <td></td>\n",
       "    </tr>\n",
       "    <tr>\n",
       "      <th>5</th>\n",
       "      <td>Negative</td>\n",
       "      <td>0</td>\n",
       "      <td></td>\n",
       "      <td></td>\n",
       "      <td></td>\n",
       "      <td></td>\n",
       "      <td></td>\n",
       "    </tr>\n",
       "  </tbody>\n",
       "</table>\n",
       "</div>"
      ],
      "text/plain": [
       "   Summary Type Summary Count  - Stats Type Stats Value -- Top Values\n",
       "0   Total Count           227                                        \n",
       "1  Unique Count           227                                        \n",
       "2       Missing             0                                        \n",
       "3    Duplicated             0                                        \n",
       "4          Zero             0                                        \n",
       "5      Negative             0                                        "
      ]
     },
     "execution_count": 95,
     "metadata": {},
     "output_type": "execute_result"
    }
   ],
   "source": [
    "%%sql\n",
    "SELECT * FROM get_column_summary('warehouse.stock_items', 'stock_item_id', True);"
   ]
  },
  {
   "cell_type": "markdown",
   "metadata": {},
   "source": [
    "**stock_item_name**"
   ]
  },
  {
   "cell_type": "code",
   "execution_count": 96,
   "metadata": {
    "vscode": {
     "languageId": "sql"
    }
   },
   "outputs": [
    {
     "data": {
      "text/html": [
       "<div>\n",
       "<style scoped>\n",
       "    .dataframe tbody tr th:only-of-type {\n",
       "        vertical-align: middle;\n",
       "    }\n",
       "\n",
       "    .dataframe tbody tr th {\n",
       "        vertical-align: top;\n",
       "    }\n",
       "\n",
       "    .dataframe thead th {\n",
       "        text-align: right;\n",
       "    }\n",
       "</style>\n",
       "<table border=\"1\" class=\"dataframe\">\n",
       "  <thead>\n",
       "    <tr style=\"text-align: right;\">\n",
       "      <th></th>\n",
       "      <th>Summary Type</th>\n",
       "      <th>Summary Count</th>\n",
       "      <th>-</th>\n",
       "      <th>Stats Type</th>\n",
       "      <th>Stats Value</th>\n",
       "      <th>--</th>\n",
       "      <th>Top Values</th>\n",
       "    </tr>\n",
       "  </thead>\n",
       "  <tbody>\n",
       "    <tr>\n",
       "      <th>0</th>\n",
       "      <td>Total Count</td>\n",
       "      <td>227</td>\n",
       "      <td></td>\n",
       "      <td></td>\n",
       "      <td></td>\n",
       "      <td></td>\n",
       "      <td></td>\n",
       "    </tr>\n",
       "    <tr>\n",
       "      <th>1</th>\n",
       "      <td>Unique Count</td>\n",
       "      <td>227</td>\n",
       "      <td></td>\n",
       "      <td></td>\n",
       "      <td></td>\n",
       "      <td></td>\n",
       "      <td></td>\n",
       "    </tr>\n",
       "    <tr>\n",
       "      <th>2</th>\n",
       "      <td>Missing</td>\n",
       "      <td>0</td>\n",
       "      <td></td>\n",
       "      <td></td>\n",
       "      <td></td>\n",
       "      <td></td>\n",
       "      <td></td>\n",
       "    </tr>\n",
       "    <tr>\n",
       "      <th>3</th>\n",
       "      <td>Duplicated</td>\n",
       "      <td>0</td>\n",
       "      <td></td>\n",
       "      <td></td>\n",
       "      <td></td>\n",
       "      <td></td>\n",
       "      <td></td>\n",
       "    </tr>\n",
       "    <tr>\n",
       "      <th>4</th>\n",
       "      <td>Zero</td>\n",
       "      <td>None</td>\n",
       "      <td></td>\n",
       "      <td></td>\n",
       "      <td></td>\n",
       "      <td></td>\n",
       "      <td></td>\n",
       "    </tr>\n",
       "    <tr>\n",
       "      <th>5</th>\n",
       "      <td>Negative</td>\n",
       "      <td>None</td>\n",
       "      <td></td>\n",
       "      <td></td>\n",
       "      <td></td>\n",
       "      <td></td>\n",
       "      <td></td>\n",
       "    </tr>\n",
       "  </tbody>\n",
       "</table>\n",
       "</div>"
      ],
      "text/plain": [
       "   Summary Type Summary Count  - Stats Type Stats Value -- Top Values\n",
       "0   Total Count           227                                        \n",
       "1  Unique Count           227                                        \n",
       "2       Missing             0                                        \n",
       "3    Duplicated             0                                        \n",
       "4          Zero          None                                        \n",
       "5      Negative          None                                        "
      ]
     },
     "execution_count": 96,
     "metadata": {},
     "output_type": "execute_result"
    }
   ],
   "source": [
    "%%sql\n",
    "SELECT * FROM get_column_summary('warehouse.stock_items', 'stock_item_name', True);"
   ]
  },
  {
   "cell_type": "markdown",
   "metadata": {},
   "source": [
    "**color_id**"
   ]
  },
  {
   "cell_type": "code",
   "execution_count": 97,
   "metadata": {
    "vscode": {
     "languageId": "sql"
    }
   },
   "outputs": [
    {
     "data": {
      "text/html": [
       "<div>\n",
       "<style scoped>\n",
       "    .dataframe tbody tr th:only-of-type {\n",
       "        vertical-align: middle;\n",
       "    }\n",
       "\n",
       "    .dataframe tbody tr th {\n",
       "        vertical-align: top;\n",
       "    }\n",
       "\n",
       "    .dataframe thead th {\n",
       "        text-align: right;\n",
       "    }\n",
       "</style>\n",
       "<table border=\"1\" class=\"dataframe\">\n",
       "  <thead>\n",
       "    <tr style=\"text-align: right;\">\n",
       "      <th></th>\n",
       "      <th>Summary Type</th>\n",
       "      <th>Summary Count</th>\n",
       "      <th>-</th>\n",
       "      <th>Stats Type</th>\n",
       "      <th>Stats Value</th>\n",
       "      <th>--</th>\n",
       "      <th>Top Values</th>\n",
       "    </tr>\n",
       "  </thead>\n",
       "  <tbody>\n",
       "    <tr>\n",
       "      <th>0</th>\n",
       "      <td>Total Count</td>\n",
       "      <td>227</td>\n",
       "      <td></td>\n",
       "      <td></td>\n",
       "      <td></td>\n",
       "      <td></td>\n",
       "      <td></td>\n",
       "    </tr>\n",
       "    <tr>\n",
       "      <th>1</th>\n",
       "      <td>Unique Count</td>\n",
       "      <td>7</td>\n",
       "      <td></td>\n",
       "      <td></td>\n",
       "      <td></td>\n",
       "      <td></td>\n",
       "      <td></td>\n",
       "    </tr>\n",
       "    <tr>\n",
       "      <th>2</th>\n",
       "      <td>Missing</td>\n",
       "      <td>99</td>\n",
       "      <td></td>\n",
       "      <td></td>\n",
       "      <td></td>\n",
       "      <td></td>\n",
       "      <td></td>\n",
       "    </tr>\n",
       "    <tr>\n",
       "      <th>3</th>\n",
       "      <td>Duplicated</td>\n",
       "      <td>121</td>\n",
       "      <td></td>\n",
       "      <td></td>\n",
       "      <td></td>\n",
       "      <td></td>\n",
       "      <td></td>\n",
       "    </tr>\n",
       "    <tr>\n",
       "      <th>4</th>\n",
       "      <td>Zero</td>\n",
       "      <td>0</td>\n",
       "      <td></td>\n",
       "      <td></td>\n",
       "      <td></td>\n",
       "      <td></td>\n",
       "      <td></td>\n",
       "    </tr>\n",
       "    <tr>\n",
       "      <th>5</th>\n",
       "      <td>Negative</td>\n",
       "      <td>0</td>\n",
       "      <td></td>\n",
       "      <td></td>\n",
       "      <td></td>\n",
       "      <td></td>\n",
       "      <td></td>\n",
       "    </tr>\n",
       "  </tbody>\n",
       "</table>\n",
       "</div>"
      ],
      "text/plain": [
       "   Summary Type Summary Count  - Stats Type Stats Value -- Top Values\n",
       "0   Total Count           227                                        \n",
       "1  Unique Count             7                                        \n",
       "2       Missing            99                                        \n",
       "3    Duplicated           121                                        \n",
       "4          Zero             0                                        \n",
       "5      Negative             0                                        "
      ]
     },
     "execution_count": 97,
     "metadata": {},
     "output_type": "execute_result"
    }
   ],
   "source": [
    "%%sql\n",
    "SELECT * FROM get_column_summary('warehouse.stock_items', 'color_id', True);"
   ]
  },
  {
   "cell_type": "markdown",
   "metadata": {},
   "source": [
    "**unit_package_id**"
   ]
  },
  {
   "cell_type": "code",
   "execution_count": 98,
   "metadata": {
    "vscode": {
     "languageId": "sql"
    }
   },
   "outputs": [
    {
     "data": {
      "text/html": [
       "<div>\n",
       "<style scoped>\n",
       "    .dataframe tbody tr th:only-of-type {\n",
       "        vertical-align: middle;\n",
       "    }\n",
       "\n",
       "    .dataframe tbody tr th {\n",
       "        vertical-align: top;\n",
       "    }\n",
       "\n",
       "    .dataframe thead th {\n",
       "        text-align: right;\n",
       "    }\n",
       "</style>\n",
       "<table border=\"1\" class=\"dataframe\">\n",
       "  <thead>\n",
       "    <tr style=\"text-align: right;\">\n",
       "      <th></th>\n",
       "      <th>Summary Type</th>\n",
       "      <th>Summary Count</th>\n",
       "      <th>-</th>\n",
       "      <th>Stats Type</th>\n",
       "      <th>Stats Value</th>\n",
       "      <th>--</th>\n",
       "      <th>Top Values</th>\n",
       "    </tr>\n",
       "  </thead>\n",
       "  <tbody>\n",
       "    <tr>\n",
       "      <th>0</th>\n",
       "      <td>Total Count</td>\n",
       "      <td>227</td>\n",
       "      <td></td>\n",
       "      <td></td>\n",
       "      <td></td>\n",
       "      <td></td>\n",
       "      <td></td>\n",
       "    </tr>\n",
       "    <tr>\n",
       "      <th>1</th>\n",
       "      <td>Unique Count</td>\n",
       "      <td>4</td>\n",
       "      <td></td>\n",
       "      <td></td>\n",
       "      <td></td>\n",
       "      <td></td>\n",
       "      <td></td>\n",
       "    </tr>\n",
       "    <tr>\n",
       "      <th>2</th>\n",
       "      <td>Missing</td>\n",
       "      <td>0</td>\n",
       "      <td></td>\n",
       "      <td></td>\n",
       "      <td></td>\n",
       "      <td></td>\n",
       "      <td></td>\n",
       "    </tr>\n",
       "    <tr>\n",
       "      <th>3</th>\n",
       "      <td>Duplicated</td>\n",
       "      <td>223</td>\n",
       "      <td></td>\n",
       "      <td></td>\n",
       "      <td></td>\n",
       "      <td></td>\n",
       "      <td></td>\n",
       "    </tr>\n",
       "    <tr>\n",
       "      <th>4</th>\n",
       "      <td>Zero</td>\n",
       "      <td>0</td>\n",
       "      <td></td>\n",
       "      <td></td>\n",
       "      <td></td>\n",
       "      <td></td>\n",
       "      <td></td>\n",
       "    </tr>\n",
       "    <tr>\n",
       "      <th>5</th>\n",
       "      <td>Negative</td>\n",
       "      <td>0</td>\n",
       "      <td></td>\n",
       "      <td></td>\n",
       "      <td></td>\n",
       "      <td></td>\n",
       "      <td></td>\n",
       "    </tr>\n",
       "  </tbody>\n",
       "</table>\n",
       "</div>"
      ],
      "text/plain": [
       "   Summary Type Summary Count  - Stats Type Stats Value -- Top Values\n",
       "0   Total Count           227                                        \n",
       "1  Unique Count             4                                        \n",
       "2       Missing             0                                        \n",
       "3    Duplicated           223                                        \n",
       "4          Zero             0                                        \n",
       "5      Negative             0                                        "
      ]
     },
     "execution_count": 98,
     "metadata": {},
     "output_type": "execute_result"
    }
   ],
   "source": [
    "%%sql\n",
    "SELECT * FROM get_column_summary('warehouse.stock_items', 'unit_package_id', True);"
   ]
  },
  {
   "cell_type": "markdown",
   "metadata": {},
   "source": [
    "**outer_package_id**"
   ]
  },
  {
   "cell_type": "code",
   "execution_count": 99,
   "metadata": {
    "vscode": {
     "languageId": "sql"
    }
   },
   "outputs": [
    {
     "data": {
      "text/html": [
       "<div>\n",
       "<style scoped>\n",
       "    .dataframe tbody tr th:only-of-type {\n",
       "        vertical-align: middle;\n",
       "    }\n",
       "\n",
       "    .dataframe tbody tr th {\n",
       "        vertical-align: top;\n",
       "    }\n",
       "\n",
       "    .dataframe thead th {\n",
       "        text-align: right;\n",
       "    }\n",
       "</style>\n",
       "<table border=\"1\" class=\"dataframe\">\n",
       "  <thead>\n",
       "    <tr style=\"text-align: right;\">\n",
       "      <th></th>\n",
       "      <th>Summary Type</th>\n",
       "      <th>Summary Count</th>\n",
       "      <th>-</th>\n",
       "      <th>Stats Type</th>\n",
       "      <th>Stats Value</th>\n",
       "      <th>--</th>\n",
       "      <th>Top Values</th>\n",
       "    </tr>\n",
       "  </thead>\n",
       "  <tbody>\n",
       "    <tr>\n",
       "      <th>0</th>\n",
       "      <td>Total Count</td>\n",
       "      <td>227</td>\n",
       "      <td></td>\n",
       "      <td></td>\n",
       "      <td></td>\n",
       "      <td></td>\n",
       "      <td></td>\n",
       "    </tr>\n",
       "    <tr>\n",
       "      <th>1</th>\n",
       "      <td>Unique Count</td>\n",
       "      <td>3</td>\n",
       "      <td></td>\n",
       "      <td></td>\n",
       "      <td></td>\n",
       "      <td></td>\n",
       "      <td></td>\n",
       "    </tr>\n",
       "    <tr>\n",
       "      <th>2</th>\n",
       "      <td>Missing</td>\n",
       "      <td>0</td>\n",
       "      <td></td>\n",
       "      <td></td>\n",
       "      <td></td>\n",
       "      <td></td>\n",
       "      <td></td>\n",
       "    </tr>\n",
       "    <tr>\n",
       "      <th>3</th>\n",
       "      <td>Duplicated</td>\n",
       "      <td>224</td>\n",
       "      <td></td>\n",
       "      <td></td>\n",
       "      <td></td>\n",
       "      <td></td>\n",
       "      <td></td>\n",
       "    </tr>\n",
       "    <tr>\n",
       "      <th>4</th>\n",
       "      <td>Zero</td>\n",
       "      <td>0</td>\n",
       "      <td></td>\n",
       "      <td></td>\n",
       "      <td></td>\n",
       "      <td></td>\n",
       "      <td></td>\n",
       "    </tr>\n",
       "    <tr>\n",
       "      <th>5</th>\n",
       "      <td>Negative</td>\n",
       "      <td>0</td>\n",
       "      <td></td>\n",
       "      <td></td>\n",
       "      <td></td>\n",
       "      <td></td>\n",
       "      <td></td>\n",
       "    </tr>\n",
       "  </tbody>\n",
       "</table>\n",
       "</div>"
      ],
      "text/plain": [
       "   Summary Type Summary Count  - Stats Type Stats Value -- Top Values\n",
       "0   Total Count           227                                        \n",
       "1  Unique Count             3                                        \n",
       "2       Missing             0                                        \n",
       "3    Duplicated           224                                        \n",
       "4          Zero             0                                        \n",
       "5      Negative             0                                        "
      ]
     },
     "execution_count": 99,
     "metadata": {},
     "output_type": "execute_result"
    }
   ],
   "source": [
    "%%sql\n",
    "SELECT * FROM get_column_summary('warehouse.stock_items', 'outer_package_id', True);"
   ]
  },
  {
   "cell_type": "markdown",
   "metadata": {},
   "source": [
    "**brand**"
   ]
  },
  {
   "cell_type": "code",
   "execution_count": 100,
   "metadata": {
    "vscode": {
     "languageId": "sql"
    }
   },
   "outputs": [
    {
     "data": {
      "text/html": [
       "<div>\n",
       "<style scoped>\n",
       "    .dataframe tbody tr th:only-of-type {\n",
       "        vertical-align: middle;\n",
       "    }\n",
       "\n",
       "    .dataframe tbody tr th {\n",
       "        vertical-align: top;\n",
       "    }\n",
       "\n",
       "    .dataframe thead th {\n",
       "        text-align: right;\n",
       "    }\n",
       "</style>\n",
       "<table border=\"1\" class=\"dataframe\">\n",
       "  <thead>\n",
       "    <tr style=\"text-align: right;\">\n",
       "      <th></th>\n",
       "      <th>Summary Type</th>\n",
       "      <th>Summary Count</th>\n",
       "      <th>-</th>\n",
       "      <th>Stats Type</th>\n",
       "      <th>Stats Value</th>\n",
       "      <th>--</th>\n",
       "      <th>Top Values</th>\n",
       "    </tr>\n",
       "  </thead>\n",
       "  <tbody>\n",
       "    <tr>\n",
       "      <th>0</th>\n",
       "      <td>Total Count</td>\n",
       "      <td>227</td>\n",
       "      <td></td>\n",
       "      <td>Max</td>\n",
       "      <td>Northwind</td>\n",
       "      <td></td>\n",
       "      <td>Northwind (18)</td>\n",
       "    </tr>\n",
       "    <tr>\n",
       "      <th>1</th>\n",
       "      <td>Unique Count</td>\n",
       "      <td>1</td>\n",
       "      <td></td>\n",
       "      <td>75%</td>\n",
       "      <td>None</td>\n",
       "      <td></td>\n",
       "      <td>None</td>\n",
       "    </tr>\n",
       "    <tr>\n",
       "      <th>2</th>\n",
       "      <td>Missing</td>\n",
       "      <td>209</td>\n",
       "      <td></td>\n",
       "      <td>Mean</td>\n",
       "      <td>None</td>\n",
       "      <td></td>\n",
       "      <td>None</td>\n",
       "    </tr>\n",
       "    <tr>\n",
       "      <th>3</th>\n",
       "      <td>Duplicated</td>\n",
       "      <td>17</td>\n",
       "      <td></td>\n",
       "      <td>Median</td>\n",
       "      <td>None</td>\n",
       "      <td></td>\n",
       "      <td>None</td>\n",
       "    </tr>\n",
       "    <tr>\n",
       "      <th>4</th>\n",
       "      <td>Zero</td>\n",
       "      <td>None</td>\n",
       "      <td></td>\n",
       "      <td>25%</td>\n",
       "      <td>None</td>\n",
       "      <td></td>\n",
       "      <td>None</td>\n",
       "    </tr>\n",
       "    <tr>\n",
       "      <th>5</th>\n",
       "      <td>Negative</td>\n",
       "      <td>None</td>\n",
       "      <td></td>\n",
       "      <td>Min</td>\n",
       "      <td>Northwind</td>\n",
       "      <td></td>\n",
       "      <td>None</td>\n",
       "    </tr>\n",
       "  </tbody>\n",
       "</table>\n",
       "</div>"
      ],
      "text/plain": [
       "   Summary Type Summary Count  - Stats Type Stats Value --      Top Values\n",
       "0   Total Count           227           Max   Northwind     Northwind (18)\n",
       "1  Unique Count             1           75%        None               None\n",
       "2       Missing           209          Mean        None               None\n",
       "3    Duplicated            17        Median        None               None\n",
       "4          Zero          None           25%        None               None\n",
       "5      Negative          None           Min   Northwind               None"
      ]
     },
     "execution_count": 100,
     "metadata": {},
     "output_type": "execute_result"
    }
   ],
   "source": [
    "%%sql\n",
    "SELECT * FROM get_column_summary('warehouse.stock_items', 'brand', False);"
   ]
  },
  {
   "cell_type": "markdown",
   "metadata": {},
   "source": [
    "**size**"
   ]
  },
  {
   "cell_type": "code",
   "execution_count": 101,
   "metadata": {
    "vscode": {
     "languageId": "sql"
    }
   },
   "outputs": [
    {
     "data": {
      "text/html": [
       "<div>\n",
       "<style scoped>\n",
       "    .dataframe tbody tr th:only-of-type {\n",
       "        vertical-align: middle;\n",
       "    }\n",
       "\n",
       "    .dataframe tbody tr th {\n",
       "        vertical-align: top;\n",
       "    }\n",
       "\n",
       "    .dataframe thead th {\n",
       "        text-align: right;\n",
       "    }\n",
       "</style>\n",
       "<table border=\"1\" class=\"dataframe\">\n",
       "  <thead>\n",
       "    <tr style=\"text-align: right;\">\n",
       "      <th></th>\n",
       "      <th>Summary Type</th>\n",
       "      <th>Summary Count</th>\n",
       "      <th>-</th>\n",
       "      <th>Stats Type</th>\n",
       "      <th>Stats Value</th>\n",
       "      <th>--</th>\n",
       "      <th>Top Values</th>\n",
       "    </tr>\n",
       "  </thead>\n",
       "  <tbody>\n",
       "    <tr>\n",
       "      <th>0</th>\n",
       "      <td>Total Count</td>\n",
       "      <td>227</td>\n",
       "      <td></td>\n",
       "      <td>Max</td>\n",
       "      <td>XXS</td>\n",
       "      <td></td>\n",
       "      <td>XL (12)</td>\n",
       "    </tr>\n",
       "    <tr>\n",
       "      <th>1</th>\n",
       "      <td>Unique Count</td>\n",
       "      <td>43</td>\n",
       "      <td></td>\n",
       "      <td>75%</td>\n",
       "      <td>None</td>\n",
       "      <td></td>\n",
       "      <td>L (11)</td>\n",
       "    </tr>\n",
       "    <tr>\n",
       "      <th>2</th>\n",
       "      <td>Missing</td>\n",
       "      <td>64</td>\n",
       "      <td></td>\n",
       "      <td>Mean</td>\n",
       "      <td>None</td>\n",
       "      <td></td>\n",
       "      <td>M (11)</td>\n",
       "    </tr>\n",
       "    <tr>\n",
       "      <th>3</th>\n",
       "      <td>Duplicated</td>\n",
       "      <td>120</td>\n",
       "      <td></td>\n",
       "      <td>Median</td>\n",
       "      <td>None</td>\n",
       "      <td></td>\n",
       "      <td>S (11)</td>\n",
       "    </tr>\n",
       "    <tr>\n",
       "      <th>4</th>\n",
       "      <td>Zero</td>\n",
       "      <td>None</td>\n",
       "      <td></td>\n",
       "      <td>25%</td>\n",
       "      <td>None</td>\n",
       "      <td></td>\n",
       "      <td>1/12 scale (9)</td>\n",
       "    </tr>\n",
       "    <tr>\n",
       "      <th>5</th>\n",
       "      <td>Negative</td>\n",
       "      <td>None</td>\n",
       "      <td></td>\n",
       "      <td>Min</td>\n",
       "      <td>1.5m</td>\n",
       "      <td></td>\n",
       "      <td>1/50 scale (9)</td>\n",
       "    </tr>\n",
       "  </tbody>\n",
       "</table>\n",
       "</div>"
      ],
      "text/plain": [
       "   Summary Type Summary Count  - Stats Type Stats Value --      Top Values\n",
       "0   Total Count           227           Max         XXS            XL (12)\n",
       "1  Unique Count            43           75%        None             L (11)\n",
       "2       Missing            64          Mean        None             M (11)\n",
       "3    Duplicated           120        Median        None             S (11)\n",
       "4          Zero          None           25%        None     1/12 scale (9)\n",
       "5      Negative          None           Min        1.5m     1/50 scale (9)"
      ]
     },
     "execution_count": 101,
     "metadata": {},
     "output_type": "execute_result"
    }
   ],
   "source": [
    "%%sql\n",
    "SELECT * FROM get_column_summary('warehouse.stock_items', 'size', False);"
   ]
  },
  {
   "cell_type": "markdown",
   "metadata": {},
   "source": [
    "**tax_rate**"
   ]
  },
  {
   "cell_type": "code",
   "execution_count": 102,
   "metadata": {
    "vscode": {
     "languageId": "sql"
    }
   },
   "outputs": [
    {
     "data": {
      "text/html": [
       "<div>\n",
       "<style scoped>\n",
       "    .dataframe tbody tr th:only-of-type {\n",
       "        vertical-align: middle;\n",
       "    }\n",
       "\n",
       "    .dataframe tbody tr th {\n",
       "        vertical-align: top;\n",
       "    }\n",
       "\n",
       "    .dataframe thead th {\n",
       "        text-align: right;\n",
       "    }\n",
       "</style>\n",
       "<table border=\"1\" class=\"dataframe\">\n",
       "  <thead>\n",
       "    <tr style=\"text-align: right;\">\n",
       "      <th></th>\n",
       "      <th>Summary Type</th>\n",
       "      <th>Summary Count</th>\n",
       "      <th>-</th>\n",
       "      <th>Stats Type</th>\n",
       "      <th>Stats Value</th>\n",
       "      <th>--</th>\n",
       "      <th>Top Values</th>\n",
       "    </tr>\n",
       "  </thead>\n",
       "  <tbody>\n",
       "    <tr>\n",
       "      <th>0</th>\n",
       "      <td>Total Count</td>\n",
       "      <td>227</td>\n",
       "      <td></td>\n",
       "      <td>Max</td>\n",
       "      <td>15</td>\n",
       "      <td></td>\n",
       "      <td>15.000 (219)</td>\n",
       "    </tr>\n",
       "    <tr>\n",
       "      <th>1</th>\n",
       "      <td>Unique Count</td>\n",
       "      <td>2</td>\n",
       "      <td></td>\n",
       "      <td>75%</td>\n",
       "      <td>15</td>\n",
       "      <td></td>\n",
       "      <td>10.000 (8)</td>\n",
       "    </tr>\n",
       "    <tr>\n",
       "      <th>2</th>\n",
       "      <td>Missing</td>\n",
       "      <td>0</td>\n",
       "      <td></td>\n",
       "      <td>Mean</td>\n",
       "      <td>14.82</td>\n",
       "      <td></td>\n",
       "      <td>None</td>\n",
       "    </tr>\n",
       "    <tr>\n",
       "      <th>3</th>\n",
       "      <td>Duplicated</td>\n",
       "      <td>225</td>\n",
       "      <td></td>\n",
       "      <td>Median</td>\n",
       "      <td>15</td>\n",
       "      <td></td>\n",
       "      <td>None</td>\n",
       "    </tr>\n",
       "    <tr>\n",
       "      <th>4</th>\n",
       "      <td>Zero</td>\n",
       "      <td>0</td>\n",
       "      <td></td>\n",
       "      <td>25%</td>\n",
       "      <td>15</td>\n",
       "      <td></td>\n",
       "      <td>None</td>\n",
       "    </tr>\n",
       "    <tr>\n",
       "      <th>5</th>\n",
       "      <td>Negative</td>\n",
       "      <td>0</td>\n",
       "      <td></td>\n",
       "      <td>Min</td>\n",
       "      <td>10</td>\n",
       "      <td></td>\n",
       "      <td>None</td>\n",
       "    </tr>\n",
       "  </tbody>\n",
       "</table>\n",
       "</div>"
      ],
      "text/plain": [
       "   Summary Type Summary Count  - Stats Type Stats Value --    Top Values\n",
       "0   Total Count           227           Max          15     15.000 (219)\n",
       "1  Unique Count             2           75%          15       10.000 (8)\n",
       "2       Missing             0          Mean       14.82             None\n",
       "3    Duplicated           225        Median          15             None\n",
       "4          Zero             0           25%          15             None\n",
       "5      Negative             0           Min          10             None"
      ]
     },
     "execution_count": 102,
     "metadata": {},
     "output_type": "execute_result"
    }
   ],
   "source": [
    "%%sql\n",
    "SELECT * FROM get_column_summary('warehouse.stock_items', 'tax_rate', False);"
   ]
  },
  {
   "cell_type": "markdown",
   "metadata": {},
   "source": [
    "**unit_price**"
   ]
  },
  {
   "cell_type": "code",
   "execution_count": 103,
   "metadata": {
    "vscode": {
     "languageId": "sql"
    }
   },
   "outputs": [
    {
     "data": {
      "text/html": [
       "<div>\n",
       "<style scoped>\n",
       "    .dataframe tbody tr th:only-of-type {\n",
       "        vertical-align: middle;\n",
       "    }\n",
       "\n",
       "    .dataframe tbody tr th {\n",
       "        vertical-align: top;\n",
       "    }\n",
       "\n",
       "    .dataframe thead th {\n",
       "        text-align: right;\n",
       "    }\n",
       "</style>\n",
       "<table border=\"1\" class=\"dataframe\">\n",
       "  <thead>\n",
       "    <tr style=\"text-align: right;\">\n",
       "      <th></th>\n",
       "      <th>Summary Type</th>\n",
       "      <th>Summary Count</th>\n",
       "      <th>-</th>\n",
       "      <th>Stats Type</th>\n",
       "      <th>Stats Value</th>\n",
       "      <th>--</th>\n",
       "      <th>Top Values</th>\n",
       "    </tr>\n",
       "  </thead>\n",
       "  <tbody>\n",
       "    <tr>\n",
       "      <th>0</th>\n",
       "      <td>Total Count</td>\n",
       "      <td>227</td>\n",
       "      <td></td>\n",
       "      <td>Max</td>\n",
       "      <td>1899</td>\n",
       "      <td></td>\n",
       "      <td>13.00 (42)</td>\n",
       "    </tr>\n",
       "    <tr>\n",
       "      <th>1</th>\n",
       "      <td>Unique Count</td>\n",
       "      <td>57</td>\n",
       "      <td></td>\n",
       "      <td>75%</td>\n",
       "      <td>32</td>\n",
       "      <td></td>\n",
       "      <td>18.00 (35)</td>\n",
       "    </tr>\n",
       "    <tr>\n",
       "      <th>2</th>\n",
       "      <td>Missing</td>\n",
       "      <td>0</td>\n",
       "      <td></td>\n",
       "      <td>Mean</td>\n",
       "      <td>44.16</td>\n",
       "      <td></td>\n",
       "      <td>32.00 (34)</td>\n",
       "    </tr>\n",
       "    <tr>\n",
       "      <th>3</th>\n",
       "      <td>Duplicated</td>\n",
       "      <td>170</td>\n",
       "      <td></td>\n",
       "      <td>Median</td>\n",
       "      <td>18</td>\n",
       "      <td></td>\n",
       "      <td>25.00 (13)</td>\n",
       "    </tr>\n",
       "    <tr>\n",
       "      <th>4</th>\n",
       "      <td>Zero</td>\n",
       "      <td>0</td>\n",
       "      <td></td>\n",
       "      <td>25%</td>\n",
       "      <td>13</td>\n",
       "      <td></td>\n",
       "      <td>30.00 (7)</td>\n",
       "    </tr>\n",
       "    <tr>\n",
       "      <th>5</th>\n",
       "      <td>Negative</td>\n",
       "      <td>0</td>\n",
       "      <td></td>\n",
       "      <td>Min</td>\n",
       "      <td>0.66</td>\n",
       "      <td></td>\n",
       "      <td>4.10 (7)</td>\n",
       "    </tr>\n",
       "  </tbody>\n",
       "</table>\n",
       "</div>"
      ],
      "text/plain": [
       "   Summary Type Summary Count  - Stats Type Stats Value --  Top Values\n",
       "0   Total Count           227           Max        1899     13.00 (42)\n",
       "1  Unique Count            57           75%          32     18.00 (35)\n",
       "2       Missing             0          Mean       44.16     32.00 (34)\n",
       "3    Duplicated           170        Median          18     25.00 (13)\n",
       "4          Zero             0           25%          13      30.00 (7)\n",
       "5      Negative             0           Min        0.66       4.10 (7)"
      ]
     },
     "execution_count": 103,
     "metadata": {},
     "output_type": "execute_result"
    }
   ],
   "source": [
    "%%sql\n",
    "SELECT * FROM get_column_summary('warehouse.stock_items', 'unit_price', False);"
   ]
  },
  {
   "cell_type": "markdown",
   "metadata": {},
   "source": [
    "**typical_weight_per_unit**"
   ]
  },
  {
   "cell_type": "code",
   "execution_count": 104,
   "metadata": {
    "vscode": {
     "languageId": "sql"
    }
   },
   "outputs": [
    {
     "data": {
      "text/html": [
       "<div>\n",
       "<style scoped>\n",
       "    .dataframe tbody tr th:only-of-type {\n",
       "        vertical-align: middle;\n",
       "    }\n",
       "\n",
       "    .dataframe tbody tr th {\n",
       "        vertical-align: top;\n",
       "    }\n",
       "\n",
       "    .dataframe thead th {\n",
       "        text-align: right;\n",
       "    }\n",
       "</style>\n",
       "<table border=\"1\" class=\"dataframe\">\n",
       "  <thead>\n",
       "    <tr style=\"text-align: right;\">\n",
       "      <th></th>\n",
       "      <th>Summary Type</th>\n",
       "      <th>Summary Count</th>\n",
       "      <th>-</th>\n",
       "      <th>Stats Type</th>\n",
       "      <th>Stats Value</th>\n",
       "      <th>--</th>\n",
       "      <th>Top Values</th>\n",
       "    </tr>\n",
       "  </thead>\n",
       "  <tbody>\n",
       "    <tr>\n",
       "      <th>0</th>\n",
       "      <td>Total Count</td>\n",
       "      <td>227</td>\n",
       "      <td></td>\n",
       "      <td>Max</td>\n",
       "      <td>21</td>\n",
       "      <td></td>\n",
       "      <td>0.150 (42)</td>\n",
       "    </tr>\n",
       "    <tr>\n",
       "      <th>1</th>\n",
       "      <td>Unique Count</td>\n",
       "      <td>23</td>\n",
       "      <td></td>\n",
       "      <td>75%</td>\n",
       "      <td>0.7</td>\n",
       "      <td></td>\n",
       "      <td>0.400 (28)</td>\n",
       "    </tr>\n",
       "    <tr>\n",
       "      <th>2</th>\n",
       "      <td>Missing</td>\n",
       "      <td>0</td>\n",
       "      <td></td>\n",
       "      <td>Mean</td>\n",
       "      <td>1.83</td>\n",
       "      <td></td>\n",
       "      <td>0.350 (25)</td>\n",
       "    </tr>\n",
       "    <tr>\n",
       "      <th>3</th>\n",
       "      <td>Duplicated</td>\n",
       "      <td>204</td>\n",
       "      <td></td>\n",
       "      <td>Median</td>\n",
       "      <td>0.35</td>\n",
       "      <td></td>\n",
       "      <td>0.300 (21)</td>\n",
       "    </tr>\n",
       "    <tr>\n",
       "      <th>4</th>\n",
       "      <td>Zero</td>\n",
       "      <td>0</td>\n",
       "      <td></td>\n",
       "      <td>25%</td>\n",
       "      <td>0.15</td>\n",
       "      <td></td>\n",
       "      <td>0.250 (18)</td>\n",
       "    </tr>\n",
       "    <tr>\n",
       "      <th>5</th>\n",
       "      <td>Negative</td>\n",
       "      <td>0</td>\n",
       "      <td></td>\n",
       "      <td>Min</td>\n",
       "      <td>0.05</td>\n",
       "      <td></td>\n",
       "      <td>0.500 (13)</td>\n",
       "    </tr>\n",
       "  </tbody>\n",
       "</table>\n",
       "</div>"
      ],
      "text/plain": [
       "   Summary Type Summary Count  - Stats Type Stats Value --  Top Values\n",
       "0   Total Count           227           Max          21     0.150 (42)\n",
       "1  Unique Count            23           75%         0.7     0.400 (28)\n",
       "2       Missing             0          Mean        1.83     0.350 (25)\n",
       "3    Duplicated           204        Median        0.35     0.300 (21)\n",
       "4          Zero             0           25%        0.15     0.250 (18)\n",
       "5      Negative             0           Min        0.05     0.500 (13)"
      ]
     },
     "execution_count": 104,
     "metadata": {},
     "output_type": "execute_result"
    }
   ],
   "source": [
    "%%sql\n",
    "SELECT * FROM get_column_summary('warehouse.stock_items', 'typical_weight_per_unit', False);"
   ]
  },
  {
   "cell_type": "markdown",
   "metadata": {},
   "source": [
    "**Key Observations:**\n",
    "\n",
    "- Not all items have a brand, color, or size.\n",
    "- No critical anomalies were found."
   ]
  },
  {
   "cell_type": "markdown",
   "metadata": {},
   "source": [
    "##### Table warehouse.stock_item_stock_groups"
   ]
  },
  {
   "cell_type": "markdown",
   "metadata": {},
   "source": [
    "Let's look at the rows."
   ]
  },
  {
   "cell_type": "code",
   "execution_count": 105,
   "metadata": {
    "vscode": {
     "languageId": "sql"
    }
   },
   "outputs": [
    {
     "data": {
      "text/html": [
       "<div>\n",
       "<style scoped>\n",
       "    .dataframe tbody tr th:only-of-type {\n",
       "        vertical-align: middle;\n",
       "    }\n",
       "\n",
       "    .dataframe tbody tr th {\n",
       "        vertical-align: top;\n",
       "    }\n",
       "\n",
       "    .dataframe thead th {\n",
       "        text-align: right;\n",
       "    }\n",
       "</style>\n",
       "<table border=\"1\" class=\"dataframe\">\n",
       "  <thead>\n",
       "    <tr style=\"text-align: right;\">\n",
       "      <th></th>\n",
       "      <th>stock_item_stock_group_id</th>\n",
       "      <th>stock_item_id</th>\n",
       "      <th>stock_group_id</th>\n",
       "      <th>last_edited_by</th>\n",
       "      <th>last_edited_when</th>\n",
       "    </tr>\n",
       "  </thead>\n",
       "  <tbody>\n",
       "    <tr>\n",
       "      <th>0</th>\n",
       "      <td>1</td>\n",
       "      <td>1</td>\n",
       "      <td>6</td>\n",
       "      <td>1</td>\n",
       "      <td>2013-01-01</td>\n",
       "    </tr>\n",
       "    <tr>\n",
       "      <th>1</th>\n",
       "      <td>2</td>\n",
       "      <td>1</td>\n",
       "      <td>1</td>\n",
       "      <td>1</td>\n",
       "      <td>2013-01-01</td>\n",
       "    </tr>\n",
       "    <tr>\n",
       "      <th>2</th>\n",
       "      <td>3</td>\n",
       "      <td>1</td>\n",
       "      <td>7</td>\n",
       "      <td>1</td>\n",
       "      <td>2013-01-01</td>\n",
       "    </tr>\n",
       "    <tr>\n",
       "      <th>3</th>\n",
       "      <td>4</td>\n",
       "      <td>2</td>\n",
       "      <td>6</td>\n",
       "      <td>1</td>\n",
       "      <td>2013-01-01</td>\n",
       "    </tr>\n",
       "    <tr>\n",
       "      <th>4</th>\n",
       "      <td>5</td>\n",
       "      <td>2</td>\n",
       "      <td>1</td>\n",
       "      <td>1</td>\n",
       "      <td>2013-01-01</td>\n",
       "    </tr>\n",
       "  </tbody>\n",
       "</table>\n",
       "</div>"
      ],
      "text/plain": [
       "   stock_item_stock_group_id  stock_item_id  stock_group_id  last_edited_by  \\\n",
       "0                          1              1               6               1   \n",
       "1                          2              1               1               1   \n",
       "2                          3              1               7               1   \n",
       "3                          4              2               6               1   \n",
       "4                          5              2               1               1   \n",
       "\n",
       "  last_edited_when  \n",
       "0       2013-01-01  \n",
       "1       2013-01-01  \n",
       "2       2013-01-01  \n",
       "3       2013-01-01  \n",
       "4       2013-01-01  "
      ]
     },
     "execution_count": 105,
     "metadata": {},
     "output_type": "execute_result"
    }
   ],
   "source": [
    "%%sql\n",
    "SELECT\n",
    "    *\n",
    "FROM\n",
    "    warehouse.stock_item_stock_groups\n",
    "LIMIT 5"
   ]
  },
  {
   "cell_type": "markdown",
   "metadata": {},
   "source": [
    "Let's examine each column we will use for creating the dashboard individually."
   ]
  },
  {
   "cell_type": "markdown",
   "metadata": {},
   "source": [
    "**stock_item_stock_group_id**"
   ]
  },
  {
   "cell_type": "code",
   "execution_count": 106,
   "metadata": {
    "vscode": {
     "languageId": "sql"
    }
   },
   "outputs": [
    {
     "data": {
      "text/html": [
       "<div>\n",
       "<style scoped>\n",
       "    .dataframe tbody tr th:only-of-type {\n",
       "        vertical-align: middle;\n",
       "    }\n",
       "\n",
       "    .dataframe tbody tr th {\n",
       "        vertical-align: top;\n",
       "    }\n",
       "\n",
       "    .dataframe thead th {\n",
       "        text-align: right;\n",
       "    }\n",
       "</style>\n",
       "<table border=\"1\" class=\"dataframe\">\n",
       "  <thead>\n",
       "    <tr style=\"text-align: right;\">\n",
       "      <th></th>\n",
       "      <th>Summary Type</th>\n",
       "      <th>Summary Count</th>\n",
       "      <th>-</th>\n",
       "      <th>Stats Type</th>\n",
       "      <th>Stats Value</th>\n",
       "      <th>--</th>\n",
       "      <th>Top Values</th>\n",
       "    </tr>\n",
       "  </thead>\n",
       "  <tbody>\n",
       "    <tr>\n",
       "      <th>0</th>\n",
       "      <td>Total Count</td>\n",
       "      <td>442</td>\n",
       "      <td></td>\n",
       "      <td></td>\n",
       "      <td></td>\n",
       "      <td></td>\n",
       "      <td></td>\n",
       "    </tr>\n",
       "    <tr>\n",
       "      <th>1</th>\n",
       "      <td>Unique Count</td>\n",
       "      <td>442</td>\n",
       "      <td></td>\n",
       "      <td></td>\n",
       "      <td></td>\n",
       "      <td></td>\n",
       "      <td></td>\n",
       "    </tr>\n",
       "    <tr>\n",
       "      <th>2</th>\n",
       "      <td>Missing</td>\n",
       "      <td>0</td>\n",
       "      <td></td>\n",
       "      <td></td>\n",
       "      <td></td>\n",
       "      <td></td>\n",
       "      <td></td>\n",
       "    </tr>\n",
       "    <tr>\n",
       "      <th>3</th>\n",
       "      <td>Duplicated</td>\n",
       "      <td>0</td>\n",
       "      <td></td>\n",
       "      <td></td>\n",
       "      <td></td>\n",
       "      <td></td>\n",
       "      <td></td>\n",
       "    </tr>\n",
       "    <tr>\n",
       "      <th>4</th>\n",
       "      <td>Zero</td>\n",
       "      <td>0</td>\n",
       "      <td></td>\n",
       "      <td></td>\n",
       "      <td></td>\n",
       "      <td></td>\n",
       "      <td></td>\n",
       "    </tr>\n",
       "    <tr>\n",
       "      <th>5</th>\n",
       "      <td>Negative</td>\n",
       "      <td>0</td>\n",
       "      <td></td>\n",
       "      <td></td>\n",
       "      <td></td>\n",
       "      <td></td>\n",
       "      <td></td>\n",
       "    </tr>\n",
       "  </tbody>\n",
       "</table>\n",
       "</div>"
      ],
      "text/plain": [
       "   Summary Type Summary Count  - Stats Type Stats Value -- Top Values\n",
       "0   Total Count           442                                        \n",
       "1  Unique Count           442                                        \n",
       "2       Missing             0                                        \n",
       "3    Duplicated             0                                        \n",
       "4          Zero             0                                        \n",
       "5      Negative             0                                        "
      ]
     },
     "execution_count": 106,
     "metadata": {},
     "output_type": "execute_result"
    }
   ],
   "source": [
    "%%sql\n",
    "SELECT * FROM get_column_summary('warehouse.stock_item_stock_groups', 'stock_item_stock_group_id', True);"
   ]
  },
  {
   "cell_type": "markdown",
   "metadata": {},
   "source": [
    "**stock_item_id**"
   ]
  },
  {
   "cell_type": "code",
   "execution_count": 107,
   "metadata": {
    "vscode": {
     "languageId": "sql"
    }
   },
   "outputs": [
    {
     "data": {
      "text/html": [
       "<div>\n",
       "<style scoped>\n",
       "    .dataframe tbody tr th:only-of-type {\n",
       "        vertical-align: middle;\n",
       "    }\n",
       "\n",
       "    .dataframe tbody tr th {\n",
       "        vertical-align: top;\n",
       "    }\n",
       "\n",
       "    .dataframe thead th {\n",
       "        text-align: right;\n",
       "    }\n",
       "</style>\n",
       "<table border=\"1\" class=\"dataframe\">\n",
       "  <thead>\n",
       "    <tr style=\"text-align: right;\">\n",
       "      <th></th>\n",
       "      <th>Summary Type</th>\n",
       "      <th>Summary Count</th>\n",
       "      <th>-</th>\n",
       "      <th>Stats Type</th>\n",
       "      <th>Stats Value</th>\n",
       "      <th>--</th>\n",
       "      <th>Top Values</th>\n",
       "    </tr>\n",
       "  </thead>\n",
       "  <tbody>\n",
       "    <tr>\n",
       "      <th>0</th>\n",
       "      <td>Total Count</td>\n",
       "      <td>442</td>\n",
       "      <td></td>\n",
       "      <td></td>\n",
       "      <td></td>\n",
       "      <td></td>\n",
       "      <td></td>\n",
       "    </tr>\n",
       "    <tr>\n",
       "      <th>1</th>\n",
       "      <td>Unique Count</td>\n",
       "      <td>227</td>\n",
       "      <td></td>\n",
       "      <td></td>\n",
       "      <td></td>\n",
       "      <td></td>\n",
       "      <td></td>\n",
       "    </tr>\n",
       "    <tr>\n",
       "      <th>2</th>\n",
       "      <td>Missing</td>\n",
       "      <td>0</td>\n",
       "      <td></td>\n",
       "      <td></td>\n",
       "      <td></td>\n",
       "      <td></td>\n",
       "      <td></td>\n",
       "    </tr>\n",
       "    <tr>\n",
       "      <th>3</th>\n",
       "      <td>Duplicated</td>\n",
       "      <td>215</td>\n",
       "      <td></td>\n",
       "      <td></td>\n",
       "      <td></td>\n",
       "      <td></td>\n",
       "      <td></td>\n",
       "    </tr>\n",
       "    <tr>\n",
       "      <th>4</th>\n",
       "      <td>Zero</td>\n",
       "      <td>0</td>\n",
       "      <td></td>\n",
       "      <td></td>\n",
       "      <td></td>\n",
       "      <td></td>\n",
       "      <td></td>\n",
       "    </tr>\n",
       "    <tr>\n",
       "      <th>5</th>\n",
       "      <td>Negative</td>\n",
       "      <td>0</td>\n",
       "      <td></td>\n",
       "      <td></td>\n",
       "      <td></td>\n",
       "      <td></td>\n",
       "      <td></td>\n",
       "    </tr>\n",
       "  </tbody>\n",
       "</table>\n",
       "</div>"
      ],
      "text/plain": [
       "   Summary Type Summary Count  - Stats Type Stats Value -- Top Values\n",
       "0   Total Count           442                                        \n",
       "1  Unique Count           227                                        \n",
       "2       Missing             0                                        \n",
       "3    Duplicated           215                                        \n",
       "4          Zero             0                                        \n",
       "5      Negative             0                                        "
      ]
     },
     "execution_count": 107,
     "metadata": {},
     "output_type": "execute_result"
    }
   ],
   "source": [
    "%%sql\n",
    "SELECT * FROM get_column_summary('warehouse.stock_item_stock_groups', 'stock_item_id', True);"
   ]
  },
  {
   "cell_type": "markdown",
   "metadata": {},
   "source": [
    "**stock_group_id**"
   ]
  },
  {
   "cell_type": "code",
   "execution_count": 108,
   "metadata": {
    "vscode": {
     "languageId": "sql"
    }
   },
   "outputs": [
    {
     "data": {
      "text/html": [
       "<div>\n",
       "<style scoped>\n",
       "    .dataframe tbody tr th:only-of-type {\n",
       "        vertical-align: middle;\n",
       "    }\n",
       "\n",
       "    .dataframe tbody tr th {\n",
       "        vertical-align: top;\n",
       "    }\n",
       "\n",
       "    .dataframe thead th {\n",
       "        text-align: right;\n",
       "    }\n",
       "</style>\n",
       "<table border=\"1\" class=\"dataframe\">\n",
       "  <thead>\n",
       "    <tr style=\"text-align: right;\">\n",
       "      <th></th>\n",
       "      <th>Summary Type</th>\n",
       "      <th>Summary Count</th>\n",
       "      <th>-</th>\n",
       "      <th>Stats Type</th>\n",
       "      <th>Stats Value</th>\n",
       "      <th>--</th>\n",
       "      <th>Top Values</th>\n",
       "    </tr>\n",
       "  </thead>\n",
       "  <tbody>\n",
       "    <tr>\n",
       "      <th>0</th>\n",
       "      <td>Total Count</td>\n",
       "      <td>442</td>\n",
       "      <td></td>\n",
       "      <td></td>\n",
       "      <td></td>\n",
       "      <td></td>\n",
       "      <td></td>\n",
       "    </tr>\n",
       "    <tr>\n",
       "      <th>1</th>\n",
       "      <td>Unique Count</td>\n",
       "      <td>9</td>\n",
       "      <td></td>\n",
       "      <td></td>\n",
       "      <td></td>\n",
       "      <td></td>\n",
       "      <td></td>\n",
       "    </tr>\n",
       "    <tr>\n",
       "      <th>2</th>\n",
       "      <td>Missing</td>\n",
       "      <td>0</td>\n",
       "      <td></td>\n",
       "      <td></td>\n",
       "      <td></td>\n",
       "      <td></td>\n",
       "      <td></td>\n",
       "    </tr>\n",
       "    <tr>\n",
       "      <th>3</th>\n",
       "      <td>Duplicated</td>\n",
       "      <td>433</td>\n",
       "      <td></td>\n",
       "      <td></td>\n",
       "      <td></td>\n",
       "      <td></td>\n",
       "      <td></td>\n",
       "    </tr>\n",
       "    <tr>\n",
       "      <th>4</th>\n",
       "      <td>Zero</td>\n",
       "      <td>0</td>\n",
       "      <td></td>\n",
       "      <td></td>\n",
       "      <td></td>\n",
       "      <td></td>\n",
       "      <td></td>\n",
       "    </tr>\n",
       "    <tr>\n",
       "      <th>5</th>\n",
       "      <td>Negative</td>\n",
       "      <td>0</td>\n",
       "      <td></td>\n",
       "      <td></td>\n",
       "      <td></td>\n",
       "      <td></td>\n",
       "      <td></td>\n",
       "    </tr>\n",
       "  </tbody>\n",
       "</table>\n",
       "</div>"
      ],
      "text/plain": [
       "   Summary Type Summary Count  - Stats Type Stats Value -- Top Values\n",
       "0   Total Count           442                                        \n",
       "1  Unique Count             9                                        \n",
       "2       Missing             0                                        \n",
       "3    Duplicated           433                                        \n",
       "4          Zero             0                                        \n",
       "5      Negative             0                                        "
      ]
     },
     "execution_count": 108,
     "metadata": {},
     "output_type": "execute_result"
    }
   ],
   "source": [
    "%%sql\n",
    "SELECT * FROM get_column_summary('warehouse.stock_item_stock_groups', 'stock_group_id', True);"
   ]
  },
  {
   "cell_type": "markdown",
   "metadata": {},
   "source": [
    "**Key Observations:**  \n",
    "\n",
    "- No missing values in the columns we need.\n",
    "- No critical anomalies were found."
   ]
  },
  {
   "cell_type": "markdown",
   "metadata": {},
   "source": [
    "##### Table warehouse.stock_groups"
   ]
  },
  {
   "cell_type": "markdown",
   "metadata": {},
   "source": [
    "Let's look at the rows."
   ]
  },
  {
   "cell_type": "code",
   "execution_count": 109,
   "metadata": {
    "vscode": {
     "languageId": "sql"
    }
   },
   "outputs": [
    {
     "data": {
      "text/html": [
       "<div>\n",
       "<style scoped>\n",
       "    .dataframe tbody tr th:only-of-type {\n",
       "        vertical-align: middle;\n",
       "    }\n",
       "\n",
       "    .dataframe tbody tr th {\n",
       "        vertical-align: top;\n",
       "    }\n",
       "\n",
       "    .dataframe thead th {\n",
       "        text-align: right;\n",
       "    }\n",
       "</style>\n",
       "<table border=\"1\" class=\"dataframe\">\n",
       "  <thead>\n",
       "    <tr style=\"text-align: right;\">\n",
       "      <th></th>\n",
       "      <th>stock_group_id</th>\n",
       "      <th>stock_group_name</th>\n",
       "      <th>last_edited_by</th>\n",
       "    </tr>\n",
       "  </thead>\n",
       "  <tbody>\n",
       "    <tr>\n",
       "      <th>0</th>\n",
       "      <td>1</td>\n",
       "      <td>Novelty Items</td>\n",
       "      <td>1</td>\n",
       "    </tr>\n",
       "    <tr>\n",
       "      <th>1</th>\n",
       "      <td>2</td>\n",
       "      <td>Clothing</td>\n",
       "      <td>1</td>\n",
       "    </tr>\n",
       "    <tr>\n",
       "      <th>2</th>\n",
       "      <td>3</td>\n",
       "      <td>Mugs</td>\n",
       "      <td>1</td>\n",
       "    </tr>\n",
       "    <tr>\n",
       "      <th>3</th>\n",
       "      <td>4</td>\n",
       "      <td>T-Shirts</td>\n",
       "      <td>1</td>\n",
       "    </tr>\n",
       "    <tr>\n",
       "      <th>4</th>\n",
       "      <td>5</td>\n",
       "      <td>Airline Novelties</td>\n",
       "      <td>1</td>\n",
       "    </tr>\n",
       "  </tbody>\n",
       "</table>\n",
       "</div>"
      ],
      "text/plain": [
       "   stock_group_id   stock_group_name  last_edited_by\n",
       "0               1      Novelty Items               1\n",
       "1               2           Clothing               1\n",
       "2               3               Mugs               1\n",
       "3               4           T-Shirts               1\n",
       "4               5  Airline Novelties               1"
      ]
     },
     "execution_count": 109,
     "metadata": {},
     "output_type": "execute_result"
    }
   ],
   "source": [
    "%%sql\n",
    "SELECT\n",
    "    *\n",
    "FROM\n",
    "    warehouse.stock_groups\n",
    "LIMIT 5"
   ]
  },
  {
   "cell_type": "markdown",
   "metadata": {},
   "source": [
    "Let's examine each column we will use for creating the dashboard individually."
   ]
  },
  {
   "cell_type": "markdown",
   "metadata": {},
   "source": [
    "**stock_group_id**"
   ]
  },
  {
   "cell_type": "code",
   "execution_count": 110,
   "metadata": {
    "vscode": {
     "languageId": "sql"
    }
   },
   "outputs": [
    {
     "data": {
      "text/html": [
       "<div>\n",
       "<style scoped>\n",
       "    .dataframe tbody tr th:only-of-type {\n",
       "        vertical-align: middle;\n",
       "    }\n",
       "\n",
       "    .dataframe tbody tr th {\n",
       "        vertical-align: top;\n",
       "    }\n",
       "\n",
       "    .dataframe thead th {\n",
       "        text-align: right;\n",
       "    }\n",
       "</style>\n",
       "<table border=\"1\" class=\"dataframe\">\n",
       "  <thead>\n",
       "    <tr style=\"text-align: right;\">\n",
       "      <th></th>\n",
       "      <th>Summary Type</th>\n",
       "      <th>Summary Count</th>\n",
       "      <th>-</th>\n",
       "      <th>Stats Type</th>\n",
       "      <th>Stats Value</th>\n",
       "      <th>--</th>\n",
       "      <th>Top Values</th>\n",
       "    </tr>\n",
       "  </thead>\n",
       "  <tbody>\n",
       "    <tr>\n",
       "      <th>0</th>\n",
       "      <td>Total Count</td>\n",
       "      <td>10</td>\n",
       "      <td></td>\n",
       "      <td></td>\n",
       "      <td></td>\n",
       "      <td></td>\n",
       "      <td></td>\n",
       "    </tr>\n",
       "    <tr>\n",
       "      <th>1</th>\n",
       "      <td>Unique Count</td>\n",
       "      <td>10</td>\n",
       "      <td></td>\n",
       "      <td></td>\n",
       "      <td></td>\n",
       "      <td></td>\n",
       "      <td></td>\n",
       "    </tr>\n",
       "    <tr>\n",
       "      <th>2</th>\n",
       "      <td>Missing</td>\n",
       "      <td>0</td>\n",
       "      <td></td>\n",
       "      <td></td>\n",
       "      <td></td>\n",
       "      <td></td>\n",
       "      <td></td>\n",
       "    </tr>\n",
       "    <tr>\n",
       "      <th>3</th>\n",
       "      <td>Duplicated</td>\n",
       "      <td>0</td>\n",
       "      <td></td>\n",
       "      <td></td>\n",
       "      <td></td>\n",
       "      <td></td>\n",
       "      <td></td>\n",
       "    </tr>\n",
       "    <tr>\n",
       "      <th>4</th>\n",
       "      <td>Zero</td>\n",
       "      <td>0</td>\n",
       "      <td></td>\n",
       "      <td></td>\n",
       "      <td></td>\n",
       "      <td></td>\n",
       "      <td></td>\n",
       "    </tr>\n",
       "    <tr>\n",
       "      <th>5</th>\n",
       "      <td>Negative</td>\n",
       "      <td>0</td>\n",
       "      <td></td>\n",
       "      <td></td>\n",
       "      <td></td>\n",
       "      <td></td>\n",
       "      <td></td>\n",
       "    </tr>\n",
       "  </tbody>\n",
       "</table>\n",
       "</div>"
      ],
      "text/plain": [
       "   Summary Type Summary Count  - Stats Type Stats Value -- Top Values\n",
       "0   Total Count            10                                        \n",
       "1  Unique Count            10                                        \n",
       "2       Missing             0                                        \n",
       "3    Duplicated             0                                        \n",
       "4          Zero             0                                        \n",
       "5      Negative             0                                        "
      ]
     },
     "execution_count": 110,
     "metadata": {},
     "output_type": "execute_result"
    }
   ],
   "source": [
    "%%sql\n",
    "SELECT * FROM get_column_summary('warehouse.stock_groups', 'stock_group_id', True);"
   ]
  },
  {
   "cell_type": "markdown",
   "metadata": {},
   "source": [
    "**stock_group_name**"
   ]
  },
  {
   "cell_type": "code",
   "execution_count": 111,
   "metadata": {
    "vscode": {
     "languageId": "sql"
    }
   },
   "outputs": [
    {
     "data": {
      "text/html": [
       "<div>\n",
       "<style scoped>\n",
       "    .dataframe tbody tr th:only-of-type {\n",
       "        vertical-align: middle;\n",
       "    }\n",
       "\n",
       "    .dataframe tbody tr th {\n",
       "        vertical-align: top;\n",
       "    }\n",
       "\n",
       "    .dataframe thead th {\n",
       "        text-align: right;\n",
       "    }\n",
       "</style>\n",
       "<table border=\"1\" class=\"dataframe\">\n",
       "  <thead>\n",
       "    <tr style=\"text-align: right;\">\n",
       "      <th></th>\n",
       "      <th>Summary Type</th>\n",
       "      <th>Summary Count</th>\n",
       "      <th>-</th>\n",
       "      <th>Stats Type</th>\n",
       "      <th>Stats Value</th>\n",
       "      <th>--</th>\n",
       "      <th>Top Values</th>\n",
       "    </tr>\n",
       "  </thead>\n",
       "  <tbody>\n",
       "    <tr>\n",
       "      <th>0</th>\n",
       "      <td>Total Count</td>\n",
       "      <td>10</td>\n",
       "      <td></td>\n",
       "      <td></td>\n",
       "      <td></td>\n",
       "      <td></td>\n",
       "      <td></td>\n",
       "    </tr>\n",
       "    <tr>\n",
       "      <th>1</th>\n",
       "      <td>Unique Count</td>\n",
       "      <td>10</td>\n",
       "      <td></td>\n",
       "      <td></td>\n",
       "      <td></td>\n",
       "      <td></td>\n",
       "      <td></td>\n",
       "    </tr>\n",
       "    <tr>\n",
       "      <th>2</th>\n",
       "      <td>Missing</td>\n",
       "      <td>0</td>\n",
       "      <td></td>\n",
       "      <td></td>\n",
       "      <td></td>\n",
       "      <td></td>\n",
       "      <td></td>\n",
       "    </tr>\n",
       "    <tr>\n",
       "      <th>3</th>\n",
       "      <td>Duplicated</td>\n",
       "      <td>0</td>\n",
       "      <td></td>\n",
       "      <td></td>\n",
       "      <td></td>\n",
       "      <td></td>\n",
       "      <td></td>\n",
       "    </tr>\n",
       "    <tr>\n",
       "      <th>4</th>\n",
       "      <td>Zero</td>\n",
       "      <td>None</td>\n",
       "      <td></td>\n",
       "      <td></td>\n",
       "      <td></td>\n",
       "      <td></td>\n",
       "      <td></td>\n",
       "    </tr>\n",
       "    <tr>\n",
       "      <th>5</th>\n",
       "      <td>Negative</td>\n",
       "      <td>None</td>\n",
       "      <td></td>\n",
       "      <td></td>\n",
       "      <td></td>\n",
       "      <td></td>\n",
       "      <td></td>\n",
       "    </tr>\n",
       "  </tbody>\n",
       "</table>\n",
       "</div>"
      ],
      "text/plain": [
       "   Summary Type Summary Count  - Stats Type Stats Value -- Top Values\n",
       "0   Total Count            10                                        \n",
       "1  Unique Count            10                                        \n",
       "2       Missing             0                                        \n",
       "3    Duplicated             0                                        \n",
       "4          Zero          None                                        \n",
       "5      Negative          None                                        "
      ]
     },
     "execution_count": 111,
     "metadata": {},
     "output_type": "execute_result"
    }
   ],
   "source": [
    "%%sql\n",
    "SELECT * FROM get_column_summary('warehouse.stock_groups', 'stock_group_name', True);"
   ]
  },
  {
   "cell_type": "markdown",
   "metadata": {},
   "source": [
    "**Key Observations:**  \n",
    "\n",
    "- No missing values in the columns we need.\n",
    "- No critical anomalies were found."
   ]
  },
  {
   "cell_type": "markdown",
   "metadata": {},
   "source": [
    "##### Table warehouse.package_types"
   ]
  },
  {
   "cell_type": "markdown",
   "metadata": {},
   "source": [
    "Let's look at the rows."
   ]
  },
  {
   "cell_type": "code",
   "execution_count": 112,
   "metadata": {
    "vscode": {
     "languageId": "sql"
    }
   },
   "outputs": [
    {
     "data": {
      "text/html": [
       "<div>\n",
       "<style scoped>\n",
       "    .dataframe tbody tr th:only-of-type {\n",
       "        vertical-align: middle;\n",
       "    }\n",
       "\n",
       "    .dataframe tbody tr th {\n",
       "        vertical-align: top;\n",
       "    }\n",
       "\n",
       "    .dataframe thead th {\n",
       "        text-align: right;\n",
       "    }\n",
       "</style>\n",
       "<table border=\"1\" class=\"dataframe\">\n",
       "  <thead>\n",
       "    <tr style=\"text-align: right;\">\n",
       "      <th></th>\n",
       "      <th>package_type_id</th>\n",
       "      <th>package_type_name</th>\n",
       "      <th>last_edited_by</th>\n",
       "    </tr>\n",
       "  </thead>\n",
       "  <tbody>\n",
       "    <tr>\n",
       "      <th>0</th>\n",
       "      <td>1</td>\n",
       "      <td>Bag</td>\n",
       "      <td>1</td>\n",
       "    </tr>\n",
       "    <tr>\n",
       "      <th>1</th>\n",
       "      <td>2</td>\n",
       "      <td>Block</td>\n",
       "      <td>1</td>\n",
       "    </tr>\n",
       "    <tr>\n",
       "      <th>2</th>\n",
       "      <td>3</td>\n",
       "      <td>Bottle</td>\n",
       "      <td>1</td>\n",
       "    </tr>\n",
       "    <tr>\n",
       "      <th>3</th>\n",
       "      <td>4</td>\n",
       "      <td>Box</td>\n",
       "      <td>1</td>\n",
       "    </tr>\n",
       "    <tr>\n",
       "      <th>4</th>\n",
       "      <td>5</td>\n",
       "      <td>Can</td>\n",
       "      <td>1</td>\n",
       "    </tr>\n",
       "  </tbody>\n",
       "</table>\n",
       "</div>"
      ],
      "text/plain": [
       "   package_type_id package_type_name  last_edited_by\n",
       "0                1               Bag               1\n",
       "1                2             Block               1\n",
       "2                3            Bottle               1\n",
       "3                4               Box               1\n",
       "4                5               Can               1"
      ]
     },
     "execution_count": 112,
     "metadata": {},
     "output_type": "execute_result"
    }
   ],
   "source": [
    "%%sql\n",
    "SELECT\n",
    "    *\n",
    "FROM\n",
    "    warehouse.package_types\n",
    "LIMIT 5"
   ]
  },
  {
   "cell_type": "markdown",
   "metadata": {},
   "source": [
    "Let's examine each column we will use for creating the dashboard individually."
   ]
  },
  {
   "cell_type": "markdown",
   "metadata": {},
   "source": [
    "**package_type_id**"
   ]
  },
  {
   "cell_type": "code",
   "execution_count": 113,
   "metadata": {
    "vscode": {
     "languageId": "sql"
    }
   },
   "outputs": [
    {
     "data": {
      "text/html": [
       "<div>\n",
       "<style scoped>\n",
       "    .dataframe tbody tr th:only-of-type {\n",
       "        vertical-align: middle;\n",
       "    }\n",
       "\n",
       "    .dataframe tbody tr th {\n",
       "        vertical-align: top;\n",
       "    }\n",
       "\n",
       "    .dataframe thead th {\n",
       "        text-align: right;\n",
       "    }\n",
       "</style>\n",
       "<table border=\"1\" class=\"dataframe\">\n",
       "  <thead>\n",
       "    <tr style=\"text-align: right;\">\n",
       "      <th></th>\n",
       "      <th>Summary Type</th>\n",
       "      <th>Summary Count</th>\n",
       "      <th>-</th>\n",
       "      <th>Stats Type</th>\n",
       "      <th>Stats Value</th>\n",
       "      <th>--</th>\n",
       "      <th>Top Values</th>\n",
       "    </tr>\n",
       "  </thead>\n",
       "  <tbody>\n",
       "    <tr>\n",
       "      <th>0</th>\n",
       "      <td>Total Count</td>\n",
       "      <td>14</td>\n",
       "      <td></td>\n",
       "      <td></td>\n",
       "      <td></td>\n",
       "      <td></td>\n",
       "      <td></td>\n",
       "    </tr>\n",
       "    <tr>\n",
       "      <th>1</th>\n",
       "      <td>Unique Count</td>\n",
       "      <td>14</td>\n",
       "      <td></td>\n",
       "      <td></td>\n",
       "      <td></td>\n",
       "      <td></td>\n",
       "      <td></td>\n",
       "    </tr>\n",
       "    <tr>\n",
       "      <th>2</th>\n",
       "      <td>Missing</td>\n",
       "      <td>0</td>\n",
       "      <td></td>\n",
       "      <td></td>\n",
       "      <td></td>\n",
       "      <td></td>\n",
       "      <td></td>\n",
       "    </tr>\n",
       "    <tr>\n",
       "      <th>3</th>\n",
       "      <td>Duplicated</td>\n",
       "      <td>0</td>\n",
       "      <td></td>\n",
       "      <td></td>\n",
       "      <td></td>\n",
       "      <td></td>\n",
       "      <td></td>\n",
       "    </tr>\n",
       "    <tr>\n",
       "      <th>4</th>\n",
       "      <td>Zero</td>\n",
       "      <td>0</td>\n",
       "      <td></td>\n",
       "      <td></td>\n",
       "      <td></td>\n",
       "      <td></td>\n",
       "      <td></td>\n",
       "    </tr>\n",
       "    <tr>\n",
       "      <th>5</th>\n",
       "      <td>Negative</td>\n",
       "      <td>0</td>\n",
       "      <td></td>\n",
       "      <td></td>\n",
       "      <td></td>\n",
       "      <td></td>\n",
       "      <td></td>\n",
       "    </tr>\n",
       "  </tbody>\n",
       "</table>\n",
       "</div>"
      ],
      "text/plain": [
       "   Summary Type Summary Count  - Stats Type Stats Value -- Top Values\n",
       "0   Total Count            14                                        \n",
       "1  Unique Count            14                                        \n",
       "2       Missing             0                                        \n",
       "3    Duplicated             0                                        \n",
       "4          Zero             0                                        \n",
       "5      Negative             0                                        "
      ]
     },
     "execution_count": 113,
     "metadata": {},
     "output_type": "execute_result"
    }
   ],
   "source": [
    "%%sql\n",
    "SELECT * FROM get_column_summary('warehouse.package_types', 'package_type_id', True);"
   ]
  },
  {
   "cell_type": "markdown",
   "metadata": {},
   "source": [
    "**package_type_name**"
   ]
  },
  {
   "cell_type": "code",
   "execution_count": 114,
   "metadata": {
    "vscode": {
     "languageId": "sql"
    }
   },
   "outputs": [
    {
     "data": {
      "text/html": [
       "<div>\n",
       "<style scoped>\n",
       "    .dataframe tbody tr th:only-of-type {\n",
       "        vertical-align: middle;\n",
       "    }\n",
       "\n",
       "    .dataframe tbody tr th {\n",
       "        vertical-align: top;\n",
       "    }\n",
       "\n",
       "    .dataframe thead th {\n",
       "        text-align: right;\n",
       "    }\n",
       "</style>\n",
       "<table border=\"1\" class=\"dataframe\">\n",
       "  <thead>\n",
       "    <tr style=\"text-align: right;\">\n",
       "      <th></th>\n",
       "      <th>Summary Type</th>\n",
       "      <th>Summary Count</th>\n",
       "      <th>-</th>\n",
       "      <th>Stats Type</th>\n",
       "      <th>Stats Value</th>\n",
       "      <th>--</th>\n",
       "      <th>Top Values</th>\n",
       "    </tr>\n",
       "  </thead>\n",
       "  <tbody>\n",
       "    <tr>\n",
       "      <th>0</th>\n",
       "      <td>Total Count</td>\n",
       "      <td>14</td>\n",
       "      <td></td>\n",
       "      <td></td>\n",
       "      <td></td>\n",
       "      <td></td>\n",
       "      <td></td>\n",
       "    </tr>\n",
       "    <tr>\n",
       "      <th>1</th>\n",
       "      <td>Unique Count</td>\n",
       "      <td>14</td>\n",
       "      <td></td>\n",
       "      <td></td>\n",
       "      <td></td>\n",
       "      <td></td>\n",
       "      <td></td>\n",
       "    </tr>\n",
       "    <tr>\n",
       "      <th>2</th>\n",
       "      <td>Missing</td>\n",
       "      <td>0</td>\n",
       "      <td></td>\n",
       "      <td></td>\n",
       "      <td></td>\n",
       "      <td></td>\n",
       "      <td></td>\n",
       "    </tr>\n",
       "    <tr>\n",
       "      <th>3</th>\n",
       "      <td>Duplicated</td>\n",
       "      <td>0</td>\n",
       "      <td></td>\n",
       "      <td></td>\n",
       "      <td></td>\n",
       "      <td></td>\n",
       "      <td></td>\n",
       "    </tr>\n",
       "    <tr>\n",
       "      <th>4</th>\n",
       "      <td>Zero</td>\n",
       "      <td>None</td>\n",
       "      <td></td>\n",
       "      <td></td>\n",
       "      <td></td>\n",
       "      <td></td>\n",
       "      <td></td>\n",
       "    </tr>\n",
       "    <tr>\n",
       "      <th>5</th>\n",
       "      <td>Negative</td>\n",
       "      <td>None</td>\n",
       "      <td></td>\n",
       "      <td></td>\n",
       "      <td></td>\n",
       "      <td></td>\n",
       "      <td></td>\n",
       "    </tr>\n",
       "  </tbody>\n",
       "</table>\n",
       "</div>"
      ],
      "text/plain": [
       "   Summary Type Summary Count  - Stats Type Stats Value -- Top Values\n",
       "0   Total Count            14                                        \n",
       "1  Unique Count            14                                        \n",
       "2       Missing             0                                        \n",
       "3    Duplicated             0                                        \n",
       "4          Zero          None                                        \n",
       "5      Negative          None                                        "
      ]
     },
     "execution_count": 114,
     "metadata": {},
     "output_type": "execute_result"
    }
   ],
   "source": [
    "%%sql\n",
    "SELECT * FROM get_column_summary('warehouse.package_types', 'package_type_name', True);"
   ]
  },
  {
   "cell_type": "markdown",
   "metadata": {},
   "source": [
    "**Key Observations:**  \n",
    "\n",
    "- No missing values in the columns we need.\n",
    "- No critical anomalies were found."
   ]
  },
  {
   "cell_type": "markdown",
   "metadata": {},
   "source": [
    "##### Table warehouse.colors"
   ]
  },
  {
   "cell_type": "markdown",
   "metadata": {},
   "source": [
    "Let's look at the rows."
   ]
  },
  {
   "cell_type": "code",
   "execution_count": 115,
   "metadata": {
    "vscode": {
     "languageId": "sql"
    }
   },
   "outputs": [
    {
     "data": {
      "text/html": [
       "<div>\n",
       "<style scoped>\n",
       "    .dataframe tbody tr th:only-of-type {\n",
       "        vertical-align: middle;\n",
       "    }\n",
       "\n",
       "    .dataframe tbody tr th {\n",
       "        vertical-align: top;\n",
       "    }\n",
       "\n",
       "    .dataframe thead th {\n",
       "        text-align: right;\n",
       "    }\n",
       "</style>\n",
       "<table border=\"1\" class=\"dataframe\">\n",
       "  <thead>\n",
       "    <tr style=\"text-align: right;\">\n",
       "      <th></th>\n",
       "      <th>color_id</th>\n",
       "      <th>color_name</th>\n",
       "      <th>last_edited_by</th>\n",
       "    </tr>\n",
       "  </thead>\n",
       "  <tbody>\n",
       "    <tr>\n",
       "      <th>0</th>\n",
       "      <td>1</td>\n",
       "      <td>Azure</td>\n",
       "      <td>1</td>\n",
       "    </tr>\n",
       "    <tr>\n",
       "      <th>1</th>\n",
       "      <td>2</td>\n",
       "      <td>Beige</td>\n",
       "      <td>1</td>\n",
       "    </tr>\n",
       "    <tr>\n",
       "      <th>2</th>\n",
       "      <td>3</td>\n",
       "      <td>Black</td>\n",
       "      <td>1</td>\n",
       "    </tr>\n",
       "    <tr>\n",
       "      <th>3</th>\n",
       "      <td>4</td>\n",
       "      <td>Blue</td>\n",
       "      <td>1</td>\n",
       "    </tr>\n",
       "    <tr>\n",
       "      <th>4</th>\n",
       "      <td>5</td>\n",
       "      <td>Charcoal</td>\n",
       "      <td>1</td>\n",
       "    </tr>\n",
       "  </tbody>\n",
       "</table>\n",
       "</div>"
      ],
      "text/plain": [
       "   color_id color_name  last_edited_by\n",
       "0         1      Azure               1\n",
       "1         2      Beige               1\n",
       "2         3      Black               1\n",
       "3         4       Blue               1\n",
       "4         5   Charcoal               1"
      ]
     },
     "execution_count": 115,
     "metadata": {},
     "output_type": "execute_result"
    }
   ],
   "source": [
    "%%sql\n",
    "SELECT\n",
    "    *\n",
    "FROM\n",
    "    warehouse.colors\n",
    "LIMIT 5"
   ]
  },
  {
   "cell_type": "markdown",
   "metadata": {},
   "source": [
    "Let's examine each column we will use for creating the dashboard individually."
   ]
  },
  {
   "cell_type": "markdown",
   "metadata": {},
   "source": [
    "**color_id**"
   ]
  },
  {
   "cell_type": "code",
   "execution_count": 116,
   "metadata": {
    "vscode": {
     "languageId": "sql"
    }
   },
   "outputs": [
    {
     "data": {
      "text/html": [
       "<div>\n",
       "<style scoped>\n",
       "    .dataframe tbody tr th:only-of-type {\n",
       "        vertical-align: middle;\n",
       "    }\n",
       "\n",
       "    .dataframe tbody tr th {\n",
       "        vertical-align: top;\n",
       "    }\n",
       "\n",
       "    .dataframe thead th {\n",
       "        text-align: right;\n",
       "    }\n",
       "</style>\n",
       "<table border=\"1\" class=\"dataframe\">\n",
       "  <thead>\n",
       "    <tr style=\"text-align: right;\">\n",
       "      <th></th>\n",
       "      <th>Summary Type</th>\n",
       "      <th>Summary Count</th>\n",
       "      <th>-</th>\n",
       "      <th>Stats Type</th>\n",
       "      <th>Stats Value</th>\n",
       "      <th>--</th>\n",
       "      <th>Top Values</th>\n",
       "    </tr>\n",
       "  </thead>\n",
       "  <tbody>\n",
       "    <tr>\n",
       "      <th>0</th>\n",
       "      <td>Total Count</td>\n",
       "      <td>36</td>\n",
       "      <td></td>\n",
       "      <td></td>\n",
       "      <td></td>\n",
       "      <td></td>\n",
       "      <td></td>\n",
       "    </tr>\n",
       "    <tr>\n",
       "      <th>1</th>\n",
       "      <td>Unique Count</td>\n",
       "      <td>36</td>\n",
       "      <td></td>\n",
       "      <td></td>\n",
       "      <td></td>\n",
       "      <td></td>\n",
       "      <td></td>\n",
       "    </tr>\n",
       "    <tr>\n",
       "      <th>2</th>\n",
       "      <td>Missing</td>\n",
       "      <td>0</td>\n",
       "      <td></td>\n",
       "      <td></td>\n",
       "      <td></td>\n",
       "      <td></td>\n",
       "      <td></td>\n",
       "    </tr>\n",
       "    <tr>\n",
       "      <th>3</th>\n",
       "      <td>Duplicated</td>\n",
       "      <td>0</td>\n",
       "      <td></td>\n",
       "      <td></td>\n",
       "      <td></td>\n",
       "      <td></td>\n",
       "      <td></td>\n",
       "    </tr>\n",
       "    <tr>\n",
       "      <th>4</th>\n",
       "      <td>Zero</td>\n",
       "      <td>0</td>\n",
       "      <td></td>\n",
       "      <td></td>\n",
       "      <td></td>\n",
       "      <td></td>\n",
       "      <td></td>\n",
       "    </tr>\n",
       "    <tr>\n",
       "      <th>5</th>\n",
       "      <td>Negative</td>\n",
       "      <td>0</td>\n",
       "      <td></td>\n",
       "      <td></td>\n",
       "      <td></td>\n",
       "      <td></td>\n",
       "      <td></td>\n",
       "    </tr>\n",
       "  </tbody>\n",
       "</table>\n",
       "</div>"
      ],
      "text/plain": [
       "   Summary Type Summary Count  - Stats Type Stats Value -- Top Values\n",
       "0   Total Count            36                                        \n",
       "1  Unique Count            36                                        \n",
       "2       Missing             0                                        \n",
       "3    Duplicated             0                                        \n",
       "4          Zero             0                                        \n",
       "5      Negative             0                                        "
      ]
     },
     "execution_count": 116,
     "metadata": {},
     "output_type": "execute_result"
    }
   ],
   "source": [
    "%%sql\n",
    "SELECT * FROM get_column_summary('warehouse.colors', 'color_id', True);"
   ]
  },
  {
   "cell_type": "markdown",
   "metadata": {},
   "source": [
    "**color_name**"
   ]
  },
  {
   "cell_type": "code",
   "execution_count": 117,
   "metadata": {
    "vscode": {
     "languageId": "sql"
    }
   },
   "outputs": [
    {
     "data": {
      "text/html": [
       "<div>\n",
       "<style scoped>\n",
       "    .dataframe tbody tr th:only-of-type {\n",
       "        vertical-align: middle;\n",
       "    }\n",
       "\n",
       "    .dataframe tbody tr th {\n",
       "        vertical-align: top;\n",
       "    }\n",
       "\n",
       "    .dataframe thead th {\n",
       "        text-align: right;\n",
       "    }\n",
       "</style>\n",
       "<table border=\"1\" class=\"dataframe\">\n",
       "  <thead>\n",
       "    <tr style=\"text-align: right;\">\n",
       "      <th></th>\n",
       "      <th>Summary Type</th>\n",
       "      <th>Summary Count</th>\n",
       "      <th>-</th>\n",
       "      <th>Stats Type</th>\n",
       "      <th>Stats Value</th>\n",
       "      <th>--</th>\n",
       "      <th>Top Values</th>\n",
       "    </tr>\n",
       "  </thead>\n",
       "  <tbody>\n",
       "    <tr>\n",
       "      <th>0</th>\n",
       "      <td>Total Count</td>\n",
       "      <td>36</td>\n",
       "      <td></td>\n",
       "      <td></td>\n",
       "      <td></td>\n",
       "      <td></td>\n",
       "      <td></td>\n",
       "    </tr>\n",
       "    <tr>\n",
       "      <th>1</th>\n",
       "      <td>Unique Count</td>\n",
       "      <td>36</td>\n",
       "      <td></td>\n",
       "      <td></td>\n",
       "      <td></td>\n",
       "      <td></td>\n",
       "      <td></td>\n",
       "    </tr>\n",
       "    <tr>\n",
       "      <th>2</th>\n",
       "      <td>Missing</td>\n",
       "      <td>0</td>\n",
       "      <td></td>\n",
       "      <td></td>\n",
       "      <td></td>\n",
       "      <td></td>\n",
       "      <td></td>\n",
       "    </tr>\n",
       "    <tr>\n",
       "      <th>3</th>\n",
       "      <td>Duplicated</td>\n",
       "      <td>0</td>\n",
       "      <td></td>\n",
       "      <td></td>\n",
       "      <td></td>\n",
       "      <td></td>\n",
       "      <td></td>\n",
       "    </tr>\n",
       "    <tr>\n",
       "      <th>4</th>\n",
       "      <td>Zero</td>\n",
       "      <td>None</td>\n",
       "      <td></td>\n",
       "      <td></td>\n",
       "      <td></td>\n",
       "      <td></td>\n",
       "      <td></td>\n",
       "    </tr>\n",
       "    <tr>\n",
       "      <th>5</th>\n",
       "      <td>Negative</td>\n",
       "      <td>None</td>\n",
       "      <td></td>\n",
       "      <td></td>\n",
       "      <td></td>\n",
       "      <td></td>\n",
       "      <td></td>\n",
       "    </tr>\n",
       "  </tbody>\n",
       "</table>\n",
       "</div>"
      ],
      "text/plain": [
       "   Summary Type Summary Count  - Stats Type Stats Value -- Top Values\n",
       "0   Total Count            36                                        \n",
       "1  Unique Count            36                                        \n",
       "2       Missing             0                                        \n",
       "3    Duplicated             0                                        \n",
       "4          Zero          None                                        \n",
       "5      Negative          None                                        "
      ]
     },
     "execution_count": 117,
     "metadata": {},
     "output_type": "execute_result"
    }
   ],
   "source": [
    "%%sql\n",
    "SELECT * FROM get_column_summary('warehouse.colors', 'color_name', True);"
   ]
  },
  {
   "cell_type": "markdown",
   "metadata": {},
   "source": [
    "**Key Observations:**  \n",
    "\n",
    "- No missing values in the columns we need.\n",
    "- No critical anomalies were found."
   ]
  },
  {
   "cell_type": "markdown",
   "metadata": {},
   "source": [
    "### Exploring Relationships Between Tables"
   ]
  },
  {
   "cell_type": "markdown",
   "metadata": {
    "vscode": {
     "languageId": "raw"
    }
   },
   "source": [
    "Let's examine the relationships between tables for further joins.\n",
    "\n",
    "Let's check if there are any key mismatches."
   ]
  },
  {
   "cell_type": "markdown",
   "metadata": {},
   "source": [
    "#### Sales Schema"
   ]
  },
  {
   "cell_type": "markdown",
   "metadata": {
    "vscode": {
     "languageId": "sql"
    }
   },
   "source": [
    "**sales.orders and sales.order_lines**"
   ]
  },
  {
   "cell_type": "code",
   "execution_count": 118,
   "metadata": {
    "vscode": {
     "languageId": "sql"
    }
   },
   "outputs": [
    {
     "data": {
      "text/html": [
       "<div>\n",
       "<style scoped>\n",
       "    .dataframe tbody tr th:only-of-type {\n",
       "        vertical-align: middle;\n",
       "    }\n",
       "\n",
       "    .dataframe tbody tr th {\n",
       "        vertical-align: top;\n",
       "    }\n",
       "\n",
       "    .dataframe thead th {\n",
       "        text-align: right;\n",
       "    }\n",
       "</style>\n",
       "<table border=\"1\" class=\"dataframe\">\n",
       "  <thead>\n",
       "    <tr style=\"text-align: right;\">\n",
       "      <th></th>\n",
       "      <th>relationship_type</th>\n",
       "      <th>left_only_keys</th>\n",
       "      <th>right_only_keys</th>\n",
       "      <th>left_size</th>\n",
       "      <th>right_size</th>\n",
       "      <th>common_keys</th>\n",
       "    </tr>\n",
       "  </thead>\n",
       "  <tbody>\n",
       "    <tr>\n",
       "      <th>0</th>\n",
       "      <td>1:N</td>\n",
       "      <td>0</td>\n",
       "      <td>0</td>\n",
       "      <td>73595</td>\n",
       "      <td>231412</td>\n",
       "      <td>73595</td>\n",
       "    </tr>\n",
       "  </tbody>\n",
       "</table>\n",
       "</div>"
      ],
      "text/plain": [
       "  relationship_type  left_only_keys  right_only_keys  left_size  right_size  \\\n",
       "0               1:N               0                0      73595      231412   \n",
       "\n",
       "   common_keys  \n",
       "0        73595  "
      ]
     },
     "execution_count": 118,
     "metadata": {},
     "output_type": "execute_result"
    }
   ],
   "source": [
    "%%sql\n",
    "Select * from analyze_relationship('sales.orders', 'sales.order_lines', 'order_id', 'order_id')"
   ]
  },
  {
   "cell_type": "markdown",
   "metadata": {
    "vscode": {
     "languageId": "raw"
    }
   },
   "source": [
    "**sales.orders and sales.customers**"
   ]
  },
  {
   "cell_type": "code",
   "execution_count": 119,
   "metadata": {
    "vscode": {
     "languageId": "sql"
    }
   },
   "outputs": [
    {
     "data": {
      "text/html": [
       "<div>\n",
       "<style scoped>\n",
       "    .dataframe tbody tr th:only-of-type {\n",
       "        vertical-align: middle;\n",
       "    }\n",
       "\n",
       "    .dataframe tbody tr th {\n",
       "        vertical-align: top;\n",
       "    }\n",
       "\n",
       "    .dataframe thead th {\n",
       "        text-align: right;\n",
       "    }\n",
       "</style>\n",
       "<table border=\"1\" class=\"dataframe\">\n",
       "  <thead>\n",
       "    <tr style=\"text-align: right;\">\n",
       "      <th></th>\n",
       "      <th>relationship_type</th>\n",
       "      <th>left_only_keys</th>\n",
       "      <th>right_only_keys</th>\n",
       "      <th>left_size</th>\n",
       "      <th>right_size</th>\n",
       "      <th>common_keys</th>\n",
       "    </tr>\n",
       "  </thead>\n",
       "  <tbody>\n",
       "    <tr>\n",
       "      <th>0</th>\n",
       "      <td>N:1</td>\n",
       "      <td>0</td>\n",
       "      <td>0</td>\n",
       "      <td>73595</td>\n",
       "      <td>663</td>\n",
       "      <td>663</td>\n",
       "    </tr>\n",
       "  </tbody>\n",
       "</table>\n",
       "</div>"
      ],
      "text/plain": [
       "  relationship_type  left_only_keys  right_only_keys  left_size  right_size  \\\n",
       "0               N:1               0                0      73595         663   \n",
       "\n",
       "   common_keys  \n",
       "0          663  "
      ]
     },
     "execution_count": 119,
     "metadata": {},
     "output_type": "execute_result"
    }
   ],
   "source": [
    "%%sql\n",
    "Select * from analyze_relationship('sales.orders', 'sales.customers', 'customer_id', 'customer_id')"
   ]
  },
  {
   "cell_type": "markdown",
   "metadata": {
    "vscode": {
     "languageId": "raw"
    }
   },
   "source": [
    "**sales.orders and sales.invoiced**"
   ]
  },
  {
   "cell_type": "code",
   "execution_count": 120,
   "metadata": {
    "vscode": {
     "languageId": "sql"
    }
   },
   "outputs": [
    {
     "data": {
      "text/html": [
       "<div>\n",
       "<style scoped>\n",
       "    .dataframe tbody tr th:only-of-type {\n",
       "        vertical-align: middle;\n",
       "    }\n",
       "\n",
       "    .dataframe tbody tr th {\n",
       "        vertical-align: top;\n",
       "    }\n",
       "\n",
       "    .dataframe thead th {\n",
       "        text-align: right;\n",
       "    }\n",
       "</style>\n",
       "<table border=\"1\" class=\"dataframe\">\n",
       "  <thead>\n",
       "    <tr style=\"text-align: right;\">\n",
       "      <th></th>\n",
       "      <th>relationship_type</th>\n",
       "      <th>left_only_keys</th>\n",
       "      <th>right_only_keys</th>\n",
       "      <th>left_size</th>\n",
       "      <th>right_size</th>\n",
       "      <th>common_keys</th>\n",
       "    </tr>\n",
       "  </thead>\n",
       "  <tbody>\n",
       "    <tr>\n",
       "      <th>0</th>\n",
       "      <td>1:1</td>\n",
       "      <td>3085</td>\n",
       "      <td>0</td>\n",
       "      <td>73595</td>\n",
       "      <td>70510</td>\n",
       "      <td>70510</td>\n",
       "    </tr>\n",
       "  </tbody>\n",
       "</table>\n",
       "</div>"
      ],
      "text/plain": [
       "  relationship_type  left_only_keys  right_only_keys  left_size  right_size  \\\n",
       "0               1:1            3085                0      73595       70510   \n",
       "\n",
       "   common_keys  \n",
       "0        70510  "
      ]
     },
     "execution_count": 120,
     "metadata": {},
     "output_type": "execute_result"
    }
   ],
   "source": [
    "%%sql\n",
    "Select * from analyze_relationship('sales.orders', 'sales.invoices', 'order_id', 'order_id')"
   ]
  },
  {
   "cell_type": "markdown",
   "metadata": {
    "vscode": {
     "languageId": "raw"
    }
   },
   "source": [
    "**sales.customers and sales.customer_categories**"
   ]
  },
  {
   "cell_type": "code",
   "execution_count": 121,
   "metadata": {
    "vscode": {
     "languageId": "sql"
    }
   },
   "outputs": [
    {
     "data": {
      "text/html": [
       "<div>\n",
       "<style scoped>\n",
       "    .dataframe tbody tr th:only-of-type {\n",
       "        vertical-align: middle;\n",
       "    }\n",
       "\n",
       "    .dataframe tbody tr th {\n",
       "        vertical-align: top;\n",
       "    }\n",
       "\n",
       "    .dataframe thead th {\n",
       "        text-align: right;\n",
       "    }\n",
       "</style>\n",
       "<table border=\"1\" class=\"dataframe\">\n",
       "  <thead>\n",
       "    <tr style=\"text-align: right;\">\n",
       "      <th></th>\n",
       "      <th>relationship_type</th>\n",
       "      <th>left_only_keys</th>\n",
       "      <th>right_only_keys</th>\n",
       "      <th>left_size</th>\n",
       "      <th>right_size</th>\n",
       "      <th>common_keys</th>\n",
       "    </tr>\n",
       "  </thead>\n",
       "  <tbody>\n",
       "    <tr>\n",
       "      <th>0</th>\n",
       "      <td>N:1</td>\n",
       "      <td>0</td>\n",
       "      <td>3</td>\n",
       "      <td>663</td>\n",
       "      <td>8</td>\n",
       "      <td>5</td>\n",
       "    </tr>\n",
       "  </tbody>\n",
       "</table>\n",
       "</div>"
      ],
      "text/plain": [
       "  relationship_type  left_only_keys  right_only_keys  left_size  right_size  \\\n",
       "0               N:1               0                3        663           8   \n",
       "\n",
       "   common_keys  \n",
       "0            5  "
      ]
     },
     "execution_count": 121,
     "metadata": {},
     "output_type": "execute_result"
    }
   ],
   "source": [
    "%%sql\n",
    "Select * from analyze_relationship('sales.customers', 'sales.customer_categories', 'customer_category_id', 'customer_category_id')"
   ]
  },
  {
   "cell_type": "markdown",
   "metadata": {
    "vscode": {
     "languageId": "powershell"
    }
   },
   "source": [
    "**sales.invoiced and sales.invoice_lines**"
   ]
  },
  {
   "cell_type": "code",
   "execution_count": 122,
   "metadata": {
    "vscode": {
     "languageId": "sql"
    }
   },
   "outputs": [
    {
     "data": {
      "text/html": [
       "<div>\n",
       "<style scoped>\n",
       "    .dataframe tbody tr th:only-of-type {\n",
       "        vertical-align: middle;\n",
       "    }\n",
       "\n",
       "    .dataframe tbody tr th {\n",
       "        vertical-align: top;\n",
       "    }\n",
       "\n",
       "    .dataframe thead th {\n",
       "        text-align: right;\n",
       "    }\n",
       "</style>\n",
       "<table border=\"1\" class=\"dataframe\">\n",
       "  <thead>\n",
       "    <tr style=\"text-align: right;\">\n",
       "      <th></th>\n",
       "      <th>relationship_type</th>\n",
       "      <th>left_only_keys</th>\n",
       "      <th>right_only_keys</th>\n",
       "      <th>left_size</th>\n",
       "      <th>right_size</th>\n",
       "      <th>common_keys</th>\n",
       "    </tr>\n",
       "  </thead>\n",
       "  <tbody>\n",
       "    <tr>\n",
       "      <th>0</th>\n",
       "      <td>1:N</td>\n",
       "      <td>0</td>\n",
       "      <td>0</td>\n",
       "      <td>70510</td>\n",
       "      <td>228265</td>\n",
       "      <td>70510</td>\n",
       "    </tr>\n",
       "  </tbody>\n",
       "</table>\n",
       "</div>"
      ],
      "text/plain": [
       "  relationship_type  left_only_keys  right_only_keys  left_size  right_size  \\\n",
       "0               1:N               0                0      70510      228265   \n",
       "\n",
       "   common_keys  \n",
       "0        70510  "
      ]
     },
     "execution_count": 122,
     "metadata": {},
     "output_type": "execute_result"
    }
   ],
   "source": [
    "%%sql\n",
    "Select * from analyze_relationship('sales.invoices', 'sales.invoice_lines', 'invoice_id', 'invoice_id')"
   ]
  },
  {
   "cell_type": "markdown",
   "metadata": {},
   "source": [
    "**sales.customers and sales.customer_transactions**"
   ]
  },
  {
   "cell_type": "code",
   "execution_count": 123,
   "metadata": {
    "vscode": {
     "languageId": "sql"
    }
   },
   "outputs": [
    {
     "data": {
      "text/html": [
       "<div>\n",
       "<style scoped>\n",
       "    .dataframe tbody tr th:only-of-type {\n",
       "        vertical-align: middle;\n",
       "    }\n",
       "\n",
       "    .dataframe tbody tr th {\n",
       "        vertical-align: top;\n",
       "    }\n",
       "\n",
       "    .dataframe thead th {\n",
       "        text-align: right;\n",
       "    }\n",
       "</style>\n",
       "<table border=\"1\" class=\"dataframe\">\n",
       "  <thead>\n",
       "    <tr style=\"text-align: right;\">\n",
       "      <th></th>\n",
       "      <th>relationship_type</th>\n",
       "      <th>left_only_keys</th>\n",
       "      <th>right_only_keys</th>\n",
       "      <th>left_size</th>\n",
       "      <th>right_size</th>\n",
       "      <th>common_keys</th>\n",
       "    </tr>\n",
       "  </thead>\n",
       "  <tbody>\n",
       "    <tr>\n",
       "      <th>0</th>\n",
       "      <td>1:N</td>\n",
       "      <td>400</td>\n",
       "      <td>0</td>\n",
       "      <td>663</td>\n",
       "      <td>97147</td>\n",
       "      <td>263</td>\n",
       "    </tr>\n",
       "  </tbody>\n",
       "</table>\n",
       "</div>"
      ],
      "text/plain": [
       "  relationship_type  left_only_keys  right_only_keys  left_size  right_size  \\\n",
       "0               1:N             400                0        663       97147   \n",
       "\n",
       "   common_keys  \n",
       "0          263  "
      ]
     },
     "execution_count": 123,
     "metadata": {},
     "output_type": "execute_result"
    }
   ],
   "source": [
    "%%sql\n",
    "Select * from analyze_relationship('sales.customers', 'sales.customer_transactions', 'customer_id', 'customer_id')"
   ]
  },
  {
   "cell_type": "markdown",
   "metadata": {},
   "source": [
    "**sales.customers and sales.invoiced**"
   ]
  },
  {
   "cell_type": "code",
   "execution_count": 124,
   "metadata": {
    "vscode": {
     "languageId": "sql"
    }
   },
   "outputs": [
    {
     "data": {
      "text/html": [
       "<div>\n",
       "<style scoped>\n",
       "    .dataframe tbody tr th:only-of-type {\n",
       "        vertical-align: middle;\n",
       "    }\n",
       "\n",
       "    .dataframe tbody tr th {\n",
       "        vertical-align: top;\n",
       "    }\n",
       "\n",
       "    .dataframe thead th {\n",
       "        text-align: right;\n",
       "    }\n",
       "</style>\n",
       "<table border=\"1\" class=\"dataframe\">\n",
       "  <thead>\n",
       "    <tr style=\"text-align: right;\">\n",
       "      <th></th>\n",
       "      <th>relationship_type</th>\n",
       "      <th>left_only_keys</th>\n",
       "      <th>right_only_keys</th>\n",
       "      <th>left_size</th>\n",
       "      <th>right_size</th>\n",
       "      <th>common_keys</th>\n",
       "    </tr>\n",
       "  </thead>\n",
       "  <tbody>\n",
       "    <tr>\n",
       "      <th>0</th>\n",
       "      <td>1:N</td>\n",
       "      <td>0</td>\n",
       "      <td>0</td>\n",
       "      <td>663</td>\n",
       "      <td>70510</td>\n",
       "      <td>663</td>\n",
       "    </tr>\n",
       "  </tbody>\n",
       "</table>\n",
       "</div>"
      ],
      "text/plain": [
       "  relationship_type  left_only_keys  right_only_keys  left_size  right_size  \\\n",
       "0               1:N               0                0        663       70510   \n",
       "\n",
       "   common_keys  \n",
       "0          663  "
      ]
     },
     "execution_count": 124,
     "metadata": {},
     "output_type": "execute_result"
    }
   ],
   "source": [
    "%%sql\n",
    "Select * from analyze_relationship('sales.customers', 'sales.invoices', 'customer_id', 'customer_id')"
   ]
  },
  {
   "cell_type": "markdown",
   "metadata": {},
   "source": [
    "**sales.invoiced and sales.customer_transactions**"
   ]
  },
  {
   "cell_type": "code",
   "execution_count": 125,
   "metadata": {
    "vscode": {
     "languageId": "sql"
    }
   },
   "outputs": [
    {
     "data": {
      "text/html": [
       "<div>\n",
       "<style scoped>\n",
       "    .dataframe tbody tr th:only-of-type {\n",
       "        vertical-align: middle;\n",
       "    }\n",
       "\n",
       "    .dataframe tbody tr th {\n",
       "        vertical-align: top;\n",
       "    }\n",
       "\n",
       "    .dataframe thead th {\n",
       "        text-align: right;\n",
       "    }\n",
       "</style>\n",
       "<table border=\"1\" class=\"dataframe\">\n",
       "  <thead>\n",
       "    <tr style=\"text-align: right;\">\n",
       "      <th></th>\n",
       "      <th>relationship_type</th>\n",
       "      <th>left_only_keys</th>\n",
       "      <th>right_only_keys</th>\n",
       "      <th>left_size</th>\n",
       "      <th>right_size</th>\n",
       "      <th>common_keys</th>\n",
       "    </tr>\n",
       "  </thead>\n",
       "  <tbody>\n",
       "    <tr>\n",
       "      <th>0</th>\n",
       "      <td>1:1</td>\n",
       "      <td>0</td>\n",
       "      <td>0</td>\n",
       "      <td>70510</td>\n",
       "      <td>97147</td>\n",
       "      <td>70510</td>\n",
       "    </tr>\n",
       "  </tbody>\n",
       "</table>\n",
       "</div>"
      ],
      "text/plain": [
       "  relationship_type  left_only_keys  right_only_keys  left_size  right_size  \\\n",
       "0               1:1               0                0      70510       97147   \n",
       "\n",
       "   common_keys  \n",
       "0        70510  "
      ]
     },
     "execution_count": 125,
     "metadata": {},
     "output_type": "execute_result"
    }
   ],
   "source": [
    "%%sql\n",
    "Select * from analyze_relationship('sales.invoices', 'sales.customer_transactions', 'invoice_id', 'invoice_id')"
   ]
  },
  {
   "cell_type": "markdown",
   "metadata": {},
   "source": [
    "**Key Observations:**\n",
    "\n",
    "- The sales.orders table contains order_id values that are not present in sales.invoices. This is normal, as not all orders have invoices.\n",
    "- The sales.customer_categories table contains customer_id values that are not present in the sales.customers table. This is also normal.\n",
    "- The sales.customers table contains customer_id values that are not present in the sales.customer_transactions table. This is also normal, as not all customers have transactions.\n",
    "- No critical anomalies were found."
   ]
  },
  {
   "cell_type": "markdown",
   "metadata": {},
   "source": [
    "#### Application Schema"
   ]
  },
  {
   "cell_type": "markdown",
   "metadata": {},
   "source": [
    "**application.country and application.state_provinces**"
   ]
  },
  {
   "cell_type": "code",
   "execution_count": 126,
   "metadata": {
    "vscode": {
     "languageId": "sql"
    }
   },
   "outputs": [
    {
     "data": {
      "text/html": [
       "<div>\n",
       "<style scoped>\n",
       "    .dataframe tbody tr th:only-of-type {\n",
       "        vertical-align: middle;\n",
       "    }\n",
       "\n",
       "    .dataframe tbody tr th {\n",
       "        vertical-align: top;\n",
       "    }\n",
       "\n",
       "    .dataframe thead th {\n",
       "        text-align: right;\n",
       "    }\n",
       "</style>\n",
       "<table border=\"1\" class=\"dataframe\">\n",
       "  <thead>\n",
       "    <tr style=\"text-align: right;\">\n",
       "      <th></th>\n",
       "      <th>relationship_type</th>\n",
       "      <th>left_only_keys</th>\n",
       "      <th>right_only_keys</th>\n",
       "      <th>left_size</th>\n",
       "      <th>right_size</th>\n",
       "      <th>common_keys</th>\n",
       "    </tr>\n",
       "  </thead>\n",
       "  <tbody>\n",
       "    <tr>\n",
       "      <th>0</th>\n",
       "      <td>1:N</td>\n",
       "      <td>189</td>\n",
       "      <td>0</td>\n",
       "      <td>190</td>\n",
       "      <td>53</td>\n",
       "      <td>1</td>\n",
       "    </tr>\n",
       "  </tbody>\n",
       "</table>\n",
       "</div>"
      ],
      "text/plain": [
       "  relationship_type  left_only_keys  right_only_keys  left_size  right_size  \\\n",
       "0               1:N             189                0        190          53   \n",
       "\n",
       "   common_keys  \n",
       "0            1  "
      ]
     },
     "execution_count": 126,
     "metadata": {},
     "output_type": "execute_result"
    }
   ],
   "source": [
    "%%sql\n",
    "Select * from analyze_relationship('application.countries', 'application.state_provinces', 'country_id', 'country_id')"
   ]
  },
  {
   "cell_type": "markdown",
   "metadata": {},
   "source": [
    "**application.state_provinces and application.cities**"
   ]
  },
  {
   "cell_type": "code",
   "execution_count": 127,
   "metadata": {
    "vscode": {
     "languageId": "sql"
    }
   },
   "outputs": [
    {
     "data": {
      "text/html": [
       "<div>\n",
       "<style scoped>\n",
       "    .dataframe tbody tr th:only-of-type {\n",
       "        vertical-align: middle;\n",
       "    }\n",
       "\n",
       "    .dataframe tbody tr th {\n",
       "        vertical-align: top;\n",
       "    }\n",
       "\n",
       "    .dataframe thead th {\n",
       "        text-align: right;\n",
       "    }\n",
       "</style>\n",
       "<table border=\"1\" class=\"dataframe\">\n",
       "  <thead>\n",
       "    <tr style=\"text-align: right;\">\n",
       "      <th></th>\n",
       "      <th>relationship_type</th>\n",
       "      <th>left_only_keys</th>\n",
       "      <th>right_only_keys</th>\n",
       "      <th>left_size</th>\n",
       "      <th>right_size</th>\n",
       "      <th>common_keys</th>\n",
       "    </tr>\n",
       "  </thead>\n",
       "  <tbody>\n",
       "    <tr>\n",
       "      <th>0</th>\n",
       "      <td>1:N</td>\n",
       "      <td>0</td>\n",
       "      <td>0</td>\n",
       "      <td>53</td>\n",
       "      <td>37940</td>\n",
       "      <td>53</td>\n",
       "    </tr>\n",
       "  </tbody>\n",
       "</table>\n",
       "</div>"
      ],
      "text/plain": [
       "  relationship_type  left_only_keys  right_only_keys  left_size  right_size  \\\n",
       "0               1:N               0                0         53       37940   \n",
       "\n",
       "   common_keys  \n",
       "0           53  "
      ]
     },
     "execution_count": 127,
     "metadata": {},
     "output_type": "execute_result"
    }
   ],
   "source": [
    "%%sql\n",
    "Select * from analyze_relationship('application.state_provinces', 'application.cities', 'state_province_id', 'state_province_id')"
   ]
  },
  {
   "cell_type": "markdown",
   "metadata": {},
   "source": [
    "**application.delivery_methods and sales.customers**"
   ]
  },
  {
   "cell_type": "code",
   "execution_count": 128,
   "metadata": {
    "vscode": {
     "languageId": "sql"
    }
   },
   "outputs": [
    {
     "data": {
      "text/html": [
       "<div>\n",
       "<style scoped>\n",
       "    .dataframe tbody tr th:only-of-type {\n",
       "        vertical-align: middle;\n",
       "    }\n",
       "\n",
       "    .dataframe tbody tr th {\n",
       "        vertical-align: top;\n",
       "    }\n",
       "\n",
       "    .dataframe thead th {\n",
       "        text-align: right;\n",
       "    }\n",
       "</style>\n",
       "<table border=\"1\" class=\"dataframe\">\n",
       "  <thead>\n",
       "    <tr style=\"text-align: right;\">\n",
       "      <th></th>\n",
       "      <th>relationship_type</th>\n",
       "      <th>left_only_keys</th>\n",
       "      <th>right_only_keys</th>\n",
       "      <th>left_size</th>\n",
       "      <th>right_size</th>\n",
       "      <th>common_keys</th>\n",
       "    </tr>\n",
       "  </thead>\n",
       "  <tbody>\n",
       "    <tr>\n",
       "      <th>0</th>\n",
       "      <td>1:N</td>\n",
       "      <td>9</td>\n",
       "      <td>0</td>\n",
       "      <td>10</td>\n",
       "      <td>663</td>\n",
       "      <td>1</td>\n",
       "    </tr>\n",
       "  </tbody>\n",
       "</table>\n",
       "</div>"
      ],
      "text/plain": [
       "  relationship_type  left_only_keys  right_only_keys  left_size  right_size  \\\n",
       "0               1:N               9                0         10         663   \n",
       "\n",
       "   common_keys  \n",
       "0            1  "
      ]
     },
     "execution_count": 128,
     "metadata": {},
     "output_type": "execute_result"
    }
   ],
   "source": [
    "%%sql\n",
    "Select * from analyze_relationship('application.delivery_methods', 'sales.customers', 'delivery_method_id', 'delivery_method_id')"
   ]
  },
  {
   "cell_type": "markdown",
   "metadata": {},
   "source": [
    "**application.payment_methods and sales.customer_transactions**"
   ]
  },
  {
   "cell_type": "code",
   "execution_count": 129,
   "metadata": {
    "vscode": {
     "languageId": "sql"
    }
   },
   "outputs": [
    {
     "data": {
      "text/html": [
       "<div>\n",
       "<style scoped>\n",
       "    .dataframe tbody tr th:only-of-type {\n",
       "        vertical-align: middle;\n",
       "    }\n",
       "\n",
       "    .dataframe tbody tr th {\n",
       "        vertical-align: top;\n",
       "    }\n",
       "\n",
       "    .dataframe thead th {\n",
       "        text-align: right;\n",
       "    }\n",
       "</style>\n",
       "<table border=\"1\" class=\"dataframe\">\n",
       "  <thead>\n",
       "    <tr style=\"text-align: right;\">\n",
       "      <th></th>\n",
       "      <th>relationship_type</th>\n",
       "      <th>left_only_keys</th>\n",
       "      <th>right_only_keys</th>\n",
       "      <th>left_size</th>\n",
       "      <th>right_size</th>\n",
       "      <th>common_keys</th>\n",
       "    </tr>\n",
       "  </thead>\n",
       "  <tbody>\n",
       "    <tr>\n",
       "      <th>0</th>\n",
       "      <td>1:N</td>\n",
       "      <td>3</td>\n",
       "      <td>0</td>\n",
       "      <td>4</td>\n",
       "      <td>97147</td>\n",
       "      <td>1</td>\n",
       "    </tr>\n",
       "  </tbody>\n",
       "</table>\n",
       "</div>"
      ],
      "text/plain": [
       "  relationship_type  left_only_keys  right_only_keys  left_size  right_size  \\\n",
       "0               1:N               3                0          4       97147   \n",
       "\n",
       "   common_keys  \n",
       "0            1  "
      ]
     },
     "execution_count": 129,
     "metadata": {},
     "output_type": "execute_result"
    }
   ],
   "source": [
    "%%sql\n",
    "Select * from analyze_relationship('application.payment_methods', 'sales.customer_transactions', 'payment_method_id', 'payment_method_id')"
   ]
  },
  {
   "cell_type": "markdown",
   "metadata": {},
   "source": [
    "**application.transaction_types and sales.customer_transactions**"
   ]
  },
  {
   "cell_type": "code",
   "execution_count": 130,
   "metadata": {
    "vscode": {
     "languageId": "sql"
    }
   },
   "outputs": [
    {
     "data": {
      "text/html": [
       "<div>\n",
       "<style scoped>\n",
       "    .dataframe tbody tr th:only-of-type {\n",
       "        vertical-align: middle;\n",
       "    }\n",
       "\n",
       "    .dataframe tbody tr th {\n",
       "        vertical-align: top;\n",
       "    }\n",
       "\n",
       "    .dataframe thead th {\n",
       "        text-align: right;\n",
       "    }\n",
       "</style>\n",
       "<table border=\"1\" class=\"dataframe\">\n",
       "  <thead>\n",
       "    <tr style=\"text-align: right;\">\n",
       "      <th></th>\n",
       "      <th>relationship_type</th>\n",
       "      <th>left_only_keys</th>\n",
       "      <th>right_only_keys</th>\n",
       "      <th>left_size</th>\n",
       "      <th>right_size</th>\n",
       "      <th>common_keys</th>\n",
       "    </tr>\n",
       "  </thead>\n",
       "  <tbody>\n",
       "    <tr>\n",
       "      <th>0</th>\n",
       "      <td>1:N</td>\n",
       "      <td>11</td>\n",
       "      <td>0</td>\n",
       "      <td>13</td>\n",
       "      <td>97147</td>\n",
       "      <td>2</td>\n",
       "    </tr>\n",
       "  </tbody>\n",
       "</table>\n",
       "</div>"
      ],
      "text/plain": [
       "  relationship_type  left_only_keys  right_only_keys  left_size  right_size  \\\n",
       "0               1:N              11                0         13       97147   \n",
       "\n",
       "   common_keys  \n",
       "0            2  "
      ]
     },
     "execution_count": 130,
     "metadata": {},
     "output_type": "execute_result"
    }
   ],
   "source": [
    "%%sql\n",
    "Select * from analyze_relationship('application.transaction_types', 'sales.customer_transactions', 'transaction_type_id', 'transaction_type_id')"
   ]
  },
  {
   "cell_type": "markdown",
   "metadata": {},
   "source": [
    "**Key Observations:**\n",
    "\n",
    "- The application.countries table contains country_id values that are not present in application.state_provinces. This is normal, as not all countries are represented in state_provinces.\n",
    "- The application.delivery_methods table contains delivery_method_id values that are not present in the sales.customers table. This is also normal, as not all delivery methods may have been used.\n",
    "- The application.payment_methods table contains payment_method_id values that are not present in the sales.customer_transactions table. This is also normal, as not all payment methods may have been used.\n",
    "- The application.transaction_types table contains transaction_type_id values that are not present in the sales.customer_transactions table. This is also normal, as not all transaction types may have been used.\n",
    "- No critical anomalies were found."
   ]
  },
  {
   "cell_type": "markdown",
   "metadata": {},
   "source": [
    "#### Warehouse Schema"
   ]
  },
  {
   "cell_type": "markdown",
   "metadata": {},
   "source": [
    "**warehouse.stock_items and warehouse.stock_item_stock_groups**"
   ]
  },
  {
   "cell_type": "code",
   "execution_count": 131,
   "metadata": {
    "vscode": {
     "languageId": "sql"
    }
   },
   "outputs": [
    {
     "data": {
      "text/html": [
       "<div>\n",
       "<style scoped>\n",
       "    .dataframe tbody tr th:only-of-type {\n",
       "        vertical-align: middle;\n",
       "    }\n",
       "\n",
       "    .dataframe tbody tr th {\n",
       "        vertical-align: top;\n",
       "    }\n",
       "\n",
       "    .dataframe thead th {\n",
       "        text-align: right;\n",
       "    }\n",
       "</style>\n",
       "<table border=\"1\" class=\"dataframe\">\n",
       "  <thead>\n",
       "    <tr style=\"text-align: right;\">\n",
       "      <th></th>\n",
       "      <th>relationship_type</th>\n",
       "      <th>left_only_keys</th>\n",
       "      <th>right_only_keys</th>\n",
       "      <th>left_size</th>\n",
       "      <th>right_size</th>\n",
       "      <th>common_keys</th>\n",
       "    </tr>\n",
       "  </thead>\n",
       "  <tbody>\n",
       "    <tr>\n",
       "      <th>0</th>\n",
       "      <td>1:N</td>\n",
       "      <td>0</td>\n",
       "      <td>0</td>\n",
       "      <td>227</td>\n",
       "      <td>442</td>\n",
       "      <td>227</td>\n",
       "    </tr>\n",
       "  </tbody>\n",
       "</table>\n",
       "</div>"
      ],
      "text/plain": [
       "  relationship_type  left_only_keys  right_only_keys  left_size  right_size  \\\n",
       "0               1:N               0                0        227         442   \n",
       "\n",
       "   common_keys  \n",
       "0          227  "
      ]
     },
     "execution_count": 131,
     "metadata": {},
     "output_type": "execute_result"
    }
   ],
   "source": [
    "%%sql\n",
    "Select * from analyze_relationship('warehouse.stock_items', 'warehouse.stock_item_stock_groups', 'stock_item_id', 'stock_item_id')"
   ]
  },
  {
   "cell_type": "markdown",
   "metadata": {},
   "source": [
    "**warehouse.stock_groups and warehouse.stock_item_stock_groups**"
   ]
  },
  {
   "cell_type": "code",
   "execution_count": 132,
   "metadata": {
    "vscode": {
     "languageId": "sql"
    }
   },
   "outputs": [
    {
     "data": {
      "text/html": [
       "<div>\n",
       "<style scoped>\n",
       "    .dataframe tbody tr th:only-of-type {\n",
       "        vertical-align: middle;\n",
       "    }\n",
       "\n",
       "    .dataframe tbody tr th {\n",
       "        vertical-align: top;\n",
       "    }\n",
       "\n",
       "    .dataframe thead th {\n",
       "        text-align: right;\n",
       "    }\n",
       "</style>\n",
       "<table border=\"1\" class=\"dataframe\">\n",
       "  <thead>\n",
       "    <tr style=\"text-align: right;\">\n",
       "      <th></th>\n",
       "      <th>relationship_type</th>\n",
       "      <th>left_only_keys</th>\n",
       "      <th>right_only_keys</th>\n",
       "      <th>left_size</th>\n",
       "      <th>right_size</th>\n",
       "      <th>common_keys</th>\n",
       "    </tr>\n",
       "  </thead>\n",
       "  <tbody>\n",
       "    <tr>\n",
       "      <th>0</th>\n",
       "      <td>1:N</td>\n",
       "      <td>1</td>\n",
       "      <td>0</td>\n",
       "      <td>10</td>\n",
       "      <td>442</td>\n",
       "      <td>9</td>\n",
       "    </tr>\n",
       "  </tbody>\n",
       "</table>\n",
       "</div>"
      ],
      "text/plain": [
       "  relationship_type  left_only_keys  right_only_keys  left_size  right_size  \\\n",
       "0               1:N               1                0         10         442   \n",
       "\n",
       "   common_keys  \n",
       "0            9  "
      ]
     },
     "execution_count": 132,
     "metadata": {},
     "output_type": "execute_result"
    }
   ],
   "source": [
    "%%sql\n",
    "Select * from analyze_relationship('warehouse.stock_groups', 'warehouse.stock_item_stock_groups', 'stock_group_id', 'stock_group_id')"
   ]
  },
  {
   "cell_type": "markdown",
   "metadata": {},
   "source": [
    "**warehouse.stock_items and warehouse.colors**"
   ]
  },
  {
   "cell_type": "code",
   "execution_count": 133,
   "metadata": {
    "vscode": {
     "languageId": "sql"
    }
   },
   "outputs": [
    {
     "data": {
      "text/html": [
       "<div>\n",
       "<style scoped>\n",
       "    .dataframe tbody tr th:only-of-type {\n",
       "        vertical-align: middle;\n",
       "    }\n",
       "\n",
       "    .dataframe tbody tr th {\n",
       "        vertical-align: top;\n",
       "    }\n",
       "\n",
       "    .dataframe thead th {\n",
       "        text-align: right;\n",
       "    }\n",
       "</style>\n",
       "<table border=\"1\" class=\"dataframe\">\n",
       "  <thead>\n",
       "    <tr style=\"text-align: right;\">\n",
       "      <th></th>\n",
       "      <th>relationship_type</th>\n",
       "      <th>left_only_keys</th>\n",
       "      <th>right_only_keys</th>\n",
       "      <th>left_size</th>\n",
       "      <th>right_size</th>\n",
       "      <th>common_keys</th>\n",
       "    </tr>\n",
       "  </thead>\n",
       "  <tbody>\n",
       "    <tr>\n",
       "      <th>0</th>\n",
       "      <td>N:1</td>\n",
       "      <td>0</td>\n",
       "      <td>29</td>\n",
       "      <td>227</td>\n",
       "      <td>36</td>\n",
       "      <td>7</td>\n",
       "    </tr>\n",
       "  </tbody>\n",
       "</table>\n",
       "</div>"
      ],
      "text/plain": [
       "  relationship_type  left_only_keys  right_only_keys  left_size  right_size  \\\n",
       "0               N:1               0               29        227          36   \n",
       "\n",
       "   common_keys  \n",
       "0            7  "
      ]
     },
     "execution_count": 133,
     "metadata": {},
     "output_type": "execute_result"
    }
   ],
   "source": [
    "%%sql\n",
    "Select * from analyze_relationship('warehouse.stock_items', 'warehouse.colors', 'color_id', 'color_id')"
   ]
  },
  {
   "cell_type": "markdown",
   "metadata": {},
   "source": [
    "**warehouse.stock_items and warehouse.package_types (unit_package_id)**"
   ]
  },
  {
   "cell_type": "code",
   "execution_count": 134,
   "metadata": {
    "vscode": {
     "languageId": "sql"
    }
   },
   "outputs": [
    {
     "data": {
      "text/html": [
       "<div>\n",
       "<style scoped>\n",
       "    .dataframe tbody tr th:only-of-type {\n",
       "        vertical-align: middle;\n",
       "    }\n",
       "\n",
       "    .dataframe tbody tr th {\n",
       "        vertical-align: top;\n",
       "    }\n",
       "\n",
       "    .dataframe thead th {\n",
       "        text-align: right;\n",
       "    }\n",
       "</style>\n",
       "<table border=\"1\" class=\"dataframe\">\n",
       "  <thead>\n",
       "    <tr style=\"text-align: right;\">\n",
       "      <th></th>\n",
       "      <th>relationship_type</th>\n",
       "      <th>left_only_keys</th>\n",
       "      <th>right_only_keys</th>\n",
       "      <th>left_size</th>\n",
       "      <th>right_size</th>\n",
       "      <th>common_keys</th>\n",
       "    </tr>\n",
       "  </thead>\n",
       "  <tbody>\n",
       "    <tr>\n",
       "      <th>0</th>\n",
       "      <td>N:1</td>\n",
       "      <td>0</td>\n",
       "      <td>10</td>\n",
       "      <td>227</td>\n",
       "      <td>14</td>\n",
       "      <td>4</td>\n",
       "    </tr>\n",
       "  </tbody>\n",
       "</table>\n",
       "</div>"
      ],
      "text/plain": [
       "  relationship_type  left_only_keys  right_only_keys  left_size  right_size  \\\n",
       "0               N:1               0               10        227          14   \n",
       "\n",
       "   common_keys  \n",
       "0            4  "
      ]
     },
     "execution_count": 134,
     "metadata": {},
     "output_type": "execute_result"
    }
   ],
   "source": [
    "%%sql\n",
    "Select * from analyze_relationship('warehouse.stock_items', 'warehouse.package_types', 'unit_package_id', 'package_type_id')"
   ]
  },
  {
   "cell_type": "markdown",
   "metadata": {},
   "source": [
    "**warehouse.stock_items and warehouse.package_types (outer_package_id)**"
   ]
  },
  {
   "cell_type": "code",
   "execution_count": 135,
   "metadata": {
    "vscode": {
     "languageId": "sql"
    }
   },
   "outputs": [
    {
     "data": {
      "text/html": [
       "<div>\n",
       "<style scoped>\n",
       "    .dataframe tbody tr th:only-of-type {\n",
       "        vertical-align: middle;\n",
       "    }\n",
       "\n",
       "    .dataframe tbody tr th {\n",
       "        vertical-align: top;\n",
       "    }\n",
       "\n",
       "    .dataframe thead th {\n",
       "        text-align: right;\n",
       "    }\n",
       "</style>\n",
       "<table border=\"1\" class=\"dataframe\">\n",
       "  <thead>\n",
       "    <tr style=\"text-align: right;\">\n",
       "      <th></th>\n",
       "      <th>relationship_type</th>\n",
       "      <th>left_only_keys</th>\n",
       "      <th>right_only_keys</th>\n",
       "      <th>left_size</th>\n",
       "      <th>right_size</th>\n",
       "      <th>common_keys</th>\n",
       "    </tr>\n",
       "  </thead>\n",
       "  <tbody>\n",
       "    <tr>\n",
       "      <th>0</th>\n",
       "      <td>N:1</td>\n",
       "      <td>0</td>\n",
       "      <td>11</td>\n",
       "      <td>227</td>\n",
       "      <td>14</td>\n",
       "      <td>3</td>\n",
       "    </tr>\n",
       "  </tbody>\n",
       "</table>\n",
       "</div>"
      ],
      "text/plain": [
       "  relationship_type  left_only_keys  right_only_keys  left_size  right_size  \\\n",
       "0               N:1               0               11        227          14   \n",
       "\n",
       "   common_keys  \n",
       "0            3  "
      ]
     },
     "execution_count": 135,
     "metadata": {},
     "output_type": "execute_result"
    }
   ],
   "source": [
    "%%sql\n",
    "Select * from analyze_relationship('warehouse.stock_items', 'warehouse.package_types', 'outer_package_id', 'package_type_id')"
   ]
  },
  {
   "cell_type": "markdown",
   "metadata": {},
   "source": [
    "**Key Observations:**\n",
    "\n",
    "- The warehouse.stock_groups table contains stock_group_id values that are not present in warehouse.stock_item_stock_groups. This is normal, as not all stock groups may be represented.\n",
    "- The warehouse.colors table contains color_id values that are not present in the warehouse.stock_items table. This is also normal, as not all colors may be used.\n",
    "- The warehouse.package_types table contains package_type_id values that are not present in the warehouse.stock_items table. This is also normal, as not all package types may be used.\n",
    "- No critical anomalies were found."
   ]
  },
  {
   "cell_type": "markdown",
   "metadata": {},
   "source": [
    "# Designing the Analytical Database"
   ]
  },
  {
   "cell_type": "markdown",
   "metadata": {
    "vscode": {
     "languageId": "sql"
    }
   },
   "source": [
    "### Database Schema Selection"
   ]
  },
  {
   "cell_type": "markdown",
   "metadata": {
    "vscode": {
     "languageId": "sql"
    }
   },
   "source": [
    "Let's create an analytical database wwi_analytics for the dashboard."
   ]
  },
  {
   "cell_type": "markdown",
   "metadata": {
    "vscode": {
     "languageId": "sql"
    }
   },
   "source": [
    "To do this, we will transform the OLTP (current structure) to OLAP."
   ]
  },
  {
   "cell_type": "markdown",
   "metadata": {
    "vscode": {
     "languageId": "sql"
    }
   },
   "source": [
    "We will use a star schema as it is optimally suited for analytical databases."
   ]
  },
  {
   "cell_type": "markdown",
   "metadata": {
    "vscode": {
     "languageId": "sql"
    }
   },
   "source": [
    "Let's switch to the analytical database."
   ]
  },
  {
   "cell_type": "code",
   "execution_count": 136,
   "metadata": {
    "vscode": {
     "languageId": "sql"
    }
   },
   "outputs": [
    {
     "name": "stdout",
     "output_type": "stream",
     "text": [
      "Connected to dst\n"
     ]
    }
   ],
   "source": [
    "con('dst')"
   ]
  },
  {
   "cell_type": "markdown",
   "metadata": {
    "vscode": {
     "languageId": "sql"
    }
   },
   "source": [
    "Let's create a new schema where we will create the tables."
   ]
  },
  {
   "cell_type": "code",
   "execution_count": null,
   "metadata": {
    "vscode": {
     "languageId": "sql"
    }
   },
   "outputs": [
    {
     "data": {
      "text/html": [
       "<div>\n",
       "<style scoped>\n",
       "    .dataframe tbody tr th:only-of-type {\n",
       "        vertical-align: middle;\n",
       "    }\n",
       "\n",
       "    .dataframe tbody tr th {\n",
       "        vertical-align: top;\n",
       "    }\n",
       "\n",
       "    .dataframe thead th {\n",
       "        text-align: right;\n",
       "    }\n",
       "</style>\n",
       "<table border=\"1\" class=\"dataframe\">\n",
       "  <thead>\n",
       "    <tr style=\"text-align: right;\">\n",
       "      <th></th>\n",
       "    </tr>\n",
       "  </thead>\n",
       "  <tbody>\n",
       "  </tbody>\n",
       "</table>\n",
       "</div>"
      ],
      "text/plain": [
       "Empty DataFrame\n",
       "Columns: []\n",
       "Index: []"
      ]
     },
     "execution_count": 9,
     "metadata": {},
     "output_type": "execute_result"
    }
   ],
   "source": [
    "%%sql\n",
    "CREATE SCHEMA analytics;"
   ]
  },
  {
   "cell_type": "markdown",
   "metadata": {},
   "source": [
    "Install the dblink extension for communication between databases."
   ]
  },
  {
   "cell_type": "code",
   "execution_count": null,
   "metadata": {
    "vscode": {
     "languageId": "sql"
    }
   },
   "outputs": [
    {
     "data": {
      "text/html": [
       "<div>\n",
       "<style scoped>\n",
       "    .dataframe tbody tr th:only-of-type {\n",
       "        vertical-align: middle;\n",
       "    }\n",
       "\n",
       "    .dataframe tbody tr th {\n",
       "        vertical-align: top;\n",
       "    }\n",
       "\n",
       "    .dataframe thead th {\n",
       "        text-align: right;\n",
       "    }\n",
       "</style>\n",
       "<table border=\"1\" class=\"dataframe\">\n",
       "  <thead>\n",
       "    <tr style=\"text-align: right;\">\n",
       "      <th></th>\n",
       "    </tr>\n",
       "  </thead>\n",
       "  <tbody>\n",
       "  </tbody>\n",
       "</table>\n",
       "</div>"
      ],
      "text/plain": [
       "Empty DataFrame\n",
       "Columns: []\n",
       "Index: []"
      ]
     },
     "execution_count": 10,
     "metadata": {},
     "output_type": "execute_result"
    }
   ],
   "source": [
    "%%sql\n",
    "CREATE EXTENSION IF NOT EXISTS dblink;"
   ]
  },
  {
   "cell_type": "markdown",
   "metadata": {
    "vscode": {
     "languageId": "sql"
    }
   },
   "source": [
    "Form the connection string for dblink."
   ]
  },
  {
   "cell_type": "code",
   "execution_count": 11,
   "metadata": {},
   "outputs": [],
   "source": [
    "dblink_conn_str = f\"\"\"\n",
    "    host={src_db_config['host']} \n",
    "    dbname={src_db_config['db']} \n",
    "    user={src_db_config['user']} \n",
    "    password={src_db_config['pwd']}\n",
    "    port={src_db_config['port']}\n",
    "\"\"\""
   ]
  },
  {
   "cell_type": "markdown",
   "metadata": {},
   "source": [
    "## Dimension Tables"
   ]
  },
  {
   "cell_type": "markdown",
   "metadata": {},
   "source": [
    "### Customers"
   ]
  },
  {
   "cell_type": "markdown",
   "metadata": {},
   "source": [
    "Create a dimension table for customers."
   ]
  },
  {
   "cell_type": "code",
   "execution_count": null,
   "metadata": {},
   "outputs": [],
   "source": [
    "with wwi_analytics_engine.connect() as conn:\n",
    "    stmt = text(f\"\"\"\n",
    "        CREATE TABLE analytics.dim_customers AS\n",
    "        SELECT * FROM dblink(\n",
    "            '{dblink_conn_str}'\n",
    "            , 'SELECT \n",
    "                c.customer_id\n",
    "                , c.customer_name\n",
    "                , cc.customer_category_name\n",
    "                , ci.city_name\n",
    "                , sp.state_province_name\n",
    "                , CURRENT_DATE AS valid_from\n",
    "                , NULL::DATE AS valid_to\n",
    "                , TRUE AS current_record \n",
    "            FROM\n",
    "                sales.customers c\n",
    "                LEFT JOIN sales.customer_categories cc ON c.customer_category_id = cc.customer_category_id\n",
    "                LEFT JOIN application.cities ci ON c.delivery_city_id = ci.city_id\n",
    "                LEFT JOIN application.state_provinces sp ON ci.state_province_id = sp.state_province_id'\n",
    "        ) AS t(\n",
    "            customer_id INT\n",
    "            , customer_name TEXT\n",
    "            , customer_category_name TEXT\n",
    "            , city_name TEXT\n",
    "            , state_province_name TEXT\n",
    "            , valid_from DATE\n",
    "            , valid_to DATE\n",
    "            , current_record BOOLEAN            \n",
    "        );\n",
    "\n",
    "        ALTER TABLE analytics.dim_customers ADD PRIMARY KEY (customer_id);\n",
    "    \"\"\")\n",
    "    conn.execute(stmt)\n",
    "    conn.commit()"
   ]
  },
  {
   "cell_type": "markdown",
   "metadata": {},
   "source": [
    "### Products"
   ]
  },
  {
   "cell_type": "markdown",
   "metadata": {},
   "source": [
    "Create a dimension table for products."
   ]
  },
  {
   "cell_type": "code",
   "execution_count": null,
   "metadata": {
    "vscode": {
     "languageId": "sql"
    }
   },
   "outputs": [],
   "source": [
    "with wwi_analytics_engine.connect() as conn:\n",
    "    stmt = text(f\"\"\"\n",
    "        CREATE TABLE analytics.dim_products AS\n",
    "        SELECT * FROM dblink(\n",
    "            '{dblink_conn_str}'\n",
    "            , 'WITH stock_groups_agg AS (\n",
    "                SELECT \n",
    "                    sisg.stock_item_id\n",
    "                    , STRING_AGG(sg.stock_group_name, '', '') AS stock_group_names\n",
    "                FROM\n",
    "                    warehouse.stock_item_stock_groups sisg \n",
    "                    LEFT JOIN warehouse.stock_groups sg ON sisg.stock_group_id  = sg.stock_group_id\n",
    "                GROUP BY\n",
    "                    sisg.stock_item_id\n",
    "            )\n",
    "            SELECT \n",
    "                si.stock_item_id\n",
    "                , si.stock_item_name\n",
    "                , sg.stock_group_names\n",
    "                , c.color_name\n",
    "                , ptu.package_type_name AS unit_package_type_name\n",
    "                , pto.package_type_name AS outer_package_type_name\n",
    "                , si.brand\n",
    "                , si.size\n",
    "                , CURRENT_DATE AS valid_from\n",
    "                , NULL::DATE AS valid_to\n",
    "                , TRUE AS current_record                \n",
    "            FROM\n",
    "                warehouse.stock_items si\n",
    "                LEFT JOIN stock_groups_agg sg ON si.stock_item_id = sg.stock_item_id\n",
    "                LEFT JOIN warehouse.package_types ptu ON si.unit_package_id = ptu.package_type_id\n",
    "                LEFT JOIN warehouse.package_types pto ON si.outer_package_id = pto.package_type_id\n",
    "                LEFT JOIN warehouse.colors c ON c.color_id = si.color_id'\n",
    "        ) AS t(\n",
    "            stock_item_id INT\n",
    "            , stock_item_name TEXT\n",
    "            , stock_group_names TEXT\n",
    "            , color_name TEXT\n",
    "            , unit_package_type_name TEXT\n",
    "            , outer_package_type_name TEXT\n",
    "            , brand TEXT\n",
    "            , size TEXT\n",
    "            , valid_from DATE\n",
    "            , valid_to DATE\n",
    "            , current_record BOOLEAN\n",
    "        );\n",
    "\n",
    "        ALTER TABLE analytics.dim_products ADD PRIMARY KEY (stock_item_id)\n",
    "    \"\"\")\n",
    "    conn.execute(stmt)\n",
    "    conn.commit()"
   ]
  },
  {
   "cell_type": "markdown",
   "metadata": {},
   "source": [
    "### Dates"
   ]
  },
  {
   "cell_type": "markdown",
   "metadata": {},
   "source": [
    "Create a dimension table for dates.\n",
    "\n",
    "Select a range from 1 year before the minimum date in the database to 1 year after the maximum date in the database."
   ]
  },
  {
   "cell_type": "code",
   "execution_count": null,
   "metadata": {
    "vscode": {
     "languageId": "sql"
    }
   },
   "outputs": [],
   "source": [
    "with wwi_analytics_engine.connect() as conn:\n",
    "    stmt = text(f\"\"\"\n",
    "        CREATE TABLE analytics.dim_dates AS\n",
    "        SELECT * FROM dblink(\n",
    "            '{dblink_conn_str}'\n",
    "            , 'WITH date_range AS (\n",
    "                SELECT \n",
    "                    MIN(order_date) AS min_date\n",
    "                    , MAX(confirmed_delivery_time::DATE) AS max_date\n",
    "                FROM \n",
    "                    sales.orders o\n",
    "                JOIN \n",
    "                    sales.invoices i ON o.order_id = i.order_id\n",
    "            )\n",
    "            SELECT\n",
    "                date_series::DATE AS date_id\n",
    "                , EXTRACT(DAY FROM date_series)::INT AS day\n",
    "                , EXTRACT(MONTH FROM date_series)::INT AS month\n",
    "                , EXTRACT(YEAR FROM date_series)::INT AS year\n",
    "                , EXTRACT(QUARTER FROM date_series)::INT AS quarter\n",
    "                , EXTRACT(DOW FROM date_series)::INT + 1 AS day_of_week\n",
    "                , TO_CHAR(date_series, ''Day'') AS day_name\n",
    "                , EXTRACT(DOW FROM date_series) IN (0, 6) AS is_weekend\n",
    "                , TO_CHAR(date_series, ''Month'') AS month_name\n",
    "            FROM \n",
    "                GENERATE_SERIES(\n",
    "                    (SELECT min_date - INTERVAL ''1 year'' FROM date_range)\n",
    "                    , (SELECT max_date + INTERVAL ''1 year'' FROM date_range)\n",
    "                    , ''1 day''\n",
    "                ) AS date_series;'\n",
    "        ) AS t(\n",
    "            date_id DATE\n",
    "            , day INT\n",
    "            , month INT\n",
    "            , year INT\n",
    "            , quarter INT\n",
    "            , day_of_week INT\n",
    "            , day_name TEXT\n",
    "            , is_weekend BOOLEAN\n",
    "            , month_name TEXT\n",
    "        );\n",
    "\n",
    "        ALTER TABLE analytics.dim_dates ADD PRIMARY KEY (date_id)\n",
    "    \"\"\")\n",
    "    conn.execute(stmt)\n",
    "    conn.commit()"
   ]
  },
  {
   "cell_type": "markdown",
   "metadata": {},
   "source": [
    "### Delivery Methods"
   ]
  },
  {
   "cell_type": "markdown",
   "metadata": {},
   "source": [
    "Create a dimension table for delivery methods."
   ]
  },
  {
   "cell_type": "code",
   "execution_count": null,
   "metadata": {
    "vscode": {
     "languageId": "sql"
    }
   },
   "outputs": [],
   "source": [
    "with wwi_analytics_engine.connect() as conn:\n",
    "    stmt = text(f\"\"\"\n",
    "        CREATE TABLE analytics.dim_delivery_methods AS\n",
    "        SELECT * FROM dblink(\n",
    "            '{dblink_conn_str}'\n",
    "            , 'SELECT \n",
    "                delivery_method_id\n",
    "                , delivery_method_name\n",
    "            FROM\n",
    "                application.delivery_methods'\n",
    "        ) AS t(\n",
    "            delivery_method_id INT\n",
    "            , delivery_method_name TEXT\n",
    "        );\n",
    "\n",
    "        ALTER TABLE analytics.dim_delivery_methods ADD PRIMARY KEY (delivery_method_id)\n",
    "    \"\"\")\n",
    "    conn.execute(stmt)\n",
    "    conn.commit()"
   ]
  },
  {
   "cell_type": "markdown",
   "metadata": {
    "vscode": {
     "languageId": "sql"
    }
   },
   "source": [
    "## Fact Tables"
   ]
  },
  {
   "cell_type": "markdown",
   "metadata": {},
   "source": [
    "### Orders"
   ]
  },
  {
   "cell_type": "markdown",
   "metadata": {},
   "source": [
    "Create a fact table for orders."
   ]
  },
  {
   "cell_type": "code",
   "execution_count": null,
   "metadata": {
    "vscode": {
     "languageId": "sql"
    }
   },
   "outputs": [],
   "source": [
    "with wwi_analytics_engine.connect() as conn:\n",
    "    stmt = text(f\"\"\"\n",
    "        CREATE TABLE analytics.fact_orders AS\n",
    "        SELECT * FROM dblink(\n",
    "            '{dblink_conn_str}'\n",
    "            , 'SELECT \n",
    "                order_id\n",
    "                , customer_id\n",
    "                , order_date\n",
    "                , expected_delivery_date\n",
    "                , picking_completed_when\n",
    "            FROM\n",
    "                sales.orders'\n",
    "        ) AS t(\n",
    "            order_id INT\n",
    "            , customer_id INT\n",
    "            , order_date DATE\n",
    "            , expected_delivery_date DATE\n",
    "            , picking_completed_when TIMESTAMP\n",
    "        );\n",
    "\n",
    "        ALTER TABLE analytics.fact_orders ADD PRIMARY KEY (order_id);\n",
    "        ALTER TABLE analytics.fact_orders ADD CONSTRAINT fk_orders_customer \n",
    "            FOREIGN KEY (customer_id) REFERENCES analytics.dim_customers(customer_id);\n",
    "        ALTER TABLE analytics.fact_orders ADD CONSTRAINT fk_orders_date\n",
    "            FOREIGN KEY (order_date) REFERENCES analytics.dim_dates(date_id);\n",
    "        CREATE INDEX idx_fact_orders_customer ON analytics.fact_orders(customer_id);\n",
    "        CREATE INDEX idx_fact_orders_date ON analytics.fact_orders(order_date);        \n",
    "    \"\"\")\n",
    "    conn.execute(stmt)\n",
    "    conn.commit()"
   ]
  },
  {
   "cell_type": "markdown",
   "metadata": {
    "vscode": {
     "languageId": "sql"
    }
   },
   "source": [
    "### Invoices"
   ]
  },
  {
   "cell_type": "markdown",
   "metadata": {
    "vscode": {
     "languageId": "sql"
    }
   },
   "source": [
    "Create a fact table for invoices."
   ]
  },
  {
   "cell_type": "code",
   "execution_count": null,
   "metadata": {
    "vscode": {
     "languageId": "sql"
    }
   },
   "outputs": [],
   "source": [
    "with wwi_analytics_engine.connect() as conn:\n",
    "    stmt = text(f\"\"\"\n",
    "        CREATE TABLE analytics.fact_invoices AS\n",
    "        SELECT * FROM dblink(\n",
    "            '{dblink_conn_str}'\n",
    "            , 'WITH invoice_totals AS (\n",
    "                SELECT\n",
    "                    i.invoice_id\n",
    "                    , SUM(il.line_profit) AS invoice_profit\n",
    "                    , SUM(il.extended_price) AS invoice_amount\n",
    "                    , COUNT(il.invoice_line_id) AS invoice_lines_count\n",
    "                FROM\n",
    "                    sales.invoices i\n",
    "                    LEFT JOIN sales.invoice_lines il ON i.invoice_id = il.invoice_id\n",
    "                GROUP BY\n",
    "                    i.invoice_id\n",
    "            ),\n",
    "            payment_totals AS (\n",
    "                SELECT\n",
    "                    invoice_id\n",
    "                    , SUM(transaction_amount) AS paid_amount\n",
    "                FROM\n",
    "                    sales.customer_transactions\n",
    "                where \n",
    "                    is_finalized = TRUE\n",
    "                GROUP BY\n",
    "                    invoice_id\n",
    "            )\n",
    "            SELECT \n",
    "                i.invoice_id\n",
    "                , i.order_id\n",
    "                , pt.paid_amount\n",
    "                , i.invoice_date\n",
    "                , i.delivery_method_id\n",
    "                , i.confirmed_delivery_time\n",
    "                , i.returned_delivery_data    \n",
    "                , CASE WHEN i.confirmed_delivery_time IS NOT NULL THEN TRUE ELSE FALSE END AS is_delivered\n",
    "                , it.invoice_profit\n",
    "                , it.invoice_amount\n",
    "                , it.invoice_lines_count\n",
    "            FROM \n",
    "                sales.invoices i \n",
    "                LEFT JOIN invoice_totals it ON i.invoice_id = it.invoice_id\n",
    "                LEFT JOIN payment_totals pt ON it.invoice_id = pt.invoice_id;'\n",
    "        ) AS t(\n",
    "            invoice_id INT\n",
    "            , order_id INT\n",
    "            , paid_amount NUMERIC\n",
    "            , invoice_date DATE\n",
    "            , delivery_method_id INT\n",
    "            , confirmed_delivery_time TIMESTAMP\n",
    "            , returned_delivery_data TEXT\n",
    "            , is_delivered BOOLEAN\n",
    "            , invoice_profit NUMERIC\n",
    "            , invoice_amount NUMERIC\n",
    "            , invoice_lines_count INT\n",
    "        );\n",
    "\n",
    "        ALTER TABLE analytics.fact_invoices ADD PRIMARY KEY (invoice_id);\n",
    "        ALTER TABLE analytics.fact_invoices ADD CONSTRAINT fk_invoices_order \n",
    "            FOREIGN KEY (order_id) REFERENCES analytics.fact_orders(order_id);\n",
    "        ALTER TABLE analytics.fact_invoices ADD CONSTRAINT fk_invoice_delivery \n",
    "            FOREIGN KEY (delivery_method_id) REFERENCES analytics.dim_delivery_methods(delivery_method_id);\n",
    "        ALTER TABLE analytics.fact_invoices ADD CONSTRAINT fk_invoices_date\n",
    "            FOREIGN KEY (invoice_date) REFERENCES analytics.dim_dates(date_id);\n",
    "        CREATE INDEX idx_fact_invoices_order ON analytics.fact_invoices(order_id);\n",
    "        CREATE INDEX idx_fact_invoices_date ON analytics.fact_invoices(invoice_date);\n",
    "        CREATE INDEX idx_fact_invoices_delivery_status ON analytics.fact_invoices(is_delivered);\n",
    "        CREATE INDEX idx_fact_invoices_delivery_method ON analytics.fact_invoices(delivery_method_id);            \n",
    "    \"\"\")\n",
    "    conn.execute(stmt)\n",
    "    conn.commit()"
   ]
  },
  {
   "cell_type": "markdown",
   "metadata": {},
   "source": [
    "### Order Lines"
   ]
  },
  {
   "cell_type": "markdown",
   "metadata": {
    "vscode": {
     "languageId": "sql"
    }
   },
   "source": [
    "Create a fact table for order lines."
   ]
  },
  {
   "cell_type": "code",
   "execution_count": null,
   "metadata": {
    "vscode": {
     "languageId": "sql"
    }
   },
   "outputs": [],
   "source": [
    "with wwi_analytics_engine.connect() as conn:\n",
    "    stmt = text(f\"\"\"\n",
    "        CREATE TABLE analytics.fact_order_lines AS\n",
    "        SELECT * FROM dblink(\n",
    "            '{dblink_conn_str}'\n",
    "            , 'SELECT \n",
    "                ol.order_line_id\n",
    "                , o.order_id\n",
    "                , ol.stock_item_id\n",
    "                , ol.quantity\n",
    "                , ol.unit_price\n",
    "                , il.quantity AS il_quantity\n",
    "                , il.line_profit AS il_line_profit\n",
    "                , il.extended_price AS il_extended_price\n",
    "            FROM\n",
    "                sales.orders o\n",
    "                LEFT JOIN sales.order_lines ol ON o.order_id = ol.order_id\n",
    "                LEFT JOIN sales.invoices i ON i.order_id = o.order_id\n",
    "                LEFT JOIN sales.invoice_lines il ON i.invoice_id = il.invoice_id AND ol.stock_item_id = il.stock_item_id'\n",
    "        ) AS t(\n",
    "            order_line_id INT\n",
    "            , order_id INT\n",
    "            , stock_item_id INT\n",
    "            , quantity INT\n",
    "            , unit_price NUMERIC\n",
    "            , il_quantity INT\n",
    "            , il_line_profit NUMERIC\n",
    "            , il_extended_price NUMERIC\n",
    "        );\n",
    "\n",
    "        ALTER TABLE analytics.fact_order_lines ADD PRIMARY KEY (order_line_id);\n",
    "        ALTER TABLE analytics.fact_order_lines ADD CONSTRAINT fk_orderlines_order \n",
    "            FOREIGN KEY (order_id) REFERENCES analytics.fact_orders(order_id);\n",
    "        ALTER TABLE analytics.fact_order_lines ADD CONSTRAINT fk_orderlines_product \n",
    "            FOREIGN KEY (stock_item_id) REFERENCES analytics.dim_products(stock_item_id);      \n",
    "        CREATE INDEX idx_fact_order_lines_product ON analytics.fact_order_lines(stock_item_id);\n",
    "        CREATE INDEX idx_fact_order_lines_order ON analytics.fact_order_lines(order_id);  \n",
    "        CREATE INDEX idx_fact_order_lines_profit ON analytics.fact_order_lines(il_line_profit);             \n",
    "        CREATE INDEX idx_fact_order_extended_price ON analytics.fact_order_lines(il_extended_price);             \n",
    "    \"\"\")\n",
    "    conn.execute(stmt)\n",
    "    conn.commit()"
   ]
  },
  {
   "cell_type": "markdown",
   "metadata": {
    "vscode": {
     "languageId": "sql"
    }
   },
   "source": [
    "Update database statistics to ensure optimal query performance."
   ]
  },
  {
   "cell_type": "code",
   "execution_count": null,
   "metadata": {
    "vscode": {
     "languageId": "sql"
    }
   },
   "outputs": [
    {
     "data": {
      "text/html": [
       "<div>\n",
       "<style scoped>\n",
       "    .dataframe tbody tr th:only-of-type {\n",
       "        vertical-align: middle;\n",
       "    }\n",
       "\n",
       "    .dataframe tbody tr th {\n",
       "        vertical-align: top;\n",
       "    }\n",
       "\n",
       "    .dataframe thead th {\n",
       "        text-align: right;\n",
       "    }\n",
       "</style>\n",
       "<table border=\"1\" class=\"dataframe\">\n",
       "  <thead>\n",
       "    <tr style=\"text-align: right;\">\n",
       "      <th></th>\n",
       "    </tr>\n",
       "  </thead>\n",
       "  <tbody>\n",
       "  </tbody>\n",
       "</table>\n",
       "</div>"
      ],
      "text/plain": [
       "Empty DataFrame\n",
       "Columns: []\n",
       "Index: []"
      ]
     },
     "execution_count": 39,
     "metadata": {},
     "output_type": "execute_result"
    }
   ],
   "source": [
    "%%sql\n",
    "ANALYZE analytics.dim_customers;\n",
    "ANALYZE analytics.dim_products;\n",
    "ANALYZE analytics.dim_dates;\n",
    "ANALYZE analytics.dim_delivery_methods;\n",
    "ANALYZE analytics.fact_orders;\n",
    "ANALYZE analytics.fact_invoices;\n",
    "ANALYZE analytics.fact_order_lines;"
   ]
  },
  {
   "cell_type": "markdown",
   "metadata": {
    "vscode": {
     "languageId": "sql"
    }
   },
   "source": [
    "As a result, we obtained the following schema."
   ]
  },
  {
   "cell_type": "markdown",
   "metadata": {
    "vscode": {
     "languageId": "sql"
    }
   },
   "source": [
    "<img src=\"assets/er_analytics.png\" alt=\"\">"
   ]
  },
  {
   "cell_type": "markdown",
   "metadata": {},
   "source": [
    "# Creating Materialized Views"
   ]
  },
  {
   "cell_type": "markdown",
   "metadata": {},
   "source": [
    "To optimize data loading into the dashboard, let's create materialized views."
   ]
  },
  {
   "cell_type": "markdown",
   "metadata": {
    "vscode": {
     "languageId": "sql"
    }
   },
   "source": [
    "## Orders Materialized View"
   ]
  },
  {
   "cell_type": "markdown",
   "metadata": {
    "vscode": {
     "languageId": "sql"
    }
   },
   "source": [
    "Create a materialized view for all metrics at the order level."
   ]
  },
  {
   "cell_type": "code",
   "execution_count": null,
   "metadata": {
    "vscode": {
     "languageId": "sql"
    }
   },
   "outputs": [
    {
     "data": {
      "text/html": [
       "<div>\n",
       "<style scoped>\n",
       "    .dataframe tbody tr th:only-of-type {\n",
       "        vertical-align: middle;\n",
       "    }\n",
       "\n",
       "    .dataframe tbody tr th {\n",
       "        vertical-align: top;\n",
       "    }\n",
       "\n",
       "    .dataframe thead th {\n",
       "        text-align: right;\n",
       "    }\n",
       "</style>\n",
       "<table border=\"1\" class=\"dataframe\">\n",
       "  <thead>\n",
       "    <tr style=\"text-align: right;\">\n",
       "      <th></th>\n",
       "    </tr>\n",
       "  </thead>\n",
       "  <tbody>\n",
       "  </tbody>\n",
       "</table>\n",
       "</div>"
      ],
      "text/plain": [
       "Empty DataFrame\n",
       "Columns: []\n",
       "Index: []"
      ]
     },
     "execution_count": 20,
     "metadata": {},
     "output_type": "execute_result"
    }
   ],
   "source": [
    "%%sql\n",
    "CREATE MATERIALIZED VIEW analytics.mv_orders AS\n",
    "WITH invoices_agg AS (\n",
    "    SELECT\n",
    "        fi.order_id\n",
    "        , COUNT(fi.invoice_id) AS invoices_count\n",
    "        , SUM(fi.invoice_amount) AS amount\n",
    "        , SUM(fi.paid_amount) AS paid_amount\n",
    "        , SUM(fi.invoice_profit) AS profit\n",
    "        , STRING_AGG(DISTINCT ddm.delivery_method_name, ' | ' ORDER BY ddm.delivery_method_name) AS delivery_methods\n",
    "        , MIN(fi.invoice_date) AS first_invoice_date\n",
    "        , MAX(fi.invoice_date) AS last_invoice_date\n",
    "        , MIN(fi.confirmed_delivery_time) AS first_delivery_time\n",
    "        , MAX(fi.confirmed_delivery_time) AS last_delivery_time\n",
    "        , BOOL_OR(fi.is_delivered) AS is_any_delivered\n",
    "        , BOOL_AND(fi.is_delivered) AS is_all_delivered\n",
    "\t\t, SUM(CASE WHEN fi.is_delivered THEN fi.invoice_amount ELSE 0 END) AS delivered_amount\n",
    "\t\t, SUM(CASE WHEN fi.is_delivered THEN fi.paid_amount ELSE 0 END) AS paid_delivered_amount\n",
    "    FROM\n",
    "        analytics.fact_invoices fi\n",
    "        LEFT JOIN analytics.dim_delivery_methods ddm ON fi.delivery_method_id = ddm.delivery_method_id\n",
    "    GROUP BY\n",
    "        fi.order_id\n",
    "),\n",
    "order_lines_agg AS (\n",
    "    SELECT \n",
    "        fol.order_id\n",
    "        , COUNT(fol.order_line_id) AS order_lines_count\n",
    "        , SUM(fol.quantity) AS total_quantity\n",
    "        , COUNT(DISTINCT fol.stock_item_id) AS unique_products_count\n",
    "        , STRING_AGG(DISTINCT dp.stock_item_name, ' | ' ORDER BY dp.stock_item_name) AS products_list\n",
    "    FROM\n",
    "        analytics.fact_order_lines fol\n",
    "        LEFT JOIN analytics.dim_products dp \n",
    "        \tON fol.stock_item_id = dp.stock_item_id\n",
    "        \tAND dp.current_record = TRUE\n",
    "    GROUP BY\n",
    "        fol.order_id\n",
    "),\n",
    "last_delivery_attempts_per_invoice AS (\n",
    "    SELECT DISTINCT ON (fi.invoice_id)\n",
    "        fi.invoice_id,\n",
    "        fi.order_id,\n",
    "        fi.invoice_date,\n",
    "        (event->>'Latitude')::numeric AS delivery_latitude,\n",
    "        (event->>'Longitude')::numeric AS delivery_longitude\n",
    "    FROM\n",
    "        analytics.fact_invoices fi\n",
    "        CROSS JOIN LATERAL jsonb_array_elements(fi.returned_delivery_data::jsonb->'Events') AS event\n",
    "    WHERE \n",
    "        event->>'Event' = 'DeliveryAttempt'\n",
    "        AND event->>'Latitude' IS NOT NULL\n",
    "        AND event->>'Longitude' IS NOT NULL\n",
    "    ORDER BY \n",
    "        fi.invoice_id, \n",
    "        (event->>'EventTime')::timestamp DESC\n",
    "),\n",
    "last_delivery_coordinates_per_order AS (\n",
    "    SELECT DISTINCT ON (ldai.order_id)\n",
    "        ldai.order_id,\n",
    "        ldai.delivery_latitude AS last_delivery_latitude,\n",
    "        ldai.delivery_longitude AS last_delivery_longitude\n",
    "    FROM\n",
    "        last_delivery_attempts_per_invoice ldai\n",
    "    ORDER BY\n",
    "        ldai.order_id,\n",
    "        ldai.invoice_date DESC\n",
    ")\n",
    "SELECT\n",
    "    fo.order_id\n",
    "    , fo.order_date\n",
    "    , fo.expected_delivery_date\n",
    "    , fo.picking_completed_when\n",
    "    , fo.customer_id\n",
    "    , dc.customer_name\n",
    "    , dc.customer_category_name\n",
    "    , dc.state_province_name AS customer_state\n",
    "    , dc.city_name AS customer_city\n",
    "    -- Invoice\n",
    "    , ia.invoices_count\n",
    "    , ia.amount AS total_amount\n",
    "    , ia.paid_amount\n",
    "    , ia.profit\n",
    "    , ia.delivery_methods\n",
    "    , ia.first_invoice_date\n",
    "    , ia.last_invoice_date\n",
    "    , ia.first_delivery_time\n",
    "    , ia.last_delivery_time\n",
    "    , ia.is_any_delivered\n",
    "    , ia.is_all_delivered\n",
    "    , ia.delivered_amount\n",
    "    , ia.paid_delivered_amount\n",
    "    , ldco.last_delivery_latitude\n",
    "    , ldco.last_delivery_longitude    \n",
    "    -- Order_line\n",
    "    , ola.order_lines_count\n",
    "    , ola.total_quantity\n",
    "    , ola.unique_products_count\n",
    "    , ola.products_list\n",
    "    -- Calculated metrics\n",
    "    , ROUND((ia.paid_amount / NULLIF(ia.amount, 0)), 2) AS paid_share\n",
    "    , (ia.last_delivery_time::DATE - fo.order_date::DATE) AS days_to_delivery\n",
    "    , (ia.last_delivery_time::DATE - fo.expected_delivery_date::DATE) AS delivery_delay_days\n",
    "    , (fo.picking_completed_when::DATE - fo.order_date::DATE) AS days_to_picking\n",
    "    , (ia.last_delivery_time::DATE - fo.picking_completed_when::DATE) AS days_to_deliver_after_picking\n",
    "    , CASE\n",
    "        WHEN ia.last_delivery_time IS NULL OR fo.expected_delivery_date IS NULL THEN NULL  \n",
    "        WHEN ia.last_delivery_time::DATE > fo.expected_delivery_date::DATE THEN TRUE \n",
    "        ELSE FALSE \n",
    "    END AS is_late_delivery\n",
    "FROM\n",
    "    analytics.fact_orders fo\n",
    "    LEFT JOIN analytics.dim_customers dc \n",
    "    \tON fo.customer_id = dc.customer_id\n",
    "    \tAND dc.current_record = TRUE\n",
    "    LEFT JOIN invoices_agg ia ON fo.order_id = ia.order_id\n",
    "    LEFT JOIN order_lines_agg ola ON fo.order_id = ola.order_id\n",
    "    LEFT JOIN last_delivery_coordinates_per_order ldco ON fo.order_id = ldco.order_id;"
   ]
  },
  {
   "cell_type": "markdown",
   "metadata": {
    "vscode": {
     "languageId": "sql"
    }
   },
   "source": [
    "Create indexes to speed up dashboard performance."
   ]
  },
  {
   "cell_type": "code",
   "execution_count": null,
   "metadata": {
    "vscode": {
     "languageId": "sql"
    }
   },
   "outputs": [
    {
     "data": {
      "text/html": [
       "<div>\n",
       "<style scoped>\n",
       "    .dataframe tbody tr th:only-of-type {\n",
       "        vertical-align: middle;\n",
       "    }\n",
       "\n",
       "    .dataframe tbody tr th {\n",
       "        vertical-align: top;\n",
       "    }\n",
       "\n",
       "    .dataframe thead th {\n",
       "        text-align: right;\n",
       "    }\n",
       "</style>\n",
       "<table border=\"1\" class=\"dataframe\">\n",
       "  <thead>\n",
       "    <tr style=\"text-align: right;\">\n",
       "      <th></th>\n",
       "    </tr>\n",
       "  </thead>\n",
       "  <tbody>\n",
       "  </tbody>\n",
       "</table>\n",
       "</div>"
      ],
      "text/plain": [
       "Empty DataFrame\n",
       "Columns: []\n",
       "Index: []"
      ]
     },
     "execution_count": 21,
     "metadata": {},
     "output_type": "execute_result"
    }
   ],
   "source": [
    "%%sql\n",
    "CREATE INDEX idx_mv_orders_order_id ON analytics.mv_orders(order_id);\n",
    "CREATE INDEX idx_mv_orders_customer_id ON analytics.mv_orders(customer_id);\n",
    "CREATE INDEX idx_mv_orders_order_date ON analytics.mv_orders(order_date);\n",
    "CREATE INDEX idx_mv_orders_customer_state ON analytics.mv_orders(customer_state);\n",
    "CREATE INDEX idx_mv_orders_is_late_delivery ON analytics.mv_orders(is_late_delivery);\n",
    "CREATE INDEX idx_mv_orders_is_all_delivered ON analytics.mv_orders(is_all_delivered);"
   ]
  },
  {
   "cell_type": "markdown",
   "metadata": {},
   "source": [
    "## Products Materialized View"
   ]
  },
  {
   "cell_type": "markdown",
   "metadata": {},
   "source": [
    "Create a materialized view for all metrics at the product level."
   ]
  },
  {
   "cell_type": "code",
   "execution_count": null,
   "metadata": {
    "vscode": {
     "languageId": "sql"
    }
   },
   "outputs": [
    {
     "data": {
      "text/html": [
       "<div>\n",
       "<style scoped>\n",
       "    .dataframe tbody tr th:only-of-type {\n",
       "        vertical-align: middle;\n",
       "    }\n",
       "\n",
       "    .dataframe tbody tr th {\n",
       "        vertical-align: top;\n",
       "    }\n",
       "\n",
       "    .dataframe thead th {\n",
       "        text-align: right;\n",
       "    }\n",
       "</style>\n",
       "<table border=\"1\" class=\"dataframe\">\n",
       "  <thead>\n",
       "    <tr style=\"text-align: right;\">\n",
       "      <th></th>\n",
       "    </tr>\n",
       "  </thead>\n",
       "  <tbody>\n",
       "  </tbody>\n",
       "</table>\n",
       "</div>"
      ],
      "text/plain": [
       "Empty DataFrame\n",
       "Columns: []\n",
       "Index: []"
      ]
     },
     "execution_count": 9,
     "metadata": {},
     "output_type": "execute_result"
    }
   ],
   "source": [
    "%%sql\n",
    "CREATE MATERIALIZED VIEW analytics.mv_products AS\n",
    "WITH invoices_agg AS (\n",
    "    SELECT\n",
    "        fi.order_id\n",
    "        , BOOL_OR(fi.is_delivered) AS is_any_delivered\n",
    "    FROM\n",
    "        analytics.fact_invoices fi\n",
    "    GROUP BY\n",
    "        fi.order_id\n",
    ")\n",
    "SELECT\n",
    "\tfo.order_id\n",
    "\t, ia.is_any_delivered\n",
    "\t, fol.order_line_id\n",
    "\t, fol.stock_item_id\n",
    "\t, dp.stock_item_name\n",
    "\t, dp.stock_group_names\n",
    "\t, dp.color_name\n",
    "\t, dp.unit_package_type_name\n",
    "\t, dp.outer_package_type_name\n",
    "\t, dp.brand\n",
    "\t, dp.size\n",
    "\t, fo.order_date\n",
    "\t, fol.quantity\n",
    "\t, fol.unit_price\n",
    "\t, fol.il_quantity\n",
    "\t, fol.il_extended_price\n",
    "\t, fol.il_line_profit\n",
    "\t, dp.brand IS NOT NULL AS has_brand\n",
    "\t, dp.size IS NOT NULL AS has_size\n",
    "FROM\n",
    "\tanalytics.fact_orders fo \n",
    "\tLEFT JOIN invoices_agg ia ON fo.order_id = ia.order_id\n",
    "\tLEFT JOIN analytics.fact_order_lines fol ON fo.order_id = fol.order_id\n",
    "\tLEFT JOIN analytics.dim_products dp ON fol.stock_item_id =dp.stock_item_id\n",
    "\t\tAND dp.current_record = TRUE;"
   ]
  },
  {
   "cell_type": "markdown",
   "metadata": {},
   "source": [
    "Create indexes to speed up dashboard performance."
   ]
  },
  {
   "cell_type": "code",
   "execution_count": null,
   "metadata": {
    "vscode": {
     "languageId": "sql"
    }
   },
   "outputs": [
    {
     "data": {
      "text/html": [
       "<div>\n",
       "<style scoped>\n",
       "    .dataframe tbody tr th:only-of-type {\n",
       "        vertical-align: middle;\n",
       "    }\n",
       "\n",
       "    .dataframe tbody tr th {\n",
       "        vertical-align: top;\n",
       "    }\n",
       "\n",
       "    .dataframe thead th {\n",
       "        text-align: right;\n",
       "    }\n",
       "</style>\n",
       "<table border=\"1\" class=\"dataframe\">\n",
       "  <thead>\n",
       "    <tr style=\"text-align: right;\">\n",
       "      <th></th>\n",
       "    </tr>\n",
       "  </thead>\n",
       "  <tbody>\n",
       "  </tbody>\n",
       "</table>\n",
       "</div>"
      ],
      "text/plain": [
       "Empty DataFrame\n",
       "Columns: []\n",
       "Index: []"
      ]
     },
     "execution_count": 10,
     "metadata": {},
     "output_type": "execute_result"
    }
   ],
   "source": [
    "%%sql\n",
    "CREATE INDEX idx_mv_products_id ON analytics.mv_products(stock_item_id);\n",
    "CREATE INDEX idx_mv_products_name ON analytics.mv_products(stock_item_name);\n",
    "CREATE INDEX idx_mv_products_brand ON analytics.mv_products(brand);\n",
    "CREATE INDEX idx_mv_products_group ON analytics.mv_products(stock_group_names);"
   ]
  },
  {
   "cell_type": "markdown",
   "metadata": {},
   "source": [
    "# ETL Process (Airflow DAG)"
   ]
  },
  {
   "cell_type": "markdown",
   "metadata": {
    "vscode": {
     "languageId": "sql"
    }
   },
   "source": [
    "Create an Airflow DAG that will daily add data from the previous day to the analytical database."
   ]
  },
  {
   "cell_type": "markdown",
   "metadata": {
    "vscode": {
     "languageId": "sql"
    }
   },
   "source": [
    "To track changes in dimensions, we will use Slowly Changing Dimension Type 2."
   ]
  },
  {
   "cell_type": "code",
   "execution_count": null,
   "metadata": {},
   "outputs": [],
   "source": [
    "from datetime import datetime, timedelta\n",
    "from airflow.sdk import dag, task\n",
    "from airflow.providers.postgres.hooks.postgres import PostgresHook\n",
    "import pandas as pd\n",
    "import numpy as np\n",
    "import logging\n",
    "from typing import Union\n",
    "from sqlalchemy import text\n",
    "    \n",
    "# Constants\n",
    "SCHEMA_NAME = 'analytics'\n",
    "DIM_CUSTOMERS_TABLE = 'dim_customers'\n",
    "DIM_PRODUCTS_TABLE = 'dim_products'\n",
    "\n",
    "# SCD Configuration for Type 2 dimensions\n",
    "SCD_CONFIG = {\n",
    "    'customers': {\n",
    "        'id_column': 'customer_id',\n",
    "        'change_columns': ['customer_name', 'customer_category_name', 'city_name', 'state_province_name'],\n",
    "        'target_table': DIM_CUSTOMERS_TABLE\n",
    "    },\n",
    "    'products': {\n",
    "        'id_column': 'stock_item_id',\n",
    "        'change_columns': ['stock_item_name', 'stock_group_names', 'color_name',\n",
    "                          'unit_package_type_name', 'outer_package_type_name', 'brand', 'size'],\n",
    "        'target_table': DIM_PRODUCTS_TABLE\n",
    "    }\n",
    "}\n",
    "\n",
    "# Database connections\n",
    "SRC_DB_ID = 'neon_wwi'\n",
    "DST_DB_ID = 'neon_analytics'\n",
    "src_hook = PostgresHook(postgres_conn_id=SRC_DB_ID)\n",
    "dst_hook = PostgresHook(postgres_conn_id=DST_DB_ID)\n",
    "\n",
    "logger = logging.getLogger(__name__)\n",
    "\n",
    "\n",
    "default_args = {\n",
    "    'owner': 'analytics_team',\n",
    "    'depends_on_past': False,\n",
    "    'start_date': datetime(2025, 9, 25),\n",
    "    'retries': 2,\n",
    "    'retry_delay': timedelta(minutes=5),\n",
    "    'email_on_failure': True,\n",
    "    'email_on_retry': False,\n",
    "}\n",
    "\n",
    "dag_config = {\n",
    "    'default_args': default_args,\n",
    "    'description': 'Daily ETL pipeline for loading data from operational DB to analytics warehouse',\n",
    "    'schedule': '0 3 * * *', # Runs at 3 AM daily\n",
    "    'catchup': False,\n",
    "    'tags': ['analytics', 'etl'],\n",
    "    'max_active_runs': 1,\n",
    "    'doc_md': \"\"\"\\\n",
    "    # Analytics Daily ETL Pipeline\n",
    "\n",
    "    This DAG performs daily incremental load from operational database (WWI) to analytics data warehouse.\n",
    "\n",
    "    ## Main Tasks:\n",
    "    - Extract daily orders, invoices, and order lines\n",
    "    - Process SCD Type 2 for customer and product dimensions\n",
    "    - Load fact and dimension tables\n",
    "\n",
    "    ## Dependencies:\n",
    "    - Requires Postgres connections: `neon_wwi` and `neon_analytics`\n",
    "    \"\"\"\n",
    "}\n",
    "\n",
    "QUERY_EXTRACT_ORDERS = text(\"\"\"\n",
    "    SELECT\n",
    "        order_id\n",
    "        , customer_id\n",
    "        , order_date\n",
    "        , expected_delivery_date\n",
    "        , picking_completed_when\n",
    "    FROM\n",
    "        sales.orders\n",
    "    WHERE\n",
    "        order_date = :yesterday_ds\n",
    "\"\"\")\n",
    "\n",
    "QUERY_EXTRACT_INVOICES = text(\"\"\"\n",
    "    WITH invoice_totals AS (\n",
    "        SELECT\n",
    "            i.invoice_id\n",
    "            , SUM(il.line_profit) AS invoice_profit\n",
    "            , SUM(il.extended_price) AS invoice_amount\n",
    "            , COUNT(il.invoice_line_id) AS invoice_lines_count\n",
    "        FROM\n",
    "            sales.invoices i\n",
    "        LEFT JOIN sales.invoice_lines il ON i.invoice_id = il.invoice_id\n",
    "        WHERE\n",
    "            i.invoice_date = :yesterday_ds\n",
    "        GROUP BY\n",
    "            i.invoice_id\n",
    "    ),\n",
    "    payment_totals AS (\n",
    "        SELECT\n",
    "            invoice_id\n",
    "            , SUM(transaction_amount) AS paid_amount\n",
    "        FROM\n",
    "            sales.customer_transactions\n",
    "        WHERE\n",
    "            is_finalized = TRUE\n",
    "            AND invoice_id IN (\n",
    "                SELECT invoice_id\n",
    "                FROM sales.invoices\n",
    "                WHERE invoice_date = :yesterday_ds\n",
    "        )\n",
    "        GROUP BY\n",
    "            invoice_id\n",
    "    )\n",
    "    SELECT\n",
    "        i.invoice_id\n",
    "        , i.order_id\n",
    "        , COALESCE(pt.paid_amount, 0) AS paid_amount\n",
    "        , i.invoice_date\n",
    "        , i.delivery_method_id\n",
    "        , i.confirmed_delivery_time\n",
    "        , i.returned_delivery_data\n",
    "        , CASE WHEN i.confirmed_delivery_time IS NOT NULL THEN TRUE ELSE FALSE END AS is_delivered\n",
    "        , COALESCE(it.invoice_profit, 0) AS invoice_profit\n",
    "        , COALESCE(it.invoice_amount, 0) AS invoice_amount\n",
    "        , COALESCE(it.invoice_lines_count, 0) AS invoice_lines_count\n",
    "    FROM\n",
    "        sales.invoices i\n",
    "    LEFT JOIN invoice_totals it ON i.invoice_id = it.invoice_id\n",
    "    LEFT JOIN payment_totals pt ON i.invoice_id = pt.invoice_id\n",
    "    WHERE\n",
    "        i.invoice_date = :yesterday_ds\n",
    "\"\"\")\n",
    "\n",
    "QUERY_EXTRACT_ORDER_LINES = text(\"\"\"\n",
    "    SELECT\n",
    "        ol.order_line_id\n",
    "        , o.order_id\n",
    "        , ol.stock_item_id\n",
    "        , ol.quantity\n",
    "        , ol.unit_price\n",
    "        , il.quantity AS il_quantity\n",
    "        , il.line_profit AS il_line_profit\n",
    "        , il.extended_price AS il_extended_price\n",
    "    FROM\n",
    "        sales.orders o\n",
    "        LEFT JOIN sales.order_lines ol ON o.order_id = ol.order_id\n",
    "        LEFT JOIN sales.invoices i ON i.order_id = o.order_id\n",
    "        LEFT JOIN sales.invoice_lines il ON i.invoice_id = il.invoice_id AND ol.stock_item_id = il.stock_item_id\n",
    "    WHERE\n",
    "        o.order_date = :yesterday_ds\n",
    "\"\"\")\n",
    "\n",
    "QUERY_EXTRACT_CUSTOMERS_SRC = \"\"\"\n",
    "    SELECT\n",
    "        c.customer_id\n",
    "        , c.customer_name\n",
    "        , cc.customer_category_name\n",
    "        , ci.city_name\n",
    "        , sp.state_province_name\n",
    "    FROM\n",
    "        sales.customers c\n",
    "        LEFT JOIN sales.customer_categories cc\n",
    "            ON c.customer_category_id = cc.customer_category_id\n",
    "        LEFT JOIN application.cities ci\n",
    "            ON c.delivery_city_id = ci.city_id\n",
    "        LEFT JOIN application.state_provinces sp\n",
    "            ON ci.state_province_id = sp.state_province_id         \n",
    "\"\"\"\n",
    "\n",
    "QUERY_EXTRACT_CUSTOMERS_DST = \"\"\"\n",
    "    SELECT\n",
    "        *\n",
    "    FROM\n",
    "        analytics.dim_customers\n",
    "    WHERE\n",
    "        current_record = TRUE\n",
    "\"\"\"\n",
    "\n",
    "QUERY_EXTRACT_PRODUCTS_SRC = \"\"\"\n",
    "    WITH stock_groups_agg AS (\n",
    "        SELECT\n",
    "            sisg.stock_item_id\n",
    "            , STRING_AGG(sg.stock_group_name, ', ') AS stock_group_names\n",
    "        FROM\n",
    "            warehouse.stock_item_stock_groups sisg\n",
    "            LEFT JOIN warehouse.stock_groups sg\n",
    "                ON sisg.stock_group_id = sg.stock_group_id\n",
    "        GROUP\n",
    "            BY sisg.stock_item_id\n",
    "    )\n",
    "    SELECT\n",
    "        si.stock_item_id\n",
    "        , si.stock_item_name\n",
    "        , sg.stock_group_names\n",
    "        , c.color_name\n",
    "        , ptu.package_type_name AS unit_package_type_name\n",
    "        , pto.package_type_name AS outer_package_type_name\n",
    "        , si.brand\n",
    "        , si.size\n",
    "    FROM\n",
    "        warehouse.stock_items si\n",
    "        LEFT JOIN stock_groups_agg sg\n",
    "            ON si.stock_item_id = sg.stock_item_id\n",
    "        LEFT JOIN warehouse.package_types ptu\n",
    "            ON si.unit_package_id = ptu.package_type_id\n",
    "        LEFT JOIN warehouse.package_types pto\n",
    "            ON si.outer_package_id = pto.package_type_id\n",
    "        LEFT JOIN warehouse.colors c\n",
    "            ON c.color_id = si.color_id\n",
    "\"\"\"\n",
    "\n",
    "QUERY_EXTRACT_PRODUCTS_DST = \"\"\"\n",
    "    SELECT\n",
    "        *\n",
    "    FROM\n",
    "        analytics.dim_products\n",
    "    WHERE\n",
    "        current_record = TRUE\n",
    "\"\"\"\n",
    "\n",
    "def handle_etl_failure(context):\n",
    "    \"\"\"Enhanced error handling for ETL tasks\"\"\"\n",
    "    task_instance = context['task_instance']\n",
    "    exception = context.get('exception')\n",
    "    execution_date = context['execution_date']\n",
    "\n",
    "    logger.error(f\"ETL Task {task_instance.task_id} failed on {execution_date}\")\n",
    "    logger.error(f\"Exception: {str(exception)}\")\n",
    "    logger.error(f\"Task try number: {task_instance.try_number}\")\n",
    "\n",
    "    # Send email notification (uses Airflow's default email config)\n",
    "    try:\n",
    "        task_instance.email_on_failure(subject=f\"ETL Failure: {task_instance.task_id}\", html_content=None)\n",
    "    except Exception as e:\n",
    "        logger.error(f\"Failed to send failure email: {e}\")\n",
    "\n",
    "def safe_column_comparison(col1: pd.Series, col2: pd.Series) -> pd.Series:\n",
    "    \"\"\"\n",
    "    Safe column comparison handling NULL values appropriately\n",
    "    Returns boolean series indicating where values differ\n",
    "    \"\"\"\n",
    "    return (col1 != col2) & ~(col1.isna() & col2.isna())\n",
    "\n",
    "def detect_scd_type2_changes(source_df: pd.DataFrame, target_df: pd.DataFrame, entity_type: str) -> Union[pd.DataFrame, None]:\n",
    "    \"\"\"Detect changes for SCD Type 2 dimension processing\"\"\"\n",
    "    if source_df.empty:\n",
    "        logger.info(\"Source DataFrame is empty - no changes to process\")\n",
    "        return None\n",
    "\n",
    "    config = SCD_CONFIG[entity_type]\n",
    "    id_col = config['id_column']\n",
    "    change_cols = config['change_columns']\n",
    "\n",
    "    # Check duplicates\n",
    "    if source_df.duplicated(subset=[id_col]).any():\n",
    "        logger.warning(f\"Duplicate IDs found in source data for {entity_type}\")\n",
    "\n",
    "    source_df.rename(columns={id_col: f'{id_col}_src'}, inplace=True)\n",
    "    target_df.rename(columns={id_col: f'{id_col}_dst'}, inplace=True)\n",
    "\n",
    "    # Merge data\n",
    "    merged = source_df.merge(\n",
    "        target_df,\n",
    "        left_on=f'{id_col}_src',\n",
    "        right_on=f'{id_col}_dst',\n",
    "        suffixes=['_src', '_dst'],\n",
    "        how='left'\n",
    "    )\n",
    "\n",
    "    # Build conditions for changes\n",
    "    change_conditions = [merged[f'{id_col}_dst'].isna()]\n",
    "    for col in change_cols:\n",
    "        change_conditions.append(\n",
    "            safe_column_comparison(merged[f'{col}_src'], merged[f'{col}_dst'])\n",
    "        )\n",
    "\n",
    "    # Combine conditions\n",
    "    changes_mask = np.any(change_conditions, axis=0)\n",
    "    changes = merged[changes_mask]\n",
    "\n",
    "    if changes.empty:\n",
    "        logger.info(f\"No dimension changes detected for {id_col}\")\n",
    "        return None\n",
    "\n",
    "    # Prepare result\n",
    "    result_columns = {f'{id_col}_src': id_col}\n",
    "    for col in change_cols:\n",
    "        result_columns[f'{col}_src'] = col\n",
    "\n",
    "    result = changes[list(result_columns.keys())].rename(columns=result_columns)\n",
    "\n",
    "    # Add SCD metadata\n",
    "    result['valid_from'] = datetime.now().date()\n",
    "    result['valid_to'] = None\n",
    "    result['current_record'] = True\n",
    "    logger.info(f\"Detected {len(result)} changes for {id_col}\")\n",
    "    return result\n",
    "\n",
    "def validate_scd_data(df: pd.DataFrame, entity_type: str) -> bool:\n",
    "    \"\"\"Validate dimension data before loading\"\"\"\n",
    "    if df is None:\n",
    "        return True\n",
    "\n",
    "    config = SCD_CONFIG[entity_type]\n",
    "    id_col = config['id_column']\n",
    "\n",
    "    # Check required columns\n",
    "    required_columns = [id_col, 'valid_from', 'valid_to', 'current_record']\n",
    "    missing_columns = set(required_columns) - set(df.columns)\n",
    "    if missing_columns:\n",
    "        logger.error(f\"Missing required columns: {missing_columns}\")\n",
    "        return False\n",
    "\n",
    "    # Validate primary key\n",
    "    if df[id_col].isna().any():\n",
    "        logger.error(f\"NULL values found in primary key column: {id_col}\")\n",
    "        return False\n",
    "\n",
    "    # Check for duplicates\n",
    "    duplicate_ids = df[df.duplicated(subset=[id_col])]\n",
    "    if not duplicate_ids.empty:\n",
    "        logger.warning(f\"Found {len(duplicate_ids)} duplicate IDs in source data\")\n",
    "\n",
    "    return True\n",
    "\n",
    "def load_scd_type_2(changed_data: pd.DataFrame, entity_type: str) -> None:\n",
    "    \"\"\"Load dimension changes using SCD Type 2 approach\"\"\"\n",
    "    if changed_data is None or changed_data.empty:\n",
    "        logger.info(f\"No changes to load for {entity_type}\")\n",
    "        return\n",
    "\n",
    "    config = SCD_CONFIG[entity_type]\n",
    "    id_col = config['id_column']\n",
    "    table_name = f\"dim_{entity_type}\"\n",
    "\n",
    "    engine = dst_hook.get_sqlalchemy_engine()\n",
    "    try:\n",
    "        with engine.begin() as connection:\n",
    "            # Update existing records\n",
    "            ids = changed_data[id_col].tolist()\n",
    "            if ids:\n",
    "                update_sql = text(f\"\"\"\n",
    "                    UPDATE {SCHEMA_NAME}.{table_name}\n",
    "                    SET\n",
    "                        valid_to = CURRENT_DATE - INTERVAL '1 day'\n",
    "                        , current_record = FALSE\n",
    "                    WHERE\n",
    "                        {id_col} = ANY(:ids)\n",
    "                        AND current_record = TRUE\n",
    "                \"\"\")\n",
    "                \n",
    "                connection.execute(update_sql, {'ids': ids})\n",
    "                # Insert new records\n",
    "                changed_data.to_sql(\n",
    "                    table_name,\n",
    "                    connection,\n",
    "                    schema=SCHEMA_NAME,\n",
    "                    if_exists='append',\n",
    "                    index=False,\n",
    "                    method='multi'\n",
    "                )\n",
    "\n",
    "                logger.info(f\"Successfully loaded {len(ids)} new records for {entity_type}\")\n",
    "\n",
    "    except Exception as e:\n",
    "        logger.error(f\"Failed to load {entity_type} dimension: {str(e)}\")\n",
    "        raise\n",
    "\n",
    "@dag(**dag_config)\n",
    "def wwi_to_analytics_daily():\n",
    "\n",
    "    @task(\n",
    "        retries=3,\n",
    "        retry_delay=timedelta(minutes=5),\n",
    "        on_failure_callback=handle_etl_failure\n",
    "    )\n",
    "    def extract_orders(**context) -> pd.DataFrame:\n",
    "        \"\"\"Extracts daily orders data from source system for incremental processing.\"\"\"\n",
    "        logical_date = context['logical_date']\n",
    "        yesterday_ds = (logical_date - timedelta(days=1)).strftime('%Y-%m-%d')\n",
    "        result = src_hook.get_pandas_df(QUERY_EXTRACT_ORDERS, parameters={'yesterday_ds': yesterday_ds})\n",
    "        return result\n",
    "\n",
    "    @task(\n",
    "        retries=3,\n",
    "        retry_delay=timedelta(minutes=5),\n",
    "        on_failure_callback=handle_etl_failure\n",
    "    )\n",
    "    def extract_invoices(**context) -> pd.DataFrame:\n",
    "        \"\"\"Extracts invoice information with calculated totals and payment status for the processing date.\"\"\"\n",
    "        logical_date = context['logical_date']\n",
    "        yesterday_ds = (logical_date - timedelta(days=1)).strftime('%Y-%m-%d')        \n",
    "        result = src_hook.get_pandas_df(QUERY_EXTRACT_INVOICES, parameters={'yesterday_ds': yesterday_ds})\n",
    "        return result\n",
    "\n",
    "    @task(\n",
    "        retries=3,\n",
    "        retry_delay=timedelta(minutes=5),\n",
    "        on_failure_callback=handle_etl_failure\n",
    "    )\n",
    "    def extract_order_lines(**context) -> pd.DataFrame:\n",
    "        \"\"\"Extracts order line details with associated invoice information for daily sales analysis.\"\"\"\n",
    "        logical_date = context['logical_date']\n",
    "        yesterday_ds = (logical_date - timedelta(days=1)).strftime('%Y-%m-%d')           \n",
    "        result = src_hook.get_pandas_df(QUERY_EXTRACT_ORDER_LINES, parameters={'yesterday_ds': yesterday_ds})\n",
    "        return result\n",
    "\n",
    "    @task(\n",
    "        retries=3,\n",
    "        retry_delay=timedelta(minutes=5),\n",
    "        on_failure_callback=handle_etl_failure\n",
    "    )\n",
    "    def extract_customers_src() -> pd.DataFrame:\n",
    "        \"\"\"Extracts current customer master data including categories and geographical information from source.\"\"\"       \n",
    "        result = src_hook.get_pandas_df(QUERY_EXTRACT_CUSTOMERS_SRC)\n",
    "        return result\n",
    "\n",
    "    @task(\n",
    "        retries=3,\n",
    "        retry_delay=timedelta(minutes=5),\n",
    "        on_failure_callback=handle_etl_failure\n",
    "    )\n",
    "    def extract_customers_dst() -> pd.DataFrame:\n",
    "        \"\"\"Extracts existing customer dimension records from analytics warehouse for change detection.\"\"\"\n",
    "        result = dst_hook.get_pandas_df(QUERY_EXTRACT_CUSTOMERS_DST)\n",
    "        return result\n",
    "\n",
    "    @task(\n",
    "        retries=3,\n",
    "        retry_delay=timedelta(minutes=5),\n",
    "        on_failure_callback=handle_etl_failure\n",
    "    )\n",
    "    def extract_products_src() -> pd.DataFrame:\n",
    "        \"\"\"Extracts product master data with attributes and classifications from operational database.\"\"\"\n",
    "        result = src_hook.get_pandas_df(QUERY_EXTRACT_PRODUCTS_SRC)\n",
    "        return result\n",
    "\n",
    "    @task(\n",
    "        retries=3,\n",
    "        retry_delay=timedelta(minutes=5),\n",
    "        on_failure_callback=handle_etl_failure\n",
    "    )\n",
    "    def extract_products_dst() -> pd.DataFrame:\n",
    "        \"\"\"Extracts current product dimension records from data warehouse for SCD comparison.\"\"\"\n",
    "        result = dst_hook.get_pandas_df(QUERY_EXTRACT_PRODUCTS_DST)\n",
    "        return result\n",
    "\n",
    "    @task(\n",
    "        retries=3,\n",
    "        retry_delay=timedelta(minutes=5),\n",
    "        on_failure_callback=handle_etl_failure\n",
    "    )\n",
    "    def validate_source_data(df: pd.DataFrame, table_name: str) -> pd.DataFrame:\n",
    "        \"\"\"Basic data validation\"\"\"\n",
    "        if df.empty:\n",
    "            logger.error(f\"Empty DataFrame for {table_name}\")\n",
    "            raise ValueError(f\"Empty data for {table_name}\")\n",
    "\n",
    "        if df.isnull().any().any():\n",
    "            null_cols = df.columns[df.isnull().any()].tolist()\n",
    "            logger.warning(f\"NULL values found in columns: {null_cols}\")\n",
    "\n",
    "        if df.duplicated().any():\n",
    "            logger.warning(f\"Found {df.duplicated().sum()} duplicates in {table_name}\")\n",
    "\n",
    "        return df\n",
    "\n",
    "    @task(\n",
    "        retries=3,\n",
    "        retry_delay=timedelta(minutes=5),\n",
    "        on_failure_callback=handle_etl_failure\n",
    "    )\n",
    "    def transform_check_changed_customers(customers_src: pd.DataFrame, customers_dst: pd.DataFrame) -> Union[pd.DataFrame, None]:\n",
    "        \"\"\"Identifies customer dimension changes using SCD Type 2 logic for incremental updates.\"\"\"\n",
    "        return detect_scd_type2_changes(customers_src, customers_dst, 'customers')\n",
    "\n",
    "    @task(\n",
    "        retries=3,\n",
    "        retry_delay=timedelta(minutes=5),\n",
    "        on_failure_callback=handle_etl_failure\n",
    "    )\n",
    "    def transform_check_changed_products(products_src: pd.DataFrame, products_dst: pd.DataFrame) -> Union[pd.DataFrame, None]:\n",
    "        \"\"\"Identifies product dimension modifications requiring new version creation in the warehouse.\"\"\"\n",
    "        return detect_scd_type2_changes(products_src, products_dst, 'products')\n",
    "\n",
    "    @task(\n",
    "        retries=3,\n",
    "        retry_delay=timedelta(minutes=5),\n",
    "        on_failure_callback=handle_etl_failure\n",
    "    )\n",
    "    def load_fact_orders(df_orders: pd.DataFrame) -> None:\n",
    "        \"\"\"Load orders fact table\"\"\"\n",
    "        if df_orders.empty:\n",
    "            logger.info(\"No orders data to load\")\n",
    "            return\n",
    "        try:\n",
    "            engine = dst_hook.get_sqlalchemy_engine()\n",
    "            df_orders.to_sql(\n",
    "                'fact_orders',\n",
    "                engine,\n",
    "                schema=SCHEMA_NAME,\n",
    "                if_exists='append',\n",
    "                index=False,\n",
    "                method='multi'\n",
    "            )\n",
    "            logger.info(f\"Loaded {len(df_orders)} orders\")\n",
    "        except Exception as e:\n",
    "            logger.error(f\"Failed to load orders: {str(e)}\")\n",
    "            raise\n",
    "    \n",
    "    @task(\n",
    "        retries=3,\n",
    "        retry_delay=timedelta(minutes=5),\n",
    "        on_failure_callback=handle_etl_failure\n",
    "    )\n",
    "    def load_fact_invoices(df_invoices: pd.DataFrame) -> None:\n",
    "        \"\"\"Load invoices fact table\"\"\"\n",
    "        if df_invoices.empty:\n",
    "            logger.info(\"No invoices data to load\")\n",
    "            return\n",
    "        try:\n",
    "            engine = dst_hook.get_sqlalchemy_engine()\n",
    "            df_invoices.to_sql(\n",
    "                'fact_invoices',\n",
    "                engine,\n",
    "                schema=SCHEMA_NAME,\n",
    "                if_exists='append',\n",
    "                index=False,\n",
    "                method='multi'\n",
    "            )\n",
    "            logger.info(f\"Loaded {len(df_invoices)} invoices\")\n",
    "        except Exception as e:\n",
    "            logger.error(f\"Failed to load invoices: {str(e)}\")\n",
    "            raise\n",
    "        \n",
    "    @task(\n",
    "        retries=3,\n",
    "        retry_delay=timedelta(minutes=5),\n",
    "        on_failure_callback=handle_etl_failure\n",
    "    )\n",
    "    def load_fact_order_lines(df_order_lines: pd.DataFrame) -> None:\n",
    "        \"\"\"Load order lines fact table\"\"\"\n",
    "        if df_order_lines.empty:\n",
    "            logger.info(\"No order lines data to load\")\n",
    "            return\n",
    "        try:\n",
    "            engine = dst_hook.get_sqlalchemy_engine()\n",
    "            df_order_lines.to_sql(\n",
    "                'fact_order_lines',\n",
    "                engine,\n",
    "                schema=SCHEMA_NAME,\n",
    "                if_exists='append',\n",
    "                index=False,\n",
    "                method='multi'\n",
    "            )\n",
    "            logger.info(f\"Loaded {len(df_order_lines)} order lines\")\n",
    "        except Exception as e:\n",
    "            logger.error(f\"Failed to load order lines: {str(e)}\")\n",
    "            raise\n",
    "        \n",
    "    @task(\n",
    "        retries=3,\n",
    "        retry_delay=timedelta(minutes=5),\n",
    "        on_failure_callback=handle_etl_failure\n",
    "    )\n",
    "    def load_scd_type_2_customers(changed_customers: pd.DataFrame) -> None:\n",
    "        \"\"\"Loads customer dimension changes by closing old records and inserting new versions with validation.\"\"\"\n",
    "        if validate_scd_data(changed_customers, 'customers'):\n",
    "            load_scd_type_2(changed_customers, 'customers')\n",
    "\n",
    "    @task(\n",
    "        retries=3,\n",
    "        retry_delay=timedelta(minutes=5),\n",
    "        on_failure_callback=handle_etl_failure\n",
    "    )\n",
    "    def load_scd_type_2_products(changed_products: pd.DataFrame) -> None:\n",
    "        \"\"\"Applies product dimension updates using SCD Type 2 pattern with data quality checks.\"\"\"\n",
    "        if validate_scd_data(changed_products, 'products'):\n",
    "            load_scd_type_2(changed_products, 'products')\n",
    "\n",
    "    # ==========================================================================\n",
    "    # WORKFLOW\n",
    "    # ==========================================================================\n",
    "\n",
    "    # Extract\n",
    "    df_orders = extract_orders()\n",
    "    df_invoices = extract_invoices()\n",
    "    df_order_lines = extract_order_lines()\n",
    "\n",
    "    df_customers_src = extract_customers_src()\n",
    "    df_customers_dst = extract_customers_dst()\n",
    "    df_products_src = extract_products_src()\n",
    "    df_products_dst = extract_products_dst()\n",
    "\n",
    "    # Validate\n",
    "    df_orders_valid = validate_source_data(df_orders, \"orders\")\n",
    "    df_invoices_valid = validate_source_data(df_invoices, \"invoices\")\n",
    "    df_order_lines_valid = validate_source_data(df_order_lines, \"order_lines\")\n",
    "\n",
    "    # Transform\n",
    "    df_customers_changes = transform_check_changed_customers(df_customers_src, df_customers_dst)\n",
    "    df_products_changes = transform_check_changed_products(df_products_src, df_products_dst)\n",
    "\n",
    "    # Load facts\n",
    "    load_fact_orders(df_orders_valid)\n",
    "    load_fact_invoices(df_invoices_valid)\n",
    "    load_fact_order_lines(df_order_lines_valid)\n",
    "    \n",
    "    # Load dimensions\n",
    "    load_scd_type_2_customers(df_customers_changes)\n",
    "    load_scd_type_2_products(df_products_changes)\n",
    "\n",
    "# ==========================================================================\n",
    "# Instantiate the DAG\n",
    "# ==========================================================================\n",
    "\n",
    "wwi_to_analytics_daily()"
   ]
  },
  {
   "cell_type": "markdown",
   "metadata": {},
   "source": [
    "# Dashboard Canvas"
   ]
  },
  {
   "cell_type": "markdown",
   "metadata": {
    "vscode": {
     "languageId": "sql"
    }
   },
   "source": [
    "## Users and Context"
   ]
  },
  {
   "cell_type": "markdown",
   "metadata": {
    "vscode": {
     "languageId": "sql"
    }
   },
   "source": [
    "**Who will use it?**  \n",
    "- **Top Management**  \n",
    "- **Sales Managers**  \n",
    "- **Procurement and Logistics Specialists**  \n",
    "- **Financial Analysts**  \n",
    "\n",
    "**Roles, Tasks, and Interaction Context**  \n",
    "\n",
    "| Role                     | Tasks                                                                 | Usage Context                                                                 | Frequency       | Devices          | Interaction Time | Special Requirements                     |\n",
    "|--------------------------|-----------------------------------------------------------------------|-------------------------------------------------------------------------------|---------------|---------------------|------------------|----------------------------------------|\n",
    "| **Top Management**        | Strategic decisions, company KPI evaluation                          | Meetings, weekly reports, urgent requests                                       | 1-2 times/week | Laptop, projector   | 10-15 min            | High-level metrics, mobile access |\n",
    "| **Sales Managers** | Sales dynamics analysis, customer work                           | Daily monitoring, negotiation preparation                                       | Daily     | PC/laptop, tablet | 5-10 min             | Customer/region breakdown       |\n",
    "| **Procurement Specialists** | Inventory control, procurement planning                              | Operational work, pre-order checks                                    | Daily     | PC                  | 5-7 min              | Supplier data integration       |\n",
    "| **Financial Analysts**  | Profitability deep analysis, forecasting                        | Monthly report preparation, ad-hoc analysis                                            | 3-5 times/week   | PC (large screens) | 15-30 min            | Data export capability            |\n",
    "\n",
    "**Technical Context:**  \n",
    "- **Mobile version** is critical for CEO (viewing on the go).  \n",
    "- **Printable report versions** are needed for meetings (PDF export).  \n",
    "- **Email distribution** is not required (dashboard is live, data updates in real-time).  \n",
    " "
   ]
  },
  {
   "cell_type": "markdown",
   "metadata": {
    "vscode": {
     "languageId": "sql"
    }
   },
   "source": [
    "## Task Understanding"
   ]
  },
  {
   "cell_type": "markdown",
   "metadata": {
    "vscode": {
     "languageId": "sql"
    }
   },
   "source": [
    "**Main Dashboard Goal:**\n",
    "\n",
    "Create a single source of truth for monitoring WWI's key business metrics that:\n",
    "- Eliminates manual data collection from different systems\n",
    "- Reduces decision-making time\n",
    "- Enables real-time problem and opportunity identification\n",
    "\n",
    "**Why is this task important now?**\n",
    "- Business growth has complicated data analysis (Excel reports were sufficient before)\n",
    "- Increased number of regional branches requires unified control system\n",
    "- Competition demands faster response to market changes\n",
    "\n",
    "**User Expectations:**\n",
    "| Role | Main Expectations | Business Value |\n",
    "|------|------------------|-----------------|\n",
    "| **Top Management** | \"I want to see 3 key metrics in 30 seconds\" | Quick business status assessment |\n",
    "| **Sales Managers** | \"Need to quickly identify problem regions\" | Sales increase through targeted interventions |\n",
    "| **Logistics Specialists** | \"Automatic alerts for critical stock levels required\" | Preventing losses from stockouts |\n",
    "\n",
    "**How the dashboard will change company operations:**\n",
    "- Reduces weekly report preparation time\n",
    "- Enables identification of loss-making items\n",
    "- Increases response speed to market changes\n",
    "\n",
    "**Success Criteria:**\n",
    "- 90% of top management uses dashboard as primary data source\n",
    "- Decision-making time decreases\n",
    "- Number of manual requests to IT department reduces\n",
    "\n",
    "**When do we need to develop it?**\n",
    "- Development timeline: 2 weeks\n",
    "\n",
    "**How will we measure effectiveness?**\n",
    "- Weekly unique users\n",
    "- Average dashboard usage time\n",
    "- Reduction in manual report requests to IT\n",
    "- Feedback from key stakeholders"
   ]
  },
  {
   "cell_type": "markdown",
   "metadata": {
    "vscode": {
     "languageId": "sql"
    }
   },
   "source": [
    "## Metrics, Dimensions, and Data Sources"
   ]
  },
  {
   "cell_type": "markdown",
   "metadata": {
    "vscode": {
     "languageId": "sql"
    }
   },
   "source": [
    "**Order-level metrics**\n",
    "- Number of orders\n",
    "- Order amount\n",
    "- Line profit\n",
    "- Average order value\n",
    "- Average number of line items per order\n",
    "- Average number of products per order\n",
    "- Average product price in order\n",
    "- Order weight\n",
    "- Number of categories per order"
   ]
  },
  {
   "cell_type": "markdown",
   "metadata": {
    "vscode": {
     "languageId": "sql"
    }
   },
   "source": [
    "**Order-level dimensions**\n",
    "- Time (year, month, day of week, time of day, hour)\n",
    "- Top 3 packaging types/payment types/delivery methods"
   ]
  },
  {
   "cell_type": "markdown",
   "metadata": {
    "vscode": {
     "languageId": "sql"
    }
   },
   "source": [
    "**Customer-level metrics**\n",
    "- Number of customers\n",
    "- Number of new customers\n",
    "- New customer percentage\n",
    "- Purchase amount\n",
    "- Average order value\n",
    "- Average number of line items per order"
   ]
  },
  {
   "cell_type": "markdown",
   "metadata": {
    "vscode": {
     "languageId": "sql"
    }
   },
   "source": [
    "**Customer-level dimensions**\n",
    "- Customer category\n",
    "- Customer state\n",
    "- Customer city"
   ]
  },
  {
   "cell_type": "markdown",
   "metadata": {
    "vscode": {
     "languageId": "sql"
    }
   },
   "source": [
    "**Product-level metrics**\n",
    "- Number of units sold\n",
    "- Total product sales amount\n",
    "- Average sold product price\n",
    "- Average number of products per order"
   ]
  },
  {
   "cell_type": "markdown",
   "metadata": {
    "vscode": {
     "languageId": "sql"
    }
   },
   "source": [
    "**Product-level dimensions**\n",
    "- Product category\n",
    "- Product internal packaging type\n",
    "- Product external packaging type\n",
    "- Product colors"
   ]
  },
  {
   "cell_type": "markdown",
   "metadata": {
    "vscode": {
     "languageId": "sql"
    }
   },
   "source": [
    "**Delivery-level metrics**\n",
    "- Delivery time\n",
    "- Delivery delay/advance\n",
    "- Order picking time\n",
    "- Percentage of delayed orders\n",
    "- Picking time share of total delivery time"
   ]
  },
  {
   "cell_type": "markdown",
   "metadata": {
    "vscode": {
     "languageId": "sql"
    }
   },
   "source": [
    "**Delivery-level dimensions**\n",
    "- Whether order was delayed"
   ]
  },
  {
   "cell_type": "markdown",
   "metadata": {
    "vscode": {
     "languageId": "sql"
    }
   },
   "source": [
    "**Data Sources**\n",
    "\n",
    "- Orders Materialized View\n",
    "- Products Materialized View"
   ]
  },
  {
   "cell_type": "markdown",
   "metadata": {},
   "source": [
    "## Questions and Business Decisions"
   ]
  },
  {
   "cell_type": "markdown",
   "metadata": {
    "vscode": {
     "languageId": "sql"
    }
   },
   "source": [
    "- Sales Page\n",
    "    - What are the values for the last month, what is the trend over the last year, and what is the YoY change for the following metrics:\n",
    "        - Revenue\n",
    "        - Profit\n",
    "        - Number of sales\n",
    "        - Average order value\n",
    "    - What are the metric values by states and cities?\n",
    "    - What are the metric values by customer category?\n",
    "    - What are the metric values by order delay status?\n",
    "- Customers Page\n",
    "    - What are the values for the last month, what is the trend over the last year, and what is the YoY change for the following metrics:\n",
    "        - Number of customers\n",
    "        - ARPPU (Average Revenue Per Paying User)\n",
    "        - APC (Average Payment Count)\n",
    "        - Average number of products per order\n",
    "    - What are the metric values by states and cities?\n",
    "    - What are the metric values by customer category?\n",
    "- Products Page\n",
    "    - What are the values for the last month, what is the trend over the last year, and what is the YoY change for the following metrics:\n",
    "        - Average revenue per product\n",
    "        - Average profit per product\n",
    "        - Average number of units sold per product\n",
    "        - Average product price\n",
    "    - What are the metric values by product categories?\n",
    "    - What are the metric values by external and internal packaging types?\n",
    "- Delivery Page\n",
    "    - What are the values for the last month, what is the trend over the last year, and what is the YoY change for the following metrics:\n",
    "        - Average delivery time\n",
    "        - Percentage of delayed orders\n",
    "        - Average delivery delay\n",
    "        - Average order picking time\n",
    "    - What are the metric values by states and cities?"
   ]
  },
  {
   "cell_type": "markdown",
   "metadata": {
    "vscode": {
     "languageId": "sql"
    }
   },
   "source": [
    "## Visualizations for Questions"
   ]
  },
  {
   "cell_type": "markdown",
   "metadata": {},
   "source": [
    "- Sales Page\n",
    "    - KPI cards with sparklines for:\n",
    "        - Revenue\n",
    "        - Profit\n",
    "        - Number of sales\n",
    "        - Average order value\n",
    "    - Table with all metrics by states and cities with bar indicators for values\n",
    "    - Table with all metrics by delivery delay status with bar indicators for values\n",
    "    - Table with all metrics by customer category with bar indicators for values\n",
    "\n",
    "- Customers Page\n",
    "    - KPI cards with sparklines for:\n",
    "        - Number of customers\n",
    "        - ARPPU\n",
    "        - APC\n",
    "        - Average number of products per order\n",
    "    - Table with all metrics by states and cities with bar indicators for values\n",
    "    - Table with all metrics by customer category with bar indicators for values\n",
    "\n",
    "- Products Page\n",
    "    - KPI cards with sparklines for:\n",
    "        - Average revenue per product\n",
    "        - Average profit per product\n",
    "        - Average number of units sold per product\n",
    "        - Average product price\n",
    "    - Table with all metrics by product categories with bar indicators for values\n",
    "    - Table with all metrics by external and internal packaging types with bar indicators for values\n",
    "\n",
    "- Delivery Page\n",
    "    - KPI cards with sparklines for:\n",
    "        - Average delivery time\n",
    "        - Percentage of delayed orders\n",
    "        - Average delivery delay\n",
    "        - Average order picking time\n",
    "    - Table with all metrics by states and cities with bar indicators for values"
   ]
  },
  {
   "cell_type": "markdown",
   "metadata": {},
   "source": [
    "# Dashboard Mockup"
   ]
  },
  {
   "cell_type": "markdown",
   "metadata": {},
   "source": [
    "Based on the compiled Dashboard Canvas, we will create a dashboard mockup."
   ]
  },
  {
   "cell_type": "markdown",
   "metadata": {},
   "source": [
    "**Tab Sales**"
   ]
  },
  {
   "cell_type": "markdown",
   "metadata": {},
   "source": [
    "<img src=\"assets/dashboard_mockup_tab_sales.png\" alt=\"\">"
   ]
  },
  {
   "cell_type": "markdown",
   "metadata": {},
   "source": [
    "**Tab Customers**"
   ]
  },
  {
   "cell_type": "markdown",
   "metadata": {},
   "source": [
    "<img src=\"assets/dashboard_mockup_tab_customers.png\" alt=\"\">"
   ]
  },
  {
   "cell_type": "markdown",
   "metadata": {},
   "source": [
    "**Tab Products**"
   ]
  },
  {
   "cell_type": "markdown",
   "metadata": {},
   "source": [
    "<img src=\"assets/dashboard_mockup_tab_products.png\" alt=\"\">"
   ]
  },
  {
   "cell_type": "markdown",
   "metadata": {},
   "source": [
    "**Tab Delivery&Logistics**"
   ]
  },
  {
   "cell_type": "markdown",
   "metadata": {},
   "source": [
    "<img src=\"assets/dashboard_mockup_tab_delivery.png\" alt=\"\">"
   ]
  },
  {
   "cell_type": "markdown",
   "metadata": {},
   "source": [
    "# Compiling Brief Documentation for the Dashboard"
   ]
  },
  {
   "cell_type": "markdown",
   "metadata": {
    "vscode": {
     "languageId": "sql"
    }
   },
   "source": [
    "We will write brief documentation for the dashboard, which will be placed on a separate tab of the dashboard."
   ]
  },
  {
   "cell_type": "markdown",
   "metadata": {
    "vscode": {
     "languageId": "sql"
    }
   },
   "source": [
    "## General Information\n",
    "\n",
    "The WWI Business Performance Overview Dashboard provides comprehensive insights into sales performance, customer behavior, product analytics, and delivery operations within the Wide World Importers company. This tool enables data-driven decision making across multiple business dimensions.\n",
    "\n",
    "**Dashboard Owner:** Pavel Grigoryev\n",
    "\n",
    "**Data Coverage:** January 2013 - May 2016\n",
    "\n",
    "**Abbreviations:**\n",
    "\n",
    "| Abbreviation | Full Name                   |\n",
    "| :----------- | :-------------------------- |\n",
    "| **LM**       | Last Month                  |\n",
    "| **YoY**      | Year-over-Year              |\n",
    "| **AOV**      | Average Order Value         |\n",
    "| **ARPPU**    | Average Revenue Per Paying User |\n",
    "| **APC**      | Average Payment Count      |\n",
    "\n",
    "---\n",
    "\n",
    "## Tab Overview\n",
    "\n",
    "### Sales Tab\n",
    "\n",
    "**Key Metrics:**\n",
    "\n",
    "- **Revenue** - Total sales amount for the last month\n",
    "- **Profit** - Total profit generated for the last month\n",
    "- **Sales** - Total number of orders sold for the last month\n",
    "- **AOV** - Average Order Value for the last month\n",
    "\n",
    "*Each metric includes a monthly trend visualization (sparkline) for the last 12 months and the previous year, allowing for direct historical comparison.*\n",
    "\n",
    "**Detailed Breakdowns:**\n",
    "\n",
    "- By customer category\n",
    "- By delivery status (on-time vs delayed orders)\n",
    "- By state and city geographic regions\n",
    "\n",
    "### Customers Tab\n",
    "\n",
    "**Key Metrics:**\n",
    "\n",
    "- **Customers** - Total active customers for the last month\n",
    "- **ARPPU** - Average Revenue Per Paying User for the last month\n",
    "- **APC** - Average Purchase Count per customer for the last month\n",
    "- **Avg Items/Order** - Average Products per Order for the last month\n",
    "\n",
    "*Each metric includes a monthly trend visualization (sparkline) for the last 12 months and the previous year, allowing for direct historical comparison.*\n",
    "\n",
    "**Detailed Breakdowns:**\n",
    "\n",
    "- Customer metrics by state and city\n",
    "\n",
    "### Products Tab\n",
    "\n",
    "**Key Metrics:**\n",
    "\n",
    "- **Avg Product Revenue** - Average Revenue per Product for the last month\n",
    "- **Avg Product Profit** - Average Profit per Product for the last month\n",
    "- **Avg Items Sales** - Average Units Sold per Product for the last month\n",
    "- **Avg Unit Price** - Average Product Price for the last month\n",
    "\n",
    "*Each metric includes a monthly trend visualization (sparkline) for the last 12 months and the previous year, allowing for direct historical comparison.*\n",
    "\n",
    "**Detailed Breakdowns:**\n",
    "\n",
    "- By product category\n",
    "- By packaging type (internal/external packaging)\n",
    "\n",
    "### Delivery & Logistics Tab\n",
    "\n",
    "**Key Metrics:**\n",
    "\n",
    "- **Avg Delivery Days** - Mean time from order to delivery in days for the last month\n",
    "- **Delay Rate** - Percentage of orders delivered late for the last month\n",
    "- **Average Delay Days** - Mean lateness for delayed orders for the last month\n",
    "- **Avg Picking Days** - Mean Order picking time for the last month\n",
    "\n",
    "*Each metric includes a monthly trend visualization (sparkline) for the last 12 months and the previous year, allowing for direct historical comparison.*\n",
    "\n",
    "**Detailed Breakdowns:**\n",
    "\n",
    "- Performance by state and city regions\n",
    "\n",
    "---\n",
    "\n",
    "## Access Information\n",
    "\n",
    "**Access Level:** Available to all\n",
    "\n",
    "---\n",
    "\n",
    "## Data Sources & Technical Details\n",
    "\n",
    "**Data Sources:**\n",
    "\n",
    "- Data is sourced from the analytical database.\n",
    "- The dashboard connects to materialized views: analytics.mv\\_orders and analytics.mv\\_products.\n",
    "\n",
    "**Calculation Methodology:**\n",
    "\n",
    "- YoY (Year-over-Year) Growth: Calculated as (Metric Value for Last Month / Metric Value for Same Month Previous Year) - 1.\n",
    "- Sparkline Trends: Each monthly point on sparklines represents the YoY growth for that specific month, calculated as (Current Month Value / Same Month Previous Year Value) - 1, providing a continuous YoY comparison over the past 12 months.\n",
    "\n",
    "---\n",
    "\n",
    "## Frequently Asked Questions\n",
    "\n",
    "#### What does YoY mean and how is it calculated?\n",
    "\n",
    "YoY stands for Year-over-Year.\n",
    "\n",
    "- It is a key performance metric that compares a specific period (e.g., a month) to the exact same period in the previous year.\n",
    "- This eliminates seasonal effects and provides a clearer view of growth trends.\n",
    "\n",
    "It is calculated as:\n",
    "\n",
    "(Metric Value for Current Period / Metric Value for Same Period Previous Year) - 1\n",
    "\n",
    "#### How are delayed orders defined?\n",
    "\n",
    "An order is classified as delayed if the actual delivery date is later than the promised/scheduled delivery date.\n",
    "\n",
    "#### What is shown on the sparkline charts?\n",
    "\n",
    "The sparklines provide a visual history of a metric's performance:\n",
    "\n",
    "- The solid line represents the monthly values for the most recent 12-month period.\n",
    "- The shaded dashed line behind it represents the values for the same months from the previous year (a 12-month period offset by one year).\n",
    "\n",
    "This overlay allows for an instant visual comparison of current performance against the historical benchmark."
   ]
  },
  {
   "cell_type": "markdown",
   "metadata": {},
   "source": [
    "# Final Dashboard"
   ]
  },
  {
   "cell_type": "markdown",
   "metadata": {},
   "source": [
    "Based on the dashboard mockup, a dashboard was created using the BI tool Yandex DataLens."
   ]
  },
  {
   "cell_type": "markdown",
   "metadata": {},
   "source": [
    "The dashboard is available at the following link: [**WWI Business Performance Overview Dashboard**](https://datalens.yandex/42t45uco5jxup)"
   ]
  },
  {
   "cell_type": "markdown",
   "metadata": {},
   "source": [
    "Screenshots of the dashboard are provided below."
   ]
  },
  {
   "cell_type": "markdown",
   "metadata": {},
   "source": [
    "### 🛍️ Sales\n",
    "\n",
    "Main page with key sales metrics, YoY growth, and geographical distribution.\n",
    "\n",
    "<img src=\"assets/dashboard_tab_sales_1.png\" width=\"800\">\n",
    "\n",
    "<img src=\"assets/dashboard_tab_sales_2.png\" width=\"800\">\n",
    "\n",
    "### 👥 Customers\n",
    "\n",
    "Customer metrics.\n",
    "\n",
    "<img src=\"assets/dashboard_tab_customers_1.png\" width=\"800\">\n",
    "\n",
    "<img src=\"assets/dashboard_tab_customers_2.png\" width=\"800\">\n",
    "\n",
    "### 📦 Products\n",
    "\n",
    "Analyzes product performance. \n",
    "\n",
    "<img src=\"assets/dashboard_tab_products_1.png\" width=\"800\">\n",
    "\n",
    "<img src=\"assets/dashboard_tab_products_2.png\" width=\"800\">\n",
    "\n",
    "### 🚚 Delivery & Logistics\n",
    "\n",
    "Delivery time analysis, delay statistics, and operational efficiency.\n",
    "\n",
    "<img src=\"assets/dashboard_tab_delivery_1.png\" width=\"800\">\n",
    "\n",
    "<img src=\"assets/dashboard_tab_delivery_2.png\" width=\"800\">\n"
   ]
  },
  {
   "cell_type": "markdown",
   "metadata": {
    "vscode": {
     "languageId": "sql"
    }
   },
   "source": [
    "# General Conclusion"
   ]
  },
  {
   "cell_type": "markdown",
   "metadata": {
    "vscode": {
     "languageId": "sql"
    }
   },
   "source": [
    "## Achievements and Summary"
   ]
  },
  {
   "cell_type": "markdown",
   "metadata": {
    "vscode": {
     "languageId": "sql"
    }
   },
   "source": [
    "This project encompassed the full lifecycle of a business intelligence solution, from initial data exploration to deployment. Key achievements include:\n",
    "\n",
    "- End-to-End Pipeline Construction: Successfully deployed the WWI database in the cloud, engineered a star schema analytical data model, and developed automated SQL scripts for data transformation and loading.\n",
    "- Automation & Engineering: Designed and implemented an automated daily ETL process for incremental data updates.\n",
    "- Actionable Visualization: Developed a functional dashboard, connecting it to materialized views to provide intuitive access to critical KPIs for sales and delivery analysis."
   ]
  },
  {
   "cell_type": "markdown",
   "metadata": {
    "vscode": {
     "languageId": "sql"
    }
   },
   "source": [
    "## Business Value Delivered"
   ]
  },
  {
   "cell_type": "markdown",
   "metadata": {
    "vscode": {
     "languageId": "sql"
    }
   },
   "source": [
    "The implemented solution delivers direct value to WWI by enabling:\n",
    "\n",
    "- For Leadership: A high-level overview of business health and trends to guide strategic planning.\n",
    "- For Sales & Procurement Teams: The ability to analyze sales performance to optimize inventory and purchasing strategies.\n",
    "- For the Logistics Department: Tools to monitor delivery timelines, identifying bottlenecks and improving operational efficiency."
   ]
  }
 ],
 "metadata": {
  "kernelspec": {
   "display_name": "wwi-data-pipeline-dashboard-fJHShwdb-py3.13",
   "language": "python",
   "name": "python3"
  },
  "language_info": {
   "codemirror_mode": {
    "name": "ipython",
    "version": 3
   },
   "file_extension": ".py",
   "mimetype": "text/x-python",
   "name": "python",
   "nbconvert_exporter": "python",
   "pygments_lexer": "ipython3",
   "version": "3.13.7"
  }
 },
 "nbformat": 4,
 "nbformat_minor": 2
}
