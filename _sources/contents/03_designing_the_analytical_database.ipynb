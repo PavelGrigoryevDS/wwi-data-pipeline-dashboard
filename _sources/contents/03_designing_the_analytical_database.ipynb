{
 "cells": [
  {
   "cell_type": "markdown",
   "id": "eb874d41",
   "metadata": {},
   "source": [
    "# Designing the Analytical Database"
   ]
  },
  {
   "cell_type": "markdown",
   "id": "72dfa528",
   "metadata": {},
   "source": [
    "### Database Schema Selection"
   ]
  },
  {
   "cell_type": "markdown",
   "id": "427890e9",
   "metadata": {},
   "source": [
    "Let's create an analytical database wwi_analytics for the dashboard."
   ]
  },
  {
   "cell_type": "markdown",
   "id": "6b4f8beb",
   "metadata": {},
   "source": [
    "To do this, we will transform the OLTP (current structure) to OLAP."
   ]
  },
  {
   "cell_type": "markdown",
   "id": "c6a7c7d0",
   "metadata": {},
   "source": [
    "We will use a star schema as it is optimally suited for analytical databases."
   ]
  },
  {
   "cell_type": "markdown",
   "id": "c68a2e5b",
   "metadata": {},
   "source": [
    "Let's switch to the analytical database."
   ]
  },
  {
   "cell_type": "code",
   "execution_count": null,
   "id": "c342bc43",
   "metadata": {
    "vscode": {
     "languageId": "sql"
    }
   },
   "outputs": [
    {
     "name": "stdout",
     "output_type": "stream",
     "text": [
      "Connected to dst\n"
     ]
    }
   ],
   "source": [
    "con('dst')"
   ]
  },
  {
   "cell_type": "markdown",
   "id": "b05640f6",
   "metadata": {},
   "source": [
    "Let's create a new schema where we will create the tables."
   ]
  },
  {
   "cell_type": "code",
   "execution_count": null,
   "id": "9a0c4df2",
   "metadata": {
    "vscode": {
     "languageId": "sql"
    }
   },
   "outputs": [
    {
     "data": {
      "text/html": [
       "<div>\n",
       "<style scoped>\n",
       "    .dataframe tbody tr th:only-of-type {\n",
       "        vertical-align: middle;\n",
       "    }\n",
       "\n",
       "    .dataframe tbody tr th {\n",
       "        vertical-align: top;\n",
       "    }\n",
       "\n",
       "    .dataframe thead th {\n",
       "        text-align: right;\n",
       "    }\n",
       "</style>\n",
       "<table border=\"1\" class=\"dataframe\">\n",
       "  <thead>\n",
       "    <tr style=\"text-align: right;\">\n",
       "      <th></th>\n",
       "    </tr>\n",
       "  </thead>\n",
       "  <tbody>\n",
       "  </tbody>\n",
       "</table>\n",
       "</div>"
      ],
      "text/plain": [
       "Empty DataFrame\n",
       "Columns: []\n",
       "Index: []"
      ]
     },
     "metadata": {},
     "output_type": "display_data"
    }
   ],
   "source": [
    "%%sql\n",
    "CREATE SCHEMA analytics;"
   ]
  },
  {
   "cell_type": "markdown",
   "id": "d178677d",
   "metadata": {},
   "source": [
    "Install the dblink extension for communication between databases."
   ]
  },
  {
   "cell_type": "code",
   "execution_count": null,
   "id": "95a76aa1",
   "metadata": {
    "vscode": {
     "languageId": "sql"
    }
   },
   "outputs": [
    {
     "data": {
      "text/html": [
       "<div>\n",
       "<style scoped>\n",
       "    .dataframe tbody tr th:only-of-type {\n",
       "        vertical-align: middle;\n",
       "    }\n",
       "\n",
       "    .dataframe tbody tr th {\n",
       "        vertical-align: top;\n",
       "    }\n",
       "\n",
       "    .dataframe thead th {\n",
       "        text-align: right;\n",
       "    }\n",
       "</style>\n",
       "<table border=\"1\" class=\"dataframe\">\n",
       "  <thead>\n",
       "    <tr style=\"text-align: right;\">\n",
       "      <th></th>\n",
       "    </tr>\n",
       "  </thead>\n",
       "  <tbody>\n",
       "  </tbody>\n",
       "</table>\n",
       "</div>"
      ],
      "text/plain": [
       "Empty DataFrame\n",
       "Columns: []\n",
       "Index: []"
      ]
     },
     "metadata": {},
     "output_type": "display_data"
    }
   ],
   "source": [
    "%%sql\n",
    "CREATE EXTENSION IF NOT EXISTS dblink;"
   ]
  },
  {
   "cell_type": "markdown",
   "id": "4f922111",
   "metadata": {},
   "source": [
    "Form the connection string for dblink."
   ]
  },
  {
   "cell_type": "code",
   "execution_count": null,
   "id": "159dca22",
   "metadata": {},
   "outputs": [],
   "source": [
    "dblink_conn_str = f\"\"\"\n",
    "    host={src_db_config['host']} \n",
    "    dbname={src_db_config['db']} \n",
    "    user={src_db_config['user']} \n",
    "    password={src_db_config['pwd']}\n",
    "    port={src_db_config['port']}\n",
    "\"\"\""
   ]
  },
  {
   "cell_type": "markdown",
   "id": "77dddcb4",
   "metadata": {},
   "source": [
    "## Dimension Tables"
   ]
  },
  {
   "cell_type": "markdown",
   "id": "1765e471",
   "metadata": {},
   "source": [
    "### Customers"
   ]
  },
  {
   "cell_type": "markdown",
   "id": "f17e96e1",
   "metadata": {},
   "source": [
    "Create a dimension table for customers."
   ]
  },
  {
   "cell_type": "code",
   "execution_count": null,
   "id": "809838f4",
   "metadata": {},
   "outputs": [],
   "source": [
    "with wwi_analytics_engine.connect() as conn:\n",
    "    stmt = text(f\"\"\"\n",
    "        CREATE TABLE analytics.dim_customers AS\n",
    "        SELECT * FROM dblink(\n",
    "            '{dblink_conn_str}'\n",
    "            , 'SELECT \n",
    "                c.customer_id\n",
    "                , c.customer_name\n",
    "                , cc.customer_category_name\n",
    "                , ci.city_name\n",
    "                , sp.state_province_name\n",
    "                , CURRENT_DATE AS valid_from\n",
    "                , NULL::DATE AS valid_to\n",
    "                , TRUE AS current_record \n",
    "            FROM\n",
    "                sales.customers c\n",
    "                LEFT JOIN sales.customer_categories cc ON c.customer_category_id = cc.customer_category_id\n",
    "                LEFT JOIN application.cities ci ON c.delivery_city_id = ci.city_id\n",
    "                LEFT JOIN application.state_provinces sp ON ci.state_province_id = sp.state_province_id'\n",
    "        ) AS t(\n",
    "            customer_id INT\n",
    "            , customer_name TEXT\n",
    "            , customer_category_name TEXT\n",
    "            , city_name TEXT\n",
    "            , state_province_name TEXT\n",
    "            , valid_from DATE\n",
    "            , valid_to DATE\n",
    "            , current_record BOOLEAN            \n",
    "        );\n",
    "\n",
    "        ALTER TABLE analytics.dim_customers ADD PRIMARY KEY (customer_id);\n",
    "    \"\"\")\n",
    "    conn.execute(stmt)\n",
    "    conn.commit()"
   ]
  },
  {
   "cell_type": "markdown",
   "id": "9d2aa8cb",
   "metadata": {},
   "source": [
    "### Products"
   ]
  },
  {
   "cell_type": "markdown",
   "id": "d80b29d8",
   "metadata": {},
   "source": [
    "Create a dimension table for products."
   ]
  },
  {
   "cell_type": "code",
   "execution_count": null,
   "id": "6b337cc4",
   "metadata": {
    "vscode": {
     "languageId": "sql"
    }
   },
   "outputs": [],
   "source": [
    "with wwi_analytics_engine.connect() as conn:\n",
    "    stmt = text(f\"\"\"\n",
    "        CREATE TABLE analytics.dim_products AS\n",
    "        SELECT * FROM dblink(\n",
    "            '{dblink_conn_str}'\n",
    "            , 'WITH stock_groups_agg AS (\n",
    "                SELECT \n",
    "                    sisg.stock_item_id\n",
    "                    , STRING_AGG(sg.stock_group_name, '', '') AS stock_group_names\n",
    "                FROM\n",
    "                    warehouse.stock_item_stock_groups sisg \n",
    "                    LEFT JOIN warehouse.stock_groups sg ON sisg.stock_group_id  = sg.stock_group_id\n",
    "                GROUP BY\n",
    "                    sisg.stock_item_id\n",
    "            )\n",
    "            SELECT \n",
    "                si.stock_item_id\n",
    "                , si.stock_item_name\n",
    "                , sg.stock_group_names\n",
    "                , c.color_name\n",
    "                , ptu.package_type_name AS unit_package_type_name\n",
    "                , pto.package_type_name AS outer_package_type_name\n",
    "                , si.brand\n",
    "                , si.size\n",
    "                , CURRENT_DATE AS valid_from\n",
    "                , NULL::DATE AS valid_to\n",
    "                , TRUE AS current_record                \n",
    "            FROM\n",
    "                warehouse.stock_items si\n",
    "                LEFT JOIN stock_groups_agg sg ON si.stock_item_id = sg.stock_item_id\n",
    "                LEFT JOIN warehouse.package_types ptu ON si.unit_package_id = ptu.package_type_id\n",
    "                LEFT JOIN warehouse.package_types pto ON si.outer_package_id = pto.package_type_id\n",
    "                LEFT JOIN warehouse.colors c ON c.color_id = si.color_id'\n",
    "        ) AS t(\n",
    "            stock_item_id INT\n",
    "            , stock_item_name TEXT\n",
    "            , stock_group_names TEXT\n",
    "            , color_name TEXT\n",
    "            , unit_package_type_name TEXT\n",
    "            , outer_package_type_name TEXT\n",
    "            , brand TEXT\n",
    "            , size TEXT\n",
    "            , valid_from DATE\n",
    "            , valid_to DATE\n",
    "            , current_record BOOLEAN\n",
    "        );\n",
    "\n",
    "        ALTER TABLE analytics.dim_products ADD PRIMARY KEY (stock_item_id)\n",
    "    \"\"\")\n",
    "    conn.execute(stmt)\n",
    "    conn.commit()"
   ]
  },
  {
   "cell_type": "markdown",
   "id": "dcf34d67",
   "metadata": {},
   "source": [
    "### Dates"
   ]
  },
  {
   "cell_type": "markdown",
   "id": "ddf8ad98",
   "metadata": {},
   "source": [
    "Create a dimension table for dates.\n",
    "\n",
    "Select a range from 1 year before the minimum date in the database to 1 year after the maximum date in the database."
   ]
  },
  {
   "cell_type": "code",
   "execution_count": null,
   "id": "ee67f51a",
   "metadata": {
    "vscode": {
     "languageId": "sql"
    }
   },
   "outputs": [],
   "source": [
    "with wwi_analytics_engine.connect() as conn:\n",
    "    stmt = text(f\"\"\"\n",
    "        CREATE TABLE analytics.dim_dates AS\n",
    "        SELECT * FROM dblink(\n",
    "            '{dblink_conn_str}'\n",
    "            , 'WITH date_range AS (\n",
    "                SELECT \n",
    "                    MIN(order_date) AS min_date\n",
    "                    , MAX(confirmed_delivery_time::DATE) AS max_date\n",
    "                FROM \n",
    "                    sales.orders o\n",
    "                JOIN \n",
    "                    sales.invoices i ON o.order_id = i.order_id\n",
    "            )\n",
    "            SELECT\n",
    "                date_series::DATE AS date_id\n",
    "                , EXTRACT(DAY FROM date_series)::INT AS day\n",
    "                , EXTRACT(MONTH FROM date_series)::INT AS month\n",
    "                , EXTRACT(YEAR FROM date_series)::INT AS year\n",
    "                , EXTRACT(QUARTER FROM date_series)::INT AS quarter\n",
    "                , EXTRACT(DOW FROM date_series)::INT + 1 AS day_of_week\n",
    "                , TO_CHAR(date_series, ''Day'') AS day_name\n",
    "                , EXTRACT(DOW FROM date_series) IN (0, 6) AS is_weekend\n",
    "                , TO_CHAR(date_series, ''Month'') AS month_name\n",
    "            FROM \n",
    "                GENERATE_SERIES(\n",
    "                    (SELECT min_date - INTERVAL ''1 year'' FROM date_range)\n",
    "                    , (SELECT max_date + INTERVAL ''1 year'' FROM date_range)\n",
    "                    , ''1 day''\n",
    "                ) AS date_series;'\n",
    "        ) AS t(\n",
    "            date_id DATE\n",
    "            , day INT\n",
    "            , month INT\n",
    "            , year INT\n",
    "            , quarter INT\n",
    "            , day_of_week INT\n",
    "            , day_name TEXT\n",
    "            , is_weekend BOOLEAN\n",
    "            , month_name TEXT\n",
    "        );\n",
    "\n",
    "        ALTER TABLE analytics.dim_dates ADD PRIMARY KEY (date_id)\n",
    "    \"\"\")\n",
    "    conn.execute(stmt)\n",
    "    conn.commit()"
   ]
  },
  {
   "cell_type": "markdown",
   "id": "b8b82e79",
   "metadata": {},
   "source": [
    "### Delivery Methods"
   ]
  },
  {
   "cell_type": "markdown",
   "id": "4d3d378f",
   "metadata": {},
   "source": [
    "Create a dimension table for delivery methods."
   ]
  },
  {
   "cell_type": "code",
   "execution_count": null,
   "id": "a313e76d",
   "metadata": {
    "vscode": {
     "languageId": "sql"
    }
   },
   "outputs": [],
   "source": [
    "with wwi_analytics_engine.connect() as conn:\n",
    "    stmt = text(f\"\"\"\n",
    "        CREATE TABLE analytics.dim_delivery_methods AS\n",
    "        SELECT * FROM dblink(\n",
    "            '{dblink_conn_str}'\n",
    "            , 'SELECT \n",
    "                delivery_method_id\n",
    "                , delivery_method_name\n",
    "            FROM\n",
    "                application.delivery_methods'\n",
    "        ) AS t(\n",
    "            delivery_method_id INT\n",
    "            , delivery_method_name TEXT\n",
    "        );\n",
    "\n",
    "        ALTER TABLE analytics.dim_delivery_methods ADD PRIMARY KEY (delivery_method_id)\n",
    "    \"\"\")\n",
    "    conn.execute(stmt)\n",
    "    conn.commit()"
   ]
  },
  {
   "cell_type": "markdown",
   "id": "dcf6fbeb",
   "metadata": {},
   "source": [
    "## Fact Tables"
   ]
  },
  {
   "cell_type": "markdown",
   "id": "7175c7cd",
   "metadata": {},
   "source": [
    "### Orders"
   ]
  },
  {
   "cell_type": "markdown",
   "id": "f21a0891",
   "metadata": {},
   "source": [
    "Create a fact table for orders."
   ]
  },
  {
   "cell_type": "code",
   "execution_count": null,
   "id": "b34c6b73",
   "metadata": {
    "vscode": {
     "languageId": "sql"
    }
   },
   "outputs": [],
   "source": [
    "with wwi_analytics_engine.connect() as conn:\n",
    "    stmt = text(f\"\"\"\n",
    "        CREATE TABLE analytics.fact_orders AS\n",
    "        SELECT * FROM dblink(\n",
    "            '{dblink_conn_str}'\n",
    "            , 'SELECT \n",
    "                order_id\n",
    "                , customer_id\n",
    "                , order_date\n",
    "                , expected_delivery_date\n",
    "                , picking_completed_when\n",
    "            FROM\n",
    "                sales.orders'\n",
    "        ) AS t(\n",
    "            order_id INT\n",
    "            , customer_id INT\n",
    "            , order_date DATE\n",
    "            , expected_delivery_date DATE\n",
    "            , picking_completed_when TIMESTAMP\n",
    "        );\n",
    "\n",
    "        ALTER TABLE analytics.fact_orders ADD PRIMARY KEY (order_id);\n",
    "        ALTER TABLE analytics.fact_orders ADD CONSTRAINT fk_orders_customer \n",
    "            FOREIGN KEY (customer_id) REFERENCES analytics.dim_customers(customer_id);\n",
    "        ALTER TABLE analytics.fact_orders ADD CONSTRAINT fk_orders_date\n",
    "            FOREIGN KEY (order_date) REFERENCES analytics.dim_dates(date_id);\n",
    "        CREATE INDEX idx_fact_orders_customer ON analytics.fact_orders(customer_id);\n",
    "        CREATE INDEX idx_fact_orders_date ON analytics.fact_orders(order_date);        \n",
    "    \"\"\")\n",
    "    conn.execute(stmt)\n",
    "    conn.commit()"
   ]
  },
  {
   "cell_type": "markdown",
   "id": "f935df28",
   "metadata": {},
   "source": [
    "### Invoices"
   ]
  },
  {
   "cell_type": "markdown",
   "id": "3015bdd4",
   "metadata": {},
   "source": [
    "Create a fact table for invoices."
   ]
  },
  {
   "cell_type": "code",
   "execution_count": null,
   "id": "620c509d",
   "metadata": {
    "vscode": {
     "languageId": "sql"
    }
   },
   "outputs": [],
   "source": [
    "with wwi_analytics_engine.connect() as conn:\n",
    "    stmt = text(f\"\"\"\n",
    "        CREATE TABLE analytics.fact_invoices AS\n",
    "        SELECT * FROM dblink(\n",
    "            '{dblink_conn_str}'\n",
    "            , 'WITH invoice_totals AS (\n",
    "                SELECT\n",
    "                    i.invoice_id\n",
    "                    , SUM(il.line_profit) AS invoice_profit\n",
    "                    , SUM(il.extended_price) AS invoice_amount\n",
    "                    , COUNT(il.invoice_line_id) AS invoice_lines_count\n",
    "                FROM\n",
    "                    sales.invoices i\n",
    "                    LEFT JOIN sales.invoice_lines il ON i.invoice_id = il.invoice_id\n",
    "                GROUP BY\n",
    "                    i.invoice_id\n",
    "            ),\n",
    "            payment_totals AS (\n",
    "                SELECT\n",
    "                    invoice_id\n",
    "                    , SUM(transaction_amount) AS paid_amount\n",
    "                FROM\n",
    "                    sales.customer_transactions\n",
    "                where \n",
    "                    is_finalized = TRUE\n",
    "                GROUP BY\n",
    "                    invoice_id\n",
    "            )\n",
    "            SELECT \n",
    "                i.invoice_id\n",
    "                , i.order_id\n",
    "                , pt.paid_amount\n",
    "                , i.invoice_date\n",
    "                , i.delivery_method_id\n",
    "                , i.confirmed_delivery_time\n",
    "                , i.returned_delivery_data    \n",
    "                , CASE WHEN i.confirmed_delivery_time IS NOT NULL THEN TRUE ELSE FALSE END AS is_delivered\n",
    "                , it.invoice_profit\n",
    "                , it.invoice_amount\n",
    "                , it.invoice_lines_count\n",
    "            FROM \n",
    "                sales.invoices i \n",
    "                LEFT JOIN invoice_totals it ON i.invoice_id = it.invoice_id\n",
    "                LEFT JOIN payment_totals pt ON it.invoice_id = pt.invoice_id;'\n",
    "        ) AS t(\n",
    "            invoice_id INT\n",
    "            , order_id INT\n",
    "            , paid_amount NUMERIC\n",
    "            , invoice_date DATE\n",
    "            , delivery_method_id INT\n",
    "            , confirmed_delivery_time TIMESTAMP\n",
    "            , returned_delivery_data TEXT\n",
    "            , is_delivered BOOLEAN\n",
    "            , invoice_profit NUMERIC\n",
    "            , invoice_amount NUMERIC\n",
    "            , invoice_lines_count INT\n",
    "        );\n",
    "\n",
    "        ALTER TABLE analytics.fact_invoices ADD PRIMARY KEY (invoice_id);\n",
    "        ALTER TABLE analytics.fact_invoices ADD CONSTRAINT fk_invoices_order \n",
    "            FOREIGN KEY (order_id) REFERENCES analytics.fact_orders(order_id);\n",
    "        ALTER TABLE analytics.fact_invoices ADD CONSTRAINT fk_invoice_delivery \n",
    "            FOREIGN KEY (delivery_method_id) REFERENCES analytics.dim_delivery_methods(delivery_method_id);\n",
    "        ALTER TABLE analytics.fact_invoices ADD CONSTRAINT fk_invoices_date\n",
    "            FOREIGN KEY (invoice_date) REFERENCES analytics.dim_dates(date_id);\n",
    "        CREATE INDEX idx_fact_invoices_order ON analytics.fact_invoices(order_id);\n",
    "        CREATE INDEX idx_fact_invoices_date ON analytics.fact_invoices(invoice_date);\n",
    "        CREATE INDEX idx_fact_invoices_delivery_status ON analytics.fact_invoices(is_delivered);\n",
    "        CREATE INDEX idx_fact_invoices_delivery_method ON analytics.fact_invoices(delivery_method_id);            \n",
    "    \"\"\")\n",
    "    conn.execute(stmt)\n",
    "    conn.commit()"
   ]
  },
  {
   "cell_type": "markdown",
   "id": "82b1eecf",
   "metadata": {},
   "source": [
    "### Order Lines"
   ]
  },
  {
   "cell_type": "markdown",
   "id": "8d211187",
   "metadata": {},
   "source": [
    "Create a fact table for order lines."
   ]
  },
  {
   "cell_type": "code",
   "execution_count": null,
   "id": "318885da",
   "metadata": {
    "vscode": {
     "languageId": "sql"
    }
   },
   "outputs": [],
   "source": [
    "with wwi_analytics_engine.connect() as conn:\n",
    "    stmt = text(f\"\"\"\n",
    "        CREATE TABLE analytics.fact_order_lines AS\n",
    "        SELECT * FROM dblink(\n",
    "            '{dblink_conn_str}'\n",
    "            , 'SELECT \n",
    "                ol.order_line_id\n",
    "                , o.order_id\n",
    "                , ol.stock_item_id\n",
    "                , ol.quantity\n",
    "                , ol.unit_price\n",
    "                , il.quantity AS il_quantity\n",
    "                , il.line_profit AS il_line_profit\n",
    "                , il.extended_price AS il_extended_price\n",
    "            FROM\n",
    "                sales.orders o\n",
    "                LEFT JOIN sales.order_lines ol ON o.order_id = ol.order_id\n",
    "                LEFT JOIN sales.invoices i ON i.order_id = o.order_id\n",
    "                LEFT JOIN sales.invoice_lines il ON i.invoice_id = il.invoice_id AND ol.stock_item_id = il.stock_item_id'\n",
    "        ) AS t(\n",
    "            order_line_id INT\n",
    "            , order_id INT\n",
    "            , stock_item_id INT\n",
    "            , quantity INT\n",
    "            , unit_price NUMERIC\n",
    "            , il_quantity INT\n",
    "            , il_line_profit NUMERIC\n",
    "            , il_extended_price NUMERIC\n",
    "        );\n",
    "\n",
    "        ALTER TABLE analytics.fact_order_lines ADD PRIMARY KEY (order_line_id);\n",
    "        ALTER TABLE analytics.fact_order_lines ADD CONSTRAINT fk_orderlines_order \n",
    "            FOREIGN KEY (order_id) REFERENCES analytics.fact_orders(order_id);\n",
    "        ALTER TABLE analytics.fact_order_lines ADD CONSTRAINT fk_orderlines_product \n",
    "            FOREIGN KEY (stock_item_id) REFERENCES analytics.dim_products(stock_item_id);      \n",
    "        CREATE INDEX idx_fact_order_lines_product ON analytics.fact_order_lines(stock_item_id);\n",
    "        CREATE INDEX idx_fact_order_lines_order ON analytics.fact_order_lines(order_id);  \n",
    "        CREATE INDEX idx_fact_order_lines_profit ON analytics.fact_order_lines(il_line_profit);             \n",
    "        CREATE INDEX idx_fact_order_extended_price ON analytics.fact_order_lines(il_extended_price);             \n",
    "    \"\"\")\n",
    "    conn.execute(stmt)\n",
    "    conn.commit()"
   ]
  },
  {
   "cell_type": "markdown",
   "id": "b1604108",
   "metadata": {},
   "source": [
    "Update database statistics to ensure optimal query performance."
   ]
  },
  {
   "cell_type": "code",
   "execution_count": null,
   "id": "ae32d6d3",
   "metadata": {
    "vscode": {
     "languageId": "sql"
    }
   },
   "outputs": [
    {
     "data": {
      "text/html": [
       "<div>\n",
       "<style scoped>\n",
       "    .dataframe tbody tr th:only-of-type {\n",
       "        vertical-align: middle;\n",
       "    }\n",
       "\n",
       "    .dataframe tbody tr th {\n",
       "        vertical-align: top;\n",
       "    }\n",
       "\n",
       "    .dataframe thead th {\n",
       "        text-align: right;\n",
       "    }\n",
       "</style>\n",
       "<table border=\"1\" class=\"dataframe\">\n",
       "  <thead>\n",
       "    <tr style=\"text-align: right;\">\n",
       "      <th></th>\n",
       "    </tr>\n",
       "  </thead>\n",
       "  <tbody>\n",
       "  </tbody>\n",
       "</table>\n",
       "</div>"
      ],
      "text/plain": [
       "Empty DataFrame\n",
       "Columns: []\n",
       "Index: []"
      ]
     },
     "metadata": {},
     "output_type": "display_data"
    }
   ],
   "source": [
    "%%sql\n",
    "ANALYZE analytics.dim_customers;\n",
    "ANALYZE analytics.dim_products;\n",
    "ANALYZE analytics.dim_dates;\n",
    "ANALYZE analytics.dim_delivery_methods;\n",
    "ANALYZE analytics.fact_orders;\n",
    "ANALYZE analytics.fact_invoices;\n",
    "ANALYZE analytics.fact_order_lines;"
   ]
  },
  {
   "cell_type": "markdown",
   "id": "65e53197",
   "metadata": {},
   "source": [
    "As a result, we obtained the following schema."
   ]
  },
  {
   "cell_type": "markdown",
   "id": "c7adac5d",
   "metadata": {},
   "source": [
    "<img src=\"../assets/er_analytics.png\" alt=\"\">"
   ]
  }
 ],
 "metadata": {
  "language_info": {
   "name": "python"
  }
 },
 "nbformat": 4,
 "nbformat_minor": 5
}
