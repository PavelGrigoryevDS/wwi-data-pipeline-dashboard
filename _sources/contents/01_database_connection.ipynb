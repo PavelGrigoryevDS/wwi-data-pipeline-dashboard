{
 "cells": [
  {
   "cell_type": "markdown",
   "id": "7790e2af",
   "metadata": {},
   "source": [
    "# Database Connection"
   ]
  },
  {
   "cell_type": "markdown",
   "id": "186c8b8c",
   "metadata": {},
   "source": [
    "Let's create a connection string to the main database."
   ]
  },
  {
   "cell_type": "code",
   "execution_count": null,
   "id": "4e3d1d78",
   "metadata": {},
   "outputs": [],
   "source": [
    "src_db_config = {\n",
    "    'user': os.getenv('WWI_NEON_USER'),\n",
    "    'pwd': os.getenv('WWI_NEON_PASSWORD'),\n",
    "    'host': os.getenv('WWI_NEON_HOST'),\n",
    "    'port': 5432, \n",
    "    'db': os.getenv('WWI_NEON_DB'),\n",
    "    'sslmode': os.getenv('WWI_NEON_SSLMODE'),\n",
    "    'channel_binding': os.getenv('WWI_NEON_CHANNEL_BINDING')\n",
    "}\n",
    "\n",
    "connection_string_wwi = (\n",
    "    f\"postgresql://{src_db_config['user']}:{src_db_config['pwd']}\"\n",
    "    f\"@{src_db_config['host']}:{src_db_config['port']}/{src_db_config['db']}\"\n",
    "    f\"?sslmode={src_db_config['sslmode']}\"\n",
    "    f\"&channel_binding={src_db_config['channel_binding']}\"\n",
    ")"
   ]
  },
  {
   "cell_type": "markdown",
   "id": "0b4e7ed0",
   "metadata": {},
   "source": [
    "Let's create a connection string to the analytical database. It is currently empty; we will load data into it later."
   ]
  },
  {
   "cell_type": "code",
   "execution_count": null,
   "id": "e2702a21",
   "metadata": {},
   "outputs": [],
   "source": [
    "analytics_db_config = {\n",
    "    'user': os.getenv('WWI_ANALYTICS_NEON_USER'),\n",
    "    'pwd': os.getenv('WWI_ANALYTICS_NEON_PASSWORD'),\n",
    "    'host': os.getenv('WWI_ANALYTICS_NEON_HOST'),\n",
    "    'port': 5432, \n",
    "    'db': os.getenv('WWI_ANALYTICS_NEON_DB'),\n",
    "    'sslmode': os.getenv('WWI_ANALYTICS_NEON_SSLMODE'),\n",
    "    'channel_binding': os.getenv('WWI_ANALYTICS_NEON_CHANNEL_BINDING')\n",
    "}\n",
    "\n",
    "connection_string_wwi_analytics = (\n",
    "    f\"postgresql://{analytics_db_config['user']}:{analytics_db_config['pwd']}\"\n",
    "    f\"@{analytics_db_config['host']}:{analytics_db_config['port']}/{analytics_db_config['db']}\"\n",
    "    f\"?sslmode={analytics_db_config['sslmode']}\"\n",
    "    f\"&channel_binding={analytics_db_config['channel_binding']}\"\n",
    ")"
   ]
  },
  {
   "cell_type": "markdown",
   "id": "eec27d81",
   "metadata": {},
   "source": [
    "For the analytical database, we will need an engine; let's create it now."
   ]
  },
  {
   "cell_type": "code",
   "execution_count": null,
   "id": "1697b7a7",
   "metadata": {},
   "outputs": [],
   "source": [
    "wwi_analytics_engine = create_engine(\n",
    "    f\"postgresql://{analytics_db_config['user']}:{analytics_db_config['pwd']}\"\n",
    "    f\"@{analytics_db_config['host']}:{analytics_db_config['port']}/{analytics_db_config['db']}\"\n",
    "    , connect_args={\n",
    "        'sslmode': os.getenv('WWI_ANALYTICS_NEON_SSLMODE'),\n",
    "        'channel_binding': os.getenv('WWI_ANALYTICS_NEON_CHANNEL_BINDING')\n",
    "    }\n",
    ")"
   ]
  },
  {
   "cell_type": "markdown",
   "id": "03121b20",
   "metadata": {},
   "source": [
    "Let's create a function to connect to the required database."
   ]
  },
  {
   "cell_type": "code",
   "execution_count": null,
   "id": "81b331ad",
   "metadata": {},
   "outputs": [],
   "source": [
    "def con(db='src'):\n",
    "    \"\"\"\n",
    "    Connects to the specified database using SQL magic.\n",
    "    \n",
    "    Parameters:\n",
    "    -----------    \n",
    "    db (str): Database to connect to - 'src' for source or 'dst' for destination.\n",
    "                Defaults to 'src'.\n",
    "    \"\"\"\n",
    "    if db == 'src':\n",
    "        get_ipython().run_line_magic('sql', '$connection_string_wwi')\n",
    "        print(\"Connected to srс\")\n",
    "    elif db == 'dst':\n",
    "        get_ipython().run_line_magic('sql', '$connection_string_wwi_analytics')\n",
    "        print(\"Connected to dst\")\n",
    "    else:\n",
    "        raise ValueError(f\"Unknown database identifier: '{db}'. Use 'src' or 'dst'\")"
   ]
  },
  {
   "cell_type": "markdown",
   "id": "77abdcb6",
   "metadata": {},
   "source": [
    "Let's create a function to close the connection."
   ]
  },
  {
   "cell_type": "code",
   "execution_count": null,
   "id": "5e7ec02a",
   "metadata": {},
   "outputs": [],
   "source": [
    "def con_close(db='src'):\n",
    "    \"\"\"\n",
    "    Closes the database connection for the specified database.\n",
    "    \n",
    "    Parameters:\n",
    "    -----------\n",
    "    db (str): Database to close - 'src' for source or 'dst' for destination.\n",
    "                Defaults to 'src'.\n",
    "    \"\"\"\n",
    "    # Get expected hosts from environment\n",
    "    expected_hosts = {\n",
    "        'src': os.getenv('WWI_NEON_HOST'),\n",
    "        'dst': os.getenv('WWI_ANALYTICS_NEON_HOST')\n",
    "    }\n",
    "    \n",
    "    if db not in expected_hosts:\n",
    "        raise ValueError(f\"Unknown db '{db}'. Use 'src' or 'dst'\")\n",
    "    \n",
    "    # Get active connections\n",
    "    connections = get_ipython().run_line_magic('sql', '--connections')\n",
    "    \n",
    "    # Find matching connection\n",
    "    for url in connections.keys():\n",
    "        if expected_hosts[db] in url:\n",
    "            get_ipython().run_line_magic('sql', f'--close {url}')\n",
    "            print(f\"Connection closed for {db}\")\n",
    "            return\n",
    "    \n",
    "    print(f\"No active connection found for {db}\")"
   ]
  },
  {
   "cell_type": "markdown",
   "id": "3c1707ea",
   "metadata": {},
   "source": [
    "Let's open connections to both databases for work."
   ]
  },
  {
   "cell_type": "code",
   "execution_count": null,
   "id": "91ba8c10",
   "metadata": {},
   "outputs": [
    {
     "name": "stdout",
     "output_type": "stream",
     "text": [
      "Connected to srс\n"
     ]
    }
   ],
   "source": [
    "con('src')"
   ]
  },
  {
   "cell_type": "code",
   "execution_count": null,
   "id": "ae1e954d",
   "metadata": {},
   "outputs": [
    {
     "name": "stdout",
     "output_type": "stream",
     "text": [
      "Connected to dst\n"
     ]
    }
   ],
   "source": [
    "con('dst')"
   ]
  }
 ],
 "metadata": {
  "language_info": {
   "name": "python"
  }
 },
 "nbformat": 4,
 "nbformat_minor": 5
}
