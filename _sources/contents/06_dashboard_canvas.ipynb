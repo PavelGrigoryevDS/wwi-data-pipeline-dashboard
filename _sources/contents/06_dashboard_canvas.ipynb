{
 "cells": [
  {
   "cell_type": "markdown",
   "id": "c45e0b80",
   "metadata": {},
   "source": [
    "# Dashboard Canvas"
   ]
  },
  {
   "cell_type": "markdown",
   "id": "c7bc9e63",
   "metadata": {},
   "source": [
    "## Users and Context"
   ]
  },
  {
   "cell_type": "markdown",
   "id": "51c3fd55",
   "metadata": {},
   "source": [
    "**Who will use it?**  \n",
    "- **Top Management**  \n",
    "- **Sales Managers**  \n",
    "- **Procurement and Logistics Specialists**  \n",
    "- **Financial Analysts**  \n",
    "\n",
    "**Roles, Tasks, and Interaction Context**  \n",
    "\n",
    "| Role                     | Tasks                                                                 | Usage Context                                                                 | Frequency       | Devices          | Interaction Time | Special Requirements                     |\n",
    "|--------------------------|-----------------------------------------------------------------------|-------------------------------------------------------------------------------|---------------|---------------------|------------------|----------------------------------------|\n",
    "| **Top Management**        | Strategic decisions, company KPI evaluation                          | Meetings, weekly reports, urgent requests                                       | 1-2 times/week | Laptop, projector   | 10-15 min            | High-level metrics, mobile access |\n",
    "| **Sales Managers** | Sales dynamics analysis, customer work                           | Daily monitoring, negotiation preparation                                       | Daily     | PC/laptop, tablet | 5-10 min             | Customer/region breakdown       |\n",
    "| **Procurement Specialists** | Inventory control, procurement planning                              | Operational work, pre-order checks                                    | Daily     | PC                  | 5-7 min              | Supplier data integration       |\n",
    "| **Financial Analysts**  | Profitability deep analysis, forecasting                        | Monthly report preparation, ad-hoc analysis                                            | 3-5 times/week   | PC (large screens) | 15-30 min            | Data export capability            |\n",
    "\n",
    "**Technical Context:**  \n",
    "- **Mobile version** is critical for CEO (viewing on the go).  \n",
    "- **Printable report versions** are needed for meetings (PDF export).  \n",
    "- **Email distribution** is not required (dashboard is live, data updates in real-time).  \n",
    " "
   ]
  },
  {
   "cell_type": "markdown",
   "id": "386ee274",
   "metadata": {},
   "source": [
    "## Task Understanding"
   ]
  },
  {
   "cell_type": "markdown",
   "id": "d3d5e794",
   "metadata": {},
   "source": [
    "**Main Dashboard Goal:**\n",
    "\n",
    "Create a single source of truth for monitoring WWI's key business metrics that:\n",
    "- Eliminates manual data collection from different systems\n",
    "- Reduces decision-making time\n",
    "- Enables real-time problem and opportunity identification\n",
    "\n",
    "**Why is this task important now?**\n",
    "- Business growth has complicated data analysis (Excel reports were sufficient before)\n",
    "- Increased number of regional branches requires unified control system\n",
    "- Competition demands faster response to market changes\n",
    "\n",
    "**User Expectations:**\n",
    "| Role | Main Expectations | Business Value |\n",
    "|------|------------------|-----------------|\n",
    "| **Top Management** | \"I want to see 3 key metrics in 30 seconds\" | Quick business status assessment |\n",
    "| **Sales Managers** | \"Need to quickly identify problem regions\" | Sales increase through targeted interventions |\n",
    "| **Logistics Specialists** | \"Automatic alerts for critical stock levels required\" | Preventing losses from stockouts |\n",
    "\n",
    "**How the dashboard will change company operations:**\n",
    "- Reduces weekly report preparation time\n",
    "- Enables identification of loss-making items\n",
    "- Increases response speed to market changes\n",
    "\n",
    "**Success Criteria:**\n",
    "- 90% of top management uses dashboard as primary data source\n",
    "- Decision-making time decreases\n",
    "- Number of manual requests to IT department reduces\n",
    "\n",
    "**When do we need to develop it?**\n",
    "- Development timeline: 2 weeks\n",
    "\n",
    "**How will we measure effectiveness?**\n",
    "- Weekly unique users\n",
    "- Average dashboard usage time\n",
    "- Reduction in manual report requests to IT\n",
    "- Feedback from key stakeholders"
   ]
  },
  {
   "cell_type": "markdown",
   "id": "05845009",
   "metadata": {},
   "source": [
    "## Metrics, Dimensions, and Data Sources"
   ]
  },
  {
   "cell_type": "markdown",
   "id": "fc68e6bd",
   "metadata": {},
   "source": [
    "**Order-level metrics**\n",
    "- Number of orders\n",
    "- Order amount\n",
    "- Line profit\n",
    "- Average order value\n",
    "- Average number of line items per order\n",
    "- Average number of products per order\n",
    "- Average product price in order\n",
    "- Order weight\n",
    "- Number of categories per order"
   ]
  },
  {
   "cell_type": "markdown",
   "id": "3f3c5ecc",
   "metadata": {},
   "source": [
    "**Order-level dimensions**\n",
    "- Time (year, month, day of week, time of day, hour)\n",
    "- Top 3 packaging types/payment types/delivery methods"
   ]
  },
  {
   "cell_type": "markdown",
   "id": "91753b7e",
   "metadata": {},
   "source": [
    "**Customer-level metrics**\n",
    "- Number of customers\n",
    "- Number of new customers\n",
    "- New customer percentage\n",
    "- Purchase amount\n",
    "- Average order value\n",
    "- Average number of line items per order"
   ]
  },
  {
   "cell_type": "markdown",
   "id": "0a704f11",
   "metadata": {},
   "source": [
    "**Customer-level dimensions**\n",
    "- Customer category\n",
    "- Customer state\n",
    "- Customer city"
   ]
  },
  {
   "cell_type": "markdown",
   "id": "b7a050cd",
   "metadata": {},
   "source": [
    "**Product-level metrics**\n",
    "- Number of units sold\n",
    "- Total product sales amount\n",
    "- Average sold product price\n",
    "- Average number of products per order"
   ]
  },
  {
   "cell_type": "markdown",
   "id": "178f8fc8",
   "metadata": {},
   "source": [
    "**Product-level dimensions**\n",
    "- Product category\n",
    "- Product internal packaging type\n",
    "- Product external packaging type\n",
    "- Product colors"
   ]
  },
  {
   "cell_type": "markdown",
   "id": "006e8853",
   "metadata": {},
   "source": [
    "**Delivery-level metrics**\n",
    "- Delivery time\n",
    "- Delivery delay/advance\n",
    "- Order picking time\n",
    "- Percentage of delayed orders\n",
    "- Picking time share of total delivery time"
   ]
  },
  {
   "cell_type": "markdown",
   "id": "6a70a672",
   "metadata": {},
   "source": [
    "**Delivery-level dimensions**\n",
    "- Whether order was delayed"
   ]
  },
  {
   "cell_type": "markdown",
   "id": "cf33f5af",
   "metadata": {},
   "source": [
    "**Data Sources**\n",
    "\n",
    "- Orders Materialized View\n",
    "- Products Materialized View"
   ]
  },
  {
   "cell_type": "markdown",
   "id": "83d8d3c1",
   "metadata": {},
   "source": [
    "## Questions and Business Decisions"
   ]
  },
  {
   "cell_type": "markdown",
   "id": "31136694",
   "metadata": {},
   "source": [
    "- Sales Page\n",
    "    - What are the values for the last month, what is the trend over the last year, and what is the YoY change for the following metrics:\n",
    "        - Revenue\n",
    "        - Profit\n",
    "        - Number of sales\n",
    "        - Average order value\n",
    "    - What are the metric values by states and cities?\n",
    "    - What are the metric values by customer category?\n",
    "    - What are the metric values by order delay status?\n",
    "- Customers Page\n",
    "    - What are the values for the last month, what is the trend over the last year, and what is the YoY change for the following metrics:\n",
    "        - Number of customers\n",
    "        - ARPPU (Average Revenue Per Paying User)\n",
    "        - APC (Average Payment Count)\n",
    "        - Average number of products per order\n",
    "    - What are the metric values by states and cities?\n",
    "    - What are the metric values by customer category?\n",
    "- Products Page\n",
    "    - What are the values for the last month, what is the trend over the last year, and what is the YoY change for the following metrics:\n",
    "        - Average revenue per product\n",
    "        - Average profit per product\n",
    "        - Average number of units sold per product\n",
    "        - Average product price\n",
    "    - What are the metric values by product categories?\n",
    "    - What are the metric values by external and internal packaging types?\n",
    "- Delivery Page\n",
    "    - What are the values for the last month, what is the trend over the last year, and what is the YoY change for the following metrics:\n",
    "        - Average delivery time\n",
    "        - Percentage of delayed orders\n",
    "        - Average delivery delay\n",
    "        - Average order picking time\n",
    "    - What are the metric values by states and cities?"
   ]
  },
  {
   "cell_type": "markdown",
   "id": "e3c7eda3",
   "metadata": {},
   "source": [
    "## Visualizations for Questions"
   ]
  },
  {
   "cell_type": "markdown",
   "id": "420cfabe",
   "metadata": {},
   "source": [
    "- Sales Page\n",
    "    - KPI cards with sparklines for:\n",
    "        - Revenue\n",
    "        - Profit\n",
    "        - Number of sales\n",
    "        - Average order value\n",
    "    - Table with all metrics by states and cities with bar indicators for values\n",
    "    - Table with all metrics by delivery delay status with bar indicators for values\n",
    "    - Table with all metrics by customer category with bar indicators for values\n",
    "\n",
    "- Customers Page\n",
    "    - KPI cards with sparklines for:\n",
    "        - Number of customers\n",
    "        - ARPPU\n",
    "        - APC\n",
    "        - Average number of products per order\n",
    "    - Table with all metrics by states and cities with bar indicators for values\n",
    "    - Table with all metrics by customer category with bar indicators for values\n",
    "\n",
    "- Products Page\n",
    "    - KPI cards with sparklines for:\n",
    "        - Average revenue per product\n",
    "        - Average profit per product\n",
    "        - Average number of units sold per product\n",
    "        - Average product price\n",
    "    - Table with all metrics by product categories with bar indicators for values\n",
    "    - Table with all metrics by external and internal packaging types with bar indicators for values\n",
    "\n",
    "- Delivery Page\n",
    "    - KPI cards with sparklines for:\n",
    "        - Average delivery time\n",
    "        - Percentage of delayed orders\n",
    "        - Average delivery delay\n",
    "        - Average order picking time\n",
    "    - Table with all metrics by states and cities with bar indicators for values"
   ]
  }
 ],
 "metadata": {
  "language_info": {
   "name": "python"
  }
 },
 "nbformat": 4,
 "nbformat_minor": 5
}
